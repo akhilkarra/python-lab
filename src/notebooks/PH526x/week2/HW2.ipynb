{
 "cells": [
  {
   "cell_type": "markdown",
   "metadata": {
    "pycharm": {
     "name": "#%% md\n"
    }
   },
   "source": [
    "# Using Python for Research Homework: Week 2\n",
    "\n",
    "In this homework, we will use the tools we've covered in the past two weeks to create a tic-tac-toe (noughts and crosses) simulator and evaluate basic winning strategies."
   ]
  },
  {
   "cell_type": "markdown",
   "metadata": {
    "pycharm": {
     "name": "#%% md\n"
    }
   },
   "source": [
    "### Exercise 1\n",
    "\n",
    "Tic-tac-toe (or noughts and crosses) is a simple strategy game in which two players take turns placing a mark on a 3x3 board, attempting to make a row, column, or diagonal of three with their mark. In this homework, we will use the tools we've covered in the past two weeks to create a tic-tac-toe simulator and evaluate basic winning strategies.\n",
    "\n",
    "In the following exercises, we will learn to create a tic-tac-toe board, place markers on the board, evaluate if either player has won, and use this to simulate two basic strategies.\n",
    "\n",
    "#### Instructions \n",
    "\n",
    "- For our tic-tac-toe board, we will use a numpy array with dimension 3 by 3. \n",
    "- Make a function `create_board()` that creates such a board with the value of each cell set to the integer `0`.\n",
    "- Call `create_board()` and store it."
   ]
  },
  {
   "cell_type": "code",
   "execution_count": null,
   "metadata": {
    "pycharm": {
     "name": "#%%\n"
    }
   },
   "outputs": [],
   "source": [
    "from numpy import array\n",
    "\n",
    "\n",
    "def create_board() -> array:\n",
    "    \"\"\"\n",
    "    Creates a tic-tac-toe board with the value of each cell set to the integer 0.\n",
    "\n",
    "    Returns:\n",
    "        A 3x3 numpy array with the value of each cell set to the integer 0.\n",
    "    \"\"\"\n",
    "    from numpy import zeros\n",
    "\n",
    "    return zeros((3, 3), dtype=int)"
   ]
  },
  {
   "cell_type": "markdown",
   "metadata": {
    "pycharm": {
     "name": "#%% md\n"
    }
   },
   "source": [
    "### Exercise 2\n",
    "\n",
    "Players 1 and 2 will take turns changing values of this array from a 0 to a 1 or 2, indicating the number of the player who places a marker there.\n",
    "\n",
    "#### Instructions \n",
    "\n",
    "- Create a function `place(board, player, position)`, where:\n",
    "    - `player` is the current player (an integer 1 or 2).\n",
    "    - `position` is a tuple of length 2 specifying a desired location to place their marker.\n",
    "    - Your function should only allow the current player to place a marker on the board (change the board position to their number) if that position is empty (zero).\n",
    "- Use `create_board()` to store a board as `board`, and use `place` to have Player 1 place a marker on location `(0, 0)`."
   ]
  },
  {
   "cell_type": "code",
   "execution_count": null,
   "metadata": {
    "pycharm": {
     "name": "#%%\n"
    }
   },
   "outputs": [],
   "source": [
    "board = create_board()  # store the board\n",
    "\n",
    "\n",
    "def place(ttt_board: array, current_player: int, position: tuple) -> None:\n",
    "    \"\"\"\n",
    "    Places a marker 1 or 2 on the board at the specified position on the board.\n",
    "    :param ttt_board: a 3x3 numpy array representing the tic-tac-toe board.\n",
    "    :param current_player: an integer 1 or 2 representing the current player.\n",
    "    :param position: a tuple of length 2 specifying a desired location to place their marker.\n",
    "    :return: None. The board is modified in-place.\n",
    "    \"\"\"\n",
    "    if ttt_board[position] != 0:  # check that the position is empty\n",
    "        raise ValueError(\"Position is not empty\")\n",
    "    else:\n",
    "        ttt_board[position] = current_player  # place the marker on the board\n",
    "\n",
    "\n",
    "place(board, 1, (0, 0))  # place a marker 1  on the board at position (0, 0)"
   ]
  },
  {
   "cell_type": "markdown",
   "metadata": {
    "pycharm": {
     "name": "#%% md\n"
    }
   },
   "source": [
    "### Exercise 3\n",
    "\n",
    "In this exercise, we will determine which positions are available to either player for placing their marker.\n",
    "\n",
    "#### Instructions \n",
    "- Create a function `possibilities(board)` that returns a list of all positions (tuples) on the board that are not occupied (0). (Hint: `numpy.where` is a handy function that returns a list of indices that meet a condition.)\n",
    "- `board` is already defined from previous exercises. Call `possibilities(board)` to see what it returns!"
   ]
  },
  {
   "cell_type": "code",
   "execution_count": null,
   "metadata": {
    "pycharm": {
     "name": "#%%\n"
    }
   },
   "outputs": [],
   "source": [
    "def possibilities(ttt_board: array) -> list:\n",
    "    \"\"\"\n",
    "    Returns a list of all positions (tuples) on the board that are not occupied (0).\n",
    "    :param ttt_board: a 3x3 numpy array representing the tic-tac-toe board.\n",
    "    :return: a list of all positions (tuples) on the board that are not occupied (0).\n",
    "    \"\"\"\n",
    "    return [\n",
    "        (x, y)\n",
    "        for x in range(ttt_board.shape[0])\n",
    "        for y in range(ttt_board.shape[1])\n",
    "        if ttt_board[x, y] == 0\n",
    "    ]\n",
    "\n",
    "\n",
    "possibilities(board)"
   ]
  },
  {
   "cell_type": "markdown",
   "metadata": {
    "pycharm": {
     "name": "#%% md\n"
    }
   },
   "source": [
    "### Exercise 4\n",
    "\n",
    "The next step is for the current player to place a marker among the available positions. In this exercise, we will select an available board position at random and place a marker there.\n",
    "\n",
    "#### Instructions \n",
    "\n",
    "- Write a function `random_place(board, player)` that places a marker for the current player at random among all the available positions (those currently set to 0).\n",
    "    - Find possible placements with `possibilities(board)`.\n",
    "    - Select one possible placement at random using `random.choice(selection)`.\n",
    "- `board` is already defined from previous exercises. Call `random_place(board, player)` to place a random marker for Player 2, and store this as board to update its value."
   ]
  },
  {
   "cell_type": "code",
   "execution_count": null,
   "metadata": {
    "pycharm": {
     "name": "#%%\n"
    }
   },
   "outputs": [],
   "source": [
    "from random import seed\n",
    "\n",
    "seed(1)\n",
    "\n",
    "\n",
    "def random_place(ttt_board: array, current_player: int) -> None:\n",
    "    \"\"\"\n",
    "    Places a marker for the current player at random among all the available positions (those currently set to 0).\n",
    "    :param ttt_board: a 3x3 numpy array representing the tic-tac-toe board.\n",
    "    :param current_player: an integer 1 or 2 representing the current player.\n",
    "    :return: None. The board is modified in-place.\n",
    "    \"\"\"\n",
    "    from random import choice\n",
    "\n",
    "    place(ttt_board, current_player, choice(possibilities(ttt_board)))\n",
    "\n",
    "\n",
    "random_place(board, 2)"
   ]
  },
  {
   "cell_type": "markdown",
   "metadata": {
    "pycharm": {
     "name": "#%% md\n"
    }
   },
   "source": [
    "### Exercise 5\n",
    "\n",
    "We will now have both players place three markers each.\n",
    "\n",
    "#### Instructions \n",
    "\n",
    "- A new `board` is already given. Call `random_place(board, player)` to place three pieces each on board for players 1 and 2.\n",
    "- Print board to see your result."
   ]
  },
  {
   "cell_type": "code",
   "execution_count": null,
   "metadata": {
    "pycharm": {
     "name": "#%%\n"
    }
   },
   "outputs": [],
   "source": [
    "seed(1)\n",
    "board = create_board()\n",
    "\n",
    "\n",
    "for player in (1, 2, 1, 2, 1, 2):\n",
    "    random_place(board, player)\n",
    "\n",
    "board"
   ]
  },
  {
   "cell_type": "markdown",
   "metadata": {
    "pycharm": {
     "name": "#%% md\n"
    }
   },
   "source": [
    "### Exercise 6\n",
    "\n",
    "In the next few exercises, we will make functions that check whether either player has won the game.\n",
    "\n",
    "#### Instructions \n",
    "- Make a function `row_win(board, player)` that takes the player (integer) and determines if any row consists of only their marker. \n",
    "    - Have it return `True` if this condition is met and `False` otherwise.\n",
    "- `board` is already defined from previous exercises. Call `row_win` to check if Player 1 has a complete row."
   ]
  },
  {
   "cell_type": "code",
   "execution_count": null,
   "metadata": {
    "pycharm": {
     "name": "#%%\n"
    }
   },
   "outputs": [],
   "source": [
    "def row_win(ttt_board: array, current_player: int) -> bool:\n",
    "    \"\"\"\n",
    "    Determines if any row consists of only their marker.\n",
    "\n",
    "    :param ttt_board: a 3x3 numpy array representing the tic-tac-toe board.\n",
    "    :param current_player: an integer 1 or 2 representing the current player.\n",
    "    :return: `True` if the current player has a complete row, `False` otherwise.\n",
    "    \"\"\"\n",
    "    from numpy import all\n",
    "\n",
    "    for row in ttt_board:\n",
    "        if all(row == current_player):\n",
    "            return True\n",
    "\n",
    "    return False  # will execute if no row is complete\n",
    "\n",
    "\n",
    "row_win(board, 1)"
   ]
  },
  {
   "cell_type": "markdown",
   "metadata": {
    "pycharm": {
     "name": "#%% md\n"
    }
   },
   "source": [
    "### Exercise 7\n",
    "\n",
    "In the next few exercises, we will make functions that verify if either player has won the game.\n",
    "\n",
    "#### Instructions \n",
    "- Make a function `col_win(board, player)` that takes the player (integer) and determines if any column consists of only their marker. \n",
    "    - Have it return `True` if this condition is met and `False` otherwise.\n",
    "- `board` is already defined from previous exercises. Call `col_win` to check if Player 1 has a complete row."
   ]
  },
  {
   "cell_type": "code",
   "execution_count": null,
   "metadata": {
    "pycharm": {
     "name": "#%%\n"
    }
   },
   "outputs": [],
   "source": [
    "def col_win(ttt_board: array, current_player: int) -> bool:\n",
    "    \"\"\"\n",
    "    Determines if any column consists of only their marker.\n",
    "\n",
    "    :param ttt_board: a 3x3 numpy array representing the tic-tac-toe board.\n",
    "    :param current_player: an integer 1 or 2 representing the current player.\n",
    "    :return: `True` if the current player has a complete row, `False` otherwise.\n",
    "    \"\"\"\n",
    "    from numpy import all\n",
    "\n",
    "    for (\n",
    "        column\n",
    "    ) in ttt_board.T:  # transpose the board so that we can iterate over columns as rows\n",
    "        if all(column == current_player):\n",
    "            return True\n",
    "\n",
    "    return False  # will execute if no column is complete\n",
    "\n",
    "\n",
    "col_win(board, 1)"
   ]
  },
  {
   "cell_type": "markdown",
   "metadata": {
    "pycharm": {
     "name": "#%% md\n"
    }
   },
   "source": [
    "### Exercise 8\n",
    "\n",
    "In the next few exercises, we will make functions that verify if either player has won the game.\n",
    "\n",
    "#### Instructions \n",
    "- Finally, create a function `diag_win(board, player)` that tests if either diagonal of the board consists of only their marker. Have it return `True` if this condition is met, and `False` otherwise.\n",
    "- `board` has been slightly modified from a previous exercise. Call `diag_win` to check if Player 2 has a complete diagonal."
   ]
  },
  {
   "cell_type": "code",
   "execution_count": null,
   "metadata": {
    "pycharm": {
     "name": "#%%\n"
    }
   },
   "outputs": [],
   "source": [
    "board[1, 1] = 2\n",
    "board"
   ]
  },
  {
   "cell_type": "code",
   "execution_count": null,
   "metadata": {
    "pycharm": {
     "name": "#%%\n"
    }
   },
   "outputs": [],
   "source": [
    "def diag_win(ttt_board: array, current_player: int) -> bool:\n",
    "    \"\"\"\n",
    "    Determines if either diagonal consists of only their marker.\n",
    "\n",
    "    :param ttt_board: a 3x3 numpy array representing the tic-tac-toe board.\n",
    "    :param current_player: an integer 1 or 2 representing the current player.\n",
    "    :return: `True` if the current player has a complete diagonal, `False` otherwise.\n",
    "    \"\"\"\n",
    "    from numpy import all, diag, fliplr  # fliplr is read \"flip left-right\"\n",
    "\n",
    "    diag1 = diag(ttt_board)  # get the primary diagonal of the board\n",
    "    diag2 = diag(fliplr(ttt_board))  # get the secondary diagonal of the board\n",
    "\n",
    "    if all(diag1 == current_player):\n",
    "        return True\n",
    "    elif all(diag2 == current_player):\n",
    "        return True\n",
    "    else:\n",
    "        return False\n",
    "\n",
    "\n",
    "diag_win(board, 2)"
   ]
  },
  {
   "cell_type": "markdown",
   "metadata": {
    "pycharm": {
     "name": "#%% md\n"
    }
   },
   "source": [
    "### Exercise 9\n",
    "\n",
    "In the next few exercises, we will make functions that check whether either player has won the game.\n",
    "\n",
    "#### Instructions \n",
    "- Create a function `evaluate(board)` that uses `row_win`, `col_win`, and `diag_win` functions for both players. If one of them has won, return that player's number. If the board is full but no one has won, return -1. Otherwise, return 0.\n",
    "- `board` is already defined from previous exercises. Call evaluate to see if either player has won the game yet."
   ]
  },
  {
   "cell_type": "code",
   "execution_count": null,
   "metadata": {
    "pycharm": {
     "name": "#%%\n"
    }
   },
   "outputs": [],
   "source": [
    "def evaluate(ttt_board: array) -> int:\n",
    "    \"\"\"\n",
    "    Evaluates the current state of the board.\n",
    "    :param ttt_board: a 3x3 numpy array representing the tic-tac-toe board.\n",
    "    :return: 1 if player 1 has won, 2 if player 2 has won, 0 if the game is a draw, and -1 if the game is still in progress.\n",
    "    \"\"\"\n",
    "    from numpy import all\n",
    "\n",
    "    if row_win(ttt_board, 1) or col_win(ttt_board, 1) or diag_win(ttt_board, 1):\n",
    "        return 1\n",
    "    elif row_win(ttt_board, 2) or col_win(ttt_board, 2) or diag_win(ttt_board, 2):\n",
    "        return 2\n",
    "    elif all(ttt_board != 0):  # if all cells are filled but no one has won\n",
    "        return -1\n",
    "    else:\n",
    "        return 0\n",
    "\n",
    "\n",
    "board"
   ]
  },
  {
   "cell_type": "code",
   "execution_count": null,
   "metadata": {
    "pycharm": {
     "name": "#%%\n"
    }
   },
   "outputs": [],
   "source": [
    "evaluate(board)"
   ]
  },
  {
   "cell_type": "markdown",
   "metadata": {
    "pycharm": {
     "name": "#%% md\n"
    }
   },
   "source": [
    "### Exercise 10\n",
    "\n",
    "In this exercise, we will use all the functions we have made to simulate an entire game.\n",
    "\n",
    "#### Instructions \n",
    "\n",
    "- `create_board()`, `random_place(board, player)`, and `evaluate(board)` have been created in previous exercises. Create a function `play_game()` that:\n",
    "    - Creates a board.\n",
    "    - Alternates taking turns between two players (beginning with Player 1), placing a marker during each turn.\n",
    "    - Evaluates the board for a winner after each placement.\n",
    "    - Continues the game until one player wins (returning 1 or 2 to reflect the winning player), or the game is a draw (returning -1).\n",
    "- Call play_game 1000 times, and store the results of the game in a list called `results`."
   ]
  },
  {
   "cell_type": "code",
   "execution_count": null,
   "metadata": {
    "pycharm": {
     "name": "#%%\n"
    }
   },
   "outputs": [],
   "source": [
    "def play_game() -> int:\n",
    "    \"\"\"\n",
    "    Simulates a game of tic-tac-toe.\n",
    "    :return: 1 if Player 1 wins, 2 if Player 2 wins, -1 if the game is a draw.\n",
    "    \"\"\"\n",
    "    ttt_board = create_board()\n",
    "    current_player = 1  # Player 1 always goes first\n",
    "\n",
    "    while evaluate(ttt_board) == 0:  # while the game is still in progress\n",
    "        random_place(ttt_board, current_player)\n",
    "        current_player = 2 if current_player == 1 else 1  # switch players\n",
    "\n",
    "    return evaluate(ttt_board)  # return the winner\n",
    "\n",
    "\n",
    "seed(1)\n",
    "\n",
    "\n",
    "results = [play_game() for game in range(1000)]  # Play 1000 games\n",
    "results.count(1)  # How many times did Player 1 win?"
   ]
  },
  {
   "cell_type": "markdown",
   "metadata": {
    "pycharm": {
     "name": "#%% md\n"
    }
   },
   "source": [
    "#### Exercise 11\n",
    "\n",
    "In the previous exercise, we see that when guessing at random, it's better to go first, as expected. Let's see if Player 1 can improve their strategy. \n",
    "\n",
    "#### Instructions \n",
    "- Create a function `play_strategic_game()`, where Player 1 always starts with the middle square, and otherwise both players place their markers randomly.\n",
    "- Call `play_strategic_game` 1000 times."
   ]
  },
  {
   "cell_type": "code",
   "execution_count": null,
   "metadata": {
    "pycharm": {
     "name": "#%%\n"
    }
   },
   "outputs": [],
   "source": [
    "def play_strategic_game() -> int:\n",
    "    \"\"\"\n",
    "    Simulates a game of tic-tac-toe where Player 1 always starts with the middle square, and otherwise both players place their markers randomly.\n",
    "\n",
    "    :return: 1 if Player 1 wins, 2 if Player 2 wins, -1 if the game is a draw.\n",
    "    \"\"\"\n",
    "    ttt_board = create_board()\n",
    "    current_player = 1  # Player 1 always goes first\n",
    "\n",
    "    place(ttt_board, current_player, (1, 1))  # Player 1 plays the middle square\n",
    "\n",
    "    while evaluate(ttt_board) == 0:  # while the game is still in progress\n",
    "        current_player = 2 if current_player == 1 else 1  # switch players\n",
    "        random_place(ttt_board, current_player)  # player plays a random square\n",
    "\n",
    "    return evaluate(ttt_board)  # return the winner\n",
    "\n",
    "\n",
    "seed(1)\n",
    "\n",
    "\n",
    "results = [play_strategic_game() for game in range(1000)]  # Play 1000 strategic games\n",
    "results.count(1)  # How many times did Player 1 win?"
   ]
  }
 ],
 "metadata": {
  "kernelspec": {
   "display_name": "Python 3",
   "language": "python",
   "name": "python3"
  },
  "language_info": {
   "codemirror_mode": {
    "name": "ipython",
    "version": 3
   },
   "file_extension": ".py",
   "mimetype": "text/x-python",
   "name": "python",
   "nbconvert_exporter": "python",
   "pygments_lexer": "ipython3",
   "version": "3.7.3"
  }
 },
 "nbformat": 4,
 "nbformat_minor": 2
}
