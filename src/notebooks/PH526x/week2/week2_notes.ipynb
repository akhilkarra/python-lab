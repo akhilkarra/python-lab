{
 "cells": [
  {
   "cell_type": "markdown",
   "source": [
    "# Week 2 Notes"
   ],
   "metadata": {
    "collapsed": false,
    "pycharm": {
     "name": "#%% md\n"
    }
   }
  },
  {
   "cell_type": "markdown",
   "source": [
    "## 2.1.1 Scope Rules\n",
    "\n",
    "LEGB rule for Scope:\n",
    "1. Local: Local variables are defined in the function.\n",
    "2. Enclosing function locals: Local variables defined in the enclosing function are visible in the function.\n",
    "3. Global: Global variables are defined in the file.\n",
    "4. Built-in: Built-in variables are defined in the Python interpreter."
   ],
   "metadata": {
    "collapsed": false,
    "pycharm": {
     "name": "#%% md\n"
    }
   }
  },
  {
   "cell_type": "markdown",
   "source": [
    "## 2.1.2 Classes and Object-Oriented Programming\n",
    "\n",
    "This course emphasises and will continue to emphasize on functional programming, but it is helpful to learn the basics of classes and object-oriented programming.\n",
    "\n",
    "Object contains both data and methods that perform operations on that data.\n",
    "\n",
    "We've been using objects all along, but if these objects do not fit the bill, we can create our own \"class\" of objects.\n",
    "\n",
    "These classes are in some way going to be similar to other existing classes, which brings up inheritance: a class can inherit from another class and simply add on additional methods and attributes as the application requires.\n",
    "\n",
    "When an object of a particular class is created, it is called an *instance* of that class."
   ],
   "metadata": {
    "collapsed": false,
    "pycharm": {
     "name": "#%% md\n"
    }
   }
  },
  {
   "cell_type": "code",
   "execution_count": 1,
   "outputs": [],
   "source": [
    "# How to define a Python class\n",
    "class MyList(list):  # Inherit from list class\n",
    "    def remove_max(self):\n",
    "        self.remove(max(self))\n",
    "    def remove_min(self):\n",
    "        self.remove(min(self))"
   ],
   "metadata": {
    "collapsed": false,
    "pycharm": {
     "name": "#%%\n"
    }
   }
  },
  {
   "cell_type": "code",
   "execution_count": 2,
   "outputs": [
    {
     "data": {
      "text/plain": "[2, 3, 4]"
     },
     "execution_count": 2,
     "metadata": {},
     "output_type": "execute_result"
    }
   ],
   "source": [
    "# How to create an instance of a class\n",
    "x = MyList([1, 2, 3, 4, 5])\n",
    "x.remove_max()\n",
    "x.remove_min()\n",
    "x  # [2, 3, 4]"
   ],
   "metadata": {
    "collapsed": false,
    "pycharm": {
     "name": "#%%\n"
    }
   }
  },
  {
   "cell_type": "markdown",
   "source": [
    "## 2.2.1 Introduction to NumPy Arrays\n",
    "\n",
    "NumPy's arrays are a fixed size multidimensional array of any data type. All data values are of the same data type; they are floats by default.\n"
   ],
   "metadata": {
    "collapsed": false,
    "pycharm": {
     "name": "#%% md\n"
    }
   }
  },
  {
   "cell_type": "code",
   "execution_count": 3,
   "outputs": [
    {
     "data": {
      "text/plain": "array([0., 0., 0., 0., 0.])"
     },
     "execution_count": 3,
     "metadata": {},
     "output_type": "execute_result"
    }
   ],
   "source": [
    "# Importing and using NumPy for the first time\n",
    "import numpy as np\n",
    "\n",
    "zero_vector = np.zeros(5)\n",
    "zero_matrix = np.zeros((5, 3))\n",
    "\n",
    "zero_vector  # np.array([0., 0., 0., 0., 0.])"
   ],
   "metadata": {
    "collapsed": false,
    "pycharm": {
     "name": "#%%\n"
    }
   }
  },
  {
   "cell_type": "code",
   "execution_count": 4,
   "outputs": [
    {
     "data": {
      "text/plain": "array([[0., 0., 0.],\n       [0., 0., 0.],\n       [0., 0., 0.],\n       [0., 0., 0.],\n       [0., 0., 0.]])"
     },
     "execution_count": 4,
     "metadata": {},
     "output_type": "execute_result"
    }
   ],
   "source": [
    "zero_matrix  # np.array([[0., 0., 0.], [0., 0., 0.], [0., 0., 0.], [0., 0., 0.], [0., 0., 0.]])"
   ],
   "metadata": {
    "collapsed": false,
    "pycharm": {
     "name": "#%%\n"
    }
   }
  },
  {
   "cell_type": "markdown",
   "source": [
    "About empty arrays: NumPy arrays can be created with the $\\texttt{empty()}$ method. This function is useful when creating large arrays since using this function first and then updating the elements of the array is much faster than using the normal functions for creating and storing arrays. However, this function should be used with care, and since I am new to NumPy, it is recommended to not use it for the time being.\n",
    "\n",
    "Note of best practice: lowercase variable names are given to vectors, while uppercase variable names are given to matrices."
   ],
   "metadata": {
    "collapsed": false,
    "pycharm": {
     "name": "#%% md\n"
    }
   }
  },
  {
   "cell_type": "markdown",
   "source": [],
   "metadata": {
    "collapsed": false,
    "pycharm": {
     "name": "#%% md\n"
    }
   }
  },
  {
   "cell_type": "code",
   "execution_count": 5,
   "outputs": [],
   "source": [
    "# Creating a NumPy array with specific values\n",
    "x = np.array([1, 2, 3, 4, 5])\n",
    "y = np.array([2, 4, 6, 8, 10])"
   ],
   "metadata": {
    "collapsed": false,
    "pycharm": {
     "name": "#%%\n"
    }
   }
  },
  {
   "cell_type": "code",
   "execution_count": 6,
   "outputs": [
    {
     "data": {
      "text/plain": "array([[3, 5],\n       [6, 7]])"
     },
     "execution_count": 6,
     "metadata": {},
     "output_type": "execute_result"
    }
   ],
   "source": [
    "# Question 3 on the Comprehension Check\n",
    "a = np.array([[3,6],[5,7]])\n",
    "b = a.transpose()\n",
    "b  # np.array([[3, 5], [6, 7]])"
   ],
   "metadata": {
    "collapsed": false,
    "pycharm": {
     "name": "#%%\n"
    }
   }
  },
  {
   "cell_type": "markdown",
   "source": [
    "## 2.2.2 Slicing NumPy Arrays\n",
    "\n",
    "Good news: it's easy! We can treat NumPy arrays as if they were nested Python lists.\n",
    "\n",
    "Word of caution though: adding lists concatenates them but adding NumPy arrays means element-wise addition, akin to vector addition."
   ],
   "metadata": {
    "collapsed": false,
    "pycharm": {
     "name": "#%% md\n"
    }
   }
  },
  {
   "cell_type": "markdown",
   "source": [
    "## 2.2.3 Indexing NumPy Arrays\n",
    "\n",
    "Indexing with NumPy arrays works just like indexing a Python sequence object.\n",
    "\n",
    "They can also be indexed with slices, other lists, and even boolean conditions."
   ],
   "metadata": {
    "collapsed": false,
    "pycharm": {
     "name": "#%% md\n"
    }
   }
  },
  {
   "cell_type": "code",
   "execution_count": 7,
   "outputs": [
    {
     "data": {
      "text/plain": "array([7, 9])"
     },
     "execution_count": 7,
     "metadata": {},
     "output_type": "execute_result"
    }
   ],
   "source": [
    "# Indexing a NumPy array using Boolean conditions\n",
    "z = np.array([1, 3, 5, 7, 9])\n",
    "z[z > 6]  # np.array([7, 9])"
   ],
   "metadata": {
    "collapsed": false,
    "pycharm": {
     "name": "#%%\n"
    }
   }
  },
  {
   "cell_type": "markdown",
   "source": [
    "Important note: slicing an array and storing in a new variable will store a reference to the original array, but indexing with a list will create a reference to a new array."
   ],
   "metadata": {
    "collapsed": false,
    "pycharm": {
     "name": "#%% md\n"
    }
   }
  },
  {
   "cell_type": "markdown",
   "source": [
    "## 2.2.4 Building and Examining NumPy Arrays\n",
    "\n",
    "'Building' an array is done by specifying the dimensions and the values of the array. For example, $\\texttt{np.linspace()}$ builds an array of linearly spaced values given a start point, end point, and the number of elements. Similarly, $\\texttt{np.logspace()}$ builds an array of logarithmically spaced values given the log of a start point, the log of an end point, and the number of elements.\n",
    "\n",
    "Use $\\texttt{shape}$ to get the dimensions of an array, and use $\\texttt{size}$ to get the number of elements in an array (remember these are attributes, not methods).\n",
    "\n",
    "Use $\\texttt{any()}$ to check if *any* element of an array fulfills a boolean condition, and use $\\texttt{all()}$ to check if *all* elements of an array fulfill a boolean condition."
   ],
   "metadata": {
    "collapsed": false,
    "pycharm": {
     "name": "#%% md\n"
    }
   }
  },
  {
   "cell_type": "markdown",
   "source": [
    "## 2.3.1 Introduction to Matplotlib and Pyplot\n",
    "\n",
    "Matplotlib is a library for plotting publication-quality figures in Python. It is a high-level library that provides a set of functions for creating and customizing plots.\n",
    "\n",
    "It takes time to learn and use Matplotlib, but it is very powerful and flexible. There are cases where it is not required to use the full library.\n",
    "\n",
    "Pyplot is a low-level interface to Matplotlib. It is a set of functions that allow you to create, customize, and interact with plots.\n",
    "\n",
    "In this course, Pyplot will be used for all data visualization tasks."
   ],
   "metadata": {
    "collapsed": false,
    "pycharm": {
     "name": "#%% md\n"
    }
   }
  },
  {
   "cell_type": "code",
   "execution_count": 8,
   "outputs": [
    {
     "data": {
      "text/plain": "[<matplotlib.lines.Line2D at 0x7f9e28b62eb0>]"
     },
     "execution_count": 8,
     "metadata": {},
     "output_type": "execute_result"
    },
    {
     "data": {
      "text/plain": "<Figure size 432x288 with 1 Axes>",
      "image/png": "[encoded data removed]"
     },
     "metadata": {
      "needs_background": "light"
     },
     "output_type": "display_data"
    }
   ],
   "source": [
    "# Import Pyplot\n",
    "import matplotlib.pyplot as plt\n",
    "\n",
    "# Create a simple figure of the integer squares\n",
    "plt.plot([0, 1, 4, 9, 16, 25])  # plt.plot(x, y) with dots and connecting lines"
   ],
   "metadata": {
    "collapsed": false,
    "pycharm": {
     "name": "#%%\n"
    }
   }
  },
  {
   "cell_type": "code",
   "execution_count": 9,
   "outputs": [
    {
     "data": {
      "text/plain": "<Figure size 432x288 with 1 Axes>",
      "image/png": "[encoded data removed]"
     },
     "metadata": {
      "needs_background": "light"
     },
     "output_type": "display_data"
    }
   ],
   "source": [
    "# To suppress the verbal output of the plot denoting the type of the plot object, we simply add a semicolon to the end of the command.\n",
    "plt.plot([0, 1, 4, 9, 16, 25]); # same plot as above but no verbal output"
   ],
   "metadata": {
    "collapsed": false,
    "pycharm": {
     "name": "#%%\n"
    }
   }
  },
  {
   "cell_type": "markdown",
   "source": [
    "The $\\texttt{matplotlib.pyplot}$ module has commands that so often use *keyword arguments* to specify the properties of the plot. These are arguments passed into the function through an assignment statement to a keyword. For example,"
   ],
   "metadata": {
    "collapsed": false,
    "pycharm": {
     "name": "#%% md\n"
    }
   }
  },
  {
   "cell_type": "code",
   "execution_count": 10,
   "outputs": [
    {
     "data": {
      "text/plain": "[<matplotlib.lines.Line2D at 0x7f9e4066c760>]"
     },
     "execution_count": 10,
     "metadata": {},
     "output_type": "execute_result"
    },
    {
     "data": {
      "text/plain": "<Figure size 432x288 with 1 Axes>",
      "image/png": "[encoded data removed]"
     },
     "metadata": {
      "needs_background": "light"
     },
     "output_type": "display_data"
    }
   ],
   "source": [
    "plt.plot([0, 1, 4, 9, 16, 25], \"bo-\", linewidth=2, markersize=12)  # linewidth and markersize are keyword arguments"
   ],
   "metadata": {
    "collapsed": false,
    "pycharm": {
     "name": "#%%\n"
    }
   }
  },
  {
   "cell_type": "code",
   "execution_count": 11,
   "outputs": [
    {
     "data": {
      "text/plain": "[<matplotlib.lines.Line2D at 0x7f9e28c6b0d0>]"
     },
     "execution_count": 11,
     "metadata": {},
     "output_type": "execute_result"
    },
    {
     "data": {
      "text/plain": "<Figure size 432x288 with 1 Axes>",
      "image/png": "[encoded data removed]"
     },
     "metadata": {
      "needs_background": "light"
     },
     "output_type": "display_data"
    }
   ],
   "source": [
    "# Comprehesion Check Question 2\n",
    "plt.plot([0,1,2],[0,1,4],\"rd-\")  # plot red dots with red diamonds"
   ],
   "metadata": {
    "collapsed": false,
    "pycharm": {
     "name": "#%%\n"
    }
   }
  },
  {
   "cell_type": "markdown",
   "source": [
    "## 2.3.2 Customizing Plots\n",
    "\n",
    "How to add important elements to a PyPlot:\n",
    "1. Add a legend: $\\texttt{plt.legend(loc=``insert location here\")}$; remember to attach labels to the plot objects for them to appear in the legend.\n",
    "2. Adjust axes: $\\texttt{plt.axis([xmin, xmax, ymin, ymax])}$\n",
    "3. Set axes labels: $\\texttt{plt.xlabel()}$ and $\\texttt{plt.ylabel()}$; LaTeX is supported here!\n",
    "4. Save figure: $\\texttt{plt.savefig()}$; the argument specifies the file name and file format. The default file format is PNG."
   ],
   "metadata": {
    "collapsed": false,
    "pycharm": {
     "name": "#%% md\n"
    }
   }
  },
  {
   "cell_type": "markdown",
   "source": [
    "## 2.3.3 Plotting Using Logarithmic Axes\n",
    "\n",
    "Replace the $\\texttt{plot()}$ command with the following:\n",
    "1. $\\texttt{plt.semilogx()}$ for logarithmic x-axis\n",
    "2. $\\texttt{plt.semilogy()}$ for logarithmic y-axis\n",
    "3. $\\texttt{plt.loglog()}$ for logarithmic x- and y-axis"
   ],
   "metadata": {
    "collapsed": false,
    "pycharm": {
     "name": "#%% md\n"
    }
   }
  },
  {
   "cell_type": "markdown",
   "source": [
    "## 2.3.4 Generating Histograms\n",
    "\n",
    "We can use the $\\texttt{hist()}$ command to generate histograms. The first argument is the data to be plotted, and the second argument is the number of bins.\n",
    "\n",
    "To create subplots (multiple plots within the same display), you can use the $\\texttt{subplot()}$ command. There is one argument with three integers: the first integer is the number of rows, the second integer is the number of columns, and the third integer is the index of the subplot you want to create. You can also specify three different arguments for each of these aspects."
   ],
   "metadata": {
    "collapsed": false,
    "pycharm": {
     "name": "#%% md\n"
    }
   }
  },
  {
   "cell_type": "code",
   "execution_count": 12,
   "outputs": [
    {
     "data": {
      "text/plain": "<AxesSubplot:>"
     },
     "execution_count": 12,
     "metadata": {},
     "output_type": "execute_result"
    },
    {
     "data": {
      "text/plain": "<Figure size 432x288 with 1 Axes>",
      "image/png": "[encoded data removed]"
     },
     "metadata": {
      "needs_background": "light"
     },
     "output_type": "display_data"
    }
   ],
   "source": [
    "plt.subplot(333)  # create a 3x3 grid of subplots"
   ],
   "metadata": {
    "collapsed": false,
    "pycharm": {
     "name": "#%%\n"
    }
   }
  },
  {
   "cell_type": "markdown",
   "source": [
    "## 2.4.1 Simulating Randomness\n",
    "\n",
    "We can simulate randomness to model random processes or even complex systems for which we cannot simply model the behavior of the underlying processes.\n",
    "\n",
    "We can use the $\\texttt{random}$ module to simulate random processes:\n",
    "1. $\\texttt{random.random()}$ returns a random number between 0 and 1.\n",
    "2. $\\texttt{random.randint()}$ returns a random integer between the two arguments.\n",
    "3. $\\texttt{random.randrange()}$ returns a random integer between the two arguments, inclusive.\n",
    "4. $\\texttt{random.choice()}$ returns a random element from a sequence.\n",
    "5. $\\texttt{random.shuffle()}$ shuffles the elements of a sequence.\n",
    "6. $\\texttt{random.sample()}$ returns a random sample from a sequence.\n",
    "7. $\\texttt{random.seed()}$ seeds the random number generator; used to test the behavior of code dependent on randomness."
   ],
   "metadata": {
    "collapsed": false,
    "pycharm": {
     "name": "#%% md\n"
    }
   }
  },
  {
   "cell_type": "markdown",
   "source": [
    "## 2.4.2 Examples Involving Randomness\n",
    "\n",
    "Remember the law of large numbers from probability theory: as the number of identically distributed, randomly generated variables increases, their sample mean approaches their theoretical mean.\n",
    "\n",
    "First, let us simulate rolling a single six-sided die and plotting the results on a histogram."
   ],
   "metadata": {
    "collapsed": false,
    "pycharm": {
     "name": "#%% md\n"
    }
   }
  },
  {
   "cell_type": "code",
   "execution_count": 13,
   "outputs": [],
   "source": [
    "# Function to simulate rolling a single die and storing the reuslts in a list\n",
    "def roll_die(n: int) -> list:\n",
    "    \"\"\"\n",
    "    Simulate rolling a dice n times and return the results.\n",
    "\n",
    "    Args:\n",
    "        n: number of times to roll the dice\n",
    "    Returns:\n",
    "        a list of the results\n",
    "    \"\"\"\n",
    "    from random import randint\n",
    "\n",
    "    return [ randint(1, 6) for i in range(n) ]"
   ],
   "metadata": {
    "collapsed": false,
    "pycharm": {
     "name": "#%%\n"
    }
   }
  },
  {
   "cell_type": "code",
   "execution_count": 14,
   "outputs": [],
   "source": [
    "# Function to plot a histogram of a list of results\n",
    "def show_results(results: list, start: float, end: float, bins: int, normalized=False) -> None:\n",
    "    \"\"\"\n",
    "    Show the results of a simulation in a list on a histogram.\n",
    "\n",
    "    Args:\n",
    "        :param results: a list of the results of a simulation\n",
    "        :param start: the start of the histogram plot\n",
    "        :param end: the end of the histogram plot\n",
    "        :param bins: the number of bins in the plot\n",
    "\n",
    "    Returns:\n",
    "        None\n",
    "\n",
    "    Output:\n",
    "        A histogram plot using the PyPlot module.\n",
    "    \"\"\"\n",
    "    from matplotlib.pyplot import hist\n",
    "    from numpy import linspace\n",
    "\n",
    "    hist(results, bins=linspace(start, end, bins), density=normalized)  # show the results on a histogram\n",
    "    return None"
   ],
   "metadata": {
    "collapsed": false,
    "pycharm": {
     "name": "#%%\n"
    }
   }
  },
  {
   "cell_type": "code",
   "execution_count": 15,
   "outputs": [
    {
     "data": {
      "text/plain": "<Figure size 432x288 with 1 Axes>",
      "image/png": "[encoded data removed]"
     },
     "metadata": {
      "needs_background": "light"
     },
     "output_type": "display_data"
    }
   ],
   "source": [
    "show_results(roll_die(100000), start=0.5, end=6.5, bins=7, normalized=True);  # resulting histogram should be roughly uniform by the law of large numbers, confirmed by the plot."
   ],
   "metadata": {
    "collapsed": false,
    "pycharm": {
     "name": "#%%\n"
    }
   }
  },
  {
   "cell_type": "markdown",
   "source": [
    "Now let us try and discover the probability distribution of the sum of 10 die rolls by simulating many rolls of 10 dice, adding the results, and plotting the results on a histogram."
   ],
   "metadata": {
    "collapsed": false,
    "pycharm": {
     "name": "#%% md\n"
    }
   }
  },
  {
   "cell_type": "code",
   "execution_count": 16,
   "outputs": [],
   "source": [
    "# Function to simulate rolling 10 dice and storing the results in a list\n",
    "def roll_10_dice(n: int) -> list:\n",
    "    \"\"\"\n",
    "    Simulate rolling 10 dice n times and return the results. Note: this function uses the roll_die() function.\n",
    "\n",
    "    Args:\n",
    "        n: number of times to roll the dice\n",
    "    Returns:\n",
    "        a list of the results\n",
    "    \"\"\"\n",
    "    return [sum(roll_die(10)) for i in range(n)]"
   ],
   "metadata": {
    "collapsed": false,
    "pycharm": {
     "name": "#%%\n"
    }
   }
  },
  {
   "cell_type": "code",
   "execution_count": 17,
   "outputs": [
    {
     "data": {
      "text/plain": "<Figure size 432x288 with 1 Axes>",
      "image/png": "[encoded data removed]"
     },
     "metadata": {
      "needs_background": "light"
     },
     "output_type": "display_data"
    }
   ],
   "source": [
    "show_results(roll_10_dice(100000), start=9.5, end=60.5, bins=52, normalized=True);\n",
    "# Expecting a roughly normal distribution from 10 to 60, confirmed by the plot.\n",
    "# Why normal distribution? The Central Limit Theorem (CLT) states that the sum of a large number of independent random variables is approximately normally distributed."
   ],
   "metadata": {
    "collapsed": false,
    "pycharm": {
     "name": "#%%show_results(roll_10_dice(100000), start=0, end=100, bins=100, normalized=True);  # resulting histogram should be roughly uniform by the law of large numbers, confirmed by the plot.\n"
    }
   }
  },
  {
   "cell_type": "markdown",
   "source": [
    "## 2.4.3 Using the NumPy Random Module\n",
    "\n",
    "Why NumPy? There are several types of random variables in NumPy, and NumPy random variables are extremely quick to generate and manipulate.\n",
    "\n",
    "How to generate random variables in NumPy?\n",
    "1. Use $\\texttt{np.random.random()}$ to generate a random number between 0 and 1.\n",
    "2. Use $\\texttt{np.random.random(n)}$ to generate a NumPy array of n random numbers between 0 and 1.\n",
    "3. Use $\\texttt{np.random.random((x,y))}$ to generate a NumPy 2D array of random numbers between 0 and 1 in a x-by-y matrix.\n",
    "4. Use $\\texttt{np.random.normal(mean, std)}$ to generate a random number from a normal distribution with mean and standard deviation.\n",
    "5. Use $\\texttt{np.random.normal(mean, std, n)}$ to generate a NumPy 1D from a normal distribution with mean and standard deviation in a n-length vector.\n",
    "6. Use $\\texttt{np.random.normal(mean, std, (x,y))}$ to generate a NumPy 2D array of random numbers from a normal distribution with mean and standard deviation in a x-by-y matrix.\n",
    "\n",
    "Try to use numpy whenever possible, it is much better optimized than the Python random module."
   ],
   "metadata": {
    "collapsed": false,
    "pycharm": {
     "name": "#%% md\n"
    }
   }
  },
  {
   "cell_type": "markdown",
   "source": [
    "## 2.4.4 Measuring Time (of Execution)\n",
    "\n",
    "To measure time elapsed in a program, take two instances of $\\texttt{time.clock()}$ and subtract the second from the first.\n",
    "\n",
    "You can measure time differences for two different methods of execution and compare them; this is a way to see which method is faster.\n",
    "\n",
    "By doing this with earlier examples, we can see that NumPy is much faster than the Python random module; 80x faster than the Python random module in our case."
   ],
   "metadata": {
    "collapsed": false,
    "pycharm": {
     "name": "#%% md\n"
    }
   }
  },
  {
   "cell_type": "markdown",
   "source": [
    "## 2.4.5 Random Walks\n",
    "\n",
    "A random walk is a random sequence of steps taken by a random walker. We can use the normal distribution and cumulative sum functions to generate random walks."
   ],
   "metadata": {
    "collapsed": false,
    "pycharm": {
     "name": "#%% md\n"
    }
   }
  },
  {
   "cell_type": "code",
   "execution_count": 18,
   "outputs": [
    {
     "data": {
      "text/plain": "<Figure size 432x288 with 1 Axes>",
      "image/png": "[encoded data removed]"
     },
     "metadata": {
      "needs_background": "light"
     },
     "output_type": "display_data"
    }
   ],
   "source": [
    "from matplotlib.pyplot import plot\n",
    "\n",
    "steps = 100  # Number of steps the walker takes\n",
    "delta_X = np.random.normal(0, 1, (2,steps))  # Stores the (x,y) random displacements of the walker\n",
    "X = np.cumsum(delta_X, axis=1)  # Stores the cumulative sum of the displacements to find the positions of the walker\n",
    "plot(X[0], X[1], \"ro-\");  # Plot the walker"
   ],
   "metadata": {
    "collapsed": false,
    "pycharm": {
     "name": "#%%\n"
    }
   }
  },
  {
   "cell_type": "markdown",
   "source": [
    "## 2.4.2 Examples Involving Randomness\n",
    "\n",
    "Remember the law of large numbers from probability theory: as the number of identically distributed, randomly generated variables increases, their sample mean approaches their theoretical mean.\n",
    "\n",
    "First, let us simulate rolling a single six-sided die and plotting the results on a histogram."
   ],
   "metadata": {
    "collapsed": false,
    "pycharm": {
     "name": "#%% md\n"
    }
   }
  },
  {
   "cell_type": "code",
   "execution_count": 19,
   "outputs": [],
   "source": [
    "# Function to simulate rolling a single die and storing the reuslts in a list\n",
    "def roll_die(n: int) -> list:\n",
    "    \"\"\"\n",
    "    Simulate rolling a dice n times and return the results.\n",
    "\n",
    "    Args:\n",
    "        n: number of times to roll the dice\n",
    "    Returns:\n",
    "        a list of the results\n",
    "    \"\"\"\n",
    "    from random import randint\n",
    "\n",
    "    return [ randint(1, 6) for i in range(n) ]"
   ],
   "metadata": {
    "collapsed": false,
    "pycharm": {
     "name": "#%%\n"
    }
   }
  },
  {
   "cell_type": "code",
   "execution_count": 20,
   "outputs": [],
   "source": [
    "# Function to plot a histogram of a list of results\n",
    "def show_results(results: list, start: float, end: float, bins: int, normalized=False) -> None:\n",
    "    \"\"\"\n",
    "    Show the results of a simulation in a list on a histogram.\n",
    "\n",
    "    Args:\n",
    "        :param results: a list of the results of a simulation\n",
    "        :param start: the start of the histogram plot\n",
    "        :param end: the end of the histogram plot\n",
    "        :param bins: the number of bins in the plot\n",
    "\n",
    "    Returns:\n",
    "        None\n",
    "\n",
    "    Output:\n",
    "        A histogram plot using the PyPlot module.\n",
    "    \"\"\"\n",
    "    from matplotlib.pyplot import hist\n",
    "    from numpy import linspace\n",
    "\n",
    "    hist(results, bins=linspace(start, end, bins), density=normalized)  # show the results on a histogram\n",
    "    return None"
   ],
   "metadata": {
    "collapsed": false,
    "pycharm": {
     "name": "#%%\n"
    }
   }
  },
  {
   "cell_type": "code",
   "execution_count": 21,
   "outputs": [
    {
     "data": {
      "text/plain": "<Figure size 432x288 with 1 Axes>",
      "image/png": "[encoded data removed]"
     },
     "metadata": {
      "needs_background": "light"
     },
     "output_type": "display_data"
    }
   ],
   "source": [
    "show_results(roll_die(100000), start=0.5, end=6.5, bins=7, normalized=True);  # resulting histogram should be roughly uniform by the law of large numbers, confirmed by the plot."
   ],
   "metadata": {
    "collapsed": false,
    "pycharm": {
     "name": "#%%\n"
    }
   }
  },
  {
   "cell_type": "markdown",
   "source": [
    "Now let us try and discover the probability distribution of the sum of 10 die rolls by simulating many rolls of 10 dice, adding the results, and plotting the results on a histogram."
   ],
   "metadata": {
    "collapsed": false,
    "pycharm": {
     "name": "#%% md\n"
    }
   }
  },
  {
   "cell_type": "code",
   "execution_count": 22,
   "outputs": [],
   "source": [
    "# Function to simulate rolling 10 dice and storing the results in a list\n",
    "def roll_10_dice(n: int) -> list:\n",
    "    \"\"\"\n",
    "    Simulate rolling 10 dice n times and return the results. Note: this function uses the roll_die() function.\n",
    "\n",
    "    Args:\n",
    "        n: number of times to roll the dice\n",
    "    Returns:\n",
    "        a list of the results\n",
    "    \"\"\"\n",
    "    return [sum(roll_die(10)) for i in range(n)]"
   ],
   "metadata": {
    "collapsed": false,
    "pycharm": {
     "name": "#%%\n"
    }
   }
  },
  {
   "cell_type": "code",
   "execution_count": 23,
   "outputs": [
    {
     "data": {
      "text/plain": "<Figure size 432x288 with 1 Axes>",
      "image/png": "[encoded data removed]"
     },
     "metadata": {
      "needs_background": "light"
     },
     "output_type": "display_data"
    }
   ],
   "source": [
    "show_results(roll_10_dice(100000), start=9.5, end=60.5, bins=52, normalized=True);\n",
    "# Expecting a roughly normal distribution from 10 to 60, confirmed by the plot.\n",
    "# Why normal distribution? The Central Limit Theorem (CLT) states that the sum of a large number of independent random variables is approximately normally distributed."
   ],
   "metadata": {
    "collapsed": false,
    "pycharm": {
     "name": "#%%show_results(roll_10_dice(100000), start=0, end=100, bins=100, normalized=True);  # resulting histogram should be roughly uniform by the law of large numbers, confirmed by the plot.\n"
    }
   }
  },
  {
   "cell_type": "markdown",
   "source": [
    "## 2.4.3 Using the NumPy Random Module\n",
    "\n",
    "Why NumPy? There are several types of random variables in NumPy, and NumPy random variables are extremely quick to generate and manipulate.\n",
    "\n",
    "How to generate random variables in NumPy?\n",
    "1. Use $\\texttt{np.random.random()}$ to generate a random number between 0 and 1.\n",
    "2. Use $\\texttt{np.random.random(n)}$ to generate a NumPy array of n random numbers between 0 and 1.\n",
    "3. Use $\\texttt{np.random.random((x,y))}$ to generate a NumPy 2D array of random numbers between 0 and 1 in a x-by-y matrix.\n",
    "4. Use $\\texttt{np.random.normal(mean, std)}$ to generate a random number from a normal distribution with mean and standard deviation.\n",
    "5. Use $\\texttt{np.random.normal(mean, std, n)}$ to generate a NumPy 1D from a normal distribution with mean and standard deviation in a n-length vector.\n",
    "6. Use $\\texttt{np.random.normal(mean, std, (x,y))}$ to generate a NumPy 2D array of random numbers from a normal distribution with mean and standard deviation in a x-by-y matrix.\n",
    "\n",
    "Try to use numpy whenever possible, it is much better optimized than the Python random module."
   ],
   "metadata": {
    "collapsed": false,
    "pycharm": {
     "name": "#%% md\n"
    }
   }
  },
  {
   "cell_type": "markdown",
   "source": [
    "## 2.4.4 Measuring Time (of Execution)\n",
    "\n",
    "To measure time elapsed in a program, take two instances of $\\texttt{time.clock()}$ and subtract the second from the first.\n",
    "\n",
    "You can measure time differences for two different methods of execution and compare them; this is a way to see which method is faster.\n",
    "\n",
    "By doing this with earlier examples, we can see that NumPy is much faster than the Python random module; 80x faster than the Python random module in our case."
   ],
   "metadata": {
    "collapsed": false,
    "pycharm": {
     "name": "#%% md\n"
    }
   }
  },
  {
   "cell_type": "markdown",
   "source": [
    "## 2.4.5 Random Walks\n",
    "\n",
    "A random walk is a random sequence of steps taken by a random walker. We can use the normal distribution and cumulative sum functions to generate random walks."
   ],
   "metadata": {
    "collapsed": false,
    "pycharm": {
     "name": "#%% md\n"
    }
   }
  },
  {
   "cell_type": "code",
   "execution_count": 24,
   "outputs": [
    {
     "data": {
      "text/plain": "<Figure size 432x288 with 1 Axes>",
      "image/png": "[encoded data removed]"
     },
     "metadata": {
      "needs_background": "light"
     },
     "output_type": "display_data"
    }
   ],
   "source": [
    "from matplotlib.pyplot import plot\n",
    "\n",
    "steps = 100  # Number of steps the walker takes\n",
    "delta_X = np.random.normal(0, 1, (2,steps))  # Stores the (x,y) random displacements of the walker\n",
    "X = np.cumsum(delta_X, axis=1)  # Stores the cumulative sum of the displacements to find the positions of the walker\n",
    "plot(X[0], X[1], \"ro-\");  # Plot the walker"
   ],
   "metadata": {
    "collapsed": false,
    "pycharm": {
     "name": "#%%\n"
    }
   }
  }
 ],
 "metadata": {
  "kernelspec": {
   "display_name": "Python 3",
   "language": "python",
   "name": "python3"
  },
  "language_info": {
   "codemirror_mode": {
    "name": "ipython",
    "version": 2
   },
   "file_extension": ".py",
   "mimetype": "text/x-python",
   "name": "python",
   "nbconvert_exporter": "python",
   "pygments_lexer": "ipython2",
   "version": "2.7.6"
  }
 },
 "nbformat": 4,
 "nbformat_minor": 0
}