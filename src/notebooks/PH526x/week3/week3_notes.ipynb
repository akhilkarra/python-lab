{
 "cells": [
  {
   "cell_type": "markdown",
   "metadata": {
    "pycharm": {
     "name": "#%% md\n"
    }
   },
   "source": [
    "# Week 3 Notes"
   ]
  },
  {
   "cell_type": "markdown",
   "metadata": {
    "pycharm": {
     "name": "#%% md\n"
    }
   },
   "source": [
    "## 3.1.1 Introduction to DNA Translation\n",
    "\n",
    "We can think of DNA as a 1D string of nucleotides (of which there are 4: A, C, G, T).\n",
    "\n",
    "One nucleotide triplet corresponds to a single amino acid. Each protein in itself is a string of amino acids, of which there are 20.\n",
    "\n",
    "Central dogma of biology: DNA transcribed into RNA then translated into molecular protein\n",
    "\n",
    "Outline of case study:\n",
    "1. Download DNA sequence as a text file\n",
    "2. Translate DNA sequence into protein sequence\n",
    "3. Download amino acid sequence as a text file as a reference"
   ]
  },
  {
   "cell_type": "markdown",
   "metadata": {
    "pycharm": {
     "name": "#%% md\n"
    }
   },
   "source": [
    "## 3.1.2 Downloading DNA Data\n",
    "\n",
    "We're going to download DNA and Protein Sequences from the NCBI website.\n",
    "\n",
    "Added dna.txt and protein.txt to the repository."
   ]
  },
  {
   "cell_type": "markdown",
   "metadata": {
    "pycharm": {
     "name": "#%% md\n"
    }
   },
   "source": [
    "## 3.1.3 Importing DNA Data into Python"
   ]
  },
  {
   "cell_type": "code",
   "execution_count": 3,
   "metadata": {
    "pycharm": {
     "name": "#%%# Importing DNA Data into Python\n"
    }
   },
   "outputs": [],
   "source": [
    "# Defining a new class and method to remove special characters from a string\n",
    "class MyString(str):\n",
    "    def process(self):\n",
    "        return self.replace(\"\\n\", \"\").replace(\"\\r\", \"\").replace(\" \", \"\").upper()\n",
    "\n",
    "\n",
    "# Importing DNA Data into Python\n",
    "dna_file_in = open(\"dna.txt\", \"r\")\n",
    "dna_file_out = open(\"dna_processed.txt\", \"w\")\n",
    "\n",
    "for line in dna_file_in:\n",
    "    nucleotide_triplet = \"\"  # Resetting nucleotide triplet\n",
    "\n",
    "    for nucleotide in MyString(line).process():  # Since strings are immutable, removing special characters will not change the original string\n",
    "        if len(nucleotide_triplet) == 3:\n",
    "            dna_file_out.write(nucleotide_triplet + \"\\n\") # Writing triplet to file\n",
    "            nucleotide_triplet = \"\" # Resetting nucleotide triplet\n",
    "\n",
    "        if (nucleotide == \"A\" or \"C\" or \"G\" or \"T\") and len(nucleotide_triplet) < 3:\n",
    "            nucleotide_triplet += nucleotide # Adding nucleotide to triplet\n",
    "\n",
    "\n",
    "# Closing files to prevent memory leaks\n",
    "dna_file_in.close()\n",
    "dna_file_out.close()"
   ]
  },
  {
   "cell_type": "markdown",
   "metadata": {
    "pycharm": {
     "name": "#%% md\n"
    }
   },
   "source": [
    "## 3.1.4 Translating the DNA Sequence"
   ]
  },
  {
   "cell_type": "code",
   "execution_count": 4,
   "metadata": {
    "pycharm": {
     "name": "#%%\n"
    }
   },
   "outputs": [],
   "source": [
    "# Opening DNA file and creating new file to write to for protein sequence\n",
    "dna_file = open(\"dna_processed.txt\", \"r\")\n",
    "protein_file = open(\"protein_processed.txt\", \"w\")\n",
    "\n",
    "# Defining a table to translate nucleotides to amino acids\n",
    "nucleotide_to_amino_acid = {\n",
    "    'ATA':'I', 'ATC':'I', 'ATT':'I', 'ATG':'M',\n",
    "    'ACA':'T', 'ACC':'T', 'ACG':'T', 'ACT':'T',\n",
    "    'AAC':'N', 'AAT':'N', 'AAA':'K', 'AAG':'K',\n",
    "    'AGC':'S', 'AGT':'S', 'AGA':'R', 'AGG':'R',\n",
    "    'CTA':'L', 'CTC':'L', 'CTG':'L', 'CTT':'L',\n",
    "    'CCA':'P', 'CCC':'P', 'CCG':'P', 'CCT':'P',\n",
    "    'CAC':'H', 'CAT':'H', 'CAA':'Q', 'CAG':'Q',\n",
    "    'CGA':'R', 'CGC':'R', 'CGG':'R', 'CGT':'R',\n",
    "    'GTA':'V', 'GTC':'V', 'GTG':'V', 'GTT':'V',\n",
    "    'GCA':'A', 'GCC':'A', 'GCG':'A', 'GCT':'A',\n",
    "    'GAC':'D', 'GAT':'D', 'GAA':'E', 'GAG':'E',\n",
    "    'GGA':'G', 'GGC':'G', 'GGG':'G', 'GGT':'G',\n",
    "    'TCA':'S', 'TCC':'S', 'TCG':'S', 'TCT':'S',\n",
    "    'TTC':'F', 'TTT':'F', 'TTA':'L', 'TTG':'L',\n",
    "    'TAC':'Y', 'TAT':'Y', 'TAA':'_', 'TAG':'_',\n",
    "    'TGC':'C', 'TGT':'C', 'TGA':'_', 'TGG':'W',\n",
    "}\n",
    "\n",
    "\n",
    "# Table lookup to translate nucleotides to amino acids\n",
    "for triplet in dna_file:\n",
    "    protein_file.write(\n",
    "        nucleotide_to_amino_acid[MyString(triplet).process()]\n",
    "    )\n",
    "\n",
    "\n",
    "# Closing files to prevent memory leaks\n",
    "dna_file.close()\n",
    "protein_file.close()"
   ]
  },
  {
   "cell_type": "markdown",
   "source": [
    "## 3.2.1 Introduction to Language Processing\n",
    "\n",
    "Task: to process books written in English, French, German, and Portuguese and find out how book lengths and number of unique words compare between different authors and languages."
   ],
   "metadata": {
    "collapsed": false,
    "pycharm": {
     "name": "#%% md\n"
    }
   }
  },
  {
   "cell_type": "markdown",
   "source": [
    "## 3.2.2 Counting Words\n",
    "\n",
    "The fastest and easiest way to count words in Python is $\\texttt{collection.Counter(line.split(\" \"))}$, where $\\texttt{line}$ is the line of words to be counted."
   ],
   "metadata": {
    "collapsed": false,
    "pycharm": {
     "name": "#%% md\n"
    }
   }
  },
  {
   "cell_type": "markdown",
   "source": [
    "## 3.2.3 Reading in a Book\n",
    "\n",
    "UTF-8 is the most common encoding for text files.\n",
    "\n",
    "You can open a file with UTF-8 encoding using the following code: $\\texttt{with open(\"file.txt\", \"r\", encoding=\"utf-8\") as file}$."
   ],
   "metadata": {
    "collapsed": false,
    "pycharm": {
     "name": "#%% md\n"
    }
   }
  },
  {
   "cell_type": "markdown",
   "source": [
    "## 3.2.5 Reading Multiple Files\n",
    "\n",
    "We're using the $\\texttt{os}$ module to read in multiple files.\n",
    "\n",
    "We can use the $\\texttt{os.listdir()}$ function to get a list of items (files or folders) in a directory.\n",
    "\n",
    "PANDAS IS HERE: especially useful for manipulating numerical tables and time series data.\n",
    "\n",
    "We can use the $\\texttt{pd.DataFrame(data)}$ function to create a dataframe from a dictionary. We can also create an empty table with known columns using $\\texttt{pd.DataFrame(columns=(``column1\", ``column2\"))}$.\n",
    "\n",
    "We can now use $\\texttt{table.loc[row_index]}$ to get the row at the specified index or create a new row at the index.\n",
    "\n",
    "The $\\texttt{table.head()}$ function will show the first five rows of the table, and $\\texttt{table.tail()}$ will show the last five rows."
   ],
   "metadata": {
    "collapsed": false,
    "pycharm": {
     "name": "#%% md\n"
    }
   }
  },
  {
   "cell_type": "markdown",
   "source": [
    "## 3.2.6 Plotting Book Statistics\n",
    "\n",
    "This is quite simple: if you have a dataframe $\\texttt{table}$, you can use $\\texttt{plt.plot(table[``column1\"], table[``column2\"])}$ to plot the data.\n",
    "\n",
    "You can stratify data using boolean conditions, similar to way we can stratify items in a list."
   ],
   "metadata": {
    "collapsed": false,
    "pycharm": {
     "name": "#%% md\n"
    }
   }
  },
  {
   "cell_type": "markdown",
   "source": [
    "## 3.3.1 Introduction to kNN Classification\n",
    "\n",
    "Statistical learning: the process of finding an estimate or prediction for a target variable based on a set of features.\n",
    "- If the target variable is continuous and quantitative, we have a regression problem.\n",
    "- If the target variable is categorical and qualitative, we have a classification problem.\n",
    "\n",
    "This case study involves finding a classifier to a specific classification problem where the classifier will attempt to categorize an unknown object based on previously known objects. --> this is a k-Nearest Neighbors (kNN) classification problem.\n",
    "\n",
    "In other words, a kNN classifier classifies data points according to the most common class label used by the k nearest neighbors."
   ],
   "metadata": {
    "collapsed": false,
    "pycharm": {
     "name": "#%% md\n"
    }
   }
  },
  {
   "cell_type": "code",
   "execution_count": null,
   "outputs": [],
   "source": [],
   "metadata": {
    "collapsed": false,
    "pycharm": {
     "name": "#%%\n"
    }
   }
  },
  {
   "cell_type": "markdown",
   "source": [
    "## 3.3.2 Finding the Distance between Two Points\n",
    "If given two points with coordinates $\\texttt{(x_1, y_1)}$ and $\\texttt{(x_2, y_2)}$, we can find the distance between them using the Pythagorean Theorem."
   ],
   "metadata": {
    "collapsed": false,
    "pycharm": {
     "name": "#%% md\n"
    }
   }
  },
  {
   "cell_type": "code",
   "execution_count": null,
   "outputs": [],
   "source": [],
   "metadata": {
    "collapsed": false,
    "pycharm": {
     "name": "#%%\n"
    }
   }
  },
  {
   "cell_type": "markdown",
   "source": [
    "## 3.3.3 Majority (more specifically, Plurality) Vote\n",
    "Plurality Vote is a type of problem: given a sequence of votes, we need to find the element with the most votes.\n",
    "\n",
    "To find the mode of a NumPy array, we can use $\\texttt{scipy.stats.mode(array)}$."
   ],
   "metadata": {
    "collapsed": false,
    "pycharm": {
     "name": "#%% md\n"
    }
   }
  },
  {
   "cell_type": "code",
   "execution_count": null,
   "outputs": [],
   "source": [],
   "metadata": {
    "collapsed": false,
    "pycharm": {
     "name": "#%%\n"
    }
   }
  },
  {
   "cell_type": "markdown",
   "source": [
    "## 3.3.4 Finding the Nearest Neighbors\n",
    "$\\texttt{numpy.argsort(array)}$returns the indices in order of increasing values in $\\texttt{array}$."
   ],
   "metadata": {
    "collapsed": false,
    "pycharm": {
     "name": "#%% md\n"
    }
   }
  },
  {
   "cell_type": "markdown",
   "source": [
    "## 3.3.5 Generating Synthetic Data\n",
    "\n",
    "Synthetic data is data that is generated with the help of a computer model.\n",
    "\n",
    "It is helpful to generate synthetic data in order to test the performance of a classifier."
   ],
   "metadata": {
    "collapsed": false,
    "pycharm": {
     "name": "#%% md\n"
    }
   }
  },
  {
   "cell_type": "code",
   "execution_count": null,
   "outputs": [],
   "source": [],
   "metadata": {
    "collapsed": false,
    "pycharm": {
     "name": "#%%\n"
    }
   }
  },
  {
   "cell_type": "markdown",
   "source": [
    "## 3.3.6 Making a Prediction Grid\n",
    "\n",
    "Instead of trying to make a prediction on a single random point, we can try to make a prediction on a grid of points.\n",
    "\n",
    "The $\\texttt{numpy.meshgrid}$ function will create two matrices of x and y values corresponding to a grid of points formed by two column vectors corresponding to the x and y coordinates of the grid (these column vectors are the input).\n",
    "\n",
    "The function $\\texttt{enumrate}$ on a list will return an enumerate object containing both the index and value of each element in the list."
   ],
   "metadata": {
    "collapsed": false,
    "pycharm": {
     "name": "#%% md\n"
    }
   }
  },
  {
   "cell_type": "code",
   "execution_count": null,
   "outputs": [],
   "source": [],
   "metadata": {
    "collapsed": false,
    "pycharm": {
     "name": "#%%\n"
    }
   }
  },
  {
   "cell_type": "markdown",
   "source": [
    "## 3.3.7 Plotting the Prediction Grid\n",
    "Bias-variance tradeoff: the tendency of a classifier to overfit or underfit a data set.\n",
    "- This means that too high or too low values of the classifier will result in a classifier that is not able to generalize to new data; intermediate values are best"
   ],
   "metadata": {
    "collapsed": false,
    "pycharm": {
     "name": "#%% md\n"
    }
   }
  },
  {
   "cell_type": "markdown",
   "source": [
    "## 3.3.8 Applying the kNN Method\n",
    "\n",
    "All of our work above can be done using the $\\texttt{KNearsNeighborsClassifier}$ class in the $\\texttt{sklearn}$ module, a Python module that contains a number of machine learning algorithms and datasets, including the $\\texttt{iris}$ dataset."
   ],
   "metadata": {
    "collapsed": false,
    "pycharm": {
     "name": "#%% md\n"
    }
   }
  },
  {
   "cell_type": "code",
   "execution_count": 4,
   "outputs": [],
   "source": [],
   "metadata": {
    "collapsed": false,
    "pycharm": {
     "name": "#%%\n"
    }
   }
  }
 ],
 "metadata": {
  "kernelspec": {
   "display_name": "Python 3",
   "language": "python",
   "name": "python3"
  },
  "language_info": {
   "codemirror_mode": {
    "name": "ipython",
    "version": 3
   },
   "file_extension": ".py",
   "mimetype": "text/x-python",
   "name": "python",
   "nbconvert_exporter": "python",
   "pygments_lexer": "ipython3",
   "version": "3.8.8"
  }
 },
 "nbformat": 4,
 "nbformat_minor": 1
}