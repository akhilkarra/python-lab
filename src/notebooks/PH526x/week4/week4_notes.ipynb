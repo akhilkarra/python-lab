{
 "cells": [
  {
   "cell_type": "markdown",
   "metadata": {
    "pycharm": {
     "name": "#%% md\n"
    }
   },
   "source": [
    "# Week 4 Notes"
   ]
  },
  {
   "cell_type": "markdown",
   "metadata": {
    "pycharm": {
     "name": "#%% md\n"
    }
   },
   "source": [
    "## 4.1.1: Getting Started with Pandas\n",
    "\n",
    "In this case study, we will attempt to group different samples of whiskey using their flavor characteristics.\n",
    "\n",
    "``pandas`` is built on top of NumPy and is a great tool for data analysis.\n",
    "- ``pandas.Series`` is a 1-dimensional array-like object with a name and index.\n",
    "- ``pandas.DataFrame`` is a 2-dimensional array-like object with a column and row labels.\n",
    "\n",
    "To create a ``pandas.Series``, we can use the ``pandas.Series()`` function."
   ]
  },
  {
   "cell_type": "code",
   "execution_count": null,
   "metadata": {
    "pycharm": {
     "name": "#%%\n"
    }
   },
   "outputs": [],
   "source": [
    "import pandas as pd\n",
    "\n",
    "x = pd.Series([1, 2, 3, 4, 5])\n",
    "x"
   ]
  },
  {
   "cell_type": "code",
   "execution_count": null,
   "metadata": {
    "pycharm": {
     "name": "#%%\n"
    }
   },
   "outputs": [],
   "source": [
    "# Using explicit indices\n",
    "y = pd.Series([1, 2, 3, 4, 5], index=[\"a\", \"b\", \"c\", \"d\", \"e\"])\n",
    "y"
   ]
  },
  {
   "cell_type": "code",
   "execution_count": null,
   "metadata": {
    "pycharm": {
     "name": "#%%\n"
    }
   },
   "outputs": [],
   "source": [
    "# Using a dictionary\n",
    "z = pd.Series({\"a\": 1, \"b\": 2, \"c\": 3, \"d\": 4, \"e\": 5})\n",
    "z"
   ]
  },
  {
   "cell_type": "markdown",
   "metadata": {
    "pycharm": {
     "name": "#%% md\n"
    }
   },
   "source": [
    "To create a ``pandas.DataFrame``, we can use the ``pandas.DataFrame()`` function."
   ]
  },
  {
   "cell_type": "code",
   "execution_count": null,
   "metadata": {
    "pycharm": {
     "name": "#%%\n"
    }
   },
   "outputs": [],
   "source": [
    "# Using a dictionary where the values are lists (can also be 1D numpy arrays)\n",
    "z = pd.DataFrame(\n",
    "    {\n",
    "        \"name\": [\"John\", \"Mary\", \"Mark\"],\n",
    "        \"age\": [30, 40, 50],\n",
    "        \"ZIP\": [12345, 23456, 34567],\n",
    "    }\n",
    ")\n",
    "z"
   ]
  },
  {
   "cell_type": "markdown",
   "metadata": {
    "pycharm": {
     "name": "#%% md\n"
    }
   },
   "source": [
    "We can get the index of a ``pandas.Series`` or ``pandas.DataFrame`` using the ``.index`` attribute. Using ``sorted()``, we can sort the index and create a list of the sorted indices.\n",
    "\n",
    "We can also reorder a ``pandas.Series`` or ``pandas.DataFrame`` using the ``.reindex()`` method."
   ]
  },
  {
   "cell_type": "markdown",
   "metadata": {
    "pycharm": {
     "name": "#%% md\n"
    }
   },
   "source": [
    "## 4.1.2: Loading and Inspecting Data\n",
    "\n",
    "We will now load and inspect the data stored in ``whiskey.txt`` and ``regions.txt``, both of which are formatted in a CSV format."
   ]
  },
  {
   "cell_type": "code",
   "execution_count": null,
   "metadata": {
    "pycharm": {
     "name": "#%%\n"
    }
   },
   "outputs": [],
   "source": [
    "import numpy as np\n",
    "import pandas as pd\n",
    "\n",
    "whiskies = pd.read_csv(\"whiskies.txt\")\n",
    "whiskies[\"Region\"] = pd.read_csv(\"regions.txt\")"
   ]
  },
  {
   "cell_type": "markdown",
   "metadata": {
    "pycharm": {
     "name": "#%% md\n"
    }
   },
   "source": [
    "We can use the ``.head()`` method to view the first few rows of the data. We can use the ``.tail()`` method to view the last few rows of the data."
   ]
  },
  {
   "cell_type": "code",
   "execution_count": null,
   "metadata": {
    "pycharm": {
     "name": "#%%\n"
    }
   },
   "outputs": [],
   "source": [
    "whiskies.head()"
   ]
  },
  {
   "cell_type": "code",
   "execution_count": null,
   "metadata": {
    "pycharm": {
     "name": "#%%\n"
    }
   },
   "outputs": [],
   "source": [
    "whiskies.tail()"
   ]
  },
  {
   "cell_type": "markdown",
   "metadata": {
    "pycharm": {
     "name": "#%% md\n"
    }
   },
   "source": [
    "We would like to see the specific subset of the ``whiskies`` dataframe that corresponds to the flavors of whiskies. To do this, we can create a new dataframe using the followingg code:"
   ]
  },
  {
   "cell_type": "code",
   "execution_count": null,
   "metadata": {
    "pycharm": {
     "name": "#%%\n"
    }
   },
   "outputs": [],
   "source": [
    "flavors = whiskies.iloc[:, 2:14]\n",
    "flavors.head()"
   ]
  },
  {
   "cell_type": "markdown",
   "metadata": {
    "pycharm": {
     "name": "#%% md\n"
    }
   },
   "source": [
    "## 4.1.3: Exploring Correlations\n",
    "\n",
    "We want to find out if there are any strong linear correlations between the different taste attributes of each whisky. We can use the ``.corr()`` method to find the correlation between each pair of columns, and by default, this method uses the Pearson correlation coefficient."
   ]
  },
  {
   "cell_type": "code",
   "execution_count": null,
   "metadata": {
    "pycharm": {
     "name": "#%%\n"
    }
   },
   "outputs": [],
   "source": [
    "corr_flavors = flavors.corr()\n",
    "corr_flavors"
   ]
  },
  {
   "cell_type": "markdown",
   "metadata": {
    "pycharm": {
     "name": "#%% md\n"
    }
   },
   "source": [
    "The above output corresponds to a correlation matrix. Let us plot this matrix."
   ]
  },
  {
   "cell_type": "code",
   "execution_count": null,
   "metadata": {
    "pycharm": {
     "name": "#%%\n"
    }
   },
   "outputs": [],
   "source": [
    "import matplotlib.pyplot as plt\n",
    "\n",
    "plt.figure(figsize=(10, 10))\n",
    "plt.pcolor(corr_flavors)\n",
    "plt.colorbar()\n",
    "plt.show()"
   ]
  },
  {
   "cell_type": "markdown",
   "metadata": {
    "pycharm": {
     "name": "#%% md\n"
    }
   },
   "source": [
    "We now have a plot where we can see the correlation between each pair of taste attributes. We can also transpose the ``corr_flavors`` matrix to find correlations between the whiskies with respect to flavors (this can also be interpreted as the correlations between the whiskey refineries and the flavors of whiskey they produce)."
   ]
  },
  {
   "cell_type": "code",
   "execution_count": null,
   "metadata": {
    "pycharm": {
     "name": "#%%\n"
    }
   },
   "outputs": [],
   "source": [
    "corr_whiskies = flavors.T.corr()\n",
    "corr_whiskies.iloc[:5, :5]"
   ]
  },
  {
   "cell_type": "code",
   "execution_count": null,
   "metadata": {
    "pycharm": {
     "name": "#%%\n"
    }
   },
   "outputs": [],
   "source": [
    "plt.figure(figsize=(10, 10))\n",
    "plt.pcolor(corr_whiskies)\n",
    "plt.colorbar()\n",
    "plt.show()"
   ]
  },
  {
   "cell_type": "markdown",
   "metadata": {
    "pycharm": {
     "name": "#%% md\n"
    }
   },
   "source": [
    "## 4.1.4 Clustering Whiskies by Flavor Profile\n",
    "\n",
    "Spectral co-clustering is a method for grouping data points into clusters. There exists a Python function called ``scipy.cluster.bicluster.SpectralCoclustering()`` that can be used to perform spectral co-clustering.\n",
    "\n",
    "Although this problem is still computationally to solve directly, an approximate solution can be found using eigenvalues and eigenvectors of an adjacency matrix."
   ]
  },
  {
   "cell_type": "code",
   "execution_count": null,
   "metadata": {
    "pycharm": {
     "name": "#%%\n"
    }
   },
   "outputs": [],
   "source": [
    "from sklearn.cluster import SpectralCoclustering\n",
    "\n",
    "model = SpectralCoclustering(\n",
    "    n_clusters=6, random_state=0\n",
    ")  # create a spectral co-clustering model with 6 clusters (represnting the 6 regions)\n",
    "\n",
    "model.fit(corr_whiskies)  # fit the model to the whiskies data\n",
    "\n",
    "model.rows_[\n",
    "    :, :10\n",
    "]  # see the clusters as rows and the individual whiskies as columns, with \"True\" denoting that the whisky belongs to a certain cluster and \"False\" denoting that it does not"
   ]
  },
  {
   "cell_type": "code",
   "execution_count": null,
   "metadata": {
    "pycharm": {
     "name": "#%%\n"
    }
   },
   "outputs": [],
   "source": [
    "np.sum(model.rows_, axis=1)  # the number of whiskies in each cluster"
   ]
  },
  {
   "cell_type": "code",
   "execution_count": null,
   "metadata": {
    "pycharm": {
     "name": "#%%\n"
    }
   },
   "outputs": [],
   "source": [
    "model.row_labels_[:10]  # the output denotes the cluster that each whisky belongs to"
   ]
  },
  {
   "cell_type": "markdown",
   "metadata": {
    "pycharm": {
     "name": "#%% md\n"
    }
   },
   "source": [
    "## 4.1.5: Comparing Correlation Matrices\n",
    "\n",
    "We are now ready to compare the correlation matrices between the actual regions of the whiskies to the approximate solutions."
   ]
  },
  {
   "cell_type": "code",
   "execution_count": null,
   "metadata": {
    "pycharm": {
     "name": "#%%\n"
    }
   },
   "outputs": [],
   "source": [
    "whiskies[\"Group\"] = pd.Series(\n",
    "    model.row_labels_, index=whiskies.index\n",
    ")  # add a column to the dataframe with the cluster labels\n",
    "whiskies = whiskies.iloc[\n",
    "    whiskies[\"Group\"].argsort()\n",
    "]  # sort the dataframe by the cluster labels\n",
    "whiskies = whiskies.reset_index()  # reset the index"
   ]
  },
  {
   "cell_type": "code",
   "execution_count": null,
   "metadata": {
    "pycharm": {
     "name": "#%%\n"
    }
   },
   "outputs": [],
   "source": [
    "correlations = whiskies.iloc[\n",
    "    :, 2:14\n",
    "].T.corr()  # the correlation matrix of the clusters after updating the indices\n",
    "correlations = np.array(correlations)  # convert the correlation matrix to a numpy array"
   ]
  },
  {
   "cell_type": "markdown",
   "metadata": {
    "pycharm": {
     "name": "#%% md\n"
    }
   },
   "source": [
    "## 4.2.1 Introduction to GPS Tracking of Birds\n",
    "\n",
    "We are going to do some data processing and analysis on GPS data from three seagulls, as collected by the LifeWatch INBO project. The data is stored in a CSV file called ``bird_tracking.csv``"
   ]
  },
  {
   "cell_type": "code",
   "execution_count": null,
   "metadata": {
    "pycharm": {
     "name": "#%%\n"
    }
   },
   "outputs": [],
   "source": [
    "import pandas as pd\n",
    "\n",
    "birddata = pd.read_csv(\"bird_tracking.csv\")\n",
    "birddata.info()  # basic information about the dataframe"
   ]
  },
  {
   "cell_type": "code",
   "execution_count": null,
   "metadata": {
    "pycharm": {
     "name": "#%%\n"
    }
   },
   "outputs": [],
   "source": [
    "birddata.head()  # the first five rows of the dataframe"
   ]
  },
  {
   "cell_type": "markdown",
   "metadata": {
    "pycharm": {
     "name": "#%% md\n"
    }
   },
   "source": [
    "## 4.2.2 Simple Data Visualizations\n",
    "\n",
    "We will now plot the GPS data of one of the three seagulls. Note that this data represents positions on a sphere and not on a cartesian plane, so the data will appear quite distorted. A cartographic projection is used to make the data more readable, and will be done later on in this part. For now though, we want to get a feel for the data itself.\n",
    "\n",
    "We start by importing the necessary modules."
   ]
  },
  {
   "cell_type": "code",
   "execution_count": null,
   "metadata": {
    "pycharm": {
     "name": "#%%\n"
    }
   },
   "outputs": [],
   "source": [
    "import matplotlib.pyplot as plt\n",
    "import numpy as np"
   ]
  },
  {
   "cell_type": "markdown",
   "metadata": {
    "pycharm": {
     "name": "#%% md\n"
    }
   },
   "source": [
    "First, we will extract the indices in the ``birddata`` dataframe that correspond to the seagull Eric. We will store these indices in the array ``ix``."
   ]
  },
  {
   "cell_type": "code",
   "execution_count": null,
   "metadata": {
    "pycharm": {
     "name": "#%%\n"
    }
   },
   "outputs": [],
   "source": [
    "eric_ix = birddata.bird_name == \"Eric\""
   ]
  },
  {
   "cell_type": "markdown",
   "metadata": {
    "pycharm": {
     "name": "#%% md\n"
    }
   },
   "source": [
    "Then, we will extract the longitude and latitude of each of Eric's observations and record them as ``x`` and ``y`` coordinates in a cartesian plane. Again, this is not optimal for this particular data set as latitudes and longitudes correspond to a plan wrapped on a sphere, but it is fine for this example."
   ]
  },
  {
   "cell_type": "code",
   "execution_count": null,
   "metadata": {
    "pycharm": {
     "name": "#%%\n"
    }
   },
   "outputs": [],
   "source": [
    "(x, y) = birddata.longitude[eric_ix], birddata.latitude[eric_ix]"
   ]
  },
  {
   "cell_type": "markdown",
   "metadata": {
    "pycharm": {
     "name": "#%% md\n"
    }
   },
   "source": [
    "We can now plot the data."
   ]
  },
  {
   "cell_type": "code",
   "execution_count": null,
   "metadata": {
    "pycharm": {
     "name": "#%%\n"
    }
   },
   "outputs": [],
   "source": [
    "plt.figure(figsize=(10, 10))\n",
    "plt.plot(x, y, \".\")\n",
    "plt.show()"
   ]
  },
  {
   "cell_type": "markdown",
   "metadata": {
    "pycharm": {
     "name": "#%% md\n"
    }
   },
   "source": [
    "From this graph, we can generally see a pattern in Eric's movement first heading northeast, then northwest, then northeast again for a longer distance. It appears that they then head in similar corridors back to the original starting point. There are also bigger gaps in some places in the graph, but it is unclear whether these are gaps due to measurement errors or because Eric was moving faster in some legs.\n",
    "\n",
    "Now we will extend this plot for all three birds in which we are interested in this case study. We first start by storing the names of birds in the ``birddata`` dataframe in the array ``bird_names``."
   ]
  },
  {
   "cell_type": "code",
   "execution_count": null,
   "metadata": {
    "pycharm": {
     "name": "#%%\n"
    }
   },
   "outputs": [],
   "source": [
    "bird_names = birddata.bird_name.unique()"
   ]
  },
  {
   "cell_type": "markdown",
   "metadata": {
    "pycharm": {
     "name": "#%% md\n"
    }
   },
   "source": [
    "Let us check the names of the birds in the dataframe."
   ]
  },
  {
   "cell_type": "code",
   "execution_count": null,
   "metadata": {
    "pycharm": {
     "name": "#%%\n"
    }
   },
   "outputs": [],
   "source": [
    "bird_names"
   ]
  },
  {
   "cell_type": "markdown",
   "metadata": {
    "pycharm": {
     "name": "#%% md\n"
    }
   },
   "source": [
    "We can see that there are three birds in the dataframe: Eric, Nico, and Sanne.\n",
    "\n",
    "Using very similar code looped over all three birds, we can now plot the data for each bird on a single figure."
   ]
  },
  {
   "cell_type": "code",
   "execution_count": null,
   "metadata": {
    "pycharm": {
     "name": "#%%\n"
    }
   },
   "outputs": [],
   "source": [
    "plt.figure(figsize=(10, 10))  # initialize the figure\n",
    "\n",
    "for bird_name in bird_names:\n",
    "    ix = birddata.bird_name == bird_name\n",
    "    (x, y) = birddata.longitude[ix], birddata.latitude[ix]\n",
    "    plt.plot(x, y, \".\", label=bird_name)\n",
    "\n",
    "plt.xlabel(\"Longitude\")\n",
    "plt.ylabel(\"Latitude\")\n",
    "plt.legend(loc=\"lower right\")\n",
    "plt.show()"
   ]
  },
  {
   "cell_type": "markdown",
   "metadata": {
    "pycharm": {
     "name": "#%% md\n"
    }
   },
   "source": [
    "We can see that the flight paths of each bird are very similar, but Nico and Sanne seem to venture further south than Eric."
   ]
  },
  {
   "cell_type": "markdown",
   "metadata": {
    "pycharm": {
     "name": "#%% md\n"
    }
   },
   "source": [
    "## 4.2.3 Examining Flight Speed\n",
    "\n",
    "The column  ``speed_2d`` contains the speed of the seagulls approximated on a 2D cartesian plane. We will now examine and analyze this data, starting with the approximate speeds for just Eric."
   ]
  },
  {
   "cell_type": "code",
   "execution_count": null,
   "metadata": {
    "pycharm": {
     "name": "#%%\n"
    }
   },
   "outputs": [],
   "source": [
    "eric_ix = birddata.bird_name == \"Eric\"  # get the indices of the bird data for Eric\n",
    "speed = birddata.speed_2d[eric_ix]  # get the speed data for Eric"
   ]
  },
  {
   "cell_type": "markdown",
   "metadata": {
    "pycharm": {
     "name": "#%% md\n"
    }
   },
   "source": [
    "However, if you try to plot the speed data for eric using ``plt.hist``, you will get an error. This error does not come up for the first 10 data points. This indicates that this speed data may be containing objects that are not numbers. Let us run the following code to check for this error."
   ]
  },
  {
   "cell_type": "code",
   "execution_count": null,
   "metadata": {
    "pycharm": {
     "name": "#%%\n"
    }
   },
   "outputs": [],
   "source": [
    "speed[np.isnan(speed) == True].shape"
   ]
  },
  {
   "cell_type": "markdown",
   "metadata": {
    "pycharm": {
     "name": "#%% md\n"
    }
   },
   "source": [
    "We can not only see that there are indeed values in the speed data that are listed as NaN (not a number), but also that there are exactly 85 of these values. Let us extract the indices of these values to ignore them in the histogram plot."
   ]
  },
  {
   "cell_type": "code",
   "execution_count": null,
   "metadata": {
    "pycharm": {
     "name": "#%%\n"
    }
   },
   "outputs": [],
   "source": [
    "nan_ix = np.isnan(speed) == True"
   ]
  },
  {
   "cell_type": "markdown",
   "metadata": {
    "pycharm": {
     "name": "#%% md\n"
    }
   },
   "source": [
    "Let us turn this array into the list of indices to include by using the bitwise NOT operator ``~``."
   ]
  },
  {
   "cell_type": "code",
   "execution_count": null,
   "metadata": {
    "pycharm": {
     "name": "#%%\n"
    }
   },
   "outputs": [],
   "source": [
    "ix_include = ~nan_ix"
   ]
  },
  {
   "cell_type": "markdown",
   "metadata": {
    "pycharm": {
     "name": "#%% md\n"
    }
   },
   "source": [
    "We can now plot the speed data for Eric using the indices we have extracted."
   ]
  },
  {
   "cell_type": "code",
   "execution_count": null,
   "metadata": {
    "pycharm": {
     "name": "#%%\n"
    }
   },
   "outputs": [],
   "source": [
    "plt.figure(figsize=(10, 10))\n",
    "plt.hist(speed[ix_include])\n",
    "plt.show()"
   ]
  },
  {
   "cell_type": "markdown",
   "metadata": {
    "pycharm": {
     "name": "#%% md\n"
    }
   },
   "source": [
    "We will now normalize this graph and add labels to make the histogram more readable."
   ]
  },
  {
   "cell_type": "code",
   "execution_count": null,
   "metadata": {
    "pycharm": {
     "name": "#%%\n"
    }
   },
   "outputs": [],
   "source": [
    "plt.figure(figsize=(10, 10))\n",
    "plt.hist(speed[ix_include], bins=np.linspace(0, 30, 20), density=True)\n",
    "plt.xlabel(\"Speed (m/s)\")\n",
    "plt.ylabel(\"Frequency\")\n",
    "plt.show()"
   ]
  },
  {
   "cell_type": "markdown",
   "metadata": {
    "pycharm": {
     "name": "#%% md\n"
    }
   },
   "source": [
    "This method of looking and excluding for NaNs in your data is a common and appreciated practice you should be familiar with. However, ``pandas`` actually has plotting functionality that can automatically handle this for you. The downside is that ``pandas`` plots are not as customizable as ``pyplot`` plots."
   ]
  },
  {
   "cell_type": "code",
   "execution_count": null,
   "metadata": {
    "pycharm": {
     "name": "#%%\n"
    }
   },
   "outputs": [],
   "source": [
    "plt.figure(figsize=(10, 10))\n",
    "birddata.speed_2d.plot(kind=\"hist\", range=[0, 30])\n",
    "plt.xlabel(\"Speed (m/s)\")\n",
    "plt.show()"
   ]
  },
  {
   "cell_type": "markdown",
   "metadata": {
    "pycharm": {
     "name": "#%% md\n"
    }
   },
   "source": [
    "## 4.2.4 Using DateTime\n",
    "\n",
    "In ``birddata`` we have a column ``date_time`` that contains the date and time of the observations. Let us examine a few of these datetime objects."
   ]
  },
  {
   "cell_type": "code",
   "execution_count": null,
   "metadata": {
    "pycharm": {
     "name": "#%%\n"
    }
   },
   "outputs": [],
   "source": [
    "birddata.date_time[0:3]"
   ]
  },
  {
   "cell_type": "markdown",
   "metadata": {
    "pycharm": {
     "name": "#%% md\n"
    }
   },
   "source": [
    "These entries are all `str`'s. If we want to operate on these datetime entries, we need to covert them into datetime objects. These objects are in the format ``datetime.datetime(year, month, day, hour, minute, second)``. Let us try converting the first datetime entry to a datetime object."
   ]
  },
  {
   "cell_type": "code",
   "execution_count": null,
   "metadata": {
    "pycharm": {
     "name": "#%%\n"
    }
   },
   "outputs": [],
   "source": [
    "import datetime\n",
    "\n",
    "date_str = birddata.date_time[0]  # get the first datetime entry, which is a string\n",
    "print(type(date_str))  # check the type of the entry, returns \"str\"\n",
    "date = datetime.datetime.strptime(\n",
    "    date_str[\n",
    "        :-3\n",
    "    ],  # strip the string of the whitespace and the last three characters, which correspond to the UTC offset\n",
    "    \"%Y-%m-%d %H:%M:%S\",  # give the format of the data in the string to effectively convert it to a datetime object\n",
    ")\n",
    "date"
   ]
  },
  {
   "cell_type": "markdown",
   "metadata": {
    "pycharm": {
     "name": "#%% md\n"
    }
   },
   "source": [
    "We can now adapt this code to convert all of the datetime entries in ``birddata`` to datetime objects."
   ]
  },
  {
   "cell_type": "code",
   "execution_count": null,
   "metadata": {
    "pycharm": {
     "name": "#%%\n"
    }
   },
   "outputs": [],
   "source": [
    "timestamps = []  # create an empty list to store the datetime objects\n",
    "for k in range(\n",
    "    len(birddata.date_time)\n",
    "):  # loop over the entries in the date_time column\n",
    "    timestamps.append(\n",
    "        datetime.datetime.strptime(\n",
    "            birddata.date_time.iloc[k][\n",
    "                :-3\n",
    "            ],  # strip the string of the whitespace and the last three characters, which correspond to the UTC offset\n",
    "            \"%Y-%m-%d %H:%M:%S\",  # give the format of the data in the string to effectively convert it to a datetime object\n",
    "        )\n",
    "    )  # append the datetime object to the timestamps list"
   ]
  },
  {
   "cell_type": "markdown",
   "metadata": {
    "pycharm": {
     "name": "#%% md\n"
    }
   },
   "source": [
    "Let us now add these datetime objects to the ``birddata`` dataframe."
   ]
  },
  {
   "cell_type": "code",
   "execution_count": null,
   "metadata": {
    "pycharm": {
     "name": "#%%\n"
    }
   },
   "outputs": [],
   "source": [
    "birddata[\"timestamp\"] = pd.Series(timestamps, index=birddata.index)\n",
    "birddata.head()  # check the first few entries"
   ]
  },
  {
   "cell_type": "markdown",
   "metadata": {
    "pycharm": {
     "name": "#%% md\n"
    }
   },
   "source": [
    "Let us now make a list that stores the elapsed time for each observation for Eric from the beginning of data collection."
   ]
  },
  {
   "cell_type": "code",
   "execution_count": null,
   "metadata": {
    "pycharm": {
     "name": "#%%\n"
    }
   },
   "outputs": [],
   "source": [
    "times = birddata.timestamp[birddata.bird_name == \"Eric\"]  # get the timestamps for Eric\n",
    "elapsed_times = np.array(\n",
    "    [time - times[0] for time in times]\n",
    ")  # get the elapsed times for Eric\n",
    "elapsed_times[:5]  # check the first few entries"
   ]
  },
  {
   "cell_type": "markdown",
   "metadata": {
    "pycharm": {
     "name": "#%% md\n"
    }
   },
   "source": [
    "Note that differences in DateTime objects are returned as special TimeDelta objects. To convert these DateTime objects to a certain time measurement, we can divide by a TimeDelta object corresponding to one unit of time. For example, if we want to convert the elapsed times to days, we can do so by dividing by a TimeDelta object corresponding to one day."
   ]
  },
  {
   "cell_type": "code",
   "execution_count": null,
   "metadata": {
    "pycharm": {
     "name": "#%%\n"
    }
   },
   "outputs": [],
   "source": [
    "days_elapsed = elapsed_times / datetime.timedelta(days=1)\n",
    "days_elapsed[:5]  # check the first few entries"
   ]
  },
  {
   "cell_type": "markdown",
   "metadata": {
    "pycharm": {
     "name": "#%% md\n"
    }
   },
   "source": [
    "Let's plot some of this data."
   ]
  },
  {
   "cell_type": "code",
   "execution_count": null,
   "metadata": {
    "pycharm": {
     "name": "#%%\n"
    }
   },
   "outputs": [],
   "source": [
    "plt.figure(figsize=(10, 5))\n",
    "plt.plot(days_elapsed)\n",
    "plt.xlabel(\"Observation\")\n",
    "plt.ylabel(\"Days elapsed\")\n",
    "plt.show()"
   ]
  },
  {
   "cell_type": "markdown",
   "metadata": {
    "pycharm": {
     "name": "#%% md\n"
    }
   },
   "source": [
    "For a perfect dataset with equal jumps, we expect a perfect line for this plot. However, we see some jumps. This indicates that there are some data points that are unevenly spaced, and so relying on algorithms that expect perfect spacing is not a good idea for this case."
   ]
  },
  {
   "cell_type": "markdown",
   "metadata": {
    "pycharm": {
     "name": "#%% md\n"
    }
   },
   "source": [
    "## 4.2.5 Calculating Daily Mean Speed\n",
    "\n",
    "To calculate daily mean speeds, we need to first group the data by day. This involves iterating through rows in the data frame and grouping the rows until we reach an index that corresponds to the next day."
   ]
  },
  {
   "cell_type": "code",
   "execution_count": null,
   "metadata": {
    "pycharm": {
     "name": "#%%\n"
    }
   },
   "outputs": [],
   "source": [
    "next_day = 1  # initialize the index of the next day\n",
    "inds = (\n",
    "    []\n",
    ")  # initialize an empty list to store the indices of observations in the current day\n",
    "daily_mean_speeds = []  # initialize an empty list to store the mean daily speeds\n",
    "\n",
    "for (i, t) in enumerate(days_elapsed):  # loop over the elapsed times\n",
    "    if t < next_day:  # if the elapsed time is less than the next day\n",
    "        inds.append(\n",
    "            i\n",
    "        )  # append the index of the current observation to the list of indices\n",
    "\n",
    "    else:  # if the elapsed time is greater than the next day\n",
    "        daily_mean_speeds.append(\n",
    "            birddata.speed_2d[inds].mean()\n",
    "        )  # get the mean speed for the current day\n",
    "        next_day += 1  # increment the index of the next day\n",
    "        inds = []  # reset the list of indices\n",
    "\n",
    "daily_mean_speeds = np.array(daily_mean_speeds)  # convert the list to a numpy array\n",
    "daily_mean_speeds[:5]  # check the first few entries"
   ]
  },
  {
   "cell_type": "markdown",
   "metadata": {
    "pycharm": {
     "name": "#%% md\n"
    }
   },
   "source": [
    "Let's plot the daily mean speeds."
   ]
  },
  {
   "cell_type": "code",
   "execution_count": null,
   "metadata": {
    "pycharm": {
     "name": "#%%\n"
    }
   },
   "outputs": [],
   "source": [
    "plt.figure(figsize=(10, 5))\n",
    "plt.plot(daily_mean_speeds)\n",
    "plt.xlabel(\"Day\")\n",
    "plt.ylabel(\"Daily mean speed (m/s)\")\n",
    "plt.show()"
   ]
  },
  {
   "cell_type": "markdown",
   "metadata": {
    "pycharm": {
     "name": "#%% md\n"
    }
   },
   "source": [
    "We see that Eric flies mostly at just above 2 m/s daily except for a few days when he flies significantly faster. These peaks correspond to the days when he flies at the highest speed, which naturally are his days of migration. Hence, the peaks in this graph represent the days and average daily speeds of migration."
   ]
  },
  {
   "cell_type": "code",
   "execution_count": null,
   "metadata": {
    "pycharm": {
     "name": "#%%\n"
    }
   },
   "outputs": [],
   "source": [
    "# Comprehension Check Question\n",
    "birddata[\n",
    "    birddata.bird_name == \"Sanne\"\n",
    "].date_time.head()  # what are the first few timestamps recorded for Sanne?"
   ]
  },
  {
   "cell_type": "markdown",
   "metadata": {
    "pycharm": {
     "name": "#%% md\n"
    }
   },
   "source": [
    "## 4.2.6 Using the Cartopy Module\n",
    "\n",
    "Cartopy is a library for plotting maps. It is a great tool for visualizing data, especially location data such as longitude and latitude."
   ]
  },
  {
   "cell_type": "code",
   "execution_count": null,
   "metadata": {
    "pycharm": {
     "name": "#%%\n"
    }
   },
   "outputs": [],
   "source": [
    "from cartopy import crs as ccrs\n",
    "from cartopy import feature as cfeature"
   ]
  },
  {
   "cell_type": "markdown",
   "metadata": {
    "pycharm": {
     "name": "#%% md\n"
    }
   },
   "source": [
    "Let us visualize the flight paths of the three seagulls using Cartopy, specifically the Mercator standard projection."
   ]
  },
  {
   "cell_type": "code",
   "execution_count": null,
   "metadata": {
    "pycharm": {
     "name": "#%%\n"
    }
   },
   "outputs": [],
   "source": [
    "proj = ccrs.Mercator()  # create a Mercator projection\n",
    "\n",
    "plt.figure(figsize=(10, 5))  # create a figure\n",
    "ax = plt.axes(projection=proj)  # create an axes using the Mercator projection\n",
    "ax.set_extent([-25.0, 20.0, 52, 10])  # set the extent of the plot\n",
    "\n",
    "for bird in bird_names:  # loop over the bird names\n",
    "    ix = (\n",
    "        birddata.bird_name == bird\n",
    "    )  # get the indices of the observations for the current bird\n",
    "    x, y = (\n",
    "        birddata.longitude[ix],\n",
    "        birddata.latitude[ix],\n",
    "    )  # get the longitude and latitude\n",
    "    ax.plot(\n",
    "        x, y, transform=ccrs.Geodetic(), label=bird\n",
    "    )  # plot the longitude and latitude\n",
    "\n",
    "# More features to plot\n",
    "ax.add_feature(cfeature.OCEAN)  # add the oceans\n",
    "ax.add_feature(cfeature.LAND)  # add the land\n",
    "ax.add_feature(cfeature.COASTLINE)  # add the coastlines\n",
    "ax.add_feature(cfeature.BORDERS, linestyle=\":\")  # add the borders\n",
    "\n",
    "ax.legend()  # add a legend\n",
    "plt.show()  # show the plot"
   ]
  },
  {
   "cell_type": "markdown",
   "metadata": {
    "pycharm": {
     "name": "#%% md\n"
    }
   },
   "source": [
    "Here, we see the flight trajectories of all three birds, but these paths now correspond to paths on the globe rather than on a cartesian plane. We can also see exactly where the birds are flying: from the west coast of Africa up through the Portuguese and Spanish costs to the northern coast of Europe near Belgium, France, and Germany."
   ]
  },
  {
   "cell_type": "markdown",
   "metadata": {
    "pycharm": {
     "name": "#%% md\n"
    }
   },
   "source": [
    "## 4.3.1 Introduction to Network Analysis\n",
    "\n",
    "GRAPH THEORY MAKES A RETURN\n",
    "\n",
    "A *network* is the real-world implementation of a *graph*, which is mathematically abstract."
   ]
  },
  {
   "cell_type": "markdown",
   "metadata": {
    "pycharm": {
     "name": "#%% md\n"
    }
   },
   "source": [
    "## 4.3.2 Basics of NetworkX\n",
    "\n",
    "NetworkX is a Python library for analyzing and visualizing networks and graphs."
   ]
  },
  {
   "cell_type": "code",
   "execution_count": null,
   "metadata": {
    "pycharm": {
     "name": "#%%\n"
    }
   },
   "outputs": [],
   "source": [
    "import networkx as nx  # import the NetworkX module"
   ]
  },
  {
   "cell_type": "markdown",
   "metadata": {
    "pycharm": {
     "name": "#%% md\n"
    }
   },
   "source": [
    "Let us create an example undirected graph."
   ]
  },
  {
   "cell_type": "code",
   "execution_count": null,
   "metadata": {
    "pycharm": {
     "name": "#%%\n"
    }
   },
   "outputs": [],
   "source": [
    "G = nx.Graph()  # create an empty graph\n",
    "G.add_node(1)  # add a node\n",
    "G.add_nodes_from([2, 3, 4])  # add multiple nodes"
   ]
  },
  {
   "cell_type": "markdown",
   "metadata": {
    "pycharm": {
     "name": "#%% md\n"
    }
   },
   "source": [
    "Let us see what nodes are in the graph G."
   ]
  },
  {
   "cell_type": "code",
   "execution_count": null,
   "metadata": {
    "pycharm": {
     "name": "#%%\n"
    }
   },
   "outputs": [],
   "source": [
    "G.nodes()  # get the nodes"
   ]
  },
  {
   "cell_type": "markdown",
   "metadata": {
    "pycharm": {
     "name": "#%% md\n"
    }
   },
   "source": [
    "Let us add edges to the graph."
   ]
  },
  {
   "cell_type": "code",
   "execution_count": null,
   "metadata": {
    "pycharm": {
     "name": "#%%\n"
    }
   },
   "outputs": [],
   "source": [
    "G.add_edge(1, 2)  # add an edge\n",
    "G.add_edges_from([(1, 3), (1, 4)])  # add multiple edges"
   ]
  },
  {
   "cell_type": "markdown",
   "metadata": {
    "pycharm": {
     "name": "#%% md\n"
    }
   },
   "source": [
    "Let us see what edges are in the graph G."
   ]
  },
  {
   "cell_type": "code",
   "execution_count": null,
   "metadata": {
    "pycharm": {
     "name": "#%%\n"
    }
   },
   "outputs": [],
   "source": [
    "G.edges()  # get the edges"
   ]
  },
  {
   "cell_type": "markdown",
   "metadata": {
    "pycharm": {
     "name": "#%% md\n"
    }
   },
   "source": [
    "Removing nodes and edges work analogously to adding them.\n",
    "\n",
    "Let us find out the number of vertices and edges in the graph G."
   ]
  },
  {
   "cell_type": "code",
   "execution_count": null,
   "metadata": {
    "pycharm": {
     "name": "#%%\n"
    }
   },
   "outputs": [],
   "source": [
    "G.number_of_nodes()  # get the number of nodes"
   ]
  },
  {
   "cell_type": "code",
   "execution_count": null,
   "metadata": {
    "pycharm": {
     "name": "#%%\n"
    }
   },
   "outputs": [],
   "source": [
    "G.number_of_edges()  # get the number of edges"
   ]
  },
  {
   "cell_type": "markdown",
   "metadata": {
    "pycharm": {
     "name": "#%% md\n"
    }
   },
   "source": [
    "## 4.3.3 Graph Visualization\n",
    "\n",
    "Let's play around with the Karate Club graph, built into NetworkX."
   ]
  },
  {
   "cell_type": "code",
   "execution_count": null,
   "metadata": {
    "pycharm": {
     "name": "#%%\n"
    }
   },
   "outputs": [],
   "source": [
    "K = nx.karate_club_graph()  # create the graph\n",
    "\n",
    "# We visualize the graph using pyplot\n",
    "plt.figure(figsize=(10, 5))  # create a figure\n",
    "nx.draw(K, with_labels=True)  # draw the graph\n",
    "plt.show()  # show the plot"
   ]
  },
  {
   "cell_type": "markdown",
   "metadata": {
    "pycharm": {
     "name": "#%% md\n"
    }
   },
   "source": [
    "The degrees of each vertex in a graph ``G`` can be accessed using ``G.degree()``. This returns a DegreeView object, which we can iterate over to get the degree of each vertex. It works very similarly to a Python dictionary."
   ]
  },
  {
   "cell_type": "code",
   "execution_count": null,
   "metadata": {
    "pycharm": {
     "name": "#%%\n"
    }
   },
   "outputs": [],
   "source": [
    "K.degree()"
   ]
  },
  {
   "cell_type": "markdown",
   "metadata": {
    "pycharm": {
     "name": "#%% md\n"
    }
   },
   "source": [
    "Let us find out how many edges are in the graph ``K``."
   ]
  },
  {
   "cell_type": "code",
   "execution_count": null,
   "metadata": {
    "pycharm": {
     "name": "#%%\n"
    }
   },
   "outputs": [],
   "source": [
    "K.number_of_edges()  # get the number of edges"
   ]
  },
  {
   "cell_type": "markdown",
   "metadata": {
    "pycharm": {
     "name": "#%% md\n"
    }
   },
   "source": [
    "## 4.3.4 Random Graphs\n",
    "\n",
    "The simplest random graph model is the Erdos-Renyi (ER) graph model. It has two parameters:\n",
    "1. `N`: the number of nodes\n",
    "2. `p`: the probability of an edge between two nodes\n",
    "\n",
    "Our goal is to create an ER graph generator as a Python function."
   ]
  },
  {
   "cell_type": "code",
   "execution_count": null,
   "metadata": {
    "pycharm": {
     "name": "#%%\n"
    }
   },
   "outputs": [],
   "source": [
    "def er_graph(N: int, p: float) -> nx.Graph:\n",
    "    \"\"\"\n",
    "    Generate an Erdos-Renyi graph with N nodes and probability p of an edge between any two nodes.\n",
    "\n",
    "    :param N: the number of nodes\n",
    "    :param p: the probability of an edge between two nodes\n",
    "\n",
    "    :return: the generated ER random graph\n",
    "    \"\"\"\n",
    "    from itertools import combinations\n",
    "\n",
    "    from scipy.stats import bernoulli\n",
    "\n",
    "    try:\n",
    "        assert 0 <= p <= 1  # check that p is between 0 and 1\n",
    "    except AssertionError:\n",
    "        raise ValueError(\"p must be between 0 and 1\")\n",
    "\n",
    "    G = nx.Graph()  # create an empty graph\n",
    "    G.add_nodes_from(range(N))  # add N nodes\n",
    "\n",
    "    for node1, node2 in combinations(G.nodes(), 2):\n",
    "        if bernoulli.rvs(p=p):\n",
    "            G.add_edge(node1, node2)\n",
    "\n",
    "    return G  # return the graph"
   ]
  },
  {
   "cell_type": "markdown",
   "metadata": {
    "pycharm": {
     "name": "#%% md\n"
    }
   },
   "source": [
    "Now let us use this function to create a random graph with 10 nodes and probability 0.2 of an edge between any two nodes."
   ]
  },
  {
   "cell_type": "code",
   "execution_count": null,
   "metadata": {
    "pycharm": {
     "name": "#%%\n"
    }
   },
   "outputs": [],
   "source": [
    "plt.figure(figsize=(10, 5))  # create a figure\n",
    "nx.draw(er_graph(N=20, p=0.2), with_labels=True)  # draw the graph\n",
    "plt.show()  # show the plot"
   ]
  },
  {
   "cell_type": "markdown",
   "metadata": {
    "pycharm": {
     "name": "#%% md\n"
    }
   },
   "source": [
    "## 4.3.5 Plotting the Degree Distribution"
   ]
  },
  {
   "cell_type": "code",
   "execution_count": null,
   "metadata": {
    "pycharm": {
     "name": "#%%\n"
    }
   },
   "outputs": [],
   "source": [
    "def plot_degree_distribution(G: nx.Graph) -> None:\n",
    "    \"\"\"\n",
    "    Plot the degree distribution of a graph.\n",
    "\n",
    "    :param G: the graph to plot the degree distribution of\n",
    "    \"\"\"\n",
    "    from matplotlib.pyplot import hist, title, xlabel, ylabel\n",
    "\n",
    "    degree_sequence = [d for n, d in G.degree()]\n",
    "    hist(degree_sequence, histtype=\"step\")  # plot the degree distribution\n",
    "\n",
    "    xlabel(\"Degree $k$\")  # label the x-axis\n",
    "    ylabel(\"$P(K=k)$\")  # label the y-axis\n",
    "    title(\"Degree Distribution\")  # label the title"
   ]
  },
  {
   "cell_type": "markdown",
   "metadata": {
    "pycharm": {
     "name": "#%% md\n"
    }
   },
   "source": [
    "Let's try this function out on the Karate Club graph."
   ]
  },
  {
   "cell_type": "code",
   "execution_count": null,
   "metadata": {
    "pycharm": {
     "name": "#%%\n"
    }
   },
   "outputs": [],
   "source": [
    "plt.figure(figsize=(10, 5))  # create a figure\n",
    "plot_degree_distribution(er_graph(500, 0.08))\n",
    "plt.show()"
   ]
  },
  {
   "cell_type": "markdown",
   "metadata": {
    "pycharm": {
     "name": "#%% md\n"
    }
   },
   "source": [
    "Let's try plotting several functions of the same ER graph parameters and look at the results."
   ]
  },
  {
   "cell_type": "code",
   "execution_count": null,
   "metadata": {
    "pycharm": {
     "name": "#%%\n"
    }
   },
   "outputs": [],
   "source": [
    "plt.figure(figsize=(10, 5))  # create a figure\n",
    "\n",
    "for graph in range(5):\n",
    "    plot_degree_distribution(er_graph(500, 0.08))\n",
    "\n",
    "plt.show()"
   ]
  },
  {
   "cell_type": "code",
   "execution_count": null,
   "metadata": {
    "pycharm": {
     "name": "#%%\n"
    }
   },
   "outputs": [],
   "source": [
    "# Comprehension Check #2\n",
    "plt.figure(figsize=(10, 5))  # create a figure\n",
    "for graph in range(10):\n",
    "    plot_degree_distribution(er_graph(100, 0.03))\n",
    "plt.show()"
   ]
  },
  {
   "cell_type": "code",
   "execution_count": null,
   "metadata": {
    "pycharm": {
     "name": "#%%\n"
    }
   },
   "outputs": [],
   "source": [
    "plt.figure(figsize=(10, 5))  # create a figure\n",
    "for graph in range(10):\n",
    "    plot_degree_distribution(er_graph(100, 0.3))\n",
    "plt.show()"
   ]
  },
  {
   "cell_type": "markdown",
   "metadata": {
    "pycharm": {
     "name": "#%% md\n"
    }
   },
   "source": [
    "## 4.3.6 Descriptive Statistics of Empirical Social Networks\n",
    "\n",
    "An adjacency matrix is a square matrix with ones and zeros on the main diagonal and off-diagonal entries. The adjacency matrix of a graph is the matrix of all the edges in the graph, with each row and column representing nodes.\n",
    "\n",
    "Let's import the adjacency matrices for the relationship networks of two rural villages in India."
   ]
  },
  {
   "cell_type": "code",
   "execution_count": null,
   "metadata": {
    "pycharm": {
     "name": "#%%\n"
    }
   },
   "outputs": [],
   "source": [
    "from numpy import loadtxt\n",
    "\n",
    "A1 = loadtxt(\"adj_allVillageRelationships_vilno_1.csv\", delimiter=\",\")\n",
    "A2 = loadtxt(\"adj_allVillageRelationships_vilno_2.csv\", delimiter=\",\")"
   ]
  },
  {
   "cell_type": "markdown",
   "metadata": {
    "pycharm": {
     "name": "#%% md\n"
    }
   },
   "source": [
    "Let us now convert these adjacency matrices into graph objects using the ``nx.to_networkx_graph()`` method."
   ]
  },
  {
   "cell_type": "code",
   "execution_count": null,
   "metadata": {
    "pycharm": {
     "name": "#%%\n"
    }
   },
   "outputs": [],
   "source": [
    "G1 = nx.to_networkx_graph(A1)\n",
    "G2 = nx.to_networkx_graph(A2)"
   ]
  },
  {
   "cell_type": "code",
   "execution_count": null,
   "metadata": {
    "pycharm": {
     "name": "#%%\n"
    }
   },
   "outputs": [],
   "source": [
    "def basic_net_stats(G: nx.Graph) -> dict:\n",
    "    \"\"\"\n",
    "    Return a list of basic network statistics for a graph.\n",
    "\n",
    "    :param G: the graph to compute the basic network statistics of\n",
    "\n",
    "    :return: a list of basic network statistics\n",
    "    \"\"\"\n",
    "    from numpy import array, mean, std\n",
    "\n",
    "    return {\n",
    "        \"nodes\": G.number_of_nodes(),\n",
    "        \"edges\": G.number_of_edges(),\n",
    "        \"density\": nx.density(G),\n",
    "        \"degrees\": array(list(dict(G.degree()).values())),\n",
    "        \"average degree\": mean(array(list(dict(G.degree()).values()))),\n",
    "        \"standard deviation of degree\": std(list(dict(G.degree()).values())),\n",
    "    }"
   ]
  },
  {
   "cell_type": "code",
   "execution_count": null,
   "metadata": {
    "pycharm": {
     "name": "#%%\n"
    }
   },
   "outputs": [],
   "source": [
    "print(\n",
    "    basic_net_stats(G1)[\"nodes\"],\n",
    "    basic_net_stats(G1)[\"edges\"],\n",
    "    basic_net_stats(G1)[\"density\"],\n",
    ")"
   ]
  },
  {
   "cell_type": "code",
   "execution_count": null,
   "metadata": {
    "pycharm": {
     "name": "#%%\n"
    }
   },
   "outputs": [],
   "source": [
    "print(\n",
    "    basic_net_stats(G2)[\"nodes\"],\n",
    "    basic_net_stats(G2)[\"edges\"],\n",
    "    basic_net_stats(G2)[\"density\"],\n",
    ")"
   ]
  },
  {
   "cell_type": "markdown",
   "metadata": {
    "pycharm": {
     "name": "#%% md\n"
    }
   },
   "source": [
    "Let's plot the degree distribution of the two village networks."
   ]
  },
  {
   "cell_type": "code",
   "execution_count": null,
   "metadata": {
    "pycharm": {
     "name": "#%%\n"
    }
   },
   "outputs": [],
   "source": [
    "plot_degree_distribution(G1)\n",
    "plot_degree_distribution(G2)"
   ]
  },
  {
   "cell_type": "markdown",
   "metadata": {
    "pycharm": {
     "name": "#%% md\n"
    }
   },
   "source": [
    "Here, we can see that many more people have small number of connections and very few people have more than 20 connections in both villages. The distributions are also quite similar between both villages.\n",
    "\n",
    "They are very asymmetric with a long tail, suggesting that an ER model is not appropriate for the village networks, or real life social networks in general."
   ]
  },
  {
   "cell_type": "markdown",
   "metadata": {
    "pycharm": {
     "name": "#%% md\n"
    }
   },
   "source": [
    "## 4.3.7 Finding the Largest Connected Component\n",
    "\n",
    "``nx.connected_component_subgraphs(G)`` returns a generator of subgraphs of the input graph ``G``. Each subgraph is a connected component of ``G``."
   ]
  },
  {
   "cell_type": "code",
   "execution_count": null,
   "metadata": {
    "pycharm": {
     "name": "#%%\n"
    }
   },
   "outputs": [],
   "source": [
    "gen1 = [G1.subgraph(c) for c in nx.connected_components(G1)]\n",
    "gen2 = [G2.subgraph(c) for c in nx.connected_components(G2)]"
   ]
  },
  {
   "cell_type": "markdown",
   "metadata": {
    "pycharm": {
     "name": "#%% md\n"
    }
   },
   "source": [
    "We can use ``len()`` to get the number of nodes in each connected component. We can also use ``max()`` to get the largest connected component."
   ]
  },
  {
   "cell_type": "code",
   "execution_count": null,
   "metadata": {
    "pycharm": {
     "name": "#%%\n"
    }
   },
   "outputs": [],
   "source": [
    "len(max(gen1, key=len))"
   ]
  },
  {
   "cell_type": "code",
   "execution_count": null,
   "metadata": {
    "pycharm": {
     "name": "#%%\n"
    }
   },
   "outputs": [],
   "source": [
    "len(max(gen2, key=len))"
   ]
  },
  {
   "cell_type": "markdown",
   "metadata": {
    "pycharm": {
     "name": "#%% md\n"
    }
   },
   "source": [
    "We see here that the largest connected component of village 1 is 15 nodes larger than the largest connected component of village 2.\n",
    "\n",
    "Let's now find what proportions of nodes in both villages are in the largest connected component."
   ]
  },
  {
   "cell_type": "code",
   "execution_count": null,
   "metadata": {
    "pycharm": {
     "name": "#%%\n"
    }
   },
   "outputs": [],
   "source": [
    "len(max(gen1, key=len)) / G1.number_of_nodes()"
   ]
  },
  {
   "cell_type": "code",
   "execution_count": null,
   "metadata": {
    "pycharm": {
     "name": "#%%\n"
    }
   },
   "outputs": [],
   "source": [
    "len(max(gen2, key=len)) / G2.number_of_nodes()"
   ]
  },
  {
   "cell_type": "code",
   "execution_count": null,
   "metadata": {
    "pycharm": {
     "name": "#%%\n"
    }
   },
   "outputs": [],
   "source": [
    "# Village 1\n",
    "plt.figure(figsize=(10, 10))\n",
    "nx.draw(max(gen1, key=len), with_labels=True)\n",
    "plt.show()"
   ]
  },
  {
   "cell_type": "code",
   "execution_count": null,
   "metadata": {
    "pycharm": {
     "name": "#%%\n"
    }
   },
   "outputs": [],
   "source": [
    "# Village 2\n",
    "plt.figure(figsize=(10, 10))\n",
    "nx.draw(max(gen2, key=len), with_labels=True)\n",
    "plt.show()"
   ]
  },
  {
   "cell_type": "markdown",
   "metadata": {
    "pycharm": {
     "name": "#%% md\n"
    }
   },
   "source": [
    "Notice that the largest connected component of village 1 seems to be homogeneously connected internally, while the largest conencted component of village 2 seems to contain two subcomponents that are connected together. We have ``network communities`` in our village 2 network."
   ]
  }
 ],
 "metadata": {
  "kernelspec": {
   "display_name": "Python 3",
   "language": "python",
   "name": "python3"
  },
  "language_info": {
   "codemirror_mode": {
    "name": "ipython",
    "version": 2
   },
   "file_extension": ".py",
   "mimetype": "text/x-python",
   "name": "python",
   "nbconvert_exporter": "python",
   "pygments_lexer": "ipython2",
   "version": "2.7.6"
  }
 },
 "nbformat": 4,
 "nbformat_minor": 0
}
