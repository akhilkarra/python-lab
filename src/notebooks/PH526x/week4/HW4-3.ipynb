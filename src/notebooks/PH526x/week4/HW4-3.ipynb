{
 "cells": [
  {
   "cell_type": "markdown",
   "metadata": {
    "pycharm": {
     "name": "#%% md\n"
    }
   },
   "source": [
    "# Using Python for Research Homework: Week 4, Case Study 3\n",
    "\n",
    "Homophily is a property of networks.  Homophily occurs when nodes that are neighbors in a network also share a characteristic more often than nodes that are not network neighbors.  In this case study, we will investigate homophily of several characteristics of individuals connected in social networks in rural India."
   ]
  },
  {
   "cell_type": "markdown",
   "metadata": {
    "pycharm": {
     "name": "#%% md\n"
    }
   },
   "source": [
    "### Exercise 1\n",
    "In Exercise 1, we will calculate the chance homophily for an arbitrary characteristic. Homophily is the proportion of edges in the network whose constituent nodes share that characteristic.\n",
    "\n",
    "How much homophily do we expect by chance? If characteristics are distributed completely randomly, the probability that two nodes \\(x\\) and \\(y\\) share characteristic \\(a\\) is the probability both nodes have characteristic \\(a\\) , which is the marginal probability of \\(a\\) squared. The total probability that nodes \\(x\\) and \\(y\\) share their characteristic is therefore the sum of the square of the marginal probabilities of each characteristic in the network.\n",
    "\n",
    "<strong>Instructions</strong>\n",
    "<ul><li>Create a function <code>marginal_prob</code> that takes a dictionary <code>chars</code> with personal IDs as keys and characteristics as values; it should return a dictionary with characteristics as keys and their marginal probability (frequency of occurence of a characteristic divided by the sum of frequencies of each characteristic) as values.</li>\n",
    "<li>Create a function <code>chance_homophily(chars)</code> that takes a dictionary <code>chars</code> defined as above and computes the chance homophily (homophily due to chance alone) for that characteristic.</li>\n",
    "<li>A sample of three peoples' favorite colors is given in <code>favorite_colors</code>. Use your function to compute the chance homophily in this group, and store it as <code>color_homophily</code>.</li>\n",
    "<li>Print <code>color_homophily</code>.</li></ul>"
   ]
  },
  {
   "cell_type": "code",
   "execution_count": null,
   "metadata": {
    "pycharm": {
     "name": "#%%\n"
    }
   },
   "outputs": [],
   "source": [
    "def marginal_prob(chars: dict[str, str]) -> dict[str, float]:\n",
    "    \"\"\"\n",
    "    Compute the marginal probability of each characteristic in a network.\n",
    "\n",
    "    :param chars: dictionary with personal IDs as keys and characteristics as values\n",
    "    :return: dictionary with characteristics as keys and their marginal probability (frequency of occurrence of a characteristic divided by the sum of frequencies of each characteristic) as values\n",
    "    \"\"\"\n",
    "    from collections import Counter\n",
    "\n",
    "    chars_count = Counter(chars.values())\n",
    "\n",
    "    marginal_prob_keys = chars.values()\n",
    "    marginal_prob_values = [\n",
    "        prob / sum(chars_count.values()) for prob in chars_count.values()\n",
    "    ]\n",
    "\n",
    "    return dict(zip(marginal_prob_keys, marginal_prob_values))\n",
    "\n",
    "\n",
    "def chance_homophily(chars: dict[str, str]) -> float:\n",
    "    \"\"\"\n",
    "    Compute the chance homophily of a characteristic in a network.\n",
    "\n",
    "    :param chars: dictionary with personal IDs as keys and characteristics as values\n",
    "    :return: chance homophily of the characteristic\n",
    "    \"\"\"\n",
    "    return sum(\n",
    "        [marginal_prob(chars)[char] ** 2 for char in marginal_prob(chars).keys()]\n",
    "    )\n",
    "\n",
    "\n",
    "favorite_colors = {\"ankit\": \"red\", \"xiaoyu\": \"blue\", \"mary\": \"blue\"}\n",
    "\n",
    "color_homophily = chance_homophily(favorite_colors)\n",
    "print(color_homophily)"
   ]
  },
  {
   "cell_type": "markdown",
   "metadata": {
    "pycharm": {
     "name": "#%% md\n"
    }
   },
   "source": [
    "### Exercise 2\n",
    "\n",
    "In the remaining exercises, we will calculate actual homophily in these village and compare the obtained values to those obtained by chance. In this exercise, we subset the data into individual villages and store them.\n",
    "\n",
    "#### Instructions \n",
    "\n",
    "- `individual_characteristics.dta` contains several characteristics for each individual in the dataset such as age, religion, and caste. Use the `pandas` library to read in and store these characteristics as a dataframe called `df`.\n",
    "- Store separate datasets for individuals belonging to Villages 1 and 2 as `df1` and `df2`, respectively.\n",
    "- Note that some attributes may be missing for some individuals. In this case study, we will ignore rows of data where some column information is missing.\n",
    "- Use the head method to display the first few entries of `df1`."
   ]
  },
  {
   "cell_type": "code",
   "execution_count": null,
   "metadata": {
    "pycharm": {
     "name": "#%%\n"
    }
   },
   "outputs": [],
   "source": [
    "import pandas as pd\n",
    "\n",
    "df = pd.read_csv(\n",
    "    \"https://courses.edx.org/asset-v1:HarvardX+PH526x+2T2019+type@asset+block@individual_characteristics.csv\",\n",
    "    low_memory=False,\n",
    "    index_col=0,\n",
    ")"
   ]
  },
  {
   "cell_type": "code",
   "execution_count": null,
   "metadata": {
    "pycharm": {
     "name": "#%%\n"
    }
   },
   "outputs": [],
   "source": [
    "df1 = df[df[\"village\"] == 1]\n",
    "df2 = df[df[\"village\"] == 2]\n",
    "\n",
    "df2[df2.pid == 202802].caste.values[0]"
   ]
  },
  {
   "cell_type": "markdown",
   "metadata": {
    "pycharm": {
     "name": "#%% md\n"
    }
   },
   "source": [
    "### Exercise 3 \n",
    "\n",
    "In this exercise, we define a few dictionaries that enable us to look up the sex, caste, and religion of members of each village by personal ID. For Villages 1 and 2, their personal IDs are stored as `pid`.\n",
    "\n",
    "#### Instructions \n",
    "- Define dictionaries with personal IDs as keys and a given covariate for that individual as values. Complete this for the sex, caste, and religion covariates, for Villages 1 and 2.\n",
    "- For Village 1, store these dictionaries into variables named `sex1`, `caste1`, and `religion1`.\n",
    "- For Village 2, store these dictionaries into variables named `sex2`, `caste2`, and `religion2`."
   ]
  },
  {
   "cell_type": "code",
   "execution_count": null,
   "metadata": {
    "pycharm": {
     "name": "#%%\n"
    }
   },
   "outputs": [],
   "source": [
    "sex1 = {\n",
    "    pid: \"1\" if df1[df1.pid == pid].resp_gend.values[0] == 1 else \"F\"\n",
    "    for pid in df1.pid.values\n",
    "}\n",
    "caste1 = {pid: df1[df1.pid == pid].caste.values[0] for pid in df1.pid.values}\n",
    "religion1 = {pid: df1[df1.pid == pid].religion.values[0] for pid in df1.pid.values}\n",
    "\n",
    "sex2 = {\n",
    "    pid: \"1\" if int(df2[df2.pid == pid].resp_gend) == 1 else \"F\"\n",
    "    for pid in df2.pid.values\n",
    "}\n",
    "caste2 = {pid: df2[df2.pid == pid].caste.values[0] for pid in df2.pid.values}\n",
    "religion2 = {pid: df2[df2.pid == pid].religion.values[0] for pid in df2.pid.values}\n",
    "\n",
    "caste2[202802]"
   ]
  },
  {
   "cell_type": "markdown",
   "metadata": {
    "pycharm": {
     "name": "#%% md\n"
    }
   },
   "source": [
    "### Exercise 4\n",
    "\n",
    "In this exercise, we will print the chance homophily of several characteristics of Villages 1 and 2. \n",
    "\n",
    "#### Instructions \n",
    "-  Use `chance_homophily` to compute the chance homophily for sex, caste, and religion In Villages 1 and 2. Is the chance homophily for any attribute very high for either village?"
   ]
  },
  {
   "cell_type": "code",
   "execution_count": null,
   "metadata": {
    "pycharm": {
     "name": "#%%\n"
    }
   },
   "outputs": [],
   "source": [
    "# Village 1\n",
    "print(chance_homophily(sex1))\n",
    "print(chance_homophily(caste1))\n",
    "print(chance_homophily(religion1))"
   ]
  },
  {
   "cell_type": "code",
   "execution_count": null,
   "metadata": {
    "pycharm": {
     "name": "#%%\n"
    }
   },
   "outputs": [],
   "source": [
    "# Village 2\n",
    "print(chance_homophily(sex2))\n",
    "print(chance_homophily(caste2))\n",
    "print(chance_homophily(religion2))"
   ]
  },
  {
   "cell_type": "markdown",
   "metadata": {
    "pycharm": {
     "name": "#%% md\n"
    }
   },
   "source": [
    "### Exercise 5\n",
    "\n",
    "In this exercise, we will create a function that computes the observed homophily given a village and characteristic.\n",
    "\n",
    "#### Instructions \n",
    "- Complete the function `homophily()`, which takes a network `G`, a dictionary of node characteristics `chars`, and node IDs `IDs`. For each node pair, determine whether a tie exists between them, as well as whether they share a characteristic. The total count of these is `num_ties` and `num_same_ties`, respectively, and their ratio is the homophily of chars in `G`. Complete the function by choosing where to increment `num_same_ties` and `num_ties`."
   ]
  },
  {
   "cell_type": "code",
   "execution_count": null,
   "metadata": {
    "pycharm": {
     "name": "#%%\n"
    }
   },
   "outputs": [],
   "source": [
    "def homophily(G, chars, IDs):\n",
    "    \"\"\"\n",
    "    Given a network G, a dict of characteristics chars for node IDs,\n",
    "    and dict of node IDs for each node in the network,\n",
    "    find the homophily of the network.\n",
    "    \"\"\"\n",
    "    num_same_ties = 0\n",
    "    num_ties = 0\n",
    "    for n1, n2 in G.edges():\n",
    "        if IDs[n1] in chars and IDs[n2] in chars:\n",
    "            if G.has_edge(n1, n2):\n",
    "                num_ties += 1\n",
    "                if chars[IDs[n1]] == chars[IDs[n2]]:\n",
    "                    num_same_ties += 1\n",
    "    return num_same_ties / num_ties"
   ]
  },
  {
   "cell_type": "markdown",
   "metadata": {
    "pycharm": {
     "name": "#%% md\n"
    }
   },
   "source": [
    "### Exercise 6\n",
    "\n",
    "In this exercise, we will obtain the personal IDs for Villages 1 and 2. These will be used in the next exercise to calculate homophily for these villages.\n",
    "\n",
    "#### Instructions \n",
    "- In this dataset, each individual has a personal ID, or PID, stored in `key_vilno_1.csv` and `key_vilno_2.csv` for villages 1 and 2, respectively. `data_filepath1` and `data_filepath2` contain the URLs to the datasets used in this exercise. Use `pd.read_csv` to read in and store `key_vilno_1.csv` and `key_vilno_2.csv` as `pid1` and `pid2` respectively. "
   ]
  },
  {
   "cell_type": "code",
   "execution_count": null,
   "metadata": {
    "pycharm": {
     "name": "#%%\n"
    }
   },
   "outputs": [],
   "source": [
    "data_filepath1 = \"https://courses.edx.org/asset-v1:HarvardX+PH526x+2T2019+type@asset+block@key_vilno_1.csv\"\n",
    "data_filepath2 = \"https://courses.edx.org/asset-v1:HarvardX+PH526x+2T2019+type@asset+block@key_vilno_2.csv\"\n",
    "\n",
    "pid1 = pd.read_csv(data_filepath1)\n",
    "pid2 = pd.read_csv(data_filepath2)"
   ]
  },
  {
   "cell_type": "markdown",
   "metadata": {
    "pycharm": {
     "name": "#%% md\n"
    }
   },
   "source": [
    "### Exercise 7\n",
    "\n",
    "In this exercise, we will compute the homophily of several network characteristics for Villages 1 and 2 and compare them to homophily due to chance alone. The networks for these villages have been stored as networkx graph objects `G1` and `G2`.\n",
    "\n",
    "#### Instructions \n",
    "\n",
    "- Use your `homophily()` function to compute the observed homophily for sex, caste, and religion in Villages 1 and 2. Print all six values.\n",
    "- Use the `chance_homophily()` to compare these values to chance homophily. Are these values higher or lower than that expected by chance?"
   ]
  },
  {
   "cell_type": "code",
   "execution_count": null,
   "metadata": {
    "pycharm": {
     "name": "#%%\n"
    }
   },
   "outputs": [],
   "source": [
    "import networkx as nx\n",
    "import numpy as np\n",
    "\n",
    "A1 = np.array(\n",
    "    pd.read_csv(\n",
    "        \"https://courses.edx.org/asset-v1:HarvardX+PH526x+2T2019+type@asset+block@adj_allVillageRelationships_vilno1.csv\",\n",
    "        index_col=0,\n",
    "    )\n",
    ")\n",
    "A2 = np.array(\n",
    "    pd.read_csv(\n",
    "        \"https://courses.edx.org/asset-v1:HarvardX+PH526x+2T2019+type@asset+block@adj_allVillageRelationships_vilno2.csv\",\n",
    "        index_col=0,\n",
    "    )\n",
    ")\n",
    "G1 = nx.to_networkx_graph(A1)\n",
    "G2 = nx.to_networkx_graph(A2)\n",
    "\n",
    "pid1 = pd.read_csv(data_filepath1, dtype=int)[\"0\"].to_dict()\n",
    "pid2 = pd.read_csv(data_filepath2, dtype=int)[\"0\"].to_dict()\n",
    "\n",
    "print(\"Village 1:\")\n",
    "print(\"Sex:\", homophily(G1, sex1, pid1))\n",
    "print(\"Caste:\", homophily(G1, caste1, pid1))\n",
    "print(\"Religion:\", homophily(G1, religion1, pid1))\n",
    "\n",
    "print(\"\\nVillage 2:\")\n",
    "print(\"Sex:\", homophily(G2, sex2, pid2))\n",
    "print(\"Caste:\", homophily(G2, caste2, pid2))\n",
    "print(\"Religion:\", homophily(G2, religion2, pid2))"
   ]
  }
 ],
 "metadata": {
  "kernelspec": {
   "display_name": "Python 3",
   "language": "python",
   "name": "python3"
  },
  "language_info": {
   "codemirror_mode": {
    "name": "ipython",
    "version": 3
   },
   "file_extension": ".py",
   "mimetype": "text/x-python",
   "name": "python",
   "nbconvert_exporter": "python",
   "pygments_lexer": "ipython3",
   "version": "3.7.7"
  },
  "toc": {
   "base_numbering": 1,
   "nav_menu": {},
   "number_sections": false,
   "sideBar": true,
   "skip_h1_title": false,
   "title_cell": "Table of Contents",
   "title_sidebar": "Contents",
   "toc_cell": false,
   "toc_position": {},
   "toc_section_display": true,
   "toc_window_display": true
  }
 },
 "nbformat": 4,
 "nbformat_minor": 2
}
