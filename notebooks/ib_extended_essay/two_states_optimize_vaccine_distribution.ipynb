{
 "cells": [
  {
   "cell_type": "code",
   "execution_count": 2,
   "id": "fd4b80f6-bbdc-4be1-917f-b24017f3d30b",
   "metadata": {},
   "outputs": [],
   "source": [
    "import pandas as pd\n",
    "import numpy as np\n",
    "from ortools.linear_solver import pywraplp"
   ]
  },
  {
   "cell_type": "code",
   "execution_count": 7,
   "id": "b02f6c48-5fe7-46a4-a370-d3dcdbce2237",
   "metadata": {},
   "outputs": [],
   "source": [
    "# Read all the US state names with codes\n",
    "def state_names_data() -> pd.core.frame.DataFrame:\n",
    "    states_and_codes_filename = 'data/states.csv'\n",
    "    states_df = pd.read_csv(states_and_codes_filename)[[\"State\",\"Code\"]]\n",
    "    states_df = states_df.sort_values(by=['State'])\n",
    "    return states_df[states_df[\"State\"].isin([\"Alaska\", \"New York\"])]\n",
    "\n",
    "# Test case for states_names_data()\n",
    "assert state_names_data().shape == (2, 2)"
   ]
  },
  {
   "cell_type": "code",
   "execution_count": 8,
   "id": "3661b41b-c216-486d-80ab-01d4961903ae",
   "metadata": {},
   "outputs": [],
   "source": [
    "# Read the resident populations data for all states\n",
    "def state_populations_data() -> pd.core.frame.DataFrame:\n",
    "    state_populations_filename = 'data/population-nst-est2020.xlsx'\n",
    "    state_populations_sheetname = 'NST01'\n",
    "    state_populations_df = pd.read_excel(state_populations_filename, sheet_name=state_populations_sheetname, header=None, skiprows=9, skipfooter=8)\n",
    "    state_populations_df = state_populations_df[[0,14]].replace(to_replace=r'^\\.', value='', regex=True).rename(columns={0:\"State\", 14:\"Population\"})\n",
    "    state_populations_df = pd.merge(state_populations_df, state_names_data(), left_on=\"State\", right_on=\"State\", how=\"inner\")\n",
    "    state_populations_df = state_populations_df.sort_values(by=['State'])\n",
    "    return state_populations_df[state_populations_df[\"State\"].isin([\"Alaska\", \"New York\"])]\n",
    "\n",
    "assert state_populations_data().shape == (2, 3)"
   ]
  },
  {
   "cell_type": "code",
   "execution_count": 9,
   "id": "14021251-e253-4eda-be6d-5e1f2cc76f74",
   "metadata": {},
   "outputs": [],
   "source": [
    "# Read the COVID-19 cases, deaths, and testing data for all states\n",
    "def c_infection_rate_data() -> pd.core.frame.DataFrame:\n",
    "    infection_rate_filename = 'data/united_states_covid19_cases_deaths_and_testing_by_state.csv'\n",
    "    infection_rate_df = pd.read_csv(infection_rate_filename, header=2)[\n",
    "        [\"State/Territory\", \"Cases in Last 7 Days\"]]\n",
    "\n",
    "    # Counts for New York City and New York State are shown separately for case and death metrics\n",
    "    ny_state_cases = infection_rate_df[infection_rate_df[\"State/Territory\"] == \"New York*\"]\n",
    "    nyc_cases = infection_rate_df[infection_rate_df[\"State/Territory\"] == \"New York City\"]\n",
    "    ny_cases = float(ny_state_cases[\"Cases in Last 7 Days\"]) + float(\n",
    "        nyc_cases[\"Cases in Last 7 Days\"])\n",
    "\n",
    "    # Add row for NY\n",
    "    infection_rate_df = infection_rate_df.append(pd.DataFrame([[\"New York\", ny_cases]],\n",
    "                                                              columns=[\"State/Territory\",\n",
    "                                                                       \"Cases in Last 7 Days\"]))\n",
    "\n",
    "    infection_rate_df = pd.merge(infection_rate_df, state_names_data(), left_on=\"State/Territory\", right_on=\"State\",\n",
    "             how='inner')[[\"State\", \"Cases in Last 7 Days\", \"Code\"]].sort_values(by=['State'])\n",
    "    \n",
    "    infection_rate_df[\"Infection_Rate_Percentage\"] = infection_rate_df[\"Cases in Last 7 Days\"] / infection_rate_df[\"Cases in Last 7 Days\"].sum()\n",
    "    \n",
    "    return infection_rate_df[infection_rate_df[\"State\"].isin([\"Alaska\", \"New York\"])]\n",
    "\n",
    "assert c_infection_rate_data().shape == (2, 4)"
   ]
  },
  {
   "cell_type": "code",
   "execution_count": 10,
   "id": "97b68b62-bbc6-4958-b44e-4a6f8ebd5f4a",
   "metadata": {},
   "outputs": [],
   "source": [
    "# Read the vaccinated and unvaccinated population for all states\n",
    "def p_unvaccinated_population_data() -> pd.core.frame.DataFrame:\n",
    "    unvax_population_filename = 'data/covid19_vaccinations_in_the_united_states.csv'\n",
    "    unvax_population_df = pd.read_csv(unvax_population_filename, header=2)[[\"State/Territory/Federal Entity\", \"People with at least One Dose by State of Residence\"]]\n",
    "    unvax_population_df = unvax_population_df.replace(to_replace=r'^New York State$', value='New York', regex=True)\n",
    "    unvax_population_df = pd.merge(unvax_population_df, state_populations_data(), left_on=\"State/Territory/Federal Entity\", right_on=\"State\", how=\"inner\")\n",
    "    unvax_population_df = unvax_population_df.rename(columns={\"People with at least One Dose by State of Residence\":\"Vax_Population\"})\n",
    "    unvax_population_df[\"Unvax_Population\"] = unvax_population_df[\"Population\"] - unvax_population_df[\"Vax_Population\"]\n",
    "    unvax_population_df[\"Unvax_Population_Percentage\"] = unvax_population_df[\"Unvax_Population\"] / unvax_population_df[\"Unvax_Population\"].sum()\n",
    "    unvax_population_df = unvax_population_df[[\"State\", \"Population\", \"Vax_Population\", \"Unvax_Population\", \"Unvax_Population_Percentage\"]].sort_values(by=['State'])\n",
    "    return unvax_population_df[unvax_population_df[\"State\"].isin([\"Alaska\", \"New York\"])]\n",
    "\n",
    "assert p_unvaccinated_population_data().shape == (2, 5)"
   ]
  },
  {
   "cell_type": "code",
   "execution_count": 12,
   "id": "42368aa8-3658-4150-92ed-71a4df7dd39e",
   "metadata": {},
   "outputs": [],
   "source": [
    "# Read the 7-day average vaccination rates / 100k people for each state\n",
    "def u_vaccination_rate_data(index: int) -> pd.core.frame.DataFrame:\n",
    "    vaccination_rate_filename = f'data/trends_in_number_of_covid19_vaccinations_in_the_us ({index}).csv'\n",
    "    vaccination_rate_df = pd.read_csv(vaccination_rate_filename, header=2)\n",
    "    vaccination_rate_df = vaccination_rate_df[vaccination_rate_df[\"Date Type\"] == \"Admin\"]\n",
    "    vaccination_rate_df = vaccination_rate_df[[\"Date\", \"Location\", \"7-Day Avg Total Doses Daily\"]]\n",
    "    return vaccination_rate_df\n",
    "\n",
    "\n",
    "def u_vaccination_data() -> pd.core.frame.DataFrame:\n",
    "    vaccination_df = u_vaccination_rate_data(1)\n",
    "\n",
    "    for i in range(2, 52):\n",
    "        vaccination_df = vaccination_df.append(u_vaccination_rate_data(i))\n",
    "\n",
    "    vaccination_df = vaccination_df[vaccination_df[\"Date\"] == vaccination_df[\"Date\"].max()]\n",
    "\n",
    "    vaccination_df = pd.merge(vaccination_df, state_populations_data(), left_on=\"Location\",\n",
    "                              right_on=\"Code\", how=\"inner\")\n",
    "\n",
    "#     vaccination_df[\"7_Day_Daily_Vaccination_Rate\"] = vaccination_df[\"7-Day Avg Total Doses Daily\"] / vaccination_df[\"Population\"]\n",
    "\n",
    "#     vaccination_df[\"7_Day_Daily_Vaccination_Rate_Percentage\"] = vaccination_df[\n",
    "#                                                                     \"7_Day_Daily_Vaccination_Rate\"] * 100 / \\\n",
    "#                                                                 vaccination_df[\n",
    "#                                                                     \"7_Day_Daily_Vaccination_Rate\"].sum()\n",
    "    \n",
    "#     vaccination_df[\"7_Day_Daily_Vaccination_Rate_Reciprocal\"] = 1 / vaccination_df[\"7_Day_Daily_Vaccination_Rate\"]\n",
    "\n",
    "    vaccination_df = vaccination_df[[\"State\", \"Code\", \"7-Day Avg Total Doses Daily\"]].sort_values(by=['State'])\n",
    "\n",
    "    return vaccination_df[vaccination_df[\"State\"].isin([\"Alaska\", \"New York\"])]\n",
    "\n",
    "\n",
    "assert u_vaccination_data().shape == (2, 3)"
   ]
  },
  {
   "cell_type": "code",
   "execution_count": 13,
   "id": "aa156c28-97e1-4257-a2fd-22474ac2a5eb",
   "metadata": {},
   "outputs": [],
   "source": [
    "# define the constraints\n",
    "\n",
    "vT = 1000 # Total number of vaccines\n"
   ]
  },
  {
   "cell_type": "code",
   "execution_count": 14,
   "id": "f6e96a4a-7f49-484c-9cfb-4de34d704e45",
   "metadata": {},
   "outputs": [],
   "source": [
    "def create_constraints_coeffs() -> np.ndarray:\n",
    "    upper_bound_coefficients = np.identity(2)\n",
    "    lower_bound_coefficients = np.diag(np.ones(2)*-1)\n",
    "    total_bound_coefficients = np.array([np.ones(2)])\n",
    "\n",
    "    upper_and_lower_bounds = np.concatenate((upper_bound_coefficients, lower_bound_coefficients), axis=0)\n",
    "\n",
    "    return np.concatenate((total_bound_coefficients, upper_and_lower_bounds), axis=0)\n",
    "\n",
    "assert create_constraints_coeffs().shape == (5, 2)"
   ]
  },
  {
   "cell_type": "code",
   "execution_count": 15,
   "id": "d5be7e2a-0997-47d5-9116-08b798c4cb29",
   "metadata": {},
   "outputs": [],
   "source": [
    "def create_bounds_df() -> pd.core.frame.DataFrame:\n",
    "    p_unvaccinated_population_df = p_unvaccinated_population_data()\n",
    "    p_unvaccinated_population_df[\"Vaccine_Distribution_By_Unvax_Population\"] = (p_unvaccinated_population_df[\"Unvax_Population_Percentage\"] * vT).astype('int64')\n",
    "    p_unvaccinated_population_df = p_unvaccinated_population_df[[\"State\", \"Vaccine_Distribution_By_Unvax_Population\"]]\n",
    "\n",
    "    c_infection_data_df = c_infection_rate_data()\n",
    "    c_infection_data_df[\"Vaccine_Distribution_By_Infection_Rate\"] = (c_infection_data_df[\"Infection_Rate_Percentage\"] * vT).astype('int64')\n",
    "    c_infection_data_df = c_infection_data_df[[\"State\", \"Vaccine_Distribution_By_Infection_Rate\"]]\n",
    "\n",
    "    return pd.merge(p_unvaccinated_population_df, c_infection_data_df, left_on=\"State\", right_on=\"State\", how=\"inner\")\n",
    "\n",
    "def create_bounds() -> np.ndarray:\n",
    "    bounds_df = create_bounds_df()\n",
    "    \n",
    "    bounds_df[\"Upper_Bound\"] = bounds_df[[\"Vaccine_Distribution_By_Unvax_Population\", \"Vaccine_Distribution_By_Infection_Rate\"]].max(axis=1)\n",
    "    bounds_df[\"Lower_Bound\"] = bounds_df[[\"Vaccine_Distribution_By_Unvax_Population\", \"Vaccine_Distribution_By_Infection_Rate\"]].min(axis=1) * -1\n",
    "    bounds = np.ones(1) * vT\n",
    "    bounds = np.concatenate((bounds, bounds_df[\"Upper_Bound\"].to_numpy().transpose()), axis=0)\n",
    "\n",
    "    return np.concatenate((bounds, bounds_df[\"Lower_Bound\"].to_numpy().transpose()), axis=0)\n",
    "\n",
    "assert create_bounds().shape == (5,)"
   ]
  },
  {
   "cell_type": "code",
   "execution_count": 16,
   "id": "a389df70-9e32-4453-8dac-72c399d81708",
   "metadata": {},
   "outputs": [],
   "source": [
    "def create_obj_coeffs() -> np.ndarray:\n",
    "    return u_vaccination_data()[\"7-Day Avg Total Doses Daily\"].to_numpy().transpose()\n",
    "\n",
    "assert create_obj_coeffs().shape == (2,)"
   ]
  },
  {
   "cell_type": "code",
   "execution_count": 17,
   "id": "e67bf0a1-6e17-4d42-a5d9-791ba6a16730",
   "metadata": {},
   "outputs": [],
   "source": [
    "def create_data_model():\n",
    "    \"\"\"Stores the data for the problem.\"\"\"\n",
    "    data = {}\n",
    "    data['constraint_coeffs'] = create_constraints_coeffs()\n",
    "    data['bounds'] = create_bounds()\n",
    "    data['obj_coeffs'] = create_obj_coeffs()\n",
    "    data['num_vars'] = 2\n",
    "    data['num_constraints'] = 5\n",
    "    return data\n",
    "\n",
    "# def create_data_model():\n",
    "#     \"\"\"Stores the data for the problem.\"\"\"\n",
    "#     data = {}\n",
    "#     data['constraint_coeffs'] = [\n",
    "#         [1, 1], \n",
    "#         [1, 0],\n",
    "#         [0, 1],\n",
    "#         [-1, -0],\n",
    "#         [-0, -1]\n",
    "#     ]\n",
    "#     data['bounds'] = [100000,  73048.0, 94908.0, -5091.0, -26951.0]\n",
    "#     data['obj_coeffs'] = [ 801 * 100000 / 731338, 34831 * 100000 / 19299981 ]\n",
    "#     data['num_vars'] = 2\n",
    "#     data['num_constraints'] = 5\n",
    "#     return data"
   ]
  },
  {
   "cell_type": "code",
   "execution_count": 18,
   "id": "6329b411-0222-45d7-a784-6e6e9bc3c09c",
   "metadata": {},
   "outputs": [
    {
     "name": "stdout",
     "output_type": "stream",
     "text": [
      "Number of variables = 2\n"
     ]
    }
   ],
   "source": [
    "data = create_data_model()\n",
    "\n",
    "# Create the mip solver with the SCIP backend.\n",
    "solver = pywraplp.Solver.CreateSolver('SCIP')\n",
    "\n",
    "infinity = solver.infinity()\n",
    "x = {}\n",
    "for j in range(data['num_vars']):\n",
    "    x[j] = solver.IntVar(0, infinity, 'x[%i]' % j)\n",
    "print('Number of variables =', solver.NumVariables())"
   ]
  },
  {
   "cell_type": "code",
   "execution_count": 19,
   "id": "02cec40c-d742-4e06-8b69-c7f93331bcee",
   "metadata": {},
   "outputs": [],
   "source": [
    "# for i in range(data['num_constraints']):\n",
    "#     constraint = solver.RowConstraint(0, data['bounds'][i], '')\n",
    "#     for j in range(data['num_vars']):\n",
    "#         constraint.SetCoefficient(x[j], data['constraint_coeffs'][i][j])\n",
    "# print('Number of constraints =', solver.NumConstraints())\n",
    "# In Python, you can also set the constraints as follows.\n",
    "for i in range(data['num_constraints']):\n",
    " constraint_expr = \\\n",
    "[data['constraint_coeffs'][i][j] * x[j] for j in range(data['num_vars'])]\n",
    " solver.Add(sum(constraint_expr) <= data['bounds'][i])"
   ]
  },
  {
   "cell_type": "code",
   "execution_count": 20,
   "id": "6fd8d99e-4550-413c-88b3-34aaf83103bf",
   "metadata": {},
   "outputs": [],
   "source": [
    "# objective = solver.Objective()\n",
    "# for j in range(data['num_vars']):\n",
    "#     objective.SetCoefficient(x[j], data['obj_coeffs'][j])\n",
    "# objective.SetMaximization()\n",
    "# In Python, you can also set the objective as follows.\n",
    "obj_expr = [data['obj_coeffs'][j] * x[j] for j in range(data['num_vars'])]\n",
    "solver.Maximize(solver.Sum(obj_expr))"
   ]
  },
  {
   "cell_type": "code",
   "execution_count": 21,
   "id": "3145fd35-0ac4-4049-a2a8-99485eb7d331",
   "metadata": {},
   "outputs": [],
   "source": [
    "status = solver.Solve()"
   ]
  },
  {
   "cell_type": "code",
   "execution_count": 22,
   "id": "8a2339b7-2b79-4283-a4f3-fd1b5441e1f4",
   "metadata": {
    "tags": []
   },
   "outputs": [
    {
     "name": "stdout",
     "output_type": "stream",
     "text": [
      "Objective value = 33061440.0\n",
      "x[0]  =  52.0\n",
      "x[1]  =  948.0\n",
      "\n",
      "Total = 1000.0\n",
      "Problem solved in 3683.000000 milliseconds\n",
      "Problem solved in 0 iterations\n",
      "Problem solved in 1 branch-and-bound nodes\n"
     ]
    }
   ],
   "source": [
    "if status == pywraplp.Solver.OPTIMAL:\n",
    "    print('Objective value =', solver.Objective().Value())\n",
    "    total = 0\n",
    "    for j in range(data['num_vars']):\n",
    "        print(x[j].name(), ' = ', x[j].solution_value())\n",
    "        total += x[j].solution_value()\n",
    "    print()\n",
    "    print('Total =', total)\n",
    "    print('Problem solved in %f milliseconds' % solver.wall_time())\n",
    "    print('Problem solved in %d iterations' % solver.iterations())\n",
    "    print('Problem solved in %d branch-and-bound nodes' % solver.nodes())\n",
    "else:\n",
    "    print('The problem does not have an optimal solution.')"
   ]
  },
  {
   "cell_type": "code",
   "execution_count": 23,
   "id": "b0f3062f-6ac5-4298-8069-7b81b8399ed9",
   "metadata": {},
   "outputs": [],
   "source": [
    "# print(unvaccinated_population_data())\n",
    "# print(infection_rate_data())\n",
    "\n",
    "results_df = pd.merge(p_unvaccinated_population_data()[[\"State\", \"Population\", \"Vax_Population\", \"Unvax_Population\"]], c_infection_rate_data()[[\"State\", \"Cases in Last 7 Days\"]], left_on=\"State\", right_on=\"State\", how=\"inner\")\n",
    "\n",
    "\n",
    "# print(vaccination_data())\n",
    "\n",
    "results_df = pd.merge(results_df, u_vaccination_data()[[\"State\", \"7-Day Avg Total Doses Daily\"]], on=\"State\", how=\"inner\")\n",
    "\n",
    "results_df = pd.merge(results_df, create_bounds_df(), on=\"State\", how=\"inner\")\n",
    "\n",
    "solutions_array = np.array(list(map(lambda y: y.solution_value(), list(x.values()))))\n",
    "\n",
    "results_df[\"Optimal_Distribution\"] = solutions_array\n",
    "\n",
    "results_df.to_csv('results.csv', index=False)"
   ]
  },
  {
   "cell_type": "code",
   "execution_count": 24,
   "id": "5a78714c-5185-48c4-aea4-f4437e933d1e",
   "metadata": {},
   "outputs": [
    {
     "name": "stdout",
     "output_type": "stream",
     "text": [
      " Generated by MPModelProtoExporter\n",
      "   Name             : \n",
      "   Format           : Free\n",
      "   Constraints      : 5\n",
      "   Variables        : 2\n",
      "     Binary         : 0\n",
      "     Integer        : 2\n",
      "     Continuous     : 0\n",
      "Maximize\n",
      " Obj: +801 x[0] +34831 x[1] \n",
      "Subject to\n",
      " auto_c_000000000: +1 x[0] +1 x[1]  <= 1000\n",
      " auto_c_000000001: +1 x[0]  <= 105\n",
      " auto_c_000000002: +1 x[1]  <= 948\n",
      " auto_c_000000003: -1 x[0]  <= -51\n",
      " auto_c_000000004: -1 x[1]  <= -894\n",
      "Bounds\n",
      " 0 <= x[0] <= inf\n",
      " 0 <= x[1] <= inf\n",
      "Generals\n",
      " x[0]\n",
      " x[1]\n",
      "End\n",
      "\n"
     ]
    }
   ],
   "source": [
    "print(solver.ExportModelAsLpFormat(False).replace('\\\\', '').replace(',_', ','), sep='\\n')"
   ]
  },
  {
   "cell_type": "code",
   "execution_count": null,
   "id": "2b440a78-b962-4721-98a5-0573304bd09d",
   "metadata": {},
   "outputs": [],
   "source": []
  },
  {
   "cell_type": "code",
   "execution_count": null,
   "id": "54e5c04f-3a13-4cb8-b082-1159aa49370d",
   "metadata": {},
   "outputs": [],
   "source": []
  }
 ],
 "metadata": {
  "kernelspec": {
   "display_name": "Python 3",
   "language": "python",
   "name": "python3"
  },
  "language_info": {
   "codemirror_mode": {
    "name": "ipython",
    "version": 3
   },
   "file_extension": ".py",
   "mimetype": "text/x-python",
   "name": "python",
   "nbconvert_exporter": "python",
   "pygments_lexer": "ipython3",
   "version": "3.8.8"
  }
 },
 "nbformat": 4,
 "nbformat_minor": 5
}
