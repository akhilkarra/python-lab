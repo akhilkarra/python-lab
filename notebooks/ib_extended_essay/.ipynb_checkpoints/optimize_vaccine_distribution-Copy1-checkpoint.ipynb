{
 "cells": [
  {
   "cell_type": "code",
   "execution_count": 1,
   "id": "fd4b80f6-bbdc-4be1-917f-b24017f3d30b",
   "metadata": {},
   "outputs": [],
   "source": [
    "import pandas as pd\n",
    "import numpy as np\n",
    "from ortools.linear_solver import pywraplp"
   ]
  },
  {
   "cell_type": "code",
   "execution_count": 2,
   "id": "b02f6c48-5fe7-46a4-a370-d3dcdbce2237",
   "metadata": {},
   "outputs": [],
   "source": [
    "# Read all the US state names with codes\n",
    "def state_names_data() -> pd.core.frame.DataFrame:\n",
    "    states_and_codes_filename = 'data/states.csv'\n",
    "    states_df = pd.read_csv(states_and_codes_filename)[[\"State\",\"Code\"]]\n",
    "    return states_df.sort_values(by=['State'])\n",
    "\n",
    "# Test case for states_names_data()\n",
    "assert state_names_data().shape == (51, 2)"
   ]
  },
  {
   "cell_type": "code",
   "execution_count": 3,
   "id": "3661b41b-c216-486d-80ab-01d4961903ae",
   "metadata": {},
   "outputs": [],
   "source": [
    "# Read the resident populations data for all states\n",
    "def state_populations_data() -> pd.core.frame.DataFrame:\n",
    "    state_populations_filename = 'data/population-nst-est2020.xlsx'\n",
    "    state_populations_sheetname = 'NST01'\n",
    "    state_populations_df = pd.read_excel(state_populations_filename, sheet_name=state_populations_sheetname, header=None, skiprows=9, skipfooter=8)\n",
    "    state_populations_df = state_populations_df[[0,14]].replace(to_replace=r'^\\.', value='', regex=True).rename(columns={0:\"State\", 14:\"Population\"})\n",
    "    state_populations_df = pd.merge(state_populations_df, state_names_data(), left_on=\"State\", right_on=\"State\", how=\"inner\")\n",
    "    return state_populations_df.sort_values(by=['State'])\n",
    "\n",
    "assert state_populations_data().shape == (51, 3)"
   ]
  },
  {
   "cell_type": "code",
   "execution_count": 4,
   "id": "14021251-e253-4eda-be6d-5e1f2cc76f74",
   "metadata": {},
   "outputs": [],
   "source": [
    "# Read the COVID-19 cases, deaths, and testing data for all states\n",
    "def c_infection_rate_data() -> pd.core.frame.DataFrame:\n",
    "    infection_rate_filename = 'data/united_states_covid19_cases_deaths_and_testing_by_state.csv'\n",
    "    infection_rate_df = pd.read_csv(infection_rate_filename, header=2)[\n",
    "        [\"State/Territory\", \"7-Day Cases Rate per 100000\"]]\n",
    "\n",
    "    # Counts for New York City and New York State are shown separately for case and death metrics\n",
    "    ny_state_cases = infection_rate_df[infection_rate_df[\"State/Territory\"] == \"New York*\"]\n",
    "    nyc_cases = infection_rate_df[infection_rate_df[\"State/Territory\"] == \"New York City\"]\n",
    "    ny_cases = float(ny_state_cases[\"7-Day Cases Rate per 100000\"]) + float(\n",
    "        nyc_cases[\"7-Day Cases Rate per 100000\"])\n",
    "\n",
    "    # Add row for NY\n",
    "    infection_rate_df = infection_rate_df.append(pd.DataFrame([[\"New York\", ny_cases]],\n",
    "                                                              columns=[\"State/Territory\",\n",
    "                                                                       \"7-Day Cases Rate per 100000\"]))\n",
    "\n",
    "    infection_rate_df = pd.merge(infection_rate_df, state_names_data(), left_on=\"State/Territory\", right_on=\"State\",\n",
    "             how='inner')[[\"State\", \"7-Day Cases Rate per 100000\", \"Code\"]].sort_values(by=['State'])\n",
    "    \n",
    "    infection_rate_df[\"Infection_Rate_Percentage\"] = infection_rate_df[\"7-Day Cases Rate per 100000\"] / infection_rate_df[\"7-Day Cases Rate per 100000\"].sum()\n",
    "    \n",
    "    return infection_rate_df\n",
    "\n",
    "assert c_infection_rate_data().shape == (51, 4)"
   ]
  },
  {
   "cell_type": "code",
   "execution_count": 5,
   "id": "97b68b62-bbc6-4958-b44e-4a6f8ebd5f4a",
   "metadata": {},
   "outputs": [],
   "source": [
    "# Read the vaccinated and unvaccinated population for all states\n",
    "def p_unvaccinated_population_data() -> pd.core.frame.DataFrame:\n",
    "    unvax_population_filename = 'data/covid19_vaccinations_in_the_united_states.csv'\n",
    "    unvax_population_df = pd.read_csv(unvax_population_filename, header=2)[[\"State/Territory/Federal Entity\", \"People with at least One Dose by State of Residence\"]]\n",
    "    unvax_population_df = unvax_population_df.replace(to_replace=r'^New York State$', value='New York', regex=True)\n",
    "    unvax_population_df = pd.merge(unvax_population_df, state_populations_data(), left_on=\"State/Territory/Federal Entity\", right_on=\"State\", how=\"inner\")\n",
    "    unvax_population_df = unvax_population_df.rename(columns={\"People with at least One Dose by State of Residence\":\"Vax_Population\"})\n",
    "    unvax_population_df[\"Unvax_Population\"] = unvax_population_df[\"Population\"] - unvax_population_df[\"Vax_Population\"]\n",
    "    unvax_population_df[\"Unvax_Population_Percentage\"] = unvax_population_df[\"Unvax_Population\"] / unvax_population_df[\"Unvax_Population\"].sum() \n",
    "    return unvax_population_df[[\"State\", \"Population\", \"Vax_Population\", \"Unvax_Population\", \"Unvax_Population_Percentage\"]].sort_values(by=['State'])\n",
    "\n",
    "assert p_unvaccinated_population_data().shape == (51, 5)"
   ]
  },
  {
   "cell_type": "code",
   "execution_count": 6,
   "id": "42368aa8-3658-4150-92ed-71a4df7dd39e",
   "metadata": {},
   "outputs": [],
   "source": [
    "# Read the 7-day average vaccination rates / 100k people for each state\n",
    "def u_vaccination_rate_data(index: int) -> pd.core.frame.DataFrame:\n",
    "    vaccination_rate_filename = f'data/trends_in_number_of_covid19_vaccinations_in_the_us ({index}).csv'\n",
    "    vaccination_rate_df = pd.read_csv(vaccination_rate_filename, header=2)\n",
    "    vaccination_rate_df = vaccination_rate_df[vaccination_rate_df[\"Date Type\"] == \"Admin\"]\n",
    "    vaccination_rate_df = vaccination_rate_df[[\"Date\", \"Location\", \"7-Day Avg Total Doses Daily\"]]\n",
    "    return vaccination_rate_df\n",
    "\n",
    "\n",
    "def u_vaccination_data() -> pd.core.frame.DataFrame:\n",
    "    vaccination_df = u_vaccination_rate_data(1)\n",
    "\n",
    "    for i in range(2, 52):\n",
    "        vaccination_df = vaccination_df.append(u_vaccination_rate_data(i))\n",
    "\n",
    "    vaccination_df = vaccination_df[vaccination_df[\"Date\"] == vaccination_df[\"Date\"].max()]\n",
    "\n",
    "    vaccination_df = pd.merge(vaccination_df, state_populations_data(), left_on=\"Location\",\n",
    "                              right_on=\"Code\", how=\"inner\")\n",
    "\n",
    "#     vaccination_df[\"7_Day_Daily_Vaccination_Rate\"] = vaccination_df[\"7-Day Avg Total Doses Daily\"] / vaccination_df[\"Population\"]\n",
    "\n",
    "#     vaccination_df[\"7_Day_Daily_Vaccination_Rate_Percentage\"] = vaccination_df[\n",
    "#                                                                     \"7_Day_Daily_Vaccination_Rate\"] * 100 / \\\n",
    "#                                                                 vaccination_df[\n",
    "#                                                                     \"7_Day_Daily_Vaccination_Rate\"].sum()\n",
    "    \n",
    "#     vaccination_df[\"7_Day_Daily_Vaccination_Rate_Reciprocal\"] = 1 / vaccination_df[\"7_Day_Daily_Vaccination_Rate\"]\n",
    "\n",
    "    return vaccination_df[[\"State\", \"Code\", \"7-Day Avg Total Doses Daily\"]].sort_values(by=['State'])\n",
    "\n",
    "\n",
    "assert u_vaccination_data().shape == (51, 3)"
   ]
  },
  {
   "cell_type": "code",
   "execution_count": 7,
   "id": "aa156c28-97e1-4257-a2fd-22474ac2a5eb",
   "metadata": {},
   "outputs": [],
   "source": [
    "# define the constraints\n",
    "\n",
    "vT = 10000000 # Total number of vaccines\n"
   ]
  },
  {
   "cell_type": "code",
   "execution_count": 8,
   "id": "f6e96a4a-7f49-484c-9cfb-4de34d704e45",
   "metadata": {},
   "outputs": [],
   "source": [
    "def create_constraints_coeffs() -> np.ndarray:\n",
    "    upper_bound_coefficients = np.identity(51)\n",
    "    lower_bound_coefficients = np.diag(np.ones(51)*-1)\n",
    "    total_bound_coefficients = np.array([np.ones(51)])\n",
    "\n",
    "    upper_and_lower_bounds = np.concatenate((upper_bound_coefficients, lower_bound_coefficients), axis=0)\n",
    "\n",
    "    return np.concatenate((total_bound_coefficients, upper_and_lower_bounds), axis=0)\n",
    "\n",
    "assert create_constraints_coeffs().shape == (103, 51)"
   ]
  },
  {
   "cell_type": "code",
   "execution_count": 9,
   "id": "d5be7e2a-0997-47d5-9116-08b798c4cb29",
   "metadata": {},
   "outputs": [],
   "source": [
    "def create_bounds_df() -> pd.core.frame.DataFrame:\n",
    "    p_unvaccinated_population_df = p_unvaccinated_population_data()\n",
    "    p_unvaccinated_population_df[\"Vaccine_Distribution_By_Unvax_Population\"] = (p_unvaccinated_population_df[\"Unvax_Population_Percentage\"] * vT).astype('int64')\n",
    "    p_unvaccinated_population_df = p_unvaccinated_population_df[[\"State\", \"Vaccine_Distribution_By_Unvax_Population\"]]\n",
    "\n",
    "    c_infection_data_df = c_infection_rate_data()\n",
    "    c_infection_data_df[\"Vaccine_Distribution_By_Infection_Rate\"] = (c_infection_data_df[\"Infection_Rate_Percentage\"] * vT).astype('int64')\n",
    "    c_infection_data_df = c_infection_data_df[[\"State\", \"Vaccine_Distribution_By_Infection_Rate\"]]\n",
    "\n",
    "    return pd.merge(p_unvaccinated_population_df, c_infection_data_df, left_on=\"State\", right_on=\"State\", how=\"inner\")\n",
    "\n",
    "def create_bounds() -> np.ndarray:\n",
    "    bounds_df = create_bounds_df()\n",
    "    \n",
    "    bounds_df[\"Upper_Bound\"] = bounds_df[[\"Vaccine_Distribution_By_Unvax_Population\", \"Vaccine_Distribution_By_Infection_Rate\"]].max(axis=1)\n",
    "    bounds_df[\"Lower_Bound\"] = bounds_df[[\"Vaccine_Distribution_By_Unvax_Population\", \"Vaccine_Distribution_By_Infection_Rate\"]].min(axis=1) * -1\n",
    "    bounds = np.ones(1) * vT\n",
    "    bounds = np.concatenate((bounds, bounds_df[\"Upper_Bound\"].to_numpy().transpose()), axis=0)\n",
    "\n",
    "    return np.concatenate((bounds, bounds_df[\"Lower_Bound\"].to_numpy().transpose()), axis=0)\n",
    "\n",
    "assert create_bounds().shape == (103,)"
   ]
  },
  {
   "cell_type": "code",
   "execution_count": 10,
   "id": "a389df70-9e32-4453-8dac-72c399d81708",
   "metadata": {},
   "outputs": [],
   "source": [
    "def create_obj_coeffs() -> np.ndarray:\n",
    "    return u_vaccination_data()[\"7-Day Avg Total Doses Daily\"].to_numpy().transpose()\n",
    "\n",
    "assert create_obj_coeffs().shape == (51,)"
   ]
  },
  {
   "cell_type": "code",
   "execution_count": 11,
   "id": "e67bf0a1-6e17-4d42-a5d9-791ba6a16730",
   "metadata": {},
   "outputs": [],
   "source": [
    "def create_data_model():\n",
    "    \"\"\"Stores the data for the problem.\"\"\"\n",
    "    data = {}\n",
    "    data['constraint_coeffs'] = create_constraints_coeffs()\n",
    "    data['bounds'] = create_bounds()\n",
    "    data['obj_coeffs'] = create_obj_coeffs()\n",
    "    data['num_vars'] = 51\n",
    "    data['num_constraints'] = 103\n",
    "    return data\n",
    "\n",
    "# def create_data_model():\n",
    "#     \"\"\"Stores the data for the problem.\"\"\"\n",
    "#     data = {}\n",
    "#     data['constraint_coeffs'] = [\n",
    "#         [1, 1], \n",
    "#         [1, 0],\n",
    "#         [0, 1],\n",
    "#         [-1, -0],\n",
    "#         [-0, -1]\n",
    "#     ]\n",
    "#     data['bounds'] = [100000,  73048.0, 94908.0, -5091.0, -26951.0]\n",
    "#     data['obj_coeffs'] = [ 801 * 100000 / 731338, 34831 * 100000 / 19299981 ]\n",
    "#     data['num_vars'] = 2\n",
    "#     data['num_constraints'] = 5\n",
    "#     return data"
   ]
  },
  {
   "cell_type": "code",
   "execution_count": 12,
   "id": "6329b411-0222-45d7-a784-6e6e9bc3c09c",
   "metadata": {},
   "outputs": [
    {
     "name": "stdout",
     "output_type": "stream",
     "text": [
      "Number of variables = 51\n"
     ]
    }
   ],
   "source": [
    "data = create_data_model()\n",
    "\n",
    "# Create the mip solver with the SCIP backend.\n",
    "solver = pywraplp.Solver.CreateSolver('SCIP')\n",
    "\n",
    "infinity = solver.infinity()\n",
    "x = {}\n",
    "for j in range(data['num_vars']):\n",
    "    x[j] = solver.IntVar(0, infinity, 'x[%i]' % j)\n",
    "print('Number of variables =', solver.NumVariables())"
   ]
  },
  {
   "cell_type": "code",
   "execution_count": 13,
   "id": "02cec40c-d742-4e06-8b69-c7f93331bcee",
   "metadata": {},
   "outputs": [],
   "source": [
    "# for i in range(data['num_constraints']):\n",
    "#     constraint = solver.RowConstraint(0, data['bounds'][i], '')\n",
    "#     for j in range(data['num_vars']):\n",
    "#         constraint.SetCoefficient(x[j], data['constraint_coeffs'][i][j])\n",
    "# print('Number of constraints =', solver.NumConstraints())\n",
    "# In Python, you can also set the constraints as follows.\n",
    "for i in range(data['num_constraints']):\n",
    " constraint_expr = \\\n",
    "[data['constraint_coeffs'][i][j] * x[j] for j in range(data['num_vars'])]\n",
    " solver.Add(sum(constraint_expr) <= data['bounds'][i])"
   ]
  },
  {
   "cell_type": "code",
   "execution_count": 14,
   "id": "6fd8d99e-4550-413c-88b3-34aaf83103bf",
   "metadata": {},
   "outputs": [],
   "source": [
    "# objective = solver.Objective()\n",
    "# for j in range(data['num_vars']):\n",
    "#     objective.SetCoefficient(x[j], data['obj_coeffs'][j])\n",
    "# objective.SetMaximization()\n",
    "# In Python, you can also set the objective as follows.\n",
    "obj_expr = [data['obj_coeffs'][j] * x[j] for j in range(data['num_vars'])]\n",
    "solver.Maximize(solver.Sum(obj_expr))"
   ]
  },
  {
   "cell_type": "code",
   "execution_count": 15,
   "id": "3145fd35-0ac4-4049-a2a8-99485eb7d331",
   "metadata": {},
   "outputs": [],
   "source": [
    "status = solver.Solve()"
   ]
  },
  {
   "cell_type": "code",
   "execution_count": 16,
   "id": "8a2339b7-2b79-4283-a4f3-fd1b5441e1f4",
   "metadata": {
    "tags": []
   },
   "outputs": [
    {
     "name": "stdout",
     "output_type": "stream",
     "text": [
      "Objective value = 219815035865.0\n",
      "x[0]  =  319037.0\n",
      "x[1]  =  26054.0\n",
      "x[2]  =  174203.0\n",
      "x[3]  =  110681.0\n",
      "x[4]  =  940456.0\n",
      "x[5]  =  168084.0\n",
      "x[6]  =  71382.0\n",
      "x[7]  =  28244.0\n",
      "x[8]  =  18278.0\n",
      "x[9]  =  621170.0\n",
      "x[10]  =  408654.0\n",
      "x[11]  =  27539.0\n",
      "x[12]  =  80922.0\n",
      "x[13]  =  328160.0\n",
      "x[14]  =  254264.0\n",
      "x[15]  =  108398.0\n",
      "x[16]  =  96679.0\n",
      "x[17]  =  149182.0\n",
      "x[18]  =  182556.0\n",
      "x[19]  =  30060.0\n",
      "x[20]  =  150043.0\n",
      "x[21]  =  98280.0\n",
      "x[22]  =  93567.0\n",
      "x[23]  =  114430.0\n",
      "x[24]  =  121737.0\n",
      "x[25]  =  227309.0\n",
      "x[26]  =  40760.0\n",
      "x[27]  =  64516.0\n",
      "x[28]  =  105258.0\n",
      "x[29]  =  35128.0\n",
      "x[30]  =  206587.0\n",
      "x[31]  =  49249.0\n",
      "x[32]  =  480070.0\n",
      "x[33]  =  368521.0\n",
      "x[34]  =  30977.0\n",
      "x[35]  =  433525.0\n",
      "x[36]  =  145107.0\n",
      "x[37]  =  119663.0\n",
      "x[38]  =  301980.0\n",
      "x[39]  =  22964.0\n",
      "x[40]  =  414271.0\n",
      "x[41]  =  30672.0\n",
      "x[42]  =  416973.0\n",
      "x[43]  =  995348.0\n",
      "x[44]  =  112299.0\n",
      "x[45]  =  11555.0\n",
      "x[46]  =  234197.0\n",
      "x[47]  =  195306.0\n",
      "x[48]  =  73785.0\n",
      "x[49]  =  137017.0\n",
      "x[50]  =  24903.0\n",
      "\n",
      "Total = 10000000.0\n",
      "Problem solved in 104.000000 milliseconds\n",
      "Problem solved in 1 iterations\n",
      "Problem solved in 1 branch-and-bound nodes\n"
     ]
    }
   ],
   "source": [
    "if status == pywraplp.Solver.OPTIMAL:\n",
    "    print('Objective value =', solver.Objective().Value())\n",
    "    total = 0\n",
    "    for j in range(data['num_vars']):\n",
    "        print(x[j].name(), ' = ', x[j].solution_value())\n",
    "        total += x[j].solution_value()\n",
    "    print()\n",
    "    print('Total =', total)\n",
    "    print('Problem solved in %f milliseconds' % solver.wall_time())\n",
    "    print('Problem solved in %d iterations' % solver.iterations())\n",
    "    print('Problem solved in %d branch-and-bound nodes' % solver.nodes())\n",
    "else:\n",
    "    print('The problem does not have an optimal solution.')"
   ]
  },
  {
   "cell_type": "code",
   "execution_count": 17,
   "id": "b0f3062f-6ac5-4298-8069-7b81b8399ed9",
   "metadata": {},
   "outputs": [
    {
     "ename": "KeyError",
     "evalue": "\"['7_Day_Daily_Vaccination_Rate'] not in index\"",
     "output_type": "error",
     "traceback": [
      "\u001b[0;31m---------------------------------------------------------------------------\u001b[0m",
      "\u001b[0;31mKeyError\u001b[0m                                  Traceback (most recent call last)",
      "\u001b[0;32m<ipython-input-17-a1bb2c3a641c>\u001b[0m in \u001b[0;36m<module>\u001b[0;34m\u001b[0m\n\u001b[1;32m      7\u001b[0m \u001b[0;31m# print(vaccination_data())\u001b[0m\u001b[0;34m\u001b[0m\u001b[0;34m\u001b[0m\u001b[0;34m\u001b[0m\u001b[0m\n\u001b[1;32m      8\u001b[0m \u001b[0;34m\u001b[0m\u001b[0m\n\u001b[0;32m----> 9\u001b[0;31m \u001b[0mresults_df\u001b[0m \u001b[0;34m=\u001b[0m \u001b[0mpd\u001b[0m\u001b[0;34m.\u001b[0m\u001b[0mmerge\u001b[0m\u001b[0;34m(\u001b[0m\u001b[0mresults_df\u001b[0m\u001b[0;34m,\u001b[0m \u001b[0mu_vaccination_data\u001b[0m\u001b[0;34m(\u001b[0m\u001b[0;34m)\u001b[0m\u001b[0;34m[\u001b[0m\u001b[0;34m[\u001b[0m\u001b[0;34m\"State\"\u001b[0m\u001b[0;34m,\u001b[0m \u001b[0;34m\"7_Day_Daily_Vaccination_Rate\"\u001b[0m\u001b[0;34m]\u001b[0m\u001b[0;34m]\u001b[0m\u001b[0;34m,\u001b[0m \u001b[0mon\u001b[0m\u001b[0;34m=\u001b[0m\u001b[0;34m\"State\"\u001b[0m\u001b[0;34m,\u001b[0m \u001b[0mhow\u001b[0m\u001b[0;34m=\u001b[0m\u001b[0;34m\"inner\"\u001b[0m\u001b[0;34m)\u001b[0m\u001b[0;34m\u001b[0m\u001b[0;34m\u001b[0m\u001b[0m\n\u001b[0m\u001b[1;32m     10\u001b[0m \u001b[0;34m\u001b[0m\u001b[0m\n\u001b[1;32m     11\u001b[0m \u001b[0mresults_df\u001b[0m \u001b[0;34m=\u001b[0m \u001b[0mpd\u001b[0m\u001b[0;34m.\u001b[0m\u001b[0mmerge\u001b[0m\u001b[0;34m(\u001b[0m\u001b[0mresults_df\u001b[0m\u001b[0;34m,\u001b[0m \u001b[0mcreate_bounds_df\u001b[0m\u001b[0;34m(\u001b[0m\u001b[0;34m)\u001b[0m\u001b[0;34m,\u001b[0m \u001b[0mon\u001b[0m\u001b[0;34m=\u001b[0m\u001b[0;34m\"State\"\u001b[0m\u001b[0;34m,\u001b[0m \u001b[0mhow\u001b[0m\u001b[0;34m=\u001b[0m\u001b[0;34m\"inner\"\u001b[0m\u001b[0;34m)\u001b[0m\u001b[0;34m\u001b[0m\u001b[0;34m\u001b[0m\u001b[0m\n",
      "\u001b[0;32m~/opt/anaconda3/lib/python3.8/site-packages/pandas/core/frame.py\u001b[0m in \u001b[0;36m__getitem__\u001b[0;34m(self, key)\u001b[0m\n\u001b[1;32m   3028\u001b[0m             \u001b[0;32mif\u001b[0m \u001b[0mis_iterator\u001b[0m\u001b[0;34m(\u001b[0m\u001b[0mkey\u001b[0m\u001b[0;34m)\u001b[0m\u001b[0;34m:\u001b[0m\u001b[0;34m\u001b[0m\u001b[0;34m\u001b[0m\u001b[0m\n\u001b[1;32m   3029\u001b[0m                 \u001b[0mkey\u001b[0m \u001b[0;34m=\u001b[0m \u001b[0mlist\u001b[0m\u001b[0;34m(\u001b[0m\u001b[0mkey\u001b[0m\u001b[0;34m)\u001b[0m\u001b[0;34m\u001b[0m\u001b[0;34m\u001b[0m\u001b[0m\n\u001b[0;32m-> 3030\u001b[0;31m             \u001b[0mindexer\u001b[0m \u001b[0;34m=\u001b[0m \u001b[0mself\u001b[0m\u001b[0;34m.\u001b[0m\u001b[0mloc\u001b[0m\u001b[0;34m.\u001b[0m\u001b[0m_get_listlike_indexer\u001b[0m\u001b[0;34m(\u001b[0m\u001b[0mkey\u001b[0m\u001b[0;34m,\u001b[0m \u001b[0maxis\u001b[0m\u001b[0;34m=\u001b[0m\u001b[0;36m1\u001b[0m\u001b[0;34m,\u001b[0m \u001b[0mraise_missing\u001b[0m\u001b[0;34m=\u001b[0m\u001b[0;32mTrue\u001b[0m\u001b[0;34m)\u001b[0m\u001b[0;34m[\u001b[0m\u001b[0;36m1\u001b[0m\u001b[0;34m]\u001b[0m\u001b[0;34m\u001b[0m\u001b[0;34m\u001b[0m\u001b[0m\n\u001b[0m\u001b[1;32m   3031\u001b[0m \u001b[0;34m\u001b[0m\u001b[0m\n\u001b[1;32m   3032\u001b[0m         \u001b[0;31m# take() does not accept boolean indexers\u001b[0m\u001b[0;34m\u001b[0m\u001b[0;34m\u001b[0m\u001b[0;34m\u001b[0m\u001b[0m\n",
      "\u001b[0;32m~/opt/anaconda3/lib/python3.8/site-packages/pandas/core/indexing.py\u001b[0m in \u001b[0;36m_get_listlike_indexer\u001b[0;34m(self, key, axis, raise_missing)\u001b[0m\n\u001b[1;32m   1264\u001b[0m             \u001b[0mkeyarr\u001b[0m\u001b[0;34m,\u001b[0m \u001b[0mindexer\u001b[0m\u001b[0;34m,\u001b[0m \u001b[0mnew_indexer\u001b[0m \u001b[0;34m=\u001b[0m \u001b[0max\u001b[0m\u001b[0;34m.\u001b[0m\u001b[0m_reindex_non_unique\u001b[0m\u001b[0;34m(\u001b[0m\u001b[0mkeyarr\u001b[0m\u001b[0;34m)\u001b[0m\u001b[0;34m\u001b[0m\u001b[0;34m\u001b[0m\u001b[0m\n\u001b[1;32m   1265\u001b[0m \u001b[0;34m\u001b[0m\u001b[0m\n\u001b[0;32m-> 1266\u001b[0;31m         \u001b[0mself\u001b[0m\u001b[0;34m.\u001b[0m\u001b[0m_validate_read_indexer\u001b[0m\u001b[0;34m(\u001b[0m\u001b[0mkeyarr\u001b[0m\u001b[0;34m,\u001b[0m \u001b[0mindexer\u001b[0m\u001b[0;34m,\u001b[0m \u001b[0maxis\u001b[0m\u001b[0;34m,\u001b[0m \u001b[0mraise_missing\u001b[0m\u001b[0;34m=\u001b[0m\u001b[0mraise_missing\u001b[0m\u001b[0;34m)\u001b[0m\u001b[0;34m\u001b[0m\u001b[0;34m\u001b[0m\u001b[0m\n\u001b[0m\u001b[1;32m   1267\u001b[0m         \u001b[0;32mreturn\u001b[0m \u001b[0mkeyarr\u001b[0m\u001b[0;34m,\u001b[0m \u001b[0mindexer\u001b[0m\u001b[0;34m\u001b[0m\u001b[0;34m\u001b[0m\u001b[0m\n\u001b[1;32m   1268\u001b[0m \u001b[0;34m\u001b[0m\u001b[0m\n",
      "\u001b[0;32m~/opt/anaconda3/lib/python3.8/site-packages/pandas/core/indexing.py\u001b[0m in \u001b[0;36m_validate_read_indexer\u001b[0;34m(self, key, indexer, axis, raise_missing)\u001b[0m\n\u001b[1;32m   1314\u001b[0m             \u001b[0;32mif\u001b[0m \u001b[0mraise_missing\u001b[0m\u001b[0;34m:\u001b[0m\u001b[0;34m\u001b[0m\u001b[0;34m\u001b[0m\u001b[0m\n\u001b[1;32m   1315\u001b[0m                 \u001b[0mnot_found\u001b[0m \u001b[0;34m=\u001b[0m \u001b[0mlist\u001b[0m\u001b[0;34m(\u001b[0m\u001b[0mset\u001b[0m\u001b[0;34m(\u001b[0m\u001b[0mkey\u001b[0m\u001b[0;34m)\u001b[0m \u001b[0;34m-\u001b[0m \u001b[0mset\u001b[0m\u001b[0;34m(\u001b[0m\u001b[0max\u001b[0m\u001b[0;34m)\u001b[0m\u001b[0;34m)\u001b[0m\u001b[0;34m\u001b[0m\u001b[0;34m\u001b[0m\u001b[0m\n\u001b[0;32m-> 1316\u001b[0;31m                 \u001b[0;32mraise\u001b[0m \u001b[0mKeyError\u001b[0m\u001b[0;34m(\u001b[0m\u001b[0;34mf\"{not_found} not in index\"\u001b[0m\u001b[0;34m)\u001b[0m\u001b[0;34m\u001b[0m\u001b[0;34m\u001b[0m\u001b[0m\n\u001b[0m\u001b[1;32m   1317\u001b[0m \u001b[0;34m\u001b[0m\u001b[0m\n\u001b[1;32m   1318\u001b[0m             \u001b[0mnot_found\u001b[0m \u001b[0;34m=\u001b[0m \u001b[0mkey\u001b[0m\u001b[0;34m[\u001b[0m\u001b[0mmissing_mask\u001b[0m\u001b[0;34m]\u001b[0m\u001b[0;34m\u001b[0m\u001b[0;34m\u001b[0m\u001b[0m\n",
      "\u001b[0;31mKeyError\u001b[0m: \"['7_Day_Daily_Vaccination_Rate'] not in index\""
     ]
    }
   ],
   "source": [
    "# print(unvaccinated_population_data())\n",
    "# print(infection_rate_data())\n",
    "\n",
    "results_df = pd.merge(p_unvaccinated_population_data()[[\"State\", \"Population\", \"Vax_Population\", \"Unvax_Population\"]], c_infection_rate_data()[[\"State\", \"7-Day Cases Rate per 100000\"]], left_on=\"State\", right_on=\"State\", how=\"inner\")\n",
    "\n",
    "\n",
    "# print(vaccination_data())\n",
    "\n",
    "results_df = pd.merge(results_df, u_vaccination_data()[[\"State\", \"7_Day_Daily_Vaccination_Rate\"]], on=\"State\", how=\"inner\")\n",
    "\n",
    "results_df = pd.merge(results_df, create_bounds_df(), on=\"State\", how=\"inner\")\n",
    "\n",
    "solutions_array = np.array(list(map(lambda y: y.solution_value(), list(x.values()))))\n",
    "\n",
    "results_df[\"Optimal_Distribution\"] = solutions_array\n",
    "\n",
    "results_df.to_csv('results.csv', index=False)"
   ]
  },
  {
   "cell_type": "code",
   "execution_count": null,
   "id": "5a78714c-5185-48c4-aea4-f4437e933d1e",
   "metadata": {},
   "outputs": [],
   "source": [
    "print(solver.ExportModelAsLpFormat(False).replace('\\\\', '').replace(',_', ','), sep='\\n')"
   ]
  },
  {
   "cell_type": "code",
   "execution_count": null,
   "id": "2b440a78-b962-4721-98a5-0573304bd09d",
   "metadata": {},
   "outputs": [],
   "source": []
  },
  {
   "cell_type": "code",
   "execution_count": null,
   "id": "54e5c04f-3a13-4cb8-b082-1159aa49370d",
   "metadata": {},
   "outputs": [],
   "source": []
  }
 ],
 "metadata": {
  "kernelspec": {
   "display_name": "Python 3",
   "language": "python",
   "name": "python3"
  },
  "language_info": {
   "codemirror_mode": {
    "name": "ipython",
    "version": 3
   },
   "file_extension": ".py",
   "mimetype": "text/x-python",
   "name": "python",
   "nbconvert_exporter": "python",
   "pygments_lexer": "ipython3",
   "version": "3.8.8"
  }
 },
 "nbformat": 4,
 "nbformat_minor": 5
}
