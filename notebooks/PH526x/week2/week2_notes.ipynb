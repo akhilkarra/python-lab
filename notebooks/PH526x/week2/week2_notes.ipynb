{
 "cells": [
  {
   "cell_type": "markdown",
   "source": [
    "# Week 2 Notes"
   ],
   "metadata": {
    "collapsed": false,
    "pycharm": {
     "name": "#%% md\n"
    }
   }
  },
  {
   "cell_type": "markdown",
   "source": [
    "## 2.1.1 Scope Rules\n",
    "\n",
    "LEGB rule for Scope:\n",
    "1. Local: Local variables are defined in the function.\n",
    "2. Enclosing function locals: Local variables defined in the enclosing function are visible in the function.\n",
    "3. Global: Global variables are defined in the file.\n",
    "4. Built-in: Built-in variables are defined in the Python interpreter."
   ],
   "metadata": {
    "collapsed": false,
    "pycharm": {
     "name": "#%% md\n"
    }
   }
  },
  {
   "cell_type": "markdown",
   "source": [
    "## 2.1.2 Classes and Object-Oriented Programming\n",
    "\n",
    "This course emphasises and will continue to emphasize on functional programming, but it is helpful to learn the basics of classes and object-oriented programming.\n",
    "\n",
    "Object contains both data and methods that perform operations on that data.\n",
    "\n",
    "We've been using objects all along, but if these objects do not fit the bill, we can create our own \"class\" of objects.\n",
    "\n",
    "These classes are in some way going to be similar to other existing classes, which brings up inheritance: a class can inherit from another class and simply add on additional methods and attributes as the application requires.\n",
    "\n",
    "When an object of a particular class is created, it is called an *instance* of that class."
   ],
   "metadata": {
    "collapsed": false,
    "pycharm": {
     "name": "#%% md\n"
    }
   }
  },
  {
   "cell_type": "code",
   "execution_count": null,
   "outputs": [],
   "source": [
    "# How to define a Python class\n",
    "class MyList(list):  # Inherit from list class\n",
    "    def remove_max(self):\n",
    "        self.remove(max(self))\n",
    "    def remove_min(self):\n",
    "        self.remove(min(self))"
   ],
   "metadata": {
    "collapsed": false,
    "pycharm": {
     "name": "#%%\n"
    }
   }
  },
  {
   "cell_type": "code",
   "execution_count": null,
   "outputs": [],
   "source": [
    "# How to create an instance of a class\n",
    "x = MyList([1, 2, 3, 4, 5])\n",
    "x.remove_max()\n",
    "x.remove_min()\n",
    "x"
   ],
   "metadata": {
    "collapsed": false,
    "pycharm": {
     "name": "#%%\n"
    }
   }
  },
  {
   "cell_type": "markdown",
   "source": [
    "## 2.2.1 Introduction to NumPy Arrays\n",
    "\n",
    "NumPy's arrays are a fixed size multidimensional array of any data type. All data values are of the same data type; they are floats by default.\n"
   ],
   "metadata": {
    "collapsed": false,
    "pycharm": {
     "name": "#%% md\n"
    }
   }
  },
  {
   "cell_type": "code",
   "execution_count": null,
   "outputs": [],
   "source": [
    "# Importing and using NumPy for the first time\n",
    "import numpy as np\n",
    "\n",
    "zero_vector = np.zeros(5)\n",
    "zero_matrix = np.zeros((5, 3))\n",
    "\n",
    "zero_vector"
   ],
   "metadata": {
    "collapsed": false,
    "pycharm": {
     "name": "#%%\n"
    }
   }
  },
  {
   "cell_type": "code",
   "execution_count": null,
   "outputs": [],
   "source": [
    "zero_matrix"
   ],
   "metadata": {
    "collapsed": false,
    "pycharm": {
     "name": "#%%\n"
    }
   }
  },
  {
   "cell_type": "markdown",
   "source": [
    "About empty arrays: NumPy arrays can be created with the $\\texttt{empty()}$ method. This function is useful when creating large arrays since using this function first and then updating the elements of the array is much faster than using the normal functions for creating and storing arrays. However, this function should be used with care, and since I am new to NumPy, it is recommended to not use it for the time being.\n",
    "\n",
    "Note of best practice: lowercase variable names are given to vectors, while uppercase variable names are given to matrices."
   ],
   "metadata": {
    "collapsed": false,
    "pycharm": {
     "name": "#%% md\n"
    }
   }
  },
  {
   "cell_type": "markdown",
   "source": [],
   "metadata": {
    "collapsed": false,
    "pycharm": {
     "name": "#%% md\n"
    }
   }
  },
  {
   "cell_type": "code",
   "execution_count": null,
   "outputs": [],
   "source": [
    "# Creating a NumPy array with specific values\n",
    "x = np.array([1, 2, 3, 4, 5])\n",
    "y = np.array([2, 4, 6, 8, 10])"
   ],
   "metadata": {
    "collapsed": false,
    "pycharm": {
     "name": "#%%\n"
    }
   }
  },
  {
   "cell_type": "code",
   "execution_count": null,
   "outputs": [],
   "source": [
    "# Question 3 on the Comprehesion Check\n",
    "a = np.array([[3,6],[5,7]])\n",
    "b = a.transpose()\n",
    "b"
   ],
   "metadata": {
    "collapsed": false,
    "pycharm": {
     "name": "#%%\n"
    }
   }
  },
  {
   "cell_type": "markdown",
   "source": [
    "## 2.2.2 Slicing NumPy Arrays\n",
    "\n",
    "Good news: it's easy! We can treat NumPy arrays as if they were nested Python lists.\n",
    "\n",
    "Word of caution though: adding lists concatenates them but adding NumPy arrays means element-wise addition, akin to vector addition."
   ],
   "metadata": {
    "collapsed": false,
    "pycharm": {
     "name": "#%% md\n"
    }
   }
  },
  {
   "cell_type": "markdown",
   "source": [
    "## 2.2.3 Indexing NumPy Arrays\n"
   ],
   "metadata": {
    "collapsed": false,
    "pycharm": {
     "name": "#%% md\n"
    }
   }
  },
  {
   "cell_type": "code",
   "execution_count": null,
   "outputs": [],
   "source": [],
   "metadata": {
    "collapsed": false,
    "pycharm": {
     "name": "#%%\n"
    }
   }
  }
 ],
 "metadata": {
  "kernelspec": {
   "display_name": "Python 3",
   "language": "python",
   "name": "python3"
  },
  "language_info": {
   "codemirror_mode": {
    "name": "ipython",
    "version": 2
   },
   "file_extension": ".py",
   "mimetype": "text/x-python",
   "name": "python",
   "nbconvert_exporter": "python",
   "pygments_lexer": "ipython2",
   "version": "2.7.6"
  }
 },
 "nbformat": 4,
 "nbformat_minor": 0
}