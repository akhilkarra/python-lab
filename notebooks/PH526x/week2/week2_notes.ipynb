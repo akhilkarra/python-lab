{
 "cells": [
  {
   "cell_type": "markdown",
   "source": [
    "# Week 2 Notes"
   ],
   "metadata": {
    "collapsed": false,
    "pycharm": {
     "name": "#%% md\n"
    }
   }
  },
  {
   "cell_type": "markdown",
   "source": [
    "## 2.1.1 Scope Rules\n",
    "\n",
    "LEGB rule for Scope:\n",
    "1. Local: Local variables are defined in the function.\n",
    "2. Enclosing function locals: Local variables defined in the enclosing function are visible in the function.\n",
    "3. Global: Global variables are defined in the file.\n",
    "4. Built-in: Built-in variables are defined in the Python interpreter."
   ],
   "metadata": {
    "collapsed": false,
    "pycharm": {
     "name": "#%% md\n"
    }
   }
  },
  {
   "cell_type": "markdown",
   "source": [
    "## 2.1.2 Classes and Object-Oriented Programming\n",
    "\n",
    "This course emphasises and will continue to emphasize on functional programming, but it is helpful to learn the basics of classes and object-oriented programming.\n",
    "\n",
    "Object contains both data and methods that perform operations on that data.\n",
    "\n",
    "We've been using objects all along, but if these objects do not fit the bill, we can create our own \"class\" of objects.\n",
    "\n",
    "These classes are in some way going to be similar to other existing classes, which brings up inheritance: a class can inherit from another class and simply add on additional methods and attributes as the application requires.\n",
    "\n",
    "When an object of a particular class is created, it is called an *instance* of that class."
   ],
   "metadata": {
    "collapsed": false,
    "pycharm": {
     "name": "#%% md\n"
    }
   }
  },
  {
   "cell_type": "code",
   "execution_count": null,
   "outputs": [],
   "source": [
    "# How to define a Python class\n",
    "class MyList(list):  # Inherit from list class\n",
    "    def remove_max(self):\n",
    "        self.remove(max(self))\n",
    "    def remove_min(self):\n",
    "        self.remove(min(self))"
   ],
   "metadata": {
    "collapsed": false,
    "pycharm": {
     "name": "#%%\n"
    }
   }
  },
  {
   "cell_type": "code",
   "execution_count": null,
   "outputs": [],
   "source": [
    "# How to create an instance of a class\n",
    "x = MyList([1, 2, 3, 4, 5])\n",
    "x.remove_max()\n",
    "x.remove_min()\n",
    "x  # [2, 3, 4]"
   ],
   "metadata": {
    "collapsed": false,
    "pycharm": {
     "name": "#%%\n"
    }
   }
  },
  {
   "cell_type": "markdown",
   "source": [
    "## 2.2.1 Introduction to NumPy Arrays\n",
    "\n",
    "NumPy's arrays are a fixed size multidimensional array of any data type. All data values are of the same data type; they are floats by default.\n"
   ],
   "metadata": {
    "collapsed": false,
    "pycharm": {
     "name": "#%% md\n"
    }
   }
  },
  {
   "cell_type": "code",
   "execution_count": 1,
   "outputs": [
    {
     "data": {
      "text/plain": "array([0., 0., 0., 0., 0.])"
     },
     "execution_count": 1,
     "metadata": {},
     "output_type": "execute_result"
    }
   ],
   "source": [
    "# Importing and using NumPy for the first time\n",
    "import numpy as np\n",
    "\n",
    "zero_vector = np.zeros(5)\n",
    "zero_matrix = np.zeros((5, 3))\n",
    "\n",
    "zero_vector  # np.array([0., 0., 0., 0., 0.])"
   ],
   "metadata": {
    "collapsed": false,
    "pycharm": {
     "name": "#%%\n"
    }
   }
  },
  {
   "cell_type": "code",
   "execution_count": 2,
   "outputs": [
    {
     "data": {
      "text/plain": "array([[0., 0., 0.],\n       [0., 0., 0.],\n       [0., 0., 0.],\n       [0., 0., 0.],\n       [0., 0., 0.]])"
     },
     "execution_count": 2,
     "metadata": {},
     "output_type": "execute_result"
    }
   ],
   "source": [
    "zero_matrix  # np.array([[0., 0., 0.], [0., 0., 0.], [0., 0., 0.], [0., 0., 0.], [0., 0., 0.]])"
   ],
   "metadata": {
    "collapsed": false,
    "pycharm": {
     "name": "#%%\n"
    }
   }
  },
  {
   "cell_type": "markdown",
   "source": [
    "About empty arrays: NumPy arrays can be created with the $\\texttt{empty()}$ method. This function is useful when creating large arrays since using this function first and then updating the elements of the array is much faster than using the normal functions for creating and storing arrays. However, this function should be used with care, and since I am new to NumPy, it is recommended to not use it for the time being.\n",
    "\n",
    "Note of best practice: lowercase variable names are given to vectors, while uppercase variable names are given to matrices."
   ],
   "metadata": {
    "collapsed": false,
    "pycharm": {
     "name": "#%% md\n"
    }
   }
  },
  {
   "cell_type": "markdown",
   "source": [],
   "metadata": {
    "collapsed": false,
    "pycharm": {
     "name": "#%% md\n"
    }
   }
  },
  {
   "cell_type": "code",
   "execution_count": null,
   "outputs": [],
   "source": [
    "# Creating a NumPy array with specific values\n",
    "x = np.array([1, 2, 3, 4, 5])\n",
    "y = np.array([2, 4, 6, 8, 10])"
   ],
   "metadata": {
    "collapsed": false,
    "pycharm": {
     "name": "#%%\n"
    }
   }
  },
  {
   "cell_type": "code",
   "execution_count": null,
   "outputs": [],
   "source": [
    "# Question 3 on the Comprehension Check\n",
    "a = np.array([[3,6],[5,7]])\n",
    "b = a.transpose()\n",
    "b  # np.array([[3, 5], [6, 7]])"
   ],
   "metadata": {
    "collapsed": false,
    "pycharm": {
     "name": "#%%\n"
    }
   }
  },
  {
   "cell_type": "markdown",
   "source": [
    "## 2.2.2 Slicing NumPy Arrays\n",
    "\n",
    "Good news: it's easy! We can treat NumPy arrays as if they were nested Python lists.\n",
    "\n",
    "Word of caution though: adding lists concatenates them but adding NumPy arrays means element-wise addition, akin to vector addition."
   ],
   "metadata": {
    "collapsed": false,
    "pycharm": {
     "name": "#%% md\n"
    }
   }
  },
  {
   "cell_type": "markdown",
   "source": [
    "## 2.2.3 Indexing NumPy Arrays\n",
    "\n",
    "Indexing with NumPy arrays works just like indexing a Python sequence object.\n",
    "\n",
    "They can also be indexed with slices, other lists, and even boolean conditions."
   ],
   "metadata": {
    "collapsed": false,
    "pycharm": {
     "name": "#%% md\n"
    }
   }
  },
  {
   "cell_type": "code",
   "execution_count": null,
   "outputs": [],
   "source": [
    "# Indexing a NumPy array using Boolean conditions\n",
    "z = np.array([1, 3, 5, 7, 9])\n",
    "z[z > 6]  # np.array([7, 9])"
   ],
   "metadata": {
    "collapsed": false,
    "pycharm": {
     "name": "#%%\n"
    }
   }
  },
  {
   "cell_type": "markdown",
   "source": [
    "Important note: slicing an array and storing in a new variable will store a reference to the original array, but indexing with a list will create a reference to a new array."
   ],
   "metadata": {
    "collapsed": false,
    "pycharm": {
     "name": "#%% md\n"
    }
   }
  },
  {
   "cell_type": "markdown",
   "source": [
    "## 2.2.4 Building and Examining NumPy Arrays\n",
    "\n",
    "'Building' an array is done by specifying the dimensions and the values of the array. For example, $\\texttt{np.linspace()}$ builds an array of linearly spaced values given a start point, end point, and the number of elements. Similarly, $\\texttt{np.logspace()}$ builds an array of logarithmically spaced values given the log of a start point, the log of an end point, and the number of elements.\n",
    "\n",
    "Use $\\texttt{shape}$ to get the dimensions of an array, and use $\\texttt{size}$ to get the number of elements in an array (remember these are attributes, not methods).\n",
    "\n",
    "Use $\\texttt{any()}$ to check if *any* element of an array fulfills a boolean condition, and use $\\texttt{all()}$ to check if *all* elements of an array fulfill a boolean condition."
   ],
   "metadata": {
    "collapsed": false,
    "pycharm": {
     "name": "#%% md\n"
    }
   }
  },
  {
   "cell_type": "markdown",
   "source": [
    "# 2.3.1 Introduction to Matplotlib and Pyplot\n",
    "\n",
    "Matplotlib is a library for plotting publication-quality figures in Python. It is a high-level library that provides a set of functions for creating and customizing plots.\n",
    "\n",
    "It takes time to learn and use Matplotlib, but it is very powerful and flexible. There are cases where it is not required to use the full library.\n",
    "\n",
    "Pyplot is a low-level interface to Matplotlib. It is a set of functions that allow you to create, customize, and interact with plots.\n",
    "\n",
    "In this course, Pyplot will be used for all data visualization tasks."
   ],
   "metadata": {
    "collapsed": false,
    "pycharm": {
     "name": "#%% md\n"
    }
   }
  },
  {
   "cell_type": "code",
   "execution_count": null,
   "outputs": [],
   "source": [
    "# Import Pyplot\n",
    "import matplotlib.pyplot as plt\n",
    "\n",
    "# Create a simple figure of the integer squares\n",
    "plt.plot([0, 1, 4, 9, 16, 25])  # plt.plot(x, y) with dots and connecting lines"
   ],
   "metadata": {
    "collapsed": false,
    "pycharm": {
     "name": "#%%\n"
    }
   }
  },
  {
   "cell_type": "code",
   "execution_count": null,
   "outputs": [],
   "source": [
    "# To suppress the verbal output of the plot denoting the type of the plot object, we simply add a semicolon to the end of the command.\n",
    "plt.plot([0, 1, 4, 9, 16, 25]); # same plot as above but no verbal output"
   ],
   "metadata": {
    "collapsed": false,
    "pycharm": {
     "name": "#%%\n"
    }
   }
  },
  {
   "cell_type": "markdown",
   "source": [
    "The $\\texttt{matplotlib.pyplot}$ module has commands that so often use *keyword arguments* to specify the properties of the plot. These are arguments passed into the function through an assignment statement to a keyword. For example,"
   ],
   "metadata": {
    "collapsed": false,
    "pycharm": {
     "name": "#%% md\n"
    }
   }
  },
  {
   "cell_type": "code",
   "execution_count": null,
   "outputs": [],
   "source": [
    "plt.plot([0, 1, 4, 9, 16, 25], \"bo-\", linewidth=2, markersize=12)  # linewidth and markersize are keyword arguments"
   ],
   "metadata": {
    "collapsed": false,
    "pycharm": {
     "name": "#%%\n"
    }
   }
  },
  {
   "cell_type": "code",
   "execution_count": null,
   "outputs": [],
   "source": [
    "# Comprehesion Check Question 2\n",
    "plt.plot([0,1,2],[0,1,4],\"rd-\")  # plot red dots with red diamonds"
   ],
   "metadata": {
    "collapsed": false,
    "pycharm": {
     "name": "#%%\n"
    }
   }
  },
  {
   "cell_type": "markdown",
   "source": [
    "## 2.3.2 Customizing Plots\n",
    "\n",
    "How to add important elements to a PyPlot:\n",
    "1. Add a legend: $\\texttt{plt.legend(loc=``insert location here\")}$; remember to attach labels to the plot objects for them to appear in the legend.\n",
    "2. Adjust axes: $\\texttt{plt.axis([xmin, xmax, ymin, ymax])}$\n",
    "3. Set axes labels: $\\texttt{plt.xlabel()}$ and $\\texttt{plt.ylabel()}$; LaTeX is supported here!\n",
    "4. Save figure: $\\texttt{plt.savefig()}$; the argument specifies the file name and file format. The default file format is PNG."
   ],
   "metadata": {
    "collapsed": false,
    "pycharm": {
     "name": "#%% md\n"
    }
   }
  },
  {
   "cell_type": "markdown",
   "source": [
    "## 2.3.3 Plotting Using Logarithmic Axes\n",
    "\n",
    "Replace the $\\texttt{plot()}$ command with the following:\n",
    "1. $\\texttt{plt.semilogx()}$ for logarithmic x-axis\n",
    "2. $\\texttt{plt.semilogy()}$ for logarithmic y-axis\n",
    "3. $\\texttt{plt.loglog()}$ for logarithmic x- and y-axis"
   ],
   "metadata": {
    "collapsed": false,
    "pycharm": {
     "name": "#%% md\n"
    }
   }
  },
  {
   "cell_type": "markdown",
   "source": [
    "## 2.3.4 Generating Histograms\n",
    "\n",
    "We can use the $\\texttt{hist()}$ command to generate histograms. The first argument is the data to be plotted, and the second argument is the number of bins.\n",
    "\n",
    "To create subplots (multiple plots within the same display), you can use the $\\texttt{subplot()}$ command. There is one argument with three integers: the first integer is the number of rows, the second integer is the number of columns, and the third integer is the index of the subplot you want to create. You can also specify three different arguments for each of these aspects."
   ],
   "metadata": {
    "collapsed": false,
    "pycharm": {
     "name": "#%% md\n"
    }
   }
  },
  {
   "cell_type": "code",
   "execution_count": null,
   "outputs": [],
   "source": [
    "plt.subplot(333)  # create a 3x3 grid of subplots"
   ],
   "metadata": {
    "collapsed": false,
    "pycharm": {
     "name": "#%%\n"
    }
   }
  },
  {
   "cell_type": "markdown",
   "source": [
    "## 2.4.1 Simulating Randomness\n",
    "\n",
    "We can simulate randomness to model random processes or even complex systems for which we cannot simply model the behavior of the underlying processes.\n",
    "\n",
    "We can use the $\\texttt{random}$ module to simulate random processes:\n",
    "1. $\\texttt{random.random()}$ returns a random number between 0 and 1.\n",
    "2. $\\texttt{random.randint()}$ returns a random integer between the two arguments.\n",
    "3. $\\texttt{random.randrange()}$ returns a random integer between the two arguments, inclusive.\n",
    "4. $\\texttt{random.choice()}$ returns a random element from a sequence.\n",
    "5. $\\texttt{random.shuffle()}$ shuffles the elements of a sequence.\n",
    "6. $\\texttt{random.sample()}$ returns a random sample from a sequence.\n",
    "7. $\\texttt{random.seed()}$ seeds the random number generator; used to test the behavior of code dependent on randomness."
   ],
   "metadata": {
    "collapsed": false,
    "pycharm": {
     "name": "#%% md\n"
    }
   }
  }
 ],
 "metadata": {
  "kernelspec": {
   "display_name": "Python 3",
   "language": "python",
   "name": "python3"
  },
  "language_info": {
   "codemirror_mode": {
    "name": "ipython",
    "version": 2
   },
   "file_extension": ".py",
   "mimetype": "text/x-python",
   "name": "python",
   "nbconvert_exporter": "python",
   "pygments_lexer": "ipython2",
   "version": "2.7.6"
  }
 },
 "nbformat": 4,
 "nbformat_minor": 0
}