{
 "cells": [
  {
   "cell_type": "markdown",
   "source": [
    "# Week 4 Notes"
   ],
   "metadata": {
    "collapsed": false,
    "pycharm": {
     "name": "#%% md\n"
    }
   }
  },
  {
   "cell_type": "markdown",
   "source": [
    "## 4.1.1: Getting Started with Pandas\n",
    "\n",
    "In this case study, we will attempt to group different samples of whiskey using their flavor characteristics.\n",
    "\n",
    "``pandas`` is built on top of NumPy and is a great tool for data analysis.\n",
    "- ``pandas.Series`` is a 1-dimensional array-like object with a name and index.\n",
    "- ``pandas.DataFrame`` is a 2-dimensional array-like object with a column and row labels.\n",
    "\n",
    "To create a ``pandas.Series``, we can use the ``pandas.Series()`` function."
   ],
   "metadata": {
    "collapsed": false,
    "pycharm": {
     "name": "#%% md\n"
    }
   }
  },
  {
   "cell_type": "code",
   "execution_count": 142,
   "outputs": [
    {
     "data": {
      "text/plain": "0    1\n1    2\n2    3\n3    4\n4    5\ndtype: int64"
     },
     "execution_count": 142,
     "metadata": {},
     "output_type": "execute_result"
    }
   ],
   "source": [
    "import pandas as pd\n",
    "\n",
    "\n",
    "x = pd.Series([1, 2, 3, 4, 5])\n",
    "x"
   ],
   "metadata": {
    "collapsed": false,
    "pycharm": {
     "name": "#%%\n"
    }
   }
  },
  {
   "cell_type": "code",
   "execution_count": 143,
   "outputs": [
    {
     "data": {
      "text/plain": "a    1\nb    2\nc    3\nd    4\ne    5\ndtype: int64"
     },
     "execution_count": 143,
     "metadata": {},
     "output_type": "execute_result"
    }
   ],
   "source": [
    "# Using explicit indices\n",
    "y = pd.Series([1, 2, 3, 4, 5], index=['a', 'b', 'c', 'd', 'e'])\n",
    "y"
   ],
   "metadata": {
    "collapsed": false,
    "pycharm": {
     "name": "#%%\n"
    }
   }
  },
  {
   "cell_type": "code",
   "execution_count": 144,
   "outputs": [
    {
     "data": {
      "text/plain": "a    1\nb    2\nc    3\nd    4\ne    5\ndtype: int64"
     },
     "execution_count": 144,
     "metadata": {},
     "output_type": "execute_result"
    }
   ],
   "source": [
    "# Using a dictionary\n",
    "z = pd.Series({'a': 1, 'b': 2, 'c': 3, 'd': 4, 'e': 5})\n",
    "z"
   ],
   "metadata": {
    "collapsed": false,
    "pycharm": {
     "name": "#%%\n"
    }
   }
  },
  {
   "cell_type": "markdown",
   "source": [
    "To create a ``pandas.DataFrame``, we can use the ``pandas.DataFrame()`` function."
   ],
   "metadata": {
    "collapsed": false,
    "pycharm": {
     "name": "#%% md\n"
    }
   }
  },
  {
   "cell_type": "code",
   "execution_count": 145,
   "outputs": [
    {
     "data": {
      "text/plain": "   name  age    ZIP\n0  John   30  12345\n1  Mary   40  23456\n2  Mark   50  34567",
      "text/html": "<div>\n<style scoped>\n    .dataframe tbody tr th:only-of-type {\n        vertical-align: middle;\n    }\n\n    .dataframe tbody tr th {\n        vertical-align: top;\n    }\n\n    .dataframe thead th {\n        text-align: right;\n    }\n</style>\n<table border=\"1\" class=\"dataframe\">\n  <thead>\n    <tr style=\"text-align: right;\">\n      <th></th>\n      <th>name</th>\n      <th>age</th>\n      <th>ZIP</th>\n    </tr>\n  </thead>\n  <tbody>\n    <tr>\n      <th>0</th>\n      <td>John</td>\n      <td>30</td>\n      <td>12345</td>\n    </tr>\n    <tr>\n      <th>1</th>\n      <td>Mary</td>\n      <td>40</td>\n      <td>23456</td>\n    </tr>\n    <tr>\n      <th>2</th>\n      <td>Mark</td>\n      <td>50</td>\n      <td>34567</td>\n    </tr>\n  </tbody>\n</table>\n</div>"
     },
     "execution_count": 145,
     "metadata": {},
     "output_type": "execute_result"
    }
   ],
   "source": [
    "# Using a dictionary where the values are lists (can also be 1D numpy arrays)\n",
    "z = pd.DataFrame({\n",
    "    \"name\": [\"John\", \"Mary\", \"Mark\"],\n",
    "    \"age\": [30, 40, 50],\n",
    "    \"ZIP\": [12345, 23456, 34567]\n",
    "})\n",
    "z"
   ],
   "metadata": {
    "collapsed": false,
    "pycharm": {
     "name": "#%%\n"
    }
   }
  },
  {
   "cell_type": "markdown",
   "source": [
    "We can get the index of a ``pandas.Series`` or ``pandas.DataFrame`` using the ``.index`` attribute. Using ``sorted()``, we can sort the index and create a list of the sorted indices.\n",
    "\n",
    "We can also reorder a ``pandas.Series`` or ``pandas.DataFrame`` using the ``.reindex()`` method."
   ],
   "metadata": {
    "collapsed": false,
    "pycharm": {
     "name": "#%% md\n"
    }
   }
  },
  {
   "cell_type": "markdown",
   "source": [
    "## 4.1.2: Loading and Inspecting Data\n",
    "\n",
    "We will now load and inspect the data stored in ``whiskey.txt`` and ``regions.txt``, both of which are formatted in a CSV format."
   ],
   "metadata": {
    "collapsed": false,
    "pycharm": {
     "name": "#%% md\n"
    }
   }
  },
  {
   "cell_type": "code",
   "execution_count": 146,
   "outputs": [],
   "source": [
    "import numpy as np, pandas as pd\n",
    "\n",
    "whiskies = pd.read_csv('whiskies.txt')\n",
    "whiskies[\"Region\"] = pd.read_csv('regions.txt')"
   ],
   "metadata": {
    "collapsed": false,
    "pycharm": {
     "name": "#%%\n"
    }
   }
  },
  {
   "cell_type": "markdown",
   "source": [
    "We can use the ``.head()`` method to view the first few rows of the data. We can use the ``.tail()`` method to view the last few rows of the data."
   ],
   "metadata": {
    "collapsed": false,
    "pycharm": {
     "name": "#%% md\n"
    }
   }
  },
  {
   "cell_type": "code",
   "execution_count": 147,
   "outputs": [
    {
     "data": {
      "text/plain": "   RowID Distillery  Body  Sweetness  Smoky  Medicinal  Tobacco  Honey  Spicy  \\\n0      1  Aberfeldy     2          2      2          0        0      2      1   \n1      2   Aberlour     3          3      1          0        0      4      3   \n2      3     AnCnoc     1          3      2          0        0      2      0   \n3      4     Ardbeg     4          1      4          4        0      0      2   \n4      5    Ardmore     2          2      2          0        0      1      1   \n\n   Winey  Nutty  Malty  Fruity  Floral     Postcode   Latitude   Longitude  \\\n0      2      2      2       2       2   \\tPH15 2EB     286580      749680   \n1      2      2      3       3       2   \\tAB38 9PJ     326340      842570   \n2      0      2      2       3       2    \\tAB5 5LI     352960      839320   \n3      0      1      2       1       0   \\tPA42 7EB     141560      646220   \n4      1      2      3       1       1   \\tAB54 4NH     355350      829140   \n\n      Region  \n0  Highlands  \n1   Speyside  \n2  Highlands  \n3      Islay  \n4  Highlands  ",
      "text/html": "<div>\n<style scoped>\n    .dataframe tbody tr th:only-of-type {\n        vertical-align: middle;\n    }\n\n    .dataframe tbody tr th {\n        vertical-align: top;\n    }\n\n    .dataframe thead th {\n        text-align: right;\n    }\n</style>\n<table border=\"1\" class=\"dataframe\">\n  <thead>\n    <tr style=\"text-align: right;\">\n      <th></th>\n      <th>RowID</th>\n      <th>Distillery</th>\n      <th>Body</th>\n      <th>Sweetness</th>\n      <th>Smoky</th>\n      <th>Medicinal</th>\n      <th>Tobacco</th>\n      <th>Honey</th>\n      <th>Spicy</th>\n      <th>Winey</th>\n      <th>Nutty</th>\n      <th>Malty</th>\n      <th>Fruity</th>\n      <th>Floral</th>\n      <th>Postcode</th>\n      <th>Latitude</th>\n      <th>Longitude</th>\n      <th>Region</th>\n    </tr>\n  </thead>\n  <tbody>\n    <tr>\n      <th>0</th>\n      <td>1</td>\n      <td>Aberfeldy</td>\n      <td>2</td>\n      <td>2</td>\n      <td>2</td>\n      <td>0</td>\n      <td>0</td>\n      <td>2</td>\n      <td>1</td>\n      <td>2</td>\n      <td>2</td>\n      <td>2</td>\n      <td>2</td>\n      <td>2</td>\n      <td>\\tPH15 2EB</td>\n      <td>286580</td>\n      <td>749680</td>\n      <td>Highlands</td>\n    </tr>\n    <tr>\n      <th>1</th>\n      <td>2</td>\n      <td>Aberlour</td>\n      <td>3</td>\n      <td>3</td>\n      <td>1</td>\n      <td>0</td>\n      <td>0</td>\n      <td>4</td>\n      <td>3</td>\n      <td>2</td>\n      <td>2</td>\n      <td>3</td>\n      <td>3</td>\n      <td>2</td>\n      <td>\\tAB38 9PJ</td>\n      <td>326340</td>\n      <td>842570</td>\n      <td>Speyside</td>\n    </tr>\n    <tr>\n      <th>2</th>\n      <td>3</td>\n      <td>AnCnoc</td>\n      <td>1</td>\n      <td>3</td>\n      <td>2</td>\n      <td>0</td>\n      <td>0</td>\n      <td>2</td>\n      <td>0</td>\n      <td>0</td>\n      <td>2</td>\n      <td>2</td>\n      <td>3</td>\n      <td>2</td>\n      <td>\\tAB5 5LI</td>\n      <td>352960</td>\n      <td>839320</td>\n      <td>Highlands</td>\n    </tr>\n    <tr>\n      <th>3</th>\n      <td>4</td>\n      <td>Ardbeg</td>\n      <td>4</td>\n      <td>1</td>\n      <td>4</td>\n      <td>4</td>\n      <td>0</td>\n      <td>0</td>\n      <td>2</td>\n      <td>0</td>\n      <td>1</td>\n      <td>2</td>\n      <td>1</td>\n      <td>0</td>\n      <td>\\tPA42 7EB</td>\n      <td>141560</td>\n      <td>646220</td>\n      <td>Islay</td>\n    </tr>\n    <tr>\n      <th>4</th>\n      <td>5</td>\n      <td>Ardmore</td>\n      <td>2</td>\n      <td>2</td>\n      <td>2</td>\n      <td>0</td>\n      <td>0</td>\n      <td>1</td>\n      <td>1</td>\n      <td>1</td>\n      <td>2</td>\n      <td>3</td>\n      <td>1</td>\n      <td>1</td>\n      <td>\\tAB54 4NH</td>\n      <td>355350</td>\n      <td>829140</td>\n      <td>Highlands</td>\n    </tr>\n  </tbody>\n</table>\n</div>"
     },
     "execution_count": 147,
     "metadata": {},
     "output_type": "execute_result"
    }
   ],
   "source": [
    "whiskies.head()"
   ],
   "metadata": {
    "collapsed": false,
    "pycharm": {
     "name": "#%%\n"
    }
   }
  },
  {
   "cell_type": "code",
   "execution_count": 148,
   "outputs": [
    {
     "data": {
      "text/plain": "    RowID    Distillery  Body  Sweetness  Smoky  Medicinal  Tobacco  Honey  \\\n81     82     Tobermory     1          1      1          0        0      1   \n82     83       Tomatin     2          3      2          0        0      2   \n83     84     Tomintoul     0          3      1          0        0      2   \n84     85       Tormore     2          2      1          0        0      1   \n85     86  Tullibardine     2          3      0          0        1      0   \n\n    Spicy  Winey  Nutty  Malty  Fruity  Floral   Postcode   Latitude  \\\n81      0      0      1      2       2       2   PA75 6NR     150450   \n82      2      1      1      2       0       1   IV13 7YT     279120   \n83      2      1      1      2       1       2   AB37 9AQ     315100   \n84      0      1      2      1       0       0   PH26 3LR     315180   \n85      2      1      1      2       2       1    PH4 1QG     289690   \n\n     Longitude     Region  \n81      755070    Islands  \n82      829630  Highlands  \n83      825560   Speyside  \n84      834960   Speyside  \n85      708850  Highlands  ",
      "text/html": "<div>\n<style scoped>\n    .dataframe tbody tr th:only-of-type {\n        vertical-align: middle;\n    }\n\n    .dataframe tbody tr th {\n        vertical-align: top;\n    }\n\n    .dataframe thead th {\n        text-align: right;\n    }\n</style>\n<table border=\"1\" class=\"dataframe\">\n  <thead>\n    <tr style=\"text-align: right;\">\n      <th></th>\n      <th>RowID</th>\n      <th>Distillery</th>\n      <th>Body</th>\n      <th>Sweetness</th>\n      <th>Smoky</th>\n      <th>Medicinal</th>\n      <th>Tobacco</th>\n      <th>Honey</th>\n      <th>Spicy</th>\n      <th>Winey</th>\n      <th>Nutty</th>\n      <th>Malty</th>\n      <th>Fruity</th>\n      <th>Floral</th>\n      <th>Postcode</th>\n      <th>Latitude</th>\n      <th>Longitude</th>\n      <th>Region</th>\n    </tr>\n  </thead>\n  <tbody>\n    <tr>\n      <th>81</th>\n      <td>82</td>\n      <td>Tobermory</td>\n      <td>1</td>\n      <td>1</td>\n      <td>1</td>\n      <td>0</td>\n      <td>0</td>\n      <td>1</td>\n      <td>0</td>\n      <td>0</td>\n      <td>1</td>\n      <td>2</td>\n      <td>2</td>\n      <td>2</td>\n      <td>PA75 6NR</td>\n      <td>150450</td>\n      <td>755070</td>\n      <td>Islands</td>\n    </tr>\n    <tr>\n      <th>82</th>\n      <td>83</td>\n      <td>Tomatin</td>\n      <td>2</td>\n      <td>3</td>\n      <td>2</td>\n      <td>0</td>\n      <td>0</td>\n      <td>2</td>\n      <td>2</td>\n      <td>1</td>\n      <td>1</td>\n      <td>2</td>\n      <td>0</td>\n      <td>1</td>\n      <td>IV13 7YT</td>\n      <td>279120</td>\n      <td>829630</td>\n      <td>Highlands</td>\n    </tr>\n    <tr>\n      <th>83</th>\n      <td>84</td>\n      <td>Tomintoul</td>\n      <td>0</td>\n      <td>3</td>\n      <td>1</td>\n      <td>0</td>\n      <td>0</td>\n      <td>2</td>\n      <td>2</td>\n      <td>1</td>\n      <td>1</td>\n      <td>2</td>\n      <td>1</td>\n      <td>2</td>\n      <td>AB37 9AQ</td>\n      <td>315100</td>\n      <td>825560</td>\n      <td>Speyside</td>\n    </tr>\n    <tr>\n      <th>84</th>\n      <td>85</td>\n      <td>Tormore</td>\n      <td>2</td>\n      <td>2</td>\n      <td>1</td>\n      <td>0</td>\n      <td>0</td>\n      <td>1</td>\n      <td>0</td>\n      <td>1</td>\n      <td>2</td>\n      <td>1</td>\n      <td>0</td>\n      <td>0</td>\n      <td>PH26 3LR</td>\n      <td>315180</td>\n      <td>834960</td>\n      <td>Speyside</td>\n    </tr>\n    <tr>\n      <th>85</th>\n      <td>86</td>\n      <td>Tullibardine</td>\n      <td>2</td>\n      <td>3</td>\n      <td>0</td>\n      <td>0</td>\n      <td>1</td>\n      <td>0</td>\n      <td>2</td>\n      <td>1</td>\n      <td>1</td>\n      <td>2</td>\n      <td>2</td>\n      <td>1</td>\n      <td>PH4 1QG</td>\n      <td>289690</td>\n      <td>708850</td>\n      <td>Highlands</td>\n    </tr>\n  </tbody>\n</table>\n</div>"
     },
     "execution_count": 148,
     "metadata": {},
     "output_type": "execute_result"
    }
   ],
   "source": [
    "whiskies.tail()"
   ],
   "metadata": {
    "collapsed": false,
    "pycharm": {
     "name": "#%%\n"
    }
   }
  },
  {
   "cell_type": "markdown",
   "source": [
    "We would like to see the specific subset of the ``whiskies`` dataframe that corresponds to the flavors of whiskies. To do this, we can create a new dataframe using the followingg code:"
   ],
   "metadata": {
    "collapsed": false,
    "pycharm": {
     "name": "#%% md\n"
    }
   }
  },
  {
   "cell_type": "code",
   "execution_count": 149,
   "outputs": [
    {
     "data": {
      "text/plain": "   Body  Sweetness  Smoky  Medicinal  Tobacco  Honey  Spicy  Winey  Nutty  \\\n0     2          2      2          0        0      2      1      2      2   \n1     3          3      1          0        0      4      3      2      2   \n2     1          3      2          0        0      2      0      0      2   \n3     4          1      4          4        0      0      2      0      1   \n4     2          2      2          0        0      1      1      1      2   \n\n   Malty  Fruity  Floral  \n0      2       2       2  \n1      3       3       2  \n2      2       3       2  \n3      2       1       0  \n4      3       1       1  ",
      "text/html": "<div>\n<style scoped>\n    .dataframe tbody tr th:only-of-type {\n        vertical-align: middle;\n    }\n\n    .dataframe tbody tr th {\n        vertical-align: top;\n    }\n\n    .dataframe thead th {\n        text-align: right;\n    }\n</style>\n<table border=\"1\" class=\"dataframe\">\n  <thead>\n    <tr style=\"text-align: right;\">\n      <th></th>\n      <th>Body</th>\n      <th>Sweetness</th>\n      <th>Smoky</th>\n      <th>Medicinal</th>\n      <th>Tobacco</th>\n      <th>Honey</th>\n      <th>Spicy</th>\n      <th>Winey</th>\n      <th>Nutty</th>\n      <th>Malty</th>\n      <th>Fruity</th>\n      <th>Floral</th>\n    </tr>\n  </thead>\n  <tbody>\n    <tr>\n      <th>0</th>\n      <td>2</td>\n      <td>2</td>\n      <td>2</td>\n      <td>0</td>\n      <td>0</td>\n      <td>2</td>\n      <td>1</td>\n      <td>2</td>\n      <td>2</td>\n      <td>2</td>\n      <td>2</td>\n      <td>2</td>\n    </tr>\n    <tr>\n      <th>1</th>\n      <td>3</td>\n      <td>3</td>\n      <td>1</td>\n      <td>0</td>\n      <td>0</td>\n      <td>4</td>\n      <td>3</td>\n      <td>2</td>\n      <td>2</td>\n      <td>3</td>\n      <td>3</td>\n      <td>2</td>\n    </tr>\n    <tr>\n      <th>2</th>\n      <td>1</td>\n      <td>3</td>\n      <td>2</td>\n      <td>0</td>\n      <td>0</td>\n      <td>2</td>\n      <td>0</td>\n      <td>0</td>\n      <td>2</td>\n      <td>2</td>\n      <td>3</td>\n      <td>2</td>\n    </tr>\n    <tr>\n      <th>3</th>\n      <td>4</td>\n      <td>1</td>\n      <td>4</td>\n      <td>4</td>\n      <td>0</td>\n      <td>0</td>\n      <td>2</td>\n      <td>0</td>\n      <td>1</td>\n      <td>2</td>\n      <td>1</td>\n      <td>0</td>\n    </tr>\n    <tr>\n      <th>4</th>\n      <td>2</td>\n      <td>2</td>\n      <td>2</td>\n      <td>0</td>\n      <td>0</td>\n      <td>1</td>\n      <td>1</td>\n      <td>1</td>\n      <td>2</td>\n      <td>3</td>\n      <td>1</td>\n      <td>1</td>\n    </tr>\n  </tbody>\n</table>\n</div>"
     },
     "execution_count": 149,
     "metadata": {},
     "output_type": "execute_result"
    }
   ],
   "source": [
    "flavors = whiskies.iloc[:, 2:14]\n",
    "flavors.head()"
   ],
   "metadata": {
    "collapsed": false,
    "pycharm": {
     "name": "#%%\n"
    }
   }
  },
  {
   "cell_type": "markdown",
   "source": [
    "## 4.1.3: Exploring Correlations\n",
    "\n",
    "We want to find out if there are any strong linear correlations between the different taste attributes of each whisky. We can use the ``.corr()`` method to find the correlation between each pair of columns, and by default, this method uses the Pearson correlation coefficient."
   ],
   "metadata": {
    "collapsed": false,
    "pycharm": {
     "name": "#%% md\n"
    }
   }
  },
  {
   "cell_type": "code",
   "execution_count": 150,
   "outputs": [
    {
     "data": {
      "text/plain": "               Body  Sweetness     Smoky  Medicinal   Tobacco     Honey  \\\nBody       1.000000  -0.136518  0.524032   0.354050  0.168718  0.082031   \nSweetness -0.136518   1.000000 -0.405897  -0.392017 -0.147871  0.132558   \nSmoky      0.524032  -0.405897  1.000000   0.686071  0.365501 -0.195318   \nMedicinal  0.354050  -0.392017  0.686071   1.000000  0.425106 -0.396629   \nTobacco    0.168718  -0.147871  0.365501   0.425106  1.000000 -0.275490   \nHoney      0.082031   0.132558 -0.195318  -0.396629 -0.275490  1.000000   \nSpicy      0.188500  -0.054200  0.231745   0.044903  0.054068  0.139563   \nWiney      0.408576   0.115727 -0.028190  -0.202651  0.009097  0.362021   \nNutty      0.126323  -0.032493 -0.023132  -0.113671 -0.117717  0.188492   \nMalty     -0.116859  -0.001516 -0.192875  -0.258959 -0.059347  0.310184   \nFruity    -0.013205   0.019820 -0.312970  -0.330975 -0.235145  0.108822   \nFloral    -0.461203   0.144987 -0.431663  -0.511323 -0.212375  0.183029   \n\n              Spicy     Winey     Nutty     Malty    Fruity    Floral  \nBody       0.188500  0.408576  0.126323 -0.116859 -0.013205 -0.461203  \nSweetness -0.054200  0.115727 -0.032493 -0.001516  0.019820  0.144987  \nSmoky      0.231745 -0.028190 -0.023132 -0.192875 -0.312970 -0.431663  \nMedicinal  0.044903 -0.202651 -0.113671 -0.258959 -0.330975 -0.511323  \nTobacco    0.054068  0.009097 -0.117717 -0.059347 -0.235145 -0.212375  \nHoney      0.139563  0.362021  0.188492  0.310184  0.108822  0.183029  \nSpicy      1.000000  0.092704 -0.042856  0.036303  0.144714  0.034663  \nWiney      0.092704  1.000000  0.198467  0.112368  0.090694 -0.126932  \nNutty     -0.042856  0.198467  1.000000  0.066157  0.071765  0.018302  \nMalty      0.036303  0.112368  0.066157  1.000000  0.207288  0.106309  \nFruity     0.144714  0.090694  0.071765  0.207288  1.000000  0.262336  \nFloral     0.034663 -0.126932  0.018302  0.106309  0.262336  1.000000  ",
      "text/html": "<div>\n<style scoped>\n    .dataframe tbody tr th:only-of-type {\n        vertical-align: middle;\n    }\n\n    .dataframe tbody tr th {\n        vertical-align: top;\n    }\n\n    .dataframe thead th {\n        text-align: right;\n    }\n</style>\n<table border=\"1\" class=\"dataframe\">\n  <thead>\n    <tr style=\"text-align: right;\">\n      <th></th>\n      <th>Body</th>\n      <th>Sweetness</th>\n      <th>Smoky</th>\n      <th>Medicinal</th>\n      <th>Tobacco</th>\n      <th>Honey</th>\n      <th>Spicy</th>\n      <th>Winey</th>\n      <th>Nutty</th>\n      <th>Malty</th>\n      <th>Fruity</th>\n      <th>Floral</th>\n    </tr>\n  </thead>\n  <tbody>\n    <tr>\n      <th>Body</th>\n      <td>1.000000</td>\n      <td>-0.136518</td>\n      <td>0.524032</td>\n      <td>0.354050</td>\n      <td>0.168718</td>\n      <td>0.082031</td>\n      <td>0.188500</td>\n      <td>0.408576</td>\n      <td>0.126323</td>\n      <td>-0.116859</td>\n      <td>-0.013205</td>\n      <td>-0.461203</td>\n    </tr>\n    <tr>\n      <th>Sweetness</th>\n      <td>-0.136518</td>\n      <td>1.000000</td>\n      <td>-0.405897</td>\n      <td>-0.392017</td>\n      <td>-0.147871</td>\n      <td>0.132558</td>\n      <td>-0.054200</td>\n      <td>0.115727</td>\n      <td>-0.032493</td>\n      <td>-0.001516</td>\n      <td>0.019820</td>\n      <td>0.144987</td>\n    </tr>\n    <tr>\n      <th>Smoky</th>\n      <td>0.524032</td>\n      <td>-0.405897</td>\n      <td>1.000000</td>\n      <td>0.686071</td>\n      <td>0.365501</td>\n      <td>-0.195318</td>\n      <td>0.231745</td>\n      <td>-0.028190</td>\n      <td>-0.023132</td>\n      <td>-0.192875</td>\n      <td>-0.312970</td>\n      <td>-0.431663</td>\n    </tr>\n    <tr>\n      <th>Medicinal</th>\n      <td>0.354050</td>\n      <td>-0.392017</td>\n      <td>0.686071</td>\n      <td>1.000000</td>\n      <td>0.425106</td>\n      <td>-0.396629</td>\n      <td>0.044903</td>\n      <td>-0.202651</td>\n      <td>-0.113671</td>\n      <td>-0.258959</td>\n      <td>-0.330975</td>\n      <td>-0.511323</td>\n    </tr>\n    <tr>\n      <th>Tobacco</th>\n      <td>0.168718</td>\n      <td>-0.147871</td>\n      <td>0.365501</td>\n      <td>0.425106</td>\n      <td>1.000000</td>\n      <td>-0.275490</td>\n      <td>0.054068</td>\n      <td>0.009097</td>\n      <td>-0.117717</td>\n      <td>-0.059347</td>\n      <td>-0.235145</td>\n      <td>-0.212375</td>\n    </tr>\n    <tr>\n      <th>Honey</th>\n      <td>0.082031</td>\n      <td>0.132558</td>\n      <td>-0.195318</td>\n      <td>-0.396629</td>\n      <td>-0.275490</td>\n      <td>1.000000</td>\n      <td>0.139563</td>\n      <td>0.362021</td>\n      <td>0.188492</td>\n      <td>0.310184</td>\n      <td>0.108822</td>\n      <td>0.183029</td>\n    </tr>\n    <tr>\n      <th>Spicy</th>\n      <td>0.188500</td>\n      <td>-0.054200</td>\n      <td>0.231745</td>\n      <td>0.044903</td>\n      <td>0.054068</td>\n      <td>0.139563</td>\n      <td>1.000000</td>\n      <td>0.092704</td>\n      <td>-0.042856</td>\n      <td>0.036303</td>\n      <td>0.144714</td>\n      <td>0.034663</td>\n    </tr>\n    <tr>\n      <th>Winey</th>\n      <td>0.408576</td>\n      <td>0.115727</td>\n      <td>-0.028190</td>\n      <td>-0.202651</td>\n      <td>0.009097</td>\n      <td>0.362021</td>\n      <td>0.092704</td>\n      <td>1.000000</td>\n      <td>0.198467</td>\n      <td>0.112368</td>\n      <td>0.090694</td>\n      <td>-0.126932</td>\n    </tr>\n    <tr>\n      <th>Nutty</th>\n      <td>0.126323</td>\n      <td>-0.032493</td>\n      <td>-0.023132</td>\n      <td>-0.113671</td>\n      <td>-0.117717</td>\n      <td>0.188492</td>\n      <td>-0.042856</td>\n      <td>0.198467</td>\n      <td>1.000000</td>\n      <td>0.066157</td>\n      <td>0.071765</td>\n      <td>0.018302</td>\n    </tr>\n    <tr>\n      <th>Malty</th>\n      <td>-0.116859</td>\n      <td>-0.001516</td>\n      <td>-0.192875</td>\n      <td>-0.258959</td>\n      <td>-0.059347</td>\n      <td>0.310184</td>\n      <td>0.036303</td>\n      <td>0.112368</td>\n      <td>0.066157</td>\n      <td>1.000000</td>\n      <td>0.207288</td>\n      <td>0.106309</td>\n    </tr>\n    <tr>\n      <th>Fruity</th>\n      <td>-0.013205</td>\n      <td>0.019820</td>\n      <td>-0.312970</td>\n      <td>-0.330975</td>\n      <td>-0.235145</td>\n      <td>0.108822</td>\n      <td>0.144714</td>\n      <td>0.090694</td>\n      <td>0.071765</td>\n      <td>0.207288</td>\n      <td>1.000000</td>\n      <td>0.262336</td>\n    </tr>\n    <tr>\n      <th>Floral</th>\n      <td>-0.461203</td>\n      <td>0.144987</td>\n      <td>-0.431663</td>\n      <td>-0.511323</td>\n      <td>-0.212375</td>\n      <td>0.183029</td>\n      <td>0.034663</td>\n      <td>-0.126932</td>\n      <td>0.018302</td>\n      <td>0.106309</td>\n      <td>0.262336</td>\n      <td>1.000000</td>\n    </tr>\n  </tbody>\n</table>\n</div>"
     },
     "execution_count": 150,
     "metadata": {},
     "output_type": "execute_result"
    }
   ],
   "source": [
    "corr_flavors = flavors.corr()\n",
    "corr_flavors"
   ],
   "metadata": {
    "collapsed": false,
    "pycharm": {
     "name": "#%%\n"
    }
   }
  },
  {
   "cell_type": "markdown",
   "source": [
    "The above output corresponds to a correlation matrix. Let us plot this matrix."
   ],
   "metadata": {
    "collapsed": false,
    "pycharm": {
     "name": "#%% md\n"
    }
   }
  },
  {
   "cell_type": "code",
   "execution_count": 151,
   "outputs": [
    {
     "data": {
      "text/plain": "<Figure size 720x720 with 2 Axes>",
      "image/png": "[encoded data removed]"
     },
     "metadata": {
      "needs_background": "light"
     },
     "output_type": "display_data"
    }
   ],
   "source": [
    "import matplotlib.pyplot as plt\n",
    "\n",
    "\n",
    "plt.figure(figsize=(10, 10))\n",
    "plt.pcolor(corr_flavors)\n",
    "plt.colorbar()\n",
    "plt.show()"
   ],
   "metadata": {
    "collapsed": false,
    "pycharm": {
     "name": "#%%\n"
    }
   }
  },
  {
   "cell_type": "markdown",
   "source": [
    "We now have a plot where we can see the correlation between each pair of taste attributes. We can also transpose the ``corr_flavors`` matrix to find correlations between the whiskies with respect to flavors (this can also be interpreted as the correlations between the whiskey refineries and the flavors of whiskey they produce)."
   ],
   "metadata": {
    "collapsed": false,
    "pycharm": {
     "name": "#%% md\n"
    }
   }
  },
  {
   "cell_type": "code",
   "execution_count": 152,
   "outputs": [
    {
     "data": {
      "text/plain": "          0         1         2         3         4\n0  1.000000  0.708632  0.697354 -0.147311  0.731902\n1  0.708632  1.000000  0.503074 -0.228591  0.511834\n2  0.697354  0.503074  1.000000 -0.140435  0.557020\n3 -0.147311 -0.228591 -0.140435  1.000000  0.231617\n4  0.731902  0.511834  0.557020  0.231617  1.000000",
      "text/html": "<div>\n<style scoped>\n    .dataframe tbody tr th:only-of-type {\n        vertical-align: middle;\n    }\n\n    .dataframe tbody tr th {\n        vertical-align: top;\n    }\n\n    .dataframe thead th {\n        text-align: right;\n    }\n</style>\n<table border=\"1\" class=\"dataframe\">\n  <thead>\n    <tr style=\"text-align: right;\">\n      <th></th>\n      <th>0</th>\n      <th>1</th>\n      <th>2</th>\n      <th>3</th>\n      <th>4</th>\n    </tr>\n  </thead>\n  <tbody>\n    <tr>\n      <th>0</th>\n      <td>1.000000</td>\n      <td>0.708632</td>\n      <td>0.697354</td>\n      <td>-0.147311</td>\n      <td>0.731902</td>\n    </tr>\n    <tr>\n      <th>1</th>\n      <td>0.708632</td>\n      <td>1.000000</td>\n      <td>0.503074</td>\n      <td>-0.228591</td>\n      <td>0.511834</td>\n    </tr>\n    <tr>\n      <th>2</th>\n      <td>0.697354</td>\n      <td>0.503074</td>\n      <td>1.000000</td>\n      <td>-0.140435</td>\n      <td>0.557020</td>\n    </tr>\n    <tr>\n      <th>3</th>\n      <td>-0.147311</td>\n      <td>-0.228591</td>\n      <td>-0.140435</td>\n      <td>1.000000</td>\n      <td>0.231617</td>\n    </tr>\n    <tr>\n      <th>4</th>\n      <td>0.731902</td>\n      <td>0.511834</td>\n      <td>0.557020</td>\n      <td>0.231617</td>\n      <td>1.000000</td>\n    </tr>\n  </tbody>\n</table>\n</div>"
     },
     "execution_count": 152,
     "metadata": {},
     "output_type": "execute_result"
    }
   ],
   "source": [
    "corr_whiskies = flavors.T.corr()\n",
    "corr_whiskies.iloc[:5, :5]"
   ],
   "metadata": {
    "collapsed": false,
    "pycharm": {
     "name": "#%%\n"
    }
   }
  },
  {
   "cell_type": "code",
   "execution_count": 153,
   "outputs": [
    {
     "data": {
      "text/plain": "<Figure size 720x720 with 2 Axes>",
      "image/png": "[encoded data removed]"
     },
     "metadata": {
      "needs_background": "light"
     },
     "output_type": "display_data"
    }
   ],
   "source": [
    "plt.figure(figsize=(10, 10))\n",
    "plt.pcolor(corr_whiskies)\n",
    "plt.colorbar()\n",
    "plt.show()"
   ],
   "metadata": {
    "collapsed": false,
    "pycharm": {
     "name": "#%%\n"
    }
   }
  },
  {
   "cell_type": "markdown",
   "source": [
    "## 4.1.4 Clustering Whiskies by Flavor Profile\n",
    "\n",
    "Spectral co-clustering is a method for grouping data points into clusters. There exists a Python function called ``scipy.cluster.bicluster.SpectralCoclustering()`` that can be used to perform spectral co-clustering.\n",
    "\n",
    "Although this problem is still computationally to solve directly, an approximate solution can be found using eigenvalues and eigenvectors of an adjacency matrix."
   ],
   "metadata": {
    "collapsed": false,
    "pycharm": {
     "name": "#%% md\n"
    }
   }
  },
  {
   "cell_type": "code",
   "execution_count": 154,
   "outputs": [
    {
     "data": {
      "text/plain": "array([[False, False, False, False, False,  True, False, False, False,\n        False],\n       [False, False, False, False, False, False, False, False, False,\n        False],\n       [False,  True, False, False, False, False, False,  True, False,\n        False],\n       [False, False,  True, False, False, False,  True, False, False,\n         True],\n       [False, False, False,  True, False, False, False, False, False,\n        False],\n       [ True, False, False, False,  True, False, False, False,  True,\n        False]])"
     },
     "execution_count": 154,
     "metadata": {},
     "output_type": "execute_result"
    }
   ],
   "source": [
    "from sklearn.cluster import SpectralCoclustering\n",
    "\n",
    "\n",
    "model = SpectralCoclustering(n_clusters=6, random_state=0) # create a spectral co-clustering model with 6 clusters (represnting the 6 regions)\n",
    "\n",
    "model.fit(corr_whiskies) # fit the model to the whiskies data\n",
    "\n",
    "model.rows_[:, :10]  # see the clusters as rows and the individual whiskies as columns, with \"True\" denoting that the whisky belongs to a certain cluster and \"False\" denoting that it does not"
   ],
   "metadata": {
    "collapsed": false,
    "pycharm": {
     "name": "#%%\n"
    }
   }
  },
  {
   "cell_type": "code",
   "execution_count": 155,
   "outputs": [
    {
     "data": {
      "text/plain": "array([20,  5, 19, 17,  6, 19])"
     },
     "execution_count": 155,
     "metadata": {},
     "output_type": "execute_result"
    }
   ],
   "source": [
    "np.sum(model.rows_, axis=1) # the number of whiskies in each cluster"
   ],
   "metadata": {
    "collapsed": false,
    "pycharm": {
     "name": "#%%\n"
    }
   }
  },
  {
   "cell_type": "code",
   "execution_count": 156,
   "outputs": [
    {
     "data": {
      "text/plain": "array([5, 2, 3, 4, 5, 0, 3, 2, 5, 3], dtype=int32)"
     },
     "execution_count": 156,
     "metadata": {},
     "output_type": "execute_result"
    }
   ],
   "source": [
    "model.row_labels_[:10] # the output denotes the cluster that each whisky belongs to"
   ],
   "metadata": {
    "collapsed": false,
    "pycharm": {
     "name": "#%%\n"
    }
   }
  },
  {
   "cell_type": "markdown",
   "source": [
    "## 4.1.5: Comparing Correlation Matrices\n",
    "\n",
    "We are now ready to compare the correlation matrices between the actual regions of the whiskies to the approximate solutions."
   ],
   "metadata": {
    "collapsed": false,
    "pycharm": {
     "name": "#%% md\n"
    }
   }
  },
  {
   "cell_type": "code",
   "execution_count": 157,
   "outputs": [],
   "source": [
    "whiskies[\"Group\"] = pd.Series(model.row_labels_, index=whiskies.index)  # add a column to the dataframe with the cluster labels\n",
    "whiskies = whiskies.iloc[whiskies[\"Group\"].argsort()]  # sort the dataframe by the cluster labels\n",
    "whiskies = whiskies.reset_index()  # reset the index"
   ],
   "metadata": {
    "collapsed": false,
    "pycharm": {
     "name": "#%%\n"
    }
   }
  },
  {
   "cell_type": "code",
   "execution_count": 158,
   "outputs": [],
   "source": [
    "correlations = whiskies.iloc[:, 2:14].T.corr()  # the correlation matrix of the clusters after updating the indices\n",
    "correlations = np.array(correlations)  # convert the correlation matrix to a numpy array"
   ],
   "metadata": {
    "collapsed": false,
    "pycharm": {
     "name": "#%%\n"
    }
   }
  },
  {
   "cell_type": "markdown",
   "source": [
    "## 4.2.1 Introduction to GPS Tracking of Birds\n",
    "\n",
    "We are going to do some data processing and analysis on GPS data from three seagulls, as collected by the LifeWatch INBO project. The data is stored in a CSV file called ``bird_tracking.csv``"
   ],
   "metadata": {
    "collapsed": false,
    "pycharm": {
     "name": "#%% md\n"
    }
   }
  },
  {
   "cell_type": "code",
   "execution_count": 159,
   "outputs": [
    {
     "name": "stdout",
     "output_type": "stream",
     "text": [
      "<class 'pandas.core.frame.DataFrame'>\n",
      "RangeIndex: 61920 entries, 0 to 61919\n",
      "Data columns (total 9 columns):\n",
      " #   Column              Non-Null Count  Dtype  \n",
      "---  ------              --------------  -----  \n",
      " 0   Unnamed: 0          61920 non-null  int64  \n",
      " 1   altitude            61920 non-null  int64  \n",
      " 2   date_time           61920 non-null  object \n",
      " 3   device_info_serial  61920 non-null  int64  \n",
      " 4   direction           61477 non-null  float64\n",
      " 5   latitude            61920 non-null  float64\n",
      " 6   longitude           61920 non-null  float64\n",
      " 7   speed_2d            61477 non-null  float64\n",
      " 8   bird_name           61920 non-null  object \n",
      "dtypes: float64(4), int64(3), object(2)\n",
      "memory usage: 4.3+ MB\n"
     ]
    }
   ],
   "source": [
    "import pandas as pd\n",
    "\n",
    "\n",
    "birddata = pd.read_csv(\"bird_tracking.csv\")\n",
    "birddata.info()  # basic information about the dataframe"
   ],
   "metadata": {
    "collapsed": false,
    "pycharm": {
     "name": "#%%\n"
    }
   }
  },
  {
   "cell_type": "code",
   "execution_count": 160,
   "outputs": [
    {
     "data": {
      "text/plain": "   Unnamed: 0  altitude               date_time  device_info_serial  \\\n0           0        71  2013-08-15 00:18:08+00                 851   \n1           1        68  2013-08-15 00:48:07+00                 851   \n2           2        68  2013-08-15 01:17:58+00                 851   \n3           3        73  2013-08-15 01:47:51+00                 851   \n4           4        69  2013-08-15 02:17:42+00                 851   \n\n    direction   latitude  longitude  speed_2d bird_name  \n0 -150.469753  49.419860   2.120733  0.150000      Eric  \n1 -136.151141  49.419880   2.120746  2.438360      Eric  \n2  160.797477  49.420310   2.120885  0.596657      Eric  \n3   32.769360  49.420359   2.120859  0.310161      Eric  \n4   45.191230  49.420331   2.120887  0.193132      Eric  ",
      "text/html": "<div>\n<style scoped>\n    .dataframe tbody tr th:only-of-type {\n        vertical-align: middle;\n    }\n\n    .dataframe tbody tr th {\n        vertical-align: top;\n    }\n\n    .dataframe thead th {\n        text-align: right;\n    }\n</style>\n<table border=\"1\" class=\"dataframe\">\n  <thead>\n    <tr style=\"text-align: right;\">\n      <th></th>\n      <th>Unnamed: 0</th>\n      <th>altitude</th>\n      <th>date_time</th>\n      <th>device_info_serial</th>\n      <th>direction</th>\n      <th>latitude</th>\n      <th>longitude</th>\n      <th>speed_2d</th>\n      <th>bird_name</th>\n    </tr>\n  </thead>\n  <tbody>\n    <tr>\n      <th>0</th>\n      <td>0</td>\n      <td>71</td>\n      <td>2013-08-15 00:18:08+00</td>\n      <td>851</td>\n      <td>-150.469753</td>\n      <td>49.419860</td>\n      <td>2.120733</td>\n      <td>0.150000</td>\n      <td>Eric</td>\n    </tr>\n    <tr>\n      <th>1</th>\n      <td>1</td>\n      <td>68</td>\n      <td>2013-08-15 00:48:07+00</td>\n      <td>851</td>\n      <td>-136.151141</td>\n      <td>49.419880</td>\n      <td>2.120746</td>\n      <td>2.438360</td>\n      <td>Eric</td>\n    </tr>\n    <tr>\n      <th>2</th>\n      <td>2</td>\n      <td>68</td>\n      <td>2013-08-15 01:17:58+00</td>\n      <td>851</td>\n      <td>160.797477</td>\n      <td>49.420310</td>\n      <td>2.120885</td>\n      <td>0.596657</td>\n      <td>Eric</td>\n    </tr>\n    <tr>\n      <th>3</th>\n      <td>3</td>\n      <td>73</td>\n      <td>2013-08-15 01:47:51+00</td>\n      <td>851</td>\n      <td>32.769360</td>\n      <td>49.420359</td>\n      <td>2.120859</td>\n      <td>0.310161</td>\n      <td>Eric</td>\n    </tr>\n    <tr>\n      <th>4</th>\n      <td>4</td>\n      <td>69</td>\n      <td>2013-08-15 02:17:42+00</td>\n      <td>851</td>\n      <td>45.191230</td>\n      <td>49.420331</td>\n      <td>2.120887</td>\n      <td>0.193132</td>\n      <td>Eric</td>\n    </tr>\n  </tbody>\n</table>\n</div>"
     },
     "execution_count": 160,
     "metadata": {},
     "output_type": "execute_result"
    }
   ],
   "source": [
    "birddata.head()  # the first five rows of the dataframe"
   ],
   "metadata": {
    "collapsed": false,
    "pycharm": {
     "name": "#%%\n"
    }
   }
  },
  {
   "cell_type": "markdown",
   "source": [
    "## 4.2.2 Simple Data Visualizations\n",
    "\n",
    "We will now plot the GPS data of one of the three seagulls. Note that this data represents positions on a sphere and not on a cartesian plane, so the data will appear quite distorted. A cartographic projection is used to make the data more readable, and will be done later on in this part. For now though, we want to get a feel for the data itself.\n",
    "\n",
    "We start by importing the necessary modules."
   ],
   "metadata": {
    "collapsed": false,
    "pycharm": {
     "name": "#%% md\n"
    }
   }
  },
  {
   "cell_type": "code",
   "execution_count": 161,
   "outputs": [],
   "source": [
    "import matplotlib.pyplot as plt, numpy as np"
   ],
   "metadata": {
    "collapsed": false,
    "pycharm": {
     "name": "#%%\n"
    }
   }
  },
  {
   "cell_type": "markdown",
   "source": [
    "First, we will extract the indices in the ``birddata`` dataframe that correspond to the seagull Eric. We will store these indices in the array ``ix``."
   ],
   "metadata": {
    "collapsed": false,
    "pycharm": {
     "name": "#%% md\n"
    }
   }
  },
  {
   "cell_type": "code",
   "execution_count": 162,
   "outputs": [],
   "source": [
    "eric_ix = birddata.bird_name == \"Eric\""
   ],
   "metadata": {
    "collapsed": false,
    "pycharm": {
     "name": "#%%\n"
    }
   }
  },
  {
   "cell_type": "markdown",
   "source": [
    "Then, we will extract the longitude and latitude of each of Eric's observations and record them as ``x`` and ``y`` coordinates in a cartesian plane. Again, this is not optimal for this particular data set as latitudes and longitudes correspond to a plan wrapped on a sphere, but it is fine for this example."
   ],
   "metadata": {
    "collapsed": false,
    "pycharm": {
     "name": "#%% md\n"
    }
   }
  },
  {
   "cell_type": "code",
   "execution_count": 163,
   "outputs": [],
   "source": [
    "(x, y) = birddata.longitude[eric_ix], birddata.latitude[eric_ix]"
   ],
   "metadata": {
    "collapsed": false,
    "pycharm": {
     "name": "#%%\n"
    }
   }
  },
  {
   "cell_type": "markdown",
   "source": [
    "We can now plot the data."
   ],
   "metadata": {
    "collapsed": false,
    "pycharm": {
     "name": "#%% md\n"
    }
   }
  },
  {
   "cell_type": "code",
   "execution_count": 164,
   "outputs": [
    {
     "data": {
      "text/plain": "<Figure size 720x720 with 1 Axes>",
      "image/png": "[encoded data removed]"
     },
     "metadata": {
      "needs_background": "light"
     },
     "output_type": "display_data"
    }
   ],
   "source": [
    "plt.figure(figsize=(10, 10))\n",
    "plt.plot(x, y, \".\")\n",
    "plt.show()"
   ],
   "metadata": {
    "collapsed": false,
    "pycharm": {
     "name": "#%%\n"
    }
   }
  },
  {
   "cell_type": "markdown",
   "source": [
    "From this graph, we can generally see a pattern in Eric's movement first heading northeast, then northwest, then northeast again for a longer distance. It appears that they then head in similar corridors back to the original starting point. There are also bigger gaps in some places in the graph, but it is unclear whether these are gaps due to measurement errors or because Eric was moving faster in some legs.\n",
    "\n",
    "Now we will extend this plot for all three birds in which we are interested in this case study. We first start by storing the names of birds in the ``birddata`` dataframe in the array ``bird_names``."
   ],
   "metadata": {
    "collapsed": false,
    "pycharm": {
     "name": "#%% md\n"
    }
   }
  },
  {
   "cell_type": "code",
   "execution_count": 165,
   "outputs": [],
   "source": [
    "bird_names = birddata.bird_name.unique()"
   ],
   "metadata": {
    "collapsed": false,
    "pycharm": {
     "name": "#%%\n"
    }
   }
  },
  {
   "cell_type": "markdown",
   "source": [
    "Let us check the names of the birds in the dataframe."
   ],
   "metadata": {
    "collapsed": false,
    "pycharm": {
     "name": "#%% md\n"
    }
   }
  },
  {
   "cell_type": "code",
   "execution_count": 166,
   "outputs": [
    {
     "data": {
      "text/plain": "array(['Eric', 'Nico', 'Sanne'], dtype=object)"
     },
     "execution_count": 166,
     "metadata": {},
     "output_type": "execute_result"
    }
   ],
   "source": [
    "bird_names"
   ],
   "metadata": {
    "collapsed": false,
    "pycharm": {
     "name": "#%%\n"
    }
   }
  },
  {
   "cell_type": "markdown",
   "source": [
    "We can see that there are three birds in the dataframe: Eric, Nico, and Sanne.\n",
    "\n",
    "Using very similar code looped over all three birds, we can now plot the data for each bird on a single figure."
   ],
   "metadata": {
    "collapsed": false,
    "pycharm": {
     "name": "#%% md\n"
    }
   }
  },
  {
   "cell_type": "code",
   "execution_count": 167,
   "outputs": [
    {
     "data": {
      "text/plain": "<Figure size 720x720 with 1 Axes>",
      "image/png": "[encoded data removed]"
     },
     "metadata": {
      "needs_background": "light"
     },
     "output_type": "display_data"
    }
   ],
   "source": [
    "plt.figure(figsize=(10, 10))  # initialize the figure\n",
    "\n",
    "for bird_name in bird_names:\n",
    "    ix = birddata.bird_name == bird_name\n",
    "    (x, y) = birddata.longitude[ix], birddata.latitude[ix]\n",
    "    plt.plot(x, y, \".\", label=bird_name)\n",
    "\n",
    "plt.xlabel(\"Longitude\")\n",
    "plt.ylabel(\"Latitude\")\n",
    "plt.legend(loc=\"lower right\")\n",
    "plt.show()"
   ],
   "metadata": {
    "collapsed": false,
    "pycharm": {
     "name": "#%%\n"
    }
   }
  },
  {
   "cell_type": "markdown",
   "source": [
    "We can see that the flight paths of each bird are very similar, but Nico and Sanne seem to venture further south than Eric."
   ],
   "metadata": {
    "collapsed": false,
    "pycharm": {
     "name": "#%% md\n"
    }
   }
  },
  {
   "cell_type": "markdown",
   "source": [
    "## 4.2.3 Examining Flight Speed\n",
    "\n",
    "The column  ``speed_2d`` contains the speed of the seagulls approximated on a 2D cartesian plane. We will now examine and analyze this data, starting with the approximate speeds for just Eric."
   ],
   "metadata": {
    "collapsed": false,
    "pycharm": {
     "name": "#%% md\n"
    }
   }
  },
  {
   "cell_type": "code",
   "execution_count": 168,
   "outputs": [],
   "source": [
    "eric_ix = birddata.bird_name == \"Eric\"  # get the indices of the bird data for Eric\n",
    "speed = birddata.speed_2d[eric_ix]  # get the speed data for Eric"
   ],
   "metadata": {
    "collapsed": false,
    "pycharm": {
     "name": "#%%\n"
    }
   }
  },
  {
   "cell_type": "markdown",
   "source": [
    "However, if you try to plot the speed data for eric using ``plt.hist``, you will get an error. This error does not come up for the first 10 data points. This indicates that this speed data may be containing objects that are not numbers. Let us run the following code to check for this error."
   ],
   "metadata": {
    "collapsed": false,
    "pycharm": {
     "name": "#%% md\n"
    }
   }
  },
  {
   "cell_type": "code",
   "execution_count": 169,
   "outputs": [
    {
     "data": {
      "text/plain": "(85,)"
     },
     "execution_count": 169,
     "metadata": {},
     "output_type": "execute_result"
    }
   ],
   "source": [
    "speed[np.isnan(speed) == True].shape"
   ],
   "metadata": {
    "collapsed": false,
    "pycharm": {
     "name": "#%%\n"
    }
   }
  },
  {
   "cell_type": "markdown",
   "source": [
    "We can not only see that there are indeed values in the speed data that are listed as NaN (not a number), but also that there are exactly 85 of these values. Let us extract the indices of these values to ignore them in the histogram plot."
   ],
   "metadata": {
    "collapsed": false,
    "pycharm": {
     "name": "#%% md\n"
    }
   }
  },
  {
   "cell_type": "code",
   "execution_count": 170,
   "outputs": [],
   "source": [
    "nan_ix = np.isnan(speed) == True"
   ],
   "metadata": {
    "collapsed": false,
    "pycharm": {
     "name": "#%%\n"
    }
   }
  },
  {
   "cell_type": "markdown",
   "source": [
    "Let us turn this array into the list of indices to include by using the bitwise NOT operator ``~``."
   ],
   "metadata": {
    "collapsed": false,
    "pycharm": {
     "name": "#%% md\n"
    }
   }
  },
  {
   "cell_type": "code",
   "execution_count": 171,
   "outputs": [],
   "source": [
    "ix_include = ~nan_ix"
   ],
   "metadata": {
    "collapsed": false,
    "pycharm": {
     "name": "#%%\n"
    }
   }
  },
  {
   "cell_type": "markdown",
   "source": [
    "We can now plot the speed data for Eric using the indices we have extracted."
   ],
   "metadata": {
    "collapsed": false,
    "pycharm": {
     "name": "#%% md\n"
    }
   }
  },
  {
   "cell_type": "code",
   "execution_count": 172,
   "outputs": [
    {
     "data": {
      "text/plain": "<Figure size 720x720 with 1 Axes>",
      "image/png": "[encoded data removed]"
     },
     "metadata": {
      "needs_background": "light"
     },
     "output_type": "display_data"
    }
   ],
   "source": [
    "plt.figure(figsize=(10, 10))\n",
    "plt.hist(speed[ix_include])\n",
    "plt.show()"
   ],
   "metadata": {
    "collapsed": false,
    "pycharm": {
     "name": "#%%\n"
    }
   }
  },
  {
   "cell_type": "markdown",
   "source": [
    "We will now normalize this graph and add labels to make the histogram more readable."
   ],
   "metadata": {
    "collapsed": false,
    "pycharm": {
     "name": "#%% md\n"
    }
   }
  },
  {
   "cell_type": "code",
   "execution_count": 173,
   "outputs": [
    {
     "data": {
      "text/plain": "<Figure size 720x720 with 1 Axes>",
      "image/png": "[encoded data removed]"
     },
     "metadata": {
      "needs_background": "light"
     },
     "output_type": "display_data"
    }
   ],
   "source": [
    "plt.figure(figsize=(10, 10))\n",
    "plt.hist(speed[ix_include], bins=np.linspace(0, 30, 20), density=True)\n",
    "plt.xlabel(\"Speed (m/s)\")\n",
    "plt.ylabel(\"Frequency\")\n",
    "plt.show()"
   ],
   "metadata": {
    "collapsed": false,
    "pycharm": {
     "name": "#%%\n"
    }
   }
  },
  {
   "cell_type": "markdown",
   "source": [
    "This method of looking and excluding for NaNs in your data is a common and appreciated practice you should be familiar with. However, ``pandas`` actually has plotting functionality that can automatically handle this for you. The downside is that ``pandas`` plots are not as customizable as ``pyplot`` plots."
   ],
   "metadata": {
    "collapsed": false,
    "pycharm": {
     "name": "#%% md\n"
    }
   }
  },
  {
   "cell_type": "code",
   "execution_count": 174,
   "outputs": [
    {
     "data": {
      "text/plain": "<Figure size 720x720 with 1 Axes>",
      "image/png": "[encoded data removed]"
     },
     "metadata": {
      "needs_background": "light"
     },
     "output_type": "display_data"
    }
   ],
   "source": [
    "plt.figure(figsize=(10, 10))\n",
    "birddata.speed_2d.plot(kind=\"hist\", range=[0, 30])\n",
    "plt.xlabel(\"Speed (m/s)\")\n",
    "plt.show()"
   ],
   "metadata": {
    "collapsed": false,
    "pycharm": {
     "name": "#%%\n"
    }
   }
  },
  {
   "cell_type": "markdown",
   "source": [
    "## 4.2.4 Using DateTime\n",
    "\n",
    "In ``birddata`` we have a column ``date_time`` that contains the date and time of the observations. Let us examine a few of these datetime objects."
   ],
   "metadata": {
    "collapsed": false,
    "pycharm": {
     "name": "#%% md\n"
    }
   }
  },
  {
   "cell_type": "code",
   "execution_count": 175,
   "outputs": [
    {
     "data": {
      "text/plain": "0    2013-08-15 00:18:08+00\n1    2013-08-15 00:48:07+00\n2    2013-08-15 01:17:58+00\nName: date_time, dtype: object"
     },
     "execution_count": 175,
     "metadata": {},
     "output_type": "execute_result"
    }
   ],
   "source": [
    "birddata.date_time[0:3]"
   ],
   "metadata": {
    "collapsed": false,
    "pycharm": {
     "name": "#%%\n"
    }
   }
  },
  {
   "cell_type": "markdown",
   "source": [
    "These entries are all `str`'s. If we want to operate on these datetime entries, we need to covert them into datetime objects. These objects are in the format ``datetime.datetime(year, month, day, hour, minute, second)``. Let us try converting the first datetime entry to a datetime object."
   ],
   "metadata": {
    "collapsed": false,
    "pycharm": {
     "name": "#%% md\n"
    }
   }
  },
  {
   "cell_type": "code",
   "execution_count": 176,
   "outputs": [
    {
     "name": "stdout",
     "output_type": "stream",
     "text": [
      "<class 'str'>\n"
     ]
    },
    {
     "data": {
      "text/plain": "datetime.datetime(2013, 8, 15, 0, 18, 8)"
     },
     "execution_count": 176,
     "metadata": {},
     "output_type": "execute_result"
    }
   ],
   "source": [
    "import datetime\n",
    "\n",
    "date_str = birddata.date_time[0]  # get the first datetime entry, which is a string\n",
    "print(type(date_str))  # check the type of the entry, returns \"str\"\n",
    "date = datetime.datetime.strptime(\n",
    "    date_str[:-3],  # strip the string of the whitespace and the last three characters, which correspond to the UTC offset\n",
    "    \"%Y-%m-%d %H:%M:%S\"  # give the format of the data in the string to effectively convert it to a datetime object\n",
    ")\n",
    "date"
   ],
   "metadata": {
    "collapsed": false,
    "pycharm": {
     "name": "#%%\n"
    }
   }
  },
  {
   "cell_type": "markdown",
   "source": [
    "We can now adapt this code to convert all of the datetime entries in ``birddata`` to datetime objects."
   ],
   "metadata": {
    "collapsed": false,
    "pycharm": {
     "name": "#%% md\n"
    }
   }
  },
  {
   "cell_type": "code",
   "execution_count": 177,
   "outputs": [],
   "source": [
    "timestamps = [] # create an empty list to store the datetime objects\n",
    "for k in range(len(birddata.date_time)):  # loop over the entries in the date_time column\n",
    "    timestamps.append(\n",
    "        datetime.datetime.strptime(\n",
    "            birddata.date_time.iloc[k][:-3],  # strip the string of the whitespace and the last three characters, which correspond to the UTC offset\n",
    "            \"%Y-%m-%d %H:%M:%S\"  # give the format of the data in the string to effectively convert it to a datetime object\n",
    "        )\n",
    "    ) # append the datetime object to the timestamps list"
   ],
   "metadata": {
    "collapsed": false,
    "pycharm": {
     "name": "#%%\n"
    }
   }
  },
  {
   "cell_type": "markdown",
   "source": [
    "Let us now add these datetime objects to the ``birddata`` dataframe."
   ],
   "metadata": {
    "collapsed": false,
    "pycharm": {
     "name": "#%% md\n"
    }
   }
  },
  {
   "cell_type": "code",
   "execution_count": 178,
   "outputs": [
    {
     "data": {
      "text/plain": "   Unnamed: 0  altitude               date_time  device_info_serial  \\\n0           0        71  2013-08-15 00:18:08+00                 851   \n1           1        68  2013-08-15 00:48:07+00                 851   \n2           2        68  2013-08-15 01:17:58+00                 851   \n3           3        73  2013-08-15 01:47:51+00                 851   \n4           4        69  2013-08-15 02:17:42+00                 851   \n\n    direction   latitude  longitude  speed_2d bird_name           timestamp  \n0 -150.469753  49.419860   2.120733  0.150000      Eric 2013-08-15 00:18:08  \n1 -136.151141  49.419880   2.120746  2.438360      Eric 2013-08-15 00:48:07  \n2  160.797477  49.420310   2.120885  0.596657      Eric 2013-08-15 01:17:58  \n3   32.769360  49.420359   2.120859  0.310161      Eric 2013-08-15 01:47:51  \n4   45.191230  49.420331   2.120887  0.193132      Eric 2013-08-15 02:17:42  ",
      "text/html": "<div>\n<style scoped>\n    .dataframe tbody tr th:only-of-type {\n        vertical-align: middle;\n    }\n\n    .dataframe tbody tr th {\n        vertical-align: top;\n    }\n\n    .dataframe thead th {\n        text-align: right;\n    }\n</style>\n<table border=\"1\" class=\"dataframe\">\n  <thead>\n    <tr style=\"text-align: right;\">\n      <th></th>\n      <th>Unnamed: 0</th>\n      <th>altitude</th>\n      <th>date_time</th>\n      <th>device_info_serial</th>\n      <th>direction</th>\n      <th>latitude</th>\n      <th>longitude</th>\n      <th>speed_2d</th>\n      <th>bird_name</th>\n      <th>timestamp</th>\n    </tr>\n  </thead>\n  <tbody>\n    <tr>\n      <th>0</th>\n      <td>0</td>\n      <td>71</td>\n      <td>2013-08-15 00:18:08+00</td>\n      <td>851</td>\n      <td>-150.469753</td>\n      <td>49.419860</td>\n      <td>2.120733</td>\n      <td>0.150000</td>\n      <td>Eric</td>\n      <td>2013-08-15 00:18:08</td>\n    </tr>\n    <tr>\n      <th>1</th>\n      <td>1</td>\n      <td>68</td>\n      <td>2013-08-15 00:48:07+00</td>\n      <td>851</td>\n      <td>-136.151141</td>\n      <td>49.419880</td>\n      <td>2.120746</td>\n      <td>2.438360</td>\n      <td>Eric</td>\n      <td>2013-08-15 00:48:07</td>\n    </tr>\n    <tr>\n      <th>2</th>\n      <td>2</td>\n      <td>68</td>\n      <td>2013-08-15 01:17:58+00</td>\n      <td>851</td>\n      <td>160.797477</td>\n      <td>49.420310</td>\n      <td>2.120885</td>\n      <td>0.596657</td>\n      <td>Eric</td>\n      <td>2013-08-15 01:17:58</td>\n    </tr>\n    <tr>\n      <th>3</th>\n      <td>3</td>\n      <td>73</td>\n      <td>2013-08-15 01:47:51+00</td>\n      <td>851</td>\n      <td>32.769360</td>\n      <td>49.420359</td>\n      <td>2.120859</td>\n      <td>0.310161</td>\n      <td>Eric</td>\n      <td>2013-08-15 01:47:51</td>\n    </tr>\n    <tr>\n      <th>4</th>\n      <td>4</td>\n      <td>69</td>\n      <td>2013-08-15 02:17:42+00</td>\n      <td>851</td>\n      <td>45.191230</td>\n      <td>49.420331</td>\n      <td>2.120887</td>\n      <td>0.193132</td>\n      <td>Eric</td>\n      <td>2013-08-15 02:17:42</td>\n    </tr>\n  </tbody>\n</table>\n</div>"
     },
     "execution_count": 178,
     "metadata": {},
     "output_type": "execute_result"
    }
   ],
   "source": [
    "birddata[\"timestamp\"] = pd.Series(timestamps, index=birddata.index)\n",
    "birddata.head()  # check the first few entries"
   ],
   "metadata": {
    "collapsed": false,
    "pycharm": {
     "name": "#%%\n"
    }
   }
  },
  {
   "cell_type": "markdown",
   "source": [
    "Let us now make a list that stores the elapsed time for each observation for Eric from the beginning of data collection."
   ],
   "metadata": {
    "collapsed": false,
    "pycharm": {
     "name": "#%% md\n"
    }
   }
  },
  {
   "cell_type": "code",
   "execution_count": 179,
   "outputs": [
    {
     "data": {
      "text/plain": "array([Timedelta('0 days 00:00:00'), Timedelta('0 days 00:29:59'),\n       Timedelta('0 days 00:59:50'), Timedelta('0 days 01:29:43'),\n       Timedelta('0 days 01:59:34')], dtype=object)"
     },
     "execution_count": 179,
     "metadata": {},
     "output_type": "execute_result"
    }
   ],
   "source": [
    "times = birddata.timestamp[birddata.bird_name == \"Eric\"]  # get the timestamps for Eric\n",
    "elapsed_times = np.array([time - times[0] for time in times])  # get the elapsed times for Eric\n",
    "elapsed_times[:5] # check the first few entries"
   ],
   "metadata": {
    "collapsed": false,
    "pycharm": {
     "name": "#%%\n"
    }
   }
  },
  {
   "cell_type": "markdown",
   "source": [
    "Note that differences in DateTime objects are returned as special TimeDelta objects. To convert these DateTime objects to a certain time measurement, we can divide by a TimeDelta object corresponding to one unit of time. For example, if we want to convert the elapsed times to days, we can do so by dividing by a TimeDelta object corresponding to one day."
   ],
   "metadata": {
    "collapsed": false,
    "pycharm": {
     "name": "#%% md\n"
    }
   }
  },
  {
   "cell_type": "code",
   "execution_count": 180,
   "outputs": [
    {
     "data": {
      "text/plain": "array([0.0, 0.02082175925925926, 0.04155092592592593, 0.06230324074074074,\n       0.0830324074074074], dtype=object)"
     },
     "execution_count": 180,
     "metadata": {},
     "output_type": "execute_result"
    }
   ],
   "source": [
    "days_elapsed = elapsed_times / datetime.timedelta(days=1)\n",
    "days_elapsed[:5] # check the first few entries"
   ],
   "metadata": {
    "collapsed": false,
    "pycharm": {
     "name": "#%%\n"
    }
   }
  },
  {
   "cell_type": "markdown",
   "source": [
    "Let's plot some of this data."
   ],
   "metadata": {
    "collapsed": false,
    "pycharm": {
     "name": "#%% md\n"
    }
   }
  },
  {
   "cell_type": "code",
   "execution_count": 181,
   "outputs": [
    {
     "data": {
      "text/plain": "<Figure size 720x360 with 1 Axes>",
      "image/png": "[encoded data removed]"
     },
     "metadata": {
      "needs_background": "light"
     },
     "output_type": "display_data"
    }
   ],
   "source": [
    "plt.figure(figsize=(10, 5))\n",
    "plt.plot(days_elapsed)\n",
    "plt.xlabel(\"Observation\")\n",
    "plt.ylabel(\"Days elapsed\")\n",
    "plt.show()"
   ],
   "metadata": {
    "collapsed": false,
    "pycharm": {
     "name": "#%%\n"
    }
   }
  },
  {
   "cell_type": "markdown",
   "source": [
    "For a perfect dataset with equal jumps, we expect a perfect line for this plot. However, we see some jumps. This indicates that there are some data points that are unevenly spaced, and so relying on algorithms that expect perfect spacing is not a good idea for this case."
   ],
   "metadata": {
    "collapsed": false,
    "pycharm": {
     "name": "#%% md\n"
    }
   }
  },
  {
   "cell_type": "markdown",
   "source": [
    "## 4.2.5 Calculating Daily Mean Speed\n",
    "\n",
    "To calculate daily mean speeds, we need to first group the data by day. This involves iterating through rows in the data frame and grouping the rows until we reach an index that corresponds to the next day."
   ],
   "metadata": {
    "collapsed": false,
    "pycharm": {
     "name": "#%% md\n"
    }
   }
  },
  {
   "cell_type": "code",
   "execution_count": 182,
   "outputs": [
    {
     "data": {
      "text/plain": "array([2.12151651, 2.61910524, 1.786315  , 2.94542359, 2.47624275])"
     },
     "execution_count": 182,
     "metadata": {},
     "output_type": "execute_result"
    }
   ],
   "source": [
    "next_day = 1  # initialize the index of the next day\n",
    "inds = []  # initialize an empty list to store the indices of observations in the current day\n",
    "daily_mean_speeds = []  # initialize an empty list to store the mean daily speeds\n",
    "\n",
    "for (i, t) in enumerate(days_elapsed):  # loop over the elapsed times\n",
    "    if t < next_day:  # if the elapsed time is less than the next day\n",
    "        inds.append(i) # append the index of the current observation to the list of indices\n",
    "\n",
    "    else:  # if the elapsed time is greater than the next day\n",
    "        daily_mean_speeds.append(birddata.speed_2d[inds].mean())  # get the mean speed for the current day\n",
    "        next_day += 1  # increment the index of the next day\n",
    "        inds = []  # reset the list of indices\n",
    "\n",
    "daily_mean_speeds = np.array(daily_mean_speeds)  # convert the list to a numpy array\n",
    "daily_mean_speeds[:5] # check the first few entries"
   ],
   "metadata": {
    "collapsed": false,
    "pycharm": {
     "name": "#%%\n"
    }
   }
  },
  {
   "cell_type": "markdown",
   "source": [
    "Let's plot the daily mean speeds."
   ],
   "metadata": {
    "collapsed": false,
    "pycharm": {
     "name": "#%% md\n"
    }
   }
  },
  {
   "cell_type": "code",
   "execution_count": 183,
   "outputs": [
    {
     "data": {
      "text/plain": "<Figure size 720x360 with 1 Axes>",
      "image/png": "[encoded data removed]"
     },
     "metadata": {
      "needs_background": "light"
     },
     "output_type": "display_data"
    }
   ],
   "source": [
    "plt.figure(figsize=(10, 5))\n",
    "plt.plot(daily_mean_speeds)\n",
    "plt.xlabel(\"Day\")\n",
    "plt.ylabel(\"Daily mean speed (m/s)\")\n",
    "plt.show()"
   ],
   "metadata": {
    "collapsed": false,
    "pycharm": {
     "name": "#%%\n"
    }
   }
  },
  {
   "cell_type": "markdown",
   "source": [
    "We see that Eric flies mostly at just above 2 m/s daily except for a few days when he flies significantly faster. These peaks correspond to the days when he flies at the highest speed, which naturally are his days of migration. Hence, the peaks in this graph represent the days and average daily speeds of migration."
   ],
   "metadata": {
    "collapsed": false,
    "pycharm": {
     "name": "#%% md\n"
    }
   }
  },
  {
   "cell_type": "code",
   "execution_count": 184,
   "outputs": [
    {
     "data": {
      "text/plain": "40916    2013-08-15 00:01:08+00\n40917    2013-08-15 00:31:00+00\n40918    2013-08-15 01:01:19+00\n40919    2013-08-15 01:31:38+00\n40920    2013-08-15 02:01:24+00\nName: date_time, dtype: object"
     },
     "execution_count": 184,
     "metadata": {},
     "output_type": "execute_result"
    }
   ],
   "source": [
    "# Comprehension Check Question\n",
    "birddata[birddata.bird_name == \"Sanne\"].date_time.head()  # what are the first few timestamps recorded for Sanne?"
   ],
   "metadata": {
    "collapsed": false,
    "pycharm": {
     "name": "#%%\n"
    }
   }
  },
  {
   "cell_type": "markdown",
   "source": [
    "## 4.2.6 Using the Cartopy Module\n",
    "\n",
    "Cartopy is a library for plotting maps. It is a great tool for visualizing data, especially location data such as longitude and latitude."
   ],
   "metadata": {
    "collapsed": false,
    "pycharm": {
     "name": "#%% md\n"
    }
   }
  },
  {
   "cell_type": "code",
   "execution_count": 185,
   "outputs": [],
   "source": [
    "from cartopy import crs as ccrs, feature as cfeature"
   ],
   "metadata": {
    "collapsed": false,
    "pycharm": {
     "name": "#%%\n"
    }
   }
  },
  {
   "cell_type": "markdown",
   "source": [
    "Let us visualize the flight paths of the three seagulls using Cartopy, specifically the Mercator standard projection."
   ],
   "metadata": {
    "collapsed": false,
    "pycharm": {
     "name": "#%% md\n"
    }
   }
  },
  {
   "cell_type": "code",
   "execution_count": 186,
   "outputs": [
    {
     "data": {
      "text/plain": "<Figure size 720x360 with 1 Axes>",
      "image/png": "[encoded data removed]"
     },
     "metadata": {
      "needs_background": "light"
     },
     "output_type": "display_data"
    }
   ],
   "source": [
    "proj = ccrs.Mercator()  # create a Mercator projection\n",
    "\n",
    "plt.figure(figsize=(10, 5))  # create a figure\n",
    "ax = plt.axes(projection=proj)  # create an axes using the Mercator projection\n",
    "ax.set_extent([-25.0, 20.0, 52, 10])  # set the extent of the plot\n",
    "\n",
    "for bird in bird_names:  # loop over the bird names\n",
    "    ix = birddata.bird_name == bird  # get the indices of the observations for the current bird\n",
    "    x, y = birddata.longitude[ix], birddata.latitude[ix]  # get the longitude and latitude\n",
    "    ax.plot(x, y, transform=ccrs.Geodetic(), label=bird)  # plot the longitude and latitude\n",
    "\n",
    "# More features to plot\n",
    "ax.add_feature(cfeature.OCEAN)  # add the oceans\n",
    "ax.add_feature(cfeature.LAND)  # add the land\n",
    "ax.add_feature(cfeature.COASTLINE)  # add the coastlines\n",
    "ax.add_feature(cfeature.BORDERS, linestyle=':')  # add the borders\n",
    "\n",
    "ax.legend()  # add a legend\n",
    "plt.show()  # show the plot"
   ],
   "metadata": {
    "collapsed": false,
    "pycharm": {
     "name": "#%%\n"
    }
   }
  },
  {
   "cell_type": "markdown",
   "source": [
    "Here, we see the flight trajectories of all three birds, but these paths now correspond to paths on the globe rather than on a cartesian plane. We can also see exactly where the birds are flying: from the west coast of Africa up through the Portuguese and Spanish costs to the northern coast of Europe near Belgium, France, and Germany."
   ],
   "metadata": {
    "collapsed": false,
    "pycharm": {
     "name": "#%% md\n"
    }
   }
  },
  {
   "cell_type": "markdown",
   "source": [
    "## 4.3.1 Introduction to Network Analysis\n",
    "\n",
    "GRAPH THEORY MAKES A RETURN\n",
    "\n",
    "A *network* is the real-world implementation of a *graph*, which is mathematically abstract."
   ],
   "metadata": {
    "collapsed": false,
    "pycharm": {
     "name": "#%% md\n"
    }
   }
  },
  {
   "cell_type": "markdown",
   "source": [
    "## 4.3.2 Basics of NetworkX\n",
    "\n",
    "NetworkX is a Python library for analyzing and visualizing networks and graphs."
   ],
   "metadata": {
    "collapsed": false,
    "pycharm": {
     "name": "#%% md\n"
    }
   }
  },
  {
   "cell_type": "code",
   "execution_count": 187,
   "outputs": [],
   "source": [
    "import networkx as nx  # import the NetworkX module"
   ],
   "metadata": {
    "collapsed": false,
    "pycharm": {
     "name": "#%%\n"
    }
   }
  },
  {
   "cell_type": "markdown",
   "source": [
    "Let us create an example undirected graph."
   ],
   "metadata": {
    "collapsed": false,
    "pycharm": {
     "name": "#%% md\n"
    }
   }
  },
  {
   "cell_type": "code",
   "execution_count": 188,
   "outputs": [],
   "source": [
    "G = nx.Graph()  # create an empty graph\n",
    "G.add_node(1)  # add a node\n",
    "G.add_nodes_from([2, 3, 4])  # add multiple nodes"
   ],
   "metadata": {
    "collapsed": false,
    "pycharm": {
     "name": "#%%\n"
    }
   }
  },
  {
   "cell_type": "markdown",
   "source": [
    "Let us see what nodes are in the graph G."
   ],
   "metadata": {
    "collapsed": false,
    "pycharm": {
     "name": "#%% md\n"
    }
   }
  },
  {
   "cell_type": "code",
   "execution_count": 189,
   "outputs": [
    {
     "data": {
      "text/plain": "NodeView((1, 2, 3, 4))"
     },
     "execution_count": 189,
     "metadata": {},
     "output_type": "execute_result"
    }
   ],
   "source": [
    "G.nodes()  # get the nodes"
   ],
   "metadata": {
    "collapsed": false,
    "pycharm": {
     "name": "#%%\n"
    }
   }
  },
  {
   "cell_type": "markdown",
   "source": [
    "Let us add edges to the graph."
   ],
   "metadata": {
    "collapsed": false,
    "pycharm": {
     "name": "#%% md\n"
    }
   }
  },
  {
   "cell_type": "code",
   "execution_count": 190,
   "outputs": [],
   "source": [
    "G.add_edge(1, 2)  # add an edge\n",
    "G.add_edges_from([(1, 3), (1, 4)])  # add multiple edges"
   ],
   "metadata": {
    "collapsed": false,
    "pycharm": {
     "name": "#%%\n"
    }
   }
  },
  {
   "cell_type": "markdown",
   "source": [
    "Let us see what edges are in the graph G."
   ],
   "metadata": {
    "collapsed": false,
    "pycharm": {
     "name": "#%% md\n"
    }
   }
  },
  {
   "cell_type": "code",
   "execution_count": 191,
   "outputs": [
    {
     "data": {
      "text/plain": "EdgeView([(1, 2), (1, 3), (1, 4)])"
     },
     "execution_count": 191,
     "metadata": {},
     "output_type": "execute_result"
    }
   ],
   "source": [
    "G.edges()  # get the edges"
   ],
   "metadata": {
    "collapsed": false,
    "pycharm": {
     "name": "#%%\n"
    }
   }
  },
  {
   "cell_type": "markdown",
   "source": [
    "Removing nodes and edges work analogously to adding them.\n",
    "\n",
    "Let us find out the number of vertices and edges in the graph G."
   ],
   "metadata": {
    "collapsed": false,
    "pycharm": {
     "name": "#%% md\n"
    }
   }
  },
  {
   "cell_type": "code",
   "execution_count": 192,
   "outputs": [
    {
     "data": {
      "text/plain": "4"
     },
     "execution_count": 192,
     "metadata": {},
     "output_type": "execute_result"
    }
   ],
   "source": [
    "G.number_of_nodes()  # get the number of nodes"
   ],
   "metadata": {
    "collapsed": false,
    "pycharm": {
     "name": "#%%\n"
    }
   }
  },
  {
   "cell_type": "code",
   "execution_count": 193,
   "outputs": [
    {
     "data": {
      "text/plain": "3"
     },
     "execution_count": 193,
     "metadata": {},
     "output_type": "execute_result"
    }
   ],
   "source": [
    "G.number_of_edges()  # get the number of edges"
   ],
   "metadata": {
    "collapsed": false,
    "pycharm": {
     "name": "#%%\n"
    }
   }
  },
  {
   "cell_type": "markdown",
   "source": [],
   "metadata": {
    "collapsed": false,
    "pycharm": {
     "name": "#%% md\n"
    }
   }
  }
 ],
 "metadata": {
  "kernelspec": {
   "display_name": "Python 3",
   "language": "python",
   "name": "python3"
  },
  "language_info": {
   "codemirror_mode": {
    "name": "ipython",
    "version": 2
   },
   "file_extension": ".py",
   "mimetype": "text/x-python",
   "name": "python",
   "nbconvert_exporter": "python",
   "pygments_lexer": "ipython2",
   "version": "2.7.6"
  }
 },
 "nbformat": 4,
 "nbformat_minor": 0
}