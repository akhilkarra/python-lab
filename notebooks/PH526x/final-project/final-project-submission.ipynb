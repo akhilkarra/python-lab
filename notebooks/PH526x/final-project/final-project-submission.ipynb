{
 "cells": [
  {
   "cell_type": "markdown",
   "source": [
    "# Predicting the Type of Physical Activity from Tri-Axial Smartphone Accelerometer Data\n",
    "\n",
    "In this investigation, I aim to create a classification model that can predict the type of physical activity from an input set of tri-axial smartphone accelerometer data with high accuracy. This model emulates real-world models used by mobile apps like Fitbit and Apple Fitness to automatically record physical activity such as number of steps and number of stairs climbed without user input. The model will give a range between `1` and `4` inclusive as a prediction for a particular subset of accelerometer data, with `1` = standing, `2` = walking, `3` = stairs down, and `4` = stairs up.\n",
    "\n",
    "## Overall Procedure\n",
    "1. Import the `train_time_series.csv` and `train_labels.csv` files into dataframes.\n",
    "2. Extract the predictor variables from the `train_time_series.csv` dataframe and the outcomes from the `train_labels.csv` dataframe.\n",
    "3. Create a logistic regression classification model with the training data and evaluate the accuracy and speed of this model.\n",
    "4. Create a random forest classification model with the training data and evaluate the accuracy and speed of this model.\n",
    "5. Compare the accuracies of the logistic regression classification model and random forest classification model and analyze the accuracy and speed of both models.\n",
    "6. Create a suite of functions for the more accurate model\n",
    "7. Report the final time and accuracy of the model.\n",
    "\n",
    "The first step is to import the `train_time_series.csv` into a `pandas` dataframe. The `train_time_series.csv` file contains the accelerometer data for each of the four activities (standing, walking, stairs down, and stairs up) and the time series data for each of the four activities. These data will become part of the target matrix $X$ for the classification model.\n",
    "\n",
    "Let us find the first five rows of the `train_time_series` dataframe as well as its shape."
   ],
   "metadata": {
    "collapsed": false,
    "pycharm": {
     "name": "#%% md\n"
    }
   }
  },
  {
   "cell_type": "code",
   "execution_count": 321,
   "outputs": [
    {
     "data": {
      "text/plain": "           timestamp                 UTC time accuracy         x         y  \\\n20586  1565109930787  2019-08-06T16:45:30.787  unknown -0.006485 -0.934860   \n20587  1565109930887  2019-08-06T16:45:30.887  unknown -0.066467 -1.015442   \n20588  1565109930987  2019-08-06T16:45:30.987  unknown -0.043488 -1.021255   \n20589  1565109931087  2019-08-06T16:45:31.087  unknown -0.053802 -0.987701   \n20590  1565109931188  2019-08-06T16:45:31.188  unknown -0.054031 -1.003616   \n\n              z  \n20586 -0.069046  \n20587  0.089554  \n20588  0.178467  \n20589  0.068985  \n20590  0.126450  ",
      "text/html": "<div>\n<style scoped>\n    .dataframe tbody tr th:only-of-type {\n        vertical-align: middle;\n    }\n\n    .dataframe tbody tr th {\n        vertical-align: top;\n    }\n\n    .dataframe thead th {\n        text-align: right;\n    }\n</style>\n<table border=\"1\" class=\"dataframe\">\n  <thead>\n    <tr style=\"text-align: right;\">\n      <th></th>\n      <th>timestamp</th>\n      <th>UTC time</th>\n      <th>accuracy</th>\n      <th>x</th>\n      <th>y</th>\n      <th>z</th>\n    </tr>\n  </thead>\n  <tbody>\n    <tr>\n      <th>20586</th>\n      <td>1565109930787</td>\n      <td>2019-08-06T16:45:30.787</td>\n      <td>unknown</td>\n      <td>-0.006485</td>\n      <td>-0.934860</td>\n      <td>-0.069046</td>\n    </tr>\n    <tr>\n      <th>20587</th>\n      <td>1565109930887</td>\n      <td>2019-08-06T16:45:30.887</td>\n      <td>unknown</td>\n      <td>-0.066467</td>\n      <td>-1.015442</td>\n      <td>0.089554</td>\n    </tr>\n    <tr>\n      <th>20588</th>\n      <td>1565109930987</td>\n      <td>2019-08-06T16:45:30.987</td>\n      <td>unknown</td>\n      <td>-0.043488</td>\n      <td>-1.021255</td>\n      <td>0.178467</td>\n    </tr>\n    <tr>\n      <th>20589</th>\n      <td>1565109931087</td>\n      <td>2019-08-06T16:45:31.087</td>\n      <td>unknown</td>\n      <td>-0.053802</td>\n      <td>-0.987701</td>\n      <td>0.068985</td>\n    </tr>\n    <tr>\n      <th>20590</th>\n      <td>1565109931188</td>\n      <td>2019-08-06T16:45:31.188</td>\n      <td>unknown</td>\n      <td>-0.054031</td>\n      <td>-1.003616</td>\n      <td>0.126450</td>\n    </tr>\n  </tbody>\n</table>\n</div>"
     },
     "execution_count": 321,
     "metadata": {},
     "output_type": "execute_result"
    }
   ],
   "source": [
    "import pandas as pd\n",
    "import time\n",
    "\n",
    "start_time = time.perf_counter()  # Start timer before importing data\n",
    "\n",
    "train_time_series = pd.read_csv('train_time_series.csv', index_col=0)\n",
    "train_time_series.head()  # Get the first five rows of data"
   ],
   "metadata": {
    "collapsed": false,
    "pycharm": {
     "name": "#%%\n"
    }
   }
  },
  {
   "cell_type": "code",
   "execution_count": 322,
   "outputs": [
    {
     "name": "stdout",
     "output_type": "stream",
     "text": [
      "(3744, 6)\n"
     ]
    }
   ],
   "source": [
    "print(train_time_series.shape)  # Get the shape of the dataframe"
   ],
   "metadata": {
    "collapsed": false,
    "pycharm": {
     "name": "#%%\n"
    }
   }
  },
  {
   "cell_type": "markdown",
   "source": [
    "From above, the dataframe has the following columns: `timestamp`, `UTC time`, `accuracy`, `x`, `y`, and `z`. We also know it contains $3744$ rows and $6$ columns.\n",
    "\n",
    "Let us now import the `train_labels.csv` file into a `pandas` dataframe. The `train_labels.csv` file contains the labels for each of the four activities (standing, walking, stairs down, and stairs up) and the time series data for each of the four activities. These data will become the outcomes vector $y$ for the classification model.\n",
    "\n",
    "Let us find the first five rows of data in the `train_labels` dataframe as well as its shape."
   ],
   "metadata": {
    "collapsed": false,
    "pycharm": {
     "name": "#%% md\n"
    }
   }
  },
  {
   "cell_type": "code",
   "execution_count": 323,
   "outputs": [
    {
     "data": {
      "text/plain": "           timestamp                 UTC time  label\n20589  1565109931087  2019-08-06T16:45:31.087      1\n20599  1565109932090  2019-08-06T16:45:32.090      1\n20609  1565109933092  2019-08-06T16:45:33.092      1\n20619  1565109934094  2019-08-06T16:45:34.094      1\n20629  1565109935097  2019-08-06T16:45:35.097      1",
      "text/html": "<div>\n<style scoped>\n    .dataframe tbody tr th:only-of-type {\n        vertical-align: middle;\n    }\n\n    .dataframe tbody tr th {\n        vertical-align: top;\n    }\n\n    .dataframe thead th {\n        text-align: right;\n    }\n</style>\n<table border=\"1\" class=\"dataframe\">\n  <thead>\n    <tr style=\"text-align: right;\">\n      <th></th>\n      <th>timestamp</th>\n      <th>UTC time</th>\n      <th>label</th>\n    </tr>\n  </thead>\n  <tbody>\n    <tr>\n      <th>20589</th>\n      <td>1565109931087</td>\n      <td>2019-08-06T16:45:31.087</td>\n      <td>1</td>\n    </tr>\n    <tr>\n      <th>20599</th>\n      <td>1565109932090</td>\n      <td>2019-08-06T16:45:32.090</td>\n      <td>1</td>\n    </tr>\n    <tr>\n      <th>20609</th>\n      <td>1565109933092</td>\n      <td>2019-08-06T16:45:33.092</td>\n      <td>1</td>\n    </tr>\n    <tr>\n      <th>20619</th>\n      <td>1565109934094</td>\n      <td>2019-08-06T16:45:34.094</td>\n      <td>1</td>\n    </tr>\n    <tr>\n      <th>20629</th>\n      <td>1565109935097</td>\n      <td>2019-08-06T16:45:35.097</td>\n      <td>1</td>\n    </tr>\n  </tbody>\n</table>\n</div>"
     },
     "execution_count": 323,
     "metadata": {},
     "output_type": "execute_result"
    }
   ],
   "source": [
    "train_labels = pd.read_csv('train_labels.csv', index_col=0)\n",
    "train_labels.head()  # Get the first five rows of data"
   ],
   "metadata": {
    "collapsed": false,
    "pycharm": {
     "name": "#%%\n"
    }
   }
  },
  {
   "cell_type": "code",
   "execution_count": 324,
   "outputs": [
    {
     "name": "stdout",
     "output_type": "stream",
     "text": [
      "(375, 3)\n"
     ]
    }
   ],
   "source": [
    "print(train_labels.shape)  # Get the shape of the dataframe"
   ],
   "metadata": {
    "collapsed": false,
    "pycharm": {
     "name": "#%%\n"
    }
   }
  },
  {
   "cell_type": "markdown",
   "source": [
    "From above, the dataframe has the following columns: `timestamp`, `UTC time`, and `label`.\n",
    "\n",
    "It is immediately clear that this dataframe is much smaller than the first dataframe: only $375$ rows and $6$ columns. Upon closer inspection of the first five rows, it can be seen that some timestamps from the `train_time_series.csv` file are missing from the `train_labels.csv` file, such as the timestamp `1565109930787`. This distinction is important because it indicates that there are cases where a label is not available for a particular subset of accelerometer data. This behavior is expected because the problem statement does say that labels are given to select accelerometer readings that are separated by 10 seconds.\n",
    "\n",
    "It would be useful to have a single dataframe to contain both the time series and the labels of each timestamp of recorded accelerometer data. We can do this by iterating through the rows of the `train_time_series` dataframe and adding the corresponding label from the `train_labels` dataframe to a new dataframe called `train_data`. If the timestamp is not found in the `train_labels` dataframe, then the label will be set to `NaN`."
   ],
   "metadata": {
    "collapsed": false,
    "pycharm": {
     "name": "#%% md\n"
    }
   }
  },
  {
   "cell_type": "code",
   "execution_count": 325,
   "outputs": [
    {
     "data": {
      "text/plain": "           timestamp                 UTC time accuracy         x         y  \\\n20586  1565109930787  2019-08-06T16:45:30.787  unknown -0.006485 -0.934860   \n20587  1565109930887  2019-08-06T16:45:30.887  unknown -0.066467 -1.015442   \n20588  1565109930987  2019-08-06T16:45:30.987  unknown -0.043488 -1.021255   \n20589  1565109931087  2019-08-06T16:45:31.087  unknown -0.053802 -0.987701   \n20590  1565109931188  2019-08-06T16:45:31.188  unknown -0.054031 -1.003616   \n\n              z  label  \n20586 -0.069046    NaN  \n20587  0.089554    NaN  \n20588  0.178467    NaN  \n20589  0.068985    1.0  \n20590  0.126450    NaN  ",
      "text/html": "<div>\n<style scoped>\n    .dataframe tbody tr th:only-of-type {\n        vertical-align: middle;\n    }\n\n    .dataframe tbody tr th {\n        vertical-align: top;\n    }\n\n    .dataframe thead th {\n        text-align: right;\n    }\n</style>\n<table border=\"1\" class=\"dataframe\">\n  <thead>\n    <tr style=\"text-align: right;\">\n      <th></th>\n      <th>timestamp</th>\n      <th>UTC time</th>\n      <th>accuracy</th>\n      <th>x</th>\n      <th>y</th>\n      <th>z</th>\n      <th>label</th>\n    </tr>\n  </thead>\n  <tbody>\n    <tr>\n      <th>20586</th>\n      <td>1565109930787</td>\n      <td>2019-08-06T16:45:30.787</td>\n      <td>unknown</td>\n      <td>-0.006485</td>\n      <td>-0.934860</td>\n      <td>-0.069046</td>\n      <td>NaN</td>\n    </tr>\n    <tr>\n      <th>20587</th>\n      <td>1565109930887</td>\n      <td>2019-08-06T16:45:30.887</td>\n      <td>unknown</td>\n      <td>-0.066467</td>\n      <td>-1.015442</td>\n      <td>0.089554</td>\n      <td>NaN</td>\n    </tr>\n    <tr>\n      <th>20588</th>\n      <td>1565109930987</td>\n      <td>2019-08-06T16:45:30.987</td>\n      <td>unknown</td>\n      <td>-0.043488</td>\n      <td>-1.021255</td>\n      <td>0.178467</td>\n      <td>NaN</td>\n    </tr>\n    <tr>\n      <th>20589</th>\n      <td>1565109931087</td>\n      <td>2019-08-06T16:45:31.087</td>\n      <td>unknown</td>\n      <td>-0.053802</td>\n      <td>-0.987701</td>\n      <td>0.068985</td>\n      <td>1.0</td>\n    </tr>\n    <tr>\n      <th>20590</th>\n      <td>1565109931188</td>\n      <td>2019-08-06T16:45:31.188</td>\n      <td>unknown</td>\n      <td>-0.054031</td>\n      <td>-1.003616</td>\n      <td>0.126450</td>\n      <td>NaN</td>\n    </tr>\n  </tbody>\n</table>\n</div>"
     },
     "execution_count": 325,
     "metadata": {},
     "output_type": "execute_result"
    }
   ],
   "source": [
    "from numpy import nan\n",
    "\n",
    "train_data = train_time_series.copy()  # Create a copy of the train_time_series dataframe as train_data\n",
    "\n",
    "for index in train_data.index:\n",
    "    if index in train_labels.index:\n",
    "        train_data.loc[index, 'label'] = train_labels.loc[index, 'label']\n",
    "    else:\n",
    "        train_data.loc[index, 'label'] = nan\n",
    "\n",
    "train_data.head()  # Get the first five rows of data"
   ],
   "metadata": {
    "collapsed": false,
    "pycharm": {
     "name": "#%%\n"
    }
   }
  },
  {
   "cell_type": "markdown",
   "source": [
    "We can now drop the NaN rows from the `train_data` dataframe."
   ],
   "metadata": {
    "collapsed": false,
    "pycharm": {
     "name": "#%% md\n"
    }
   }
  },
  {
   "cell_type": "code",
   "execution_count": 326,
   "outputs": [
    {
     "data": {
      "text/plain": "           timestamp                 UTC time accuracy         x         y  \\\n20589  1565109931087  2019-08-06T16:45:31.087  unknown -0.053802 -0.987701   \n20599  1565109932090  2019-08-06T16:45:32.090  unknown  0.013718 -0.852371   \n20609  1565109933092  2019-08-06T16:45:33.092  unknown  0.145584 -1.007843   \n20619  1565109934094  2019-08-06T16:45:34.094  unknown -0.099380 -1.209686   \n20629  1565109935097  2019-08-06T16:45:35.097  unknown  0.082794 -1.001434   \n\n              z  label  \n20589  0.068985      1  \n20599 -0.000870      1  \n20609 -0.036819      1  \n20619  0.304489      1  \n20629 -0.025375      1  ",
      "text/html": "<div>\n<style scoped>\n    .dataframe tbody tr th:only-of-type {\n        vertical-align: middle;\n    }\n\n    .dataframe tbody tr th {\n        vertical-align: top;\n    }\n\n    .dataframe thead th {\n        text-align: right;\n    }\n</style>\n<table border=\"1\" class=\"dataframe\">\n  <thead>\n    <tr style=\"text-align: right;\">\n      <th></th>\n      <th>timestamp</th>\n      <th>UTC time</th>\n      <th>accuracy</th>\n      <th>x</th>\n      <th>y</th>\n      <th>z</th>\n      <th>label</th>\n    </tr>\n  </thead>\n  <tbody>\n    <tr>\n      <th>20589</th>\n      <td>1565109931087</td>\n      <td>2019-08-06T16:45:31.087</td>\n      <td>unknown</td>\n      <td>-0.053802</td>\n      <td>-0.987701</td>\n      <td>0.068985</td>\n      <td>1</td>\n    </tr>\n    <tr>\n      <th>20599</th>\n      <td>1565109932090</td>\n      <td>2019-08-06T16:45:32.090</td>\n      <td>unknown</td>\n      <td>0.013718</td>\n      <td>-0.852371</td>\n      <td>-0.000870</td>\n      <td>1</td>\n    </tr>\n    <tr>\n      <th>20609</th>\n      <td>1565109933092</td>\n      <td>2019-08-06T16:45:33.092</td>\n      <td>unknown</td>\n      <td>0.145584</td>\n      <td>-1.007843</td>\n      <td>-0.036819</td>\n      <td>1</td>\n    </tr>\n    <tr>\n      <th>20619</th>\n      <td>1565109934094</td>\n      <td>2019-08-06T16:45:34.094</td>\n      <td>unknown</td>\n      <td>-0.099380</td>\n      <td>-1.209686</td>\n      <td>0.304489</td>\n      <td>1</td>\n    </tr>\n    <tr>\n      <th>20629</th>\n      <td>1565109935097</td>\n      <td>2019-08-06T16:45:35.097</td>\n      <td>unknown</td>\n      <td>0.082794</td>\n      <td>-1.001434</td>\n      <td>-0.025375</td>\n      <td>1</td>\n    </tr>\n  </tbody>\n</table>\n</div>"
     },
     "execution_count": 326,
     "metadata": {},
     "output_type": "execute_result"
    }
   ],
   "source": [
    "train_data.dropna(inplace=True)  # Drop the NaN rows from the dataframe\n",
    "train_data = train_data.astype({'label': 'int'})  # Convert the label column to an integer\n",
    "train_data.head()  # Get the first five rows of data"
   ],
   "metadata": {
    "collapsed": false,
    "pycharm": {
     "name": "#%%\n"
    }
   }
  },
  {
   "cell_type": "markdown",
   "source": [
    "We can now check the shape of the `train_data` dataframe."
   ],
   "metadata": {
    "collapsed": false,
    "pycharm": {
     "name": "#%% md\n"
    }
   }
  },
  {
   "cell_type": "code",
   "execution_count": 327,
   "outputs": [
    {
     "name": "stdout",
     "output_type": "stream",
     "text": [
      "(375, 7)\n"
     ]
    }
   ],
   "source": [
    "print(train_data.shape)  # Get the shape of the dataframe"
   ],
   "metadata": {
    "collapsed": false,
    "pycharm": {
     "name": "#%%\n"
    }
   }
  },
  {
   "cell_type": "markdown",
   "source": [
    "As expected, there are $375$ rows (the number of rows in the `train_labels` dataframe) and $7$ columns in the `train_data` dataframe.\n",
    "\n",
    "The `test_time_series.csv` file contains new data with the same headings as the training data variant. We can now import the `test_time_series.csv` file into a `pandas` dataframe."
   ],
   "metadata": {
    "collapsed": false,
    "pycharm": {
     "name": "#%% md\n"
    }
   }
  },
  {
   "cell_type": "code",
   "execution_count": 328,
   "outputs": [
    {
     "data": {
      "text/plain": "           timestamp                 UTC time accuracy         x         y  \\\n24330  1565110306139  2019-08-06T16:51:46.139  unknown  0.034286 -1.504456   \n24331  1565110306239  2019-08-06T16:51:46.239  unknown  0.409164 -1.038544   \n24332  1565110306340  2019-08-06T16:51:46.340  unknown -0.234390 -0.984558   \n24333  1565110306440  2019-08-06T16:51:46.440  unknown  0.251114 -0.787003   \n24334  1565110306540  2019-08-06T16:51:46.540  unknown  0.109924 -0.169510   \n\n              z  \n24330  0.157623  \n24331  0.030975  \n24332  0.124771  \n24333  0.054810  \n24334  0.235550  ",
      "text/html": "<div>\n<style scoped>\n    .dataframe tbody tr th:only-of-type {\n        vertical-align: middle;\n    }\n\n    .dataframe tbody tr th {\n        vertical-align: top;\n    }\n\n    .dataframe thead th {\n        text-align: right;\n    }\n</style>\n<table border=\"1\" class=\"dataframe\">\n  <thead>\n    <tr style=\"text-align: right;\">\n      <th></th>\n      <th>timestamp</th>\n      <th>UTC time</th>\n      <th>accuracy</th>\n      <th>x</th>\n      <th>y</th>\n      <th>z</th>\n    </tr>\n  </thead>\n  <tbody>\n    <tr>\n      <th>24330</th>\n      <td>1565110306139</td>\n      <td>2019-08-06T16:51:46.139</td>\n      <td>unknown</td>\n      <td>0.034286</td>\n      <td>-1.504456</td>\n      <td>0.157623</td>\n    </tr>\n    <tr>\n      <th>24331</th>\n      <td>1565110306239</td>\n      <td>2019-08-06T16:51:46.239</td>\n      <td>unknown</td>\n      <td>0.409164</td>\n      <td>-1.038544</td>\n      <td>0.030975</td>\n    </tr>\n    <tr>\n      <th>24332</th>\n      <td>1565110306340</td>\n      <td>2019-08-06T16:51:46.340</td>\n      <td>unknown</td>\n      <td>-0.234390</td>\n      <td>-0.984558</td>\n      <td>0.124771</td>\n    </tr>\n    <tr>\n      <th>24333</th>\n      <td>1565110306440</td>\n      <td>2019-08-06T16:51:46.440</td>\n      <td>unknown</td>\n      <td>0.251114</td>\n      <td>-0.787003</td>\n      <td>0.054810</td>\n    </tr>\n    <tr>\n      <th>24334</th>\n      <td>1565110306540</td>\n      <td>2019-08-06T16:51:46.540</td>\n      <td>unknown</td>\n      <td>0.109924</td>\n      <td>-0.169510</td>\n      <td>0.235550</td>\n    </tr>\n  </tbody>\n</table>\n</div>"
     },
     "execution_count": 328,
     "metadata": {},
     "output_type": "execute_result"
    }
   ],
   "source": [
    "test_time_series = pd.read_csv('test_time_series.csv', index_col=0)\n",
    "test_time_series.head()  # Get the first five rows of data"
   ],
   "metadata": {
    "collapsed": false,
    "pycharm": {
     "name": "#%%\n"
    }
   }
  },
  {
   "cell_type": "markdown",
   "source": [
    "The `test_labels.csv` file is a CSV file with labels corresponding to the rows of the `test_time_series.csv` file. This file contains the actual labels for each test data point. We can now import the `test_labels.csv` file into a `pandas` dataframe. After that, we can merge `test_time_series` and `test_labels` into a single dataframe called `test_data` as before."
   ],
   "metadata": {
    "collapsed": false,
    "pycharm": {
     "name": "#%% md\n"
    }
   }
  },
  {
   "cell_type": "code",
   "execution_count": 329,
   "outputs": [
    {
     "data": {
      "text/plain": "           timestamp                 UTC time  label\n24339  1565110307041  2019-08-06T16:51:47.041      2\n24349  1565110308043  2019-08-06T16:51:48.043      4\n24359  1565110309046  2019-08-06T16:51:49.046      2\n24369  1565110310048  2019-08-06T16:51:50.048      4\n24379  1565110311050  2019-08-06T16:51:51.050      2",
      "text/html": "<div>\n<style scoped>\n    .dataframe tbody tr th:only-of-type {\n        vertical-align: middle;\n    }\n\n    .dataframe tbody tr th {\n        vertical-align: top;\n    }\n\n    .dataframe thead th {\n        text-align: right;\n    }\n</style>\n<table border=\"1\" class=\"dataframe\">\n  <thead>\n    <tr style=\"text-align: right;\">\n      <th></th>\n      <th>timestamp</th>\n      <th>UTC time</th>\n      <th>label</th>\n    </tr>\n  </thead>\n  <tbody>\n    <tr>\n      <th>24339</th>\n      <td>1565110307041</td>\n      <td>2019-08-06T16:51:47.041</td>\n      <td>2</td>\n    </tr>\n    <tr>\n      <th>24349</th>\n      <td>1565110308043</td>\n      <td>2019-08-06T16:51:48.043</td>\n      <td>4</td>\n    </tr>\n    <tr>\n      <th>24359</th>\n      <td>1565110309046</td>\n      <td>2019-08-06T16:51:49.046</td>\n      <td>2</td>\n    </tr>\n    <tr>\n      <th>24369</th>\n      <td>1565110310048</td>\n      <td>2019-08-06T16:51:50.048</td>\n      <td>4</td>\n    </tr>\n    <tr>\n      <th>24379</th>\n      <td>1565110311050</td>\n      <td>2019-08-06T16:51:51.050</td>\n      <td>2</td>\n    </tr>\n  </tbody>\n</table>\n</div>"
     },
     "execution_count": 329,
     "metadata": {},
     "output_type": "execute_result"
    }
   ],
   "source": [
    "test_labels = pd.read_csv('test_labels.csv', index_col=0)\n",
    "test_labels.head()  # Get the first five rows of data"
   ],
   "metadata": {
    "collapsed": false,
    "pycharm": {
     "name": "#%%\n"
    }
   }
  },
  {
   "cell_type": "code",
   "execution_count": 330,
   "outputs": [
    {
     "data": {
      "text/plain": "           timestamp                 UTC time  label         x         y  \\\n24339  1565110307041  2019-08-06T16:51:47.041      2  0.098282 -0.833771   \n24349  1565110308043  2019-08-06T16:51:48.043      4  0.348465 -0.946701   \n24359  1565110309046  2019-08-06T16:51:49.046      2  0.377335 -0.849243   \n24369  1565110310048  2019-08-06T16:51:50.048      4  0.110077 -0.520325   \n24379  1565110311050  2019-08-06T16:51:51.050      2  0.283478 -0.892548   \n...              ...                      ...    ...       ...       ...   \n25539  1565110427366  2019-08-06T16:53:47.366      2 -0.043915 -0.242416   \n25549  1565110428369  2019-08-06T16:53:48.369      2  0.118271 -1.212097   \n25559  1565110429371  2019-08-06T16:53:49.371      2  0.667404 -0.978851   \n25569  1565110430373  2019-08-06T16:53:50.373      2  0.371384 -1.021927   \n25579  1565110431376  2019-08-06T16:53:51.376      2 -0.089462 -0.734573   \n\n              z  \n24339  0.118042  \n24349 -0.051041  \n24359 -0.026474  \n24369  0.312714  \n24379 -0.085876  \n...         ...  \n25539  0.068802  \n25549  0.357468  \n25559  0.171906  \n25569 -0.244446  \n25579 -0.100876  \n\n[125 rows x 6 columns]",
      "text/html": "<div>\n<style scoped>\n    .dataframe tbody tr th:only-of-type {\n        vertical-align: middle;\n    }\n\n    .dataframe tbody tr th {\n        vertical-align: top;\n    }\n\n    .dataframe thead th {\n        text-align: right;\n    }\n</style>\n<table border=\"1\" class=\"dataframe\">\n  <thead>\n    <tr style=\"text-align: right;\">\n      <th></th>\n      <th>timestamp</th>\n      <th>UTC time</th>\n      <th>label</th>\n      <th>x</th>\n      <th>y</th>\n      <th>z</th>\n    </tr>\n  </thead>\n  <tbody>\n    <tr>\n      <th>24339</th>\n      <td>1565110307041</td>\n      <td>2019-08-06T16:51:47.041</td>\n      <td>2</td>\n      <td>0.098282</td>\n      <td>-0.833771</td>\n      <td>0.118042</td>\n    </tr>\n    <tr>\n      <th>24349</th>\n      <td>1565110308043</td>\n      <td>2019-08-06T16:51:48.043</td>\n      <td>4</td>\n      <td>0.348465</td>\n      <td>-0.946701</td>\n      <td>-0.051041</td>\n    </tr>\n    <tr>\n      <th>24359</th>\n      <td>1565110309046</td>\n      <td>2019-08-06T16:51:49.046</td>\n      <td>2</td>\n      <td>0.377335</td>\n      <td>-0.849243</td>\n      <td>-0.026474</td>\n    </tr>\n    <tr>\n      <th>24369</th>\n      <td>1565110310048</td>\n      <td>2019-08-06T16:51:50.048</td>\n      <td>4</td>\n      <td>0.110077</td>\n      <td>-0.520325</td>\n      <td>0.312714</td>\n    </tr>\n    <tr>\n      <th>24379</th>\n      <td>1565110311050</td>\n      <td>2019-08-06T16:51:51.050</td>\n      <td>2</td>\n      <td>0.283478</td>\n      <td>-0.892548</td>\n      <td>-0.085876</td>\n    </tr>\n    <tr>\n      <th>...</th>\n      <td>...</td>\n      <td>...</td>\n      <td>...</td>\n      <td>...</td>\n      <td>...</td>\n      <td>...</td>\n    </tr>\n    <tr>\n      <th>25539</th>\n      <td>1565110427366</td>\n      <td>2019-08-06T16:53:47.366</td>\n      <td>2</td>\n      <td>-0.043915</td>\n      <td>-0.242416</td>\n      <td>0.068802</td>\n    </tr>\n    <tr>\n      <th>25549</th>\n      <td>1565110428369</td>\n      <td>2019-08-06T16:53:48.369</td>\n      <td>2</td>\n      <td>0.118271</td>\n      <td>-1.212097</td>\n      <td>0.357468</td>\n    </tr>\n    <tr>\n      <th>25559</th>\n      <td>1565110429371</td>\n      <td>2019-08-06T16:53:49.371</td>\n      <td>2</td>\n      <td>0.667404</td>\n      <td>-0.978851</td>\n      <td>0.171906</td>\n    </tr>\n    <tr>\n      <th>25569</th>\n      <td>1565110430373</td>\n      <td>2019-08-06T16:53:50.373</td>\n      <td>2</td>\n      <td>0.371384</td>\n      <td>-1.021927</td>\n      <td>-0.244446</td>\n    </tr>\n    <tr>\n      <th>25579</th>\n      <td>1565110431376</td>\n      <td>2019-08-06T16:53:51.376</td>\n      <td>2</td>\n      <td>-0.089462</td>\n      <td>-0.734573</td>\n      <td>-0.100876</td>\n    </tr>\n  </tbody>\n</table>\n<p>125 rows × 6 columns</p>\n</div>"
     },
     "execution_count": 330,
     "metadata": {},
     "output_type": "execute_result"
    }
   ],
   "source": [
    "# To begin merging, create a copy of the test_time_series dataframe as test_data\n",
    "test_data = test_labels.copy()\n",
    "\n",
    "# Assign the label from the test_labels dataframe to the corresponding timestamp in the test_data dataframe,\n",
    "# inserting NaN for any timestamps that are not found in the test_labels dataframe.\n",
    "for index in test_data.index:\n",
    "    if index in test_time_series.index:\n",
    "        test_data.loc[index, ['x', 'y', 'z']] = test_time_series.loc[index, ['x', 'y', 'z']]\n",
    "    else:\n",
    "        test_data.loc[index, 'label'] = nan\n",
    "\n",
    "# See the first few rows of the dataframe\n",
    "test_data"
   ],
   "metadata": {
    "collapsed": false,
    "pycharm": {
     "name": "#%%\n"
    }
   }
  },
  {
   "cell_type": "markdown",
   "source": [],
   "metadata": {
    "collapsed": false,
    "pycharm": {
     "name": "#%% md\n"
    }
   }
  },
  {
   "cell_type": "code",
   "execution_count": 331,
   "outputs": [],
   "source": [
    "from xgboost import XGBClassifier\n",
    "\n",
    "xgb_model = XGBClassifier().fit(train_data[['timestamp', 'x', 'y', 'z']], train_data['label'] - 1)"
   ],
   "metadata": {
    "collapsed": false,
    "pycharm": {
     "name": "#%%\n"
    }
   }
  },
  {
   "cell_type": "code",
   "execution_count": 332,
   "outputs": [],
   "source": [
    "xgb_output_data = test_data.copy()[['timestamp', 'UTC time', 'label']]\n",
    "\n",
    "xgb_output_data['label'] = xgb_model.predict(test_data[['timestamp', 'x', 'y', 'z']]) + 1"
   ],
   "metadata": {
    "collapsed": false,
    "pycharm": {
     "name": "#%%\n"
    }
   }
  },
  {
   "cell_type": "code",
   "execution_count": 333,
   "outputs": [
    {
     "name": "stdout",
     "output_type": "stream",
     "text": [
      "[2, 4, 2, 4, 2, 2, 2, 4, 2, 2, 2, 2, 2, 2, 2, 2, 2, 2, 2, 2, 2, 2, 2, 2, 2, 4, 2, 2, 2, 2, 2, 2, 2, 2, 2, 2, 2, 2, 2, 2, 2, 2, 2, 2, 2, 2, 2, 2, 2, 2, 2, 2, 2, 2, 2, 2, 2, 2, 2, 2, 2, 2, 2, 2, 2, 4, 2, 2, 2, 2, 2, 4, 2, 2, 4, 2, 2, 2, 2, 2, 2, 2, 2, 2, 4, 2, 2, 2, 2, 2, 2, 2, 2, 2, 2, 2, 2, 2, 2, 2, 2, 2, 4, 2, 2, 2, 2, 2, 2, 4, 2, 2, 2, 2, 2, 2, 2, 2, 2, 2, 2, 2, 2, 2, 2]\n"
     ]
    }
   ],
   "source": [
    "print(list(xgb_output_data['label']))"
   ],
   "metadata": {
    "collapsed": false,
    "pycharm": {
     "name": "#%%\n"
    }
   }
  },
  {
   "cell_type": "code",
   "execution_count": 334,
   "outputs": [],
   "source": [
    "xgb_output_data.to_csv('test_labels.csv')"
   ],
   "metadata": {
    "collapsed": false,
    "pycharm": {
     "name": "#%%\n"
    }
   }
  },
  {
   "cell_type": "code",
   "execution_count": 335,
   "outputs": [
    {
     "name": "stdout",
     "output_type": "stream",
     "text": [
      "Run time: 0.6409250830001838 seconds\n"
     ]
    }
   ],
   "source": [
    "runtime = time.perf_counter() - start_time\n",
    "print('Run time:', runtime, \"seconds\")"
   ],
   "metadata": {
    "collapsed": false,
    "pycharm": {
     "name": "#%%\n"
    }
   }
  }
 ],
 "metadata": {
  "kernelspec": {
   "display_name": "Python 3",
   "language": "python",
   "name": "python3"
  },
  "language_info": {
   "codemirror_mode": {
    "name": "ipython",
    "version": 2
   },
   "file_extension": ".py",
   "mimetype": "text/x-python",
   "name": "python",
   "nbconvert_exporter": "python",
   "pygments_lexer": "ipython2",
   "version": "2.7.6"
  }
 },
 "nbformat": 4,
 "nbformat_minor": 0
}