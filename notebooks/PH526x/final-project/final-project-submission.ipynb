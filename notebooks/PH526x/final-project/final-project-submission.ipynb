{
 "cells": [
  {
   "cell_type": "markdown",
   "source": [
    "# Predicting the Type of Physical Activity from Tri-Axial Smartphone Accelerometer Data\n",
    "\n",
    "In this investigation, I aim to create a classification model that can predict the type of physical activity from an input set of tri-axial smartphone accelerometer data with high accuracy. This model emulates real-world models used by mobile apps like Fitbit and Apple Fitness to automatically record physical activity such as number of steps and number of stairs climbed without user input. The model will give a range between `1` and `4` inclusive as a prediction for a particular subset of accelerometer data, with `1` = standing, `2` = walking, `3` = stairs down, and `4` = stairs up.\n",
    "\n",
    "## Overall Procedure\n",
    "1. Import the `train_time_series.csv` and `train_labels.csv` files into dataframes.\n",
    "2. Extract the predictor variables from the `train_time_series.csv` dataframe and the outcomes from the `train_labels.csv` dataframe.\n",
    "3. Create a logistic regression classification model with the training data and evaluate the accuracy and speed of this model.\n",
    "4. Create a random forest classification model with the training data and evaluate the accuracy and speed of this model.\n",
    "5. Compare the accuracies of the logistic regression classification model and random forest classification model and analyze the accuracy and speed of both models.\n",
    "6. Create a suite of functions for the more accurate model\n",
    "7. Report the final time and accuracy of the model.\n",
    "\n",
    "The first step is to import the `train_time_series.csv` into a `pandas` dataframe. The `train_time_series.csv` file contains the accelerometer data for each of the four activities (standing, walking, stairs down, and stairs up) and the time series data for each of the four activities. These data will become part of the target matrix $X$ for the classification model.\n",
    "\n",
    "Let us find the first five rows of the `train_time_series` dataframe as well as its shape."
   ],
   "metadata": {
    "collapsed": false,
    "pycharm": {
     "name": "#%% md\n"
    }
   }
  },
  {
   "cell_type": "code",
   "execution_count": 110,
   "outputs": [
    {
     "data": {
      "text/plain": "           timestamp                 UTC time accuracy         x         y  \\\n20586  1565109930787  2019-08-06T16:45:30.787  unknown -0.006485 -0.934860   \n20587  1565109930887  2019-08-06T16:45:30.887  unknown -0.066467 -1.015442   \n20588  1565109930987  2019-08-06T16:45:30.987  unknown -0.043488 -1.021255   \n20589  1565109931087  2019-08-06T16:45:31.087  unknown -0.053802 -0.987701   \n20590  1565109931188  2019-08-06T16:45:31.188  unknown -0.054031 -1.003616   \n\n              z  \n20586 -0.069046  \n20587  0.089554  \n20588  0.178467  \n20589  0.068985  \n20590  0.126450  ",
      "text/html": "<div>\n<style scoped>\n    .dataframe tbody tr th:only-of-type {\n        vertical-align: middle;\n    }\n\n    .dataframe tbody tr th {\n        vertical-align: top;\n    }\n\n    .dataframe thead th {\n        text-align: right;\n    }\n</style>\n<table border=\"1\" class=\"dataframe\">\n  <thead>\n    <tr style=\"text-align: right;\">\n      <th></th>\n      <th>timestamp</th>\n      <th>UTC time</th>\n      <th>accuracy</th>\n      <th>x</th>\n      <th>y</th>\n      <th>z</th>\n    </tr>\n  </thead>\n  <tbody>\n    <tr>\n      <th>20586</th>\n      <td>1565109930787</td>\n      <td>2019-08-06T16:45:30.787</td>\n      <td>unknown</td>\n      <td>-0.006485</td>\n      <td>-0.934860</td>\n      <td>-0.069046</td>\n    </tr>\n    <tr>\n      <th>20587</th>\n      <td>1565109930887</td>\n      <td>2019-08-06T16:45:30.887</td>\n      <td>unknown</td>\n      <td>-0.066467</td>\n      <td>-1.015442</td>\n      <td>0.089554</td>\n    </tr>\n    <tr>\n      <th>20588</th>\n      <td>1565109930987</td>\n      <td>2019-08-06T16:45:30.987</td>\n      <td>unknown</td>\n      <td>-0.043488</td>\n      <td>-1.021255</td>\n      <td>0.178467</td>\n    </tr>\n    <tr>\n      <th>20589</th>\n      <td>1565109931087</td>\n      <td>2019-08-06T16:45:31.087</td>\n      <td>unknown</td>\n      <td>-0.053802</td>\n      <td>-0.987701</td>\n      <td>0.068985</td>\n    </tr>\n    <tr>\n      <th>20590</th>\n      <td>1565109931188</td>\n      <td>2019-08-06T16:45:31.188</td>\n      <td>unknown</td>\n      <td>-0.054031</td>\n      <td>-1.003616</td>\n      <td>0.126450</td>\n    </tr>\n  </tbody>\n</table>\n</div>"
     },
     "execution_count": 110,
     "metadata": {},
     "output_type": "execute_result"
    }
   ],
   "source": [
    "import pandas as pd\n",
    "import time\n",
    "\n",
    "start_time = time.perf_counter()  # Start timer before importing data\n",
    "\n",
    "train_time_series = pd.read_csv('train_time_series.csv', index_col=0)\n",
    "train_time_series.head()  # Get the first five rows of data"
   ],
   "metadata": {
    "collapsed": false,
    "pycharm": {
     "name": "#%%\n"
    }
   }
  },
  {
   "cell_type": "code",
   "execution_count": 111,
   "outputs": [
    {
     "name": "stdout",
     "output_type": "stream",
     "text": [
      "(3744, 6)\n"
     ]
    }
   ],
   "source": [
    "print(train_time_series.shape)  # Get the shape of the dataframe"
   ],
   "metadata": {
    "collapsed": false,
    "pycharm": {
     "name": "#%%\n"
    }
   }
  },
  {
   "cell_type": "markdown",
   "source": [
    "From above, the dataframe has the following columns: `timestamp`, `UTC time`, `accuracy`, `x`, `y`, and `z`. We also know it contains $3744$ rows and $6$ columns.\n",
    "\n",
    "Let us now import the `train_labels.csv` file into a `pandas` dataframe. The `train_labels.csv` file contains the labels for each of the four activities (standing, walking, stairs down, and stairs up) and the time series data for each of the four activities. These data will become the outcomes vector $y$ for the classification model.\n",
    "\n",
    "Let us find the first five rows of data in the `train_labels` dataframe as well as its shape."
   ],
   "metadata": {
    "collapsed": false,
    "pycharm": {
     "name": "#%% md\n"
    }
   }
  },
  {
   "cell_type": "code",
   "execution_count": 112,
   "outputs": [
    {
     "data": {
      "text/plain": "           timestamp                 UTC time  label\n20589  1565109931087  2019-08-06T16:45:31.087      1\n20599  1565109932090  2019-08-06T16:45:32.090      1\n20609  1565109933092  2019-08-06T16:45:33.092      1\n20619  1565109934094  2019-08-06T16:45:34.094      1\n20629  1565109935097  2019-08-06T16:45:35.097      1",
      "text/html": "<div>\n<style scoped>\n    .dataframe tbody tr th:only-of-type {\n        vertical-align: middle;\n    }\n\n    .dataframe tbody tr th {\n        vertical-align: top;\n    }\n\n    .dataframe thead th {\n        text-align: right;\n    }\n</style>\n<table border=\"1\" class=\"dataframe\">\n  <thead>\n    <tr style=\"text-align: right;\">\n      <th></th>\n      <th>timestamp</th>\n      <th>UTC time</th>\n      <th>label</th>\n    </tr>\n  </thead>\n  <tbody>\n    <tr>\n      <th>20589</th>\n      <td>1565109931087</td>\n      <td>2019-08-06T16:45:31.087</td>\n      <td>1</td>\n    </tr>\n    <tr>\n      <th>20599</th>\n      <td>1565109932090</td>\n      <td>2019-08-06T16:45:32.090</td>\n      <td>1</td>\n    </tr>\n    <tr>\n      <th>20609</th>\n      <td>1565109933092</td>\n      <td>2019-08-06T16:45:33.092</td>\n      <td>1</td>\n    </tr>\n    <tr>\n      <th>20619</th>\n      <td>1565109934094</td>\n      <td>2019-08-06T16:45:34.094</td>\n      <td>1</td>\n    </tr>\n    <tr>\n      <th>20629</th>\n      <td>1565109935097</td>\n      <td>2019-08-06T16:45:35.097</td>\n      <td>1</td>\n    </tr>\n  </tbody>\n</table>\n</div>"
     },
     "execution_count": 112,
     "metadata": {},
     "output_type": "execute_result"
    }
   ],
   "source": [
    "train_labels = pd.read_csv('train_labels.csv', index_col=0)\n",
    "train_labels.head()  # Get the first five rows of data"
   ],
   "metadata": {
    "collapsed": false,
    "pycharm": {
     "name": "#%%\n"
    }
   }
  },
  {
   "cell_type": "code",
   "execution_count": 113,
   "outputs": [
    {
     "name": "stdout",
     "output_type": "stream",
     "text": [
      "(375, 3)\n"
     ]
    }
   ],
   "source": [
    "print(train_labels.shape)  # Get the shape of the dataframe"
   ],
   "metadata": {
    "collapsed": false,
    "pycharm": {
     "name": "#%%\n"
    }
   }
  },
  {
   "cell_type": "markdown",
   "source": [
    "From above, the dataframe has the following columns: `timestamp`, `UTC time`, and `label`.\n",
    "\n",
    "It is immediately clear that this dataframe is much smaller than the first dataframe: only 375 rows and 6 columns. Upon closer inspection of the first five rows, it can be seen that some timestamps from the `train_time_series.csv` file are missing from the `train_labels.csv` file, such as the timestamp `1565109930787`. This distinction is important because it indicates that there are cases where a label is not available for a particular subset of accelerometer data.\n",
    "\n",
    "It would be useful to have a single dataframe to contain both the time series and the labels of each timestamp of recorded accelerometer data. We can do this by iterating through the rows of the `train_time_series` dataframe and adding the corresponding label from the `train_labels` dataframe to a new dataframe called `train_data`. If the timestamp is not found in the `train_labels` dataframe, then the label will be set to `NaN`."
   ],
   "metadata": {
    "collapsed": false,
    "pycharm": {
     "name": "#%% md\n"
    }
   }
  },
  {
   "cell_type": "code",
   "execution_count": 114,
   "outputs": [
    {
     "data": {
      "text/plain": "           timestamp                 UTC time accuracy         x         y  \\\n20586  1565109930787  2019-08-06T16:45:30.787  unknown -0.006485 -0.934860   \n20587  1565109930887  2019-08-06T16:45:30.887  unknown -0.066467 -1.015442   \n20588  1565109930987  2019-08-06T16:45:30.987  unknown -0.043488 -1.021255   \n20589  1565109931087  2019-08-06T16:45:31.087  unknown -0.053802 -0.987701   \n20590  1565109931188  2019-08-06T16:45:31.188  unknown -0.054031 -1.003616   \n\n              z  label  \n20586 -0.069046    NaN  \n20587  0.089554    NaN  \n20588  0.178467    NaN  \n20589  0.068985    1.0  \n20590  0.126450    NaN  ",
      "text/html": "<div>\n<style scoped>\n    .dataframe tbody tr th:only-of-type {\n        vertical-align: middle;\n    }\n\n    .dataframe tbody tr th {\n        vertical-align: top;\n    }\n\n    .dataframe thead th {\n        text-align: right;\n    }\n</style>\n<table border=\"1\" class=\"dataframe\">\n  <thead>\n    <tr style=\"text-align: right;\">\n      <th></th>\n      <th>timestamp</th>\n      <th>UTC time</th>\n      <th>accuracy</th>\n      <th>x</th>\n      <th>y</th>\n      <th>z</th>\n      <th>label</th>\n    </tr>\n  </thead>\n  <tbody>\n    <tr>\n      <th>20586</th>\n      <td>1565109930787</td>\n      <td>2019-08-06T16:45:30.787</td>\n      <td>unknown</td>\n      <td>-0.006485</td>\n      <td>-0.934860</td>\n      <td>-0.069046</td>\n      <td>NaN</td>\n    </tr>\n    <tr>\n      <th>20587</th>\n      <td>1565109930887</td>\n      <td>2019-08-06T16:45:30.887</td>\n      <td>unknown</td>\n      <td>-0.066467</td>\n      <td>-1.015442</td>\n      <td>0.089554</td>\n      <td>NaN</td>\n    </tr>\n    <tr>\n      <th>20588</th>\n      <td>1565109930987</td>\n      <td>2019-08-06T16:45:30.987</td>\n      <td>unknown</td>\n      <td>-0.043488</td>\n      <td>-1.021255</td>\n      <td>0.178467</td>\n      <td>NaN</td>\n    </tr>\n    <tr>\n      <th>20589</th>\n      <td>1565109931087</td>\n      <td>2019-08-06T16:45:31.087</td>\n      <td>unknown</td>\n      <td>-0.053802</td>\n      <td>-0.987701</td>\n      <td>0.068985</td>\n      <td>1.0</td>\n    </tr>\n    <tr>\n      <th>20590</th>\n      <td>1565109931188</td>\n      <td>2019-08-06T16:45:31.188</td>\n      <td>unknown</td>\n      <td>-0.054031</td>\n      <td>-1.003616</td>\n      <td>0.126450</td>\n      <td>NaN</td>\n    </tr>\n  </tbody>\n</table>\n</div>"
     },
     "execution_count": 114,
     "metadata": {},
     "output_type": "execute_result"
    }
   ],
   "source": [
    "from numpy import nan\n",
    "\n",
    "train_data = train_time_series.copy()  # Create a copy of the train_time_series dataframe as train_data\n",
    "\n",
    "for index in train_data.index:\n",
    "    if index in train_labels.index:\n",
    "        train_data.loc[index, 'label'] = train_labels.loc[index, 'label']\n",
    "    else:\n",
    "        train_data.loc[index, 'label'] = nan\n",
    "\n",
    "train_data.head()  # Get the first five rows of data"
   ],
   "metadata": {
    "collapsed": false,
    "pycharm": {
     "name": "#%%\n"
    }
   }
  },
  {
   "cell_type": "markdown",
   "source": [
    "We can now drop the NaN rows from the `train_data` dataframe."
   ],
   "metadata": {
    "collapsed": false,
    "pycharm": {
     "name": "#%% md\n"
    }
   }
  },
  {
   "cell_type": "code",
   "execution_count": 117,
   "outputs": [
    {
     "data": {
      "text/plain": "           timestamp                 UTC time accuracy         x         y  \\\n20589  1565109931087  2019-08-06T16:45:31.087  unknown -0.053802 -0.987701   \n20599  1565109932090  2019-08-06T16:45:32.090  unknown  0.013718 -0.852371   \n20609  1565109933092  2019-08-06T16:45:33.092  unknown  0.145584 -1.007843   \n20619  1565109934094  2019-08-06T16:45:34.094  unknown -0.099380 -1.209686   \n20629  1565109935097  2019-08-06T16:45:35.097  unknown  0.082794 -1.001434   \n\n              z  label  \n20589  0.068985    1.0  \n20599 -0.000870    1.0  \n20609 -0.036819    1.0  \n20619  0.304489    1.0  \n20629 -0.025375    1.0  ",
      "text/html": "<div>\n<style scoped>\n    .dataframe tbody tr th:only-of-type {\n        vertical-align: middle;\n    }\n\n    .dataframe tbody tr th {\n        vertical-align: top;\n    }\n\n    .dataframe thead th {\n        text-align: right;\n    }\n</style>\n<table border=\"1\" class=\"dataframe\">\n  <thead>\n    <tr style=\"text-align: right;\">\n      <th></th>\n      <th>timestamp</th>\n      <th>UTC time</th>\n      <th>accuracy</th>\n      <th>x</th>\n      <th>y</th>\n      <th>z</th>\n      <th>label</th>\n    </tr>\n  </thead>\n  <tbody>\n    <tr>\n      <th>20589</th>\n      <td>1565109931087</td>\n      <td>2019-08-06T16:45:31.087</td>\n      <td>unknown</td>\n      <td>-0.053802</td>\n      <td>-0.987701</td>\n      <td>0.068985</td>\n      <td>1.0</td>\n    </tr>\n    <tr>\n      <th>20599</th>\n      <td>1565109932090</td>\n      <td>2019-08-06T16:45:32.090</td>\n      <td>unknown</td>\n      <td>0.013718</td>\n      <td>-0.852371</td>\n      <td>-0.000870</td>\n      <td>1.0</td>\n    </tr>\n    <tr>\n      <th>20609</th>\n      <td>1565109933092</td>\n      <td>2019-08-06T16:45:33.092</td>\n      <td>unknown</td>\n      <td>0.145584</td>\n      <td>-1.007843</td>\n      <td>-0.036819</td>\n      <td>1.0</td>\n    </tr>\n    <tr>\n      <th>20619</th>\n      <td>1565109934094</td>\n      <td>2019-08-06T16:45:34.094</td>\n      <td>unknown</td>\n      <td>-0.099380</td>\n      <td>-1.209686</td>\n      <td>0.304489</td>\n      <td>1.0</td>\n    </tr>\n    <tr>\n      <th>20629</th>\n      <td>1565109935097</td>\n      <td>2019-08-06T16:45:35.097</td>\n      <td>unknown</td>\n      <td>0.082794</td>\n      <td>-1.001434</td>\n      <td>-0.025375</td>\n      <td>1.0</td>\n    </tr>\n  </tbody>\n</table>\n</div>"
     },
     "execution_count": 117,
     "metadata": {},
     "output_type": "execute_result"
    }
   ],
   "source": [
    "train_data.dropna(inplace=True)  # Drop the NaN rows from the dataframe\n",
    "train_data.head()  # Get the first five rows of data"
   ],
   "metadata": {
    "collapsed": false,
    "pycharm": {
     "name": "#%%\n"
    }
   }
  },
  {
   "cell_type": "markdown",
   "source": [
    "We can now check the shape of the `train_data` dataframe."
   ],
   "metadata": {
    "collapsed": false,
    "pycharm": {
     "name": "#%% md\n"
    }
   }
  },
  {
   "cell_type": "code",
   "execution_count": 118,
   "outputs": [
    {
     "name": "stdout",
     "output_type": "stream",
     "text": [
      "(375, 7)\n"
     ]
    }
   ],
   "source": [
    "print(train_data.shape)  # Get the shape of the dataframe"
   ],
   "metadata": {
    "collapsed": false,
    "pycharm": {
     "name": "#%%\n"
    }
   }
  },
  {
   "cell_type": "markdown",
   "source": [
    "As expected, there are $375$ rows (the number of rows in the `train_labels` dataframe) and $7$ columns in the `train_data` dataframe. The"
   ],
   "metadata": {
    "collapsed": false,
    "pycharm": {
     "name": "#%% md\n"
    }
   }
  },
  {
   "cell_type": "markdown",
   "source": [
    "Right now, the `UTC time` values are strings, as can be seen below."
   ],
   "metadata": {
    "collapsed": false,
    "pycharm": {
     "name": "#%% md\n"
    }
   }
  },
  {
   "cell_type": "code",
   "execution_count": 115,
   "outputs": [
    {
     "data": {
      "text/plain": "True"
     },
     "execution_count": 115,
     "metadata": {},
     "output_type": "execute_result"
    }
   ],
   "source": [
    "# Create a function to determine if all the values in a Pandas DataFrame column are a specified data type, such as string.\n",
    "def is_column_values_datatype(column: pd.Series, datatype: type) -> bool:\n",
    "    \"\"\"\n",
    "    Returns `True` if all values in a Pandas DataFrame column is a specified datatype, `False` otherwise.\n",
    "\n",
    "    :param column: A Pandas DataFrame column.\n",
    "    :param datatype: The type of data to check for.\n",
    "    :return: `True` if all values in a Pandas DataFrame column is a string, `False` otherwise.\n",
    "    \"\"\"\n",
    "    return all(isinstance(value, datatype) for value in column)\n",
    "\n",
    "is_column_values_datatype(train_time_series['UTC time'], str)"
   ],
   "metadata": {
    "collapsed": false,
    "pycharm": {
     "name": "#%%\n"
    }
   }
  },
  {
   "cell_type": "markdown",
   "source": [
    "Therefore, each value in the `UTC time` column will be converted to a `DateTime` object to make it easier to generate a time elapsed column later."
   ],
   "metadata": {
    "collapsed": false,
    "pycharm": {
     "name": "#%% md\n"
    }
   }
  },
  {
   "cell_type": "code",
   "execution_count": 116,
   "outputs": [
    {
     "data": {
      "text/plain": "True"
     },
     "execution_count": 116,
     "metadata": {},
     "output_type": "execute_result"
    }
   ],
   "source": [
    "import datetime\n",
    "\n",
    "train_time_series['UTC time'] = pd.to_datetime(train_time_series['UTC time'])\n",
    "# Check if the UTC time column values are now all DateTime objects\n",
    "is_column_values_datatype(train_time_series['UTC time'], datetime.datetime)"
   ],
   "metadata": {
    "collapsed": false,
    "pycharm": {
     "name": "#%%\n"
    }
   }
  }
 ],
 "metadata": {
  "kernelspec": {
   "display_name": "Python 3",
   "language": "python",
   "name": "python3"
  },
  "language_info": {
   "codemirror_mode": {
    "name": "ipython",
    "version": 2
   },
   "file_extension": ".py",
   "mimetype": "text/x-python",
   "name": "python",
   "nbconvert_exporter": "python",
   "pygments_lexer": "ipython2",
   "version": "2.7.6"
  }
 },
 "nbformat": 4,
 "nbformat_minor": 0
}