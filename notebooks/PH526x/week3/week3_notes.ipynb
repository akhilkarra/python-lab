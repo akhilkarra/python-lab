{
 "cells": [
  {
   "cell_type": "markdown",
   "metadata": {
    "pycharm": {
     "name": "#%% md\n"
    }
   },
   "source": [
    "# Week 3 Notes"
   ]
  },
  {
   "cell_type": "markdown",
   "metadata": {
    "pycharm": {
     "name": "#%% md\n"
    }
   },
   "source": [
    "## 3.1.1 Introduction to DNA Translation\n",
    "\n",
    "We can think of DNA as a 1D string of nucleotides (of which there are 4: A, C, G, T).\n",
    "\n",
    "One nucleotide triplet corresponds to a single amino acid. Each protein in itself is a string of amino acids, of which there are 20.\n",
    "\n",
    "Central dogma of biology: DNA transcribed into RNA then translated into molecular protein\n",
    "\n",
    "Outline of case study:\n",
    "1. Download DNA sequence as a text file\n",
    "2. Translate DNA sequence into protein sequence\n",
    "3. Download amino acid sequence as a text file as a reference"
   ]
  },
  {
   "cell_type": "markdown",
   "metadata": {
    "pycharm": {
     "name": "#%% md\n"
    }
   },
   "source": [
    "## 3.1.2 Downloading DNA Data\n",
    "\n",
    "We're going to download DNA and Protein Sequences from the NCBI website.\n",
    "\n",
    "Added dna.txt and protein.txt to the repository."
   ]
  },
  {
   "cell_type": "markdown",
   "metadata": {
    "pycharm": {
     "name": "#%% md\n"
    }
   },
   "source": [
    "## 3.1.3 Importing DNA Data into Python"
   ]
  },
  {
   "cell_type": "code",
   "execution_count": 15,
   "metadata": {
    "pycharm": {
     "name": "#%%# Importing DNA Data into Python\n"
    }
   },
   "outputs": [],
   "source": [
    "# Defining a new class and method to remove special characters from a string\n",
    "class MyString(str):\n",
    "    def process(self):\n",
    "        return self.replace(\"\\n\", \"\").replace(\"\\r\", \"\").replace(\" \", \"\").upper()\n",
    "\n",
    "\n",
    "# Importing DNA Data into Python\n",
    "dna_file_in = open(\"dna.txt\", \"r\")\n",
    "dna_file_out = open(\"dna_processed.txt\", \"w\")\n",
    "\n",
    "for line in dna_file_in:\n",
    "    nucleotide_triplet = \"\"  # Resetting nucleotide triplet\n",
    "\n",
    "    for nucleotide in MyString(line).process():  # Since strings are immutable, removing special characters will not change the original string\n",
    "        if len(nucleotide_triplet) == 3:\n",
    "            dna_file_out.write(nucleotide_triplet + \"\\n\") # Writing triplet to file\n",
    "            nucleotide_triplet = \"\" # Resetting nucleotide triplet\n",
    "\n",
    "        if (nucleotide == \"A\" or \"C\" or \"G\" or \"T\") and len(nucleotide_triplet) < 3:\n",
    "            nucleotide_triplet += nucleotide # Adding nucleotide to triplet\n",
    "\n",
    "\n",
    "# Closing files to prevent memory leaks\n",
    "dna_file_in.close()\n",
    "dna_file_out.close()"
   ]
  },
  {
   "cell_type": "markdown",
   "metadata": {
    "pycharm": {
     "name": "#%% md\n"
    }
   },
   "source": [
    "## 3.1.4 Translating the DNA Sequence"
   ]
  },
  {
   "cell_type": "code",
   "execution_count": 16,
   "metadata": {
    "pycharm": {
     "name": "#%%\n"
    }
   },
   "outputs": [],
   "source": [
    "# Opening DNA file and creating new file to write to for protein sequence\n",
    "dna_file = open(\"dna_processed.txt\", \"r\")\n",
    "protein_file = open(\"protein_processed.txt\", \"w\")\n",
    "\n",
    "# Defining a table to translate nucleotides to amino acids\n",
    "nucleotide_to_amino_acid = {\n",
    "    'ATA':'I', 'ATC':'I', 'ATT':'I', 'ATG':'M',\n",
    "    'ACA':'T', 'ACC':'T', 'ACG':'T', 'ACT':'T',\n",
    "    'AAC':'N', 'AAT':'N', 'AAA':'K', 'AAG':'K',\n",
    "    'AGC':'S', 'AGT':'S', 'AGA':'R', 'AGG':'R',\n",
    "    'CTA':'L', 'CTC':'L', 'CTG':'L', 'CTT':'L',\n",
    "    'CCA':'P', 'CCC':'P', 'CCG':'P', 'CCT':'P',\n",
    "    'CAC':'H', 'CAT':'H', 'CAA':'Q', 'CAG':'Q',\n",
    "    'CGA':'R', 'CGC':'R', 'CGG':'R', 'CGT':'R',\n",
    "    'GTA':'V', 'GTC':'V', 'GTG':'V', 'GTT':'V',\n",
    "    'GCA':'A', 'GCC':'A', 'GCG':'A', 'GCT':'A',\n",
    "    'GAC':'D', 'GAT':'D', 'GAA':'E', 'GAG':'E',\n",
    "    'GGA':'G', 'GGC':'G', 'GGG':'G', 'GGT':'G',\n",
    "    'TCA':'S', 'TCC':'S', 'TCG':'S', 'TCT':'S',\n",
    "    'TTC':'F', 'TTT':'F', 'TTA':'L', 'TTG':'L',\n",
    "    'TAC':'Y', 'TAT':'Y', 'TAA':'_', 'TAG':'_',\n",
    "    'TGC':'C', 'TGT':'C', 'TGA':'_', 'TGG':'W',\n",
    "}\n",
    "\n",
    "\n",
    "# Table lookup to translate nucleotides to amino acids\n",
    "for triplet in dna_file:\n",
    "    protein_file.write(\n",
    "        nucleotide_to_amino_acid[ MyString(triplet).process()]\n",
    "    )\n",
    "\n",
    "\n",
    "# Closing files to prevent memory leaks\n",
    "dna_file.close()\n",
    "protein_file.close()"
   ]
  },
  {
   "cell_type": "markdown",
   "source": [
    "## 3.2.1 Introduction to Language Processing\n",
    "\n",
    "Task: to process books written in English, French, German, and Portuguese and find out how book lengths and number of unique words compare between different authors and languages."
   ],
   "metadata": {
    "collapsed": false,
    "pycharm": {
     "name": "#%% md\n"
    }
   }
  },
  {
   "cell_type": "markdown",
   "source": [],
   "metadata": {
    "collapsed": false,
    "pycharm": {
     "name": "#%% md\n"
    }
   }
  }
 ],
 "metadata": {
  "kernelspec": {
   "display_name": "Python 3",
   "language": "python",
   "name": "python3"
  },
  "language_info": {
   "codemirror_mode": {
    "name": "ipython",
    "version": 3
   },
   "file_extension": ".py",
   "mimetype": "text/x-python",
   "name": "python",
   "nbconvert_exporter": "python",
   "pygments_lexer": "ipython3",
   "version": "3.8.8"
  }
 },
 "nbformat": 4,
 "nbformat_minor": 1
}