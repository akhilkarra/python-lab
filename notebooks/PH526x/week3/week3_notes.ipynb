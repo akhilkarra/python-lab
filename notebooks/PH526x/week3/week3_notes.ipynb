{
 "cells": [
  {
   "cell_type": "markdown",
   "source": [
    "# Week 3 Notes"
   ],
   "metadata": {
    "collapsed": false,
    "pycharm": {
     "name": "#%% md\n"
    }
   }
  },
  {
   "cell_type": "markdown",
   "source": [
    "## 3.1.1 Introduction to DNA Translation\n",
    "\n",
    "We can think of DNA as a 1D string of nucleotides (of which there are 4: A, C, G, T).\n",
    "\n",
    "One nucleotide triplet corresponds to a single amino acid. Each protein in itself is a string of amino acids, of which there are 20.\n",
    "\n",
    "Central dogma of biology: DNA transcribed into RNA then translated into molecular protein\n",
    "\n",
    "Outline of case study:\n",
    "1. Download DNA sequence as a text file\n",
    "2. Translate DNA sequence into protein sequence\n",
    "3. Download amino acid sequence as a text file as a reference"
   ],
   "metadata": {
    "collapsed": false,
    "pycharm": {
     "name": "#%% md\n"
    }
   }
  },
  {
   "cell_type": "markdown",
   "source": [
    "## 3.1.2 Downloading DNA Data"
   ],
   "metadata": {
    "collapsed": false,
    "pycharm": {
     "name": "#%% md\n"
    }
   }
  }
 ],
 "metadata": {
  "kernelspec": {
   "display_name": "Python 3",
   "language": "python",
   "name": "python3"
  },
  "language_info": {
   "codemirror_mode": {
    "name": "ipython",
    "version": 2
   },
   "file_extension": ".py",
   "mimetype": "text/x-python",
   "name": "python",
   "nbconvert_exporter": "python",
   "pygments_lexer": "ipython2",
   "version": "2.7.6"
  }
 },
 "nbformat": 4,
 "nbformat_minor": 0
}