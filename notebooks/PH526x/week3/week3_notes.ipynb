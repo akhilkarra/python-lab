{
 "cells": [
  {
   "cell_type": "markdown",
   "source": [
    "# Week 3 Notes"
   ],
   "metadata": {
    "collapsed": false,
    "pycharm": {
     "name": "#%% md\n"
    }
   }
  },
  {
   "cell_type": "markdown",
   "source": [
    "## 3.1.1 Introduction to DNA Translation\n",
    "\n",
    "We can think of DNA as a 1D string of nucleotides (of which there are 4: A, C, G, T).\n",
    "\n",
    "One nucleotide triplet corresponds to a single amino acid. Each protein in itself is a string of amino acids, of which there are 20.\n",
    "\n",
    "Central dogma of biology: DNA transcribed into RNA then translated into molecular protein\n",
    "\n",
    "Outline of case study:\n",
    "1. Download DNA sequence as a text file\n",
    "2. Translate DNA sequence into protein sequence\n",
    "3. Download amino acid sequence as a text file as a reference"
   ],
   "metadata": {
    "collapsed": false,
    "pycharm": {
     "name": "#%% md\n"
    }
   }
  },
  {
   "cell_type": "markdown",
   "source": [
    "## 3.1.2 Downloading DNA Data\n",
    "\n",
    "We're going to download DNA and Protein Sequences from the NCBI website.\n",
    "\n",
    "Added dna.txt and protein.txt to the repository."
   ],
   "metadata": {
    "collapsed": false,
    "pycharm": {
     "name": "#%% md\n"
    }
   }
  },
  {
   "cell_type": "markdown",
   "source": [
    "## 3.1.3 Importing DNA Data into Python"
   ],
   "metadata": {
    "collapsed": false,
    "pycharm": {
     "name": "#%% md\n"
    }
   }
  },
  {
   "cell_type": "code",
   "execution_count": 16,
   "outputs": [],
   "source": [
    "# Defining a new class and method to remove special characters from a string\n",
    "class MyString(str):\n",
    "    def remove_special_chars(self):\n",
    "        return self.replace(\"\\n\", \"\").replace(\"\\r\", \"\")\n",
    "\n",
    "\n",
    "# Importing DNA Data into Python\n",
    "dna_file_in = open(\"dna.txt\", \"r\")\n",
    "dna_file_out = open(\"dna_processed.txt\", \"w\")\n",
    "\n",
    "for line in dna_file_in:\n",
    "    nucleotide_triplet = \"\"  # Resetting nucleotide triplet\n",
    "\n",
    "    for nucleotide in line.remove_special_chars():  # Since strings are immutable, removing special characters will not change the original string\n",
    "        if (nucleotide == \"A\" or \"C\" or \"G\" or \"T\") and len(nucleotide_triplet) < 3:\n",
    "            nucleotide_triplet += nucleotide # Adding nucleotide to triplet\n",
    "\n",
    "        elif len(nucleotide_triplet) == 3:\n",
    "            dna_file_out.write(nucleotide_triplet + \"\\n\") # Writing triplet to file\n",
    "            nucleotide_triplet = \"\" # Resetting nucleotide triplet\n",
    "\n",
    "\n",
    "# Closing files to prevent memory leaks\n",
    "dna_file_in.close()\n",
    "dna_file_out.close()"
   ],
   "metadata": {
    "collapsed": false,
    "pycharm": {
     "name": "#%%# Importing DNA Data into Python\n"
    }
   }
  },
  {
   "cell_type": "markdown",
   "source": [
    "## 3.1.4 Translating the DNA Sequence"
   ],
   "metadata": {
    "collapsed": false,
    "pycharm": {
     "name": "#%% md\n"
    }
   }
  },
  {
   "cell_type": "code",
   "execution_count": 16,
   "outputs": [],
   "source": [],
   "metadata": {
    "collapsed": false,
    "pycharm": {
     "name": "#%%\n"
    }
   }
  }
 ],
 "metadata": {
  "kernelspec": {
   "display_name": "Python 3",
   "language": "python",
   "name": "python3"
  },
  "language_info": {
   "codemirror_mode": {
    "name": "ipython",
    "version": 2
   },
   "file_extension": ".py",
   "mimetype": "text/x-python",
   "name": "python",
   "nbconvert_exporter": "python",
   "pygments_lexer": "ipython2",
   "version": "2.7.6"
  }
 },
 "nbformat": 4,
 "nbformat_minor": 0
}