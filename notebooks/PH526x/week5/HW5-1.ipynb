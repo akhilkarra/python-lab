{
 "cells": [
  {
   "cell_type": "markdown",
   "metadata": {
    "pycharm": {
     "name": "#%% md\n"
    }
   },
   "source": [
    "# Using Python for Research Homework: Week 5, Case Study Part 1\n",
    "\n",
    "The [movie dataset on which this case study is based](https://www.kaggle.com/tmdb/tmdb-movie-metadata) is a database of 5000 movies catalogued by [The Movie Database (TMDb)](https://www.themoviedb.org/?language=en). The information available about each movie is its budget, revenue, rating, actors and actresses, etc. In this case study, we will use this dataset to determine whether any information about a movie can predict the total revenue of a movie. We will also attempt to predict whether a movie's revenue will exceed its budget.\n",
    "\n",
    "In Part 1, we will inspect, clean, and transform the data."
   ]
  },
  {
   "cell_type": "markdown",
   "metadata": {
    "pycharm": {
     "name": "#%% md\n"
    }
   },
   "source": [
    "### Exercise 1\n",
    "\n",
    "First, we will import several libraries. `scikit-learn` (**sklearn**) contains helpful statistical models, and we'll use the `matplotlib.pyplot` library for visualizations. Of course, we will use `numpy` and `pandas` for data manipulation throughout.\n",
    "\n",
    "#### Instructions \n",
    "\n",
    "- Read and execute the given code.\n",
    "- Call `df.head()` to take a look at the data."
   ]
  },
  {
   "cell_type": "code",
   "execution_count": 146,
   "metadata": {
    "pycharm": {
     "name": "#%%\n"
    }
   },
   "outputs": [
    {
     "data": {
      "text/plain": "         budget                                       genres  \\\n0     237000000  Action, Adventure, Fantasy, Science Fiction   \n1     300000000                   Adventure, Fantasy, Action   \n2     245000000                     Action, Adventure, Crime   \n3     250000000               Action, Crime, Drama, Thriller   \n4     260000000           Action, Adventure, Science Fiction   \n...         ...                                          ...   \n4798     220000                      Action, Crime, Thriller   \n4799       9000                              Comedy, Romance   \n4800          0             Comedy, Drama, Romance, TV Movie   \n4801          0                                          NaN   \n4802          0                                  Documentary   \n\n                                               homepage      id  \\\n0                           http://www.avatarmovie.com/   19995   \n1          http://disney.go.com/disneypictures/pirates/     285   \n2           http://www.sonypictures.com/movies/spectre/  206647   \n3                    http://www.thedarkknightrises.com/   49026   \n4                  http://movies.disney.com/john-carter   49529   \n...                                                 ...     ...   \n4798                                                NaN    9367   \n4799                                                NaN   72766   \n4800  http://www.hallmarkchannel.com/signedsealeddel...  231617   \n4801                        http://shanghaicalling.com/  126186   \n4802                                                NaN   25975   \n\n                                               keywords original_language  \\\n0     culture clash, future, space war, space colony...                en   \n1     ocean, drug abuse, exotic island, east india t...                en   \n2     spy, based on novel, secret agent, sequel, mi6...                en   \n3     dc comics, crime fighter, terrorist, secret id...                en   \n4     based on novel, mars, medallion, space travel,...                en   \n...                                                 ...               ...   \n4798  united states–mexico barrier, legs, arms, pape...                es   \n4799                                                NaN                en   \n4800  date, love at first sight, narration, investig...                en   \n4801                                                NaN                en   \n4802            obsession, camcorder, crush, dream girl                en   \n\n                                original_title  \\\n0                                       Avatar   \n1     Pirates of the Caribbean: At World's End   \n2                                      Spectre   \n3                        The Dark Knight Rises   \n4                                  John Carter   \n...                                        ...   \n4798                               El Mariachi   \n4799                                 Newlyweds   \n4800                 Signed, Sealed, Delivered   \n4801                          Shanghai Calling   \n4802                         My Date with Drew   \n\n                                               overview  popularity  \\\n0     In the 22nd century, a paraplegic Marine is di...  150.437577   \n1     Captain Barbossa, long believed to be dead, ha...  139.082615   \n2     A cryptic message from Bond’s past sends him o...  107.376788   \n3     Following the death of District Attorney Harve...  112.312950   \n4     John Carter is a war-weary, former military ca...   43.926995   \n...                                                 ...         ...   \n4798  El Mariachi just wants to play his guitar and ...   14.269792   \n4799  A newlywed couple's honeymoon is upended by th...    0.642552   \n4800  \"Signed, Sealed, Delivered\" introduces a dedic...    1.444476   \n4801  When ambitious New York attorney Sam is sent t...    0.857008   \n4802  Ever since the second grade when he first saw ...    1.929883   \n\n                                   production_companies  ...     revenue  \\\n0     Ingenious Film Partners, Twentieth Century Fox...  ...  2787965087   \n1     Walt Disney Pictures, Jerry Bruckheimer Films,...  ...   961000000   \n2                        Columbia Pictures, Danjaq, B24  ...   880674609   \n3     Legendary Pictures, Warner Bros., DC Entertain...  ...  1084939099   \n4                                  Walt Disney Pictures  ...   284139100   \n...                                                 ...  ...         ...   \n4798                                  Columbia Pictures  ...     2040920   \n4799                                                NaN  ...           0   \n4800  Front Street Pictures, Muse Entertainment Ente...  ...           0   \n4801                                                NaN  ...           0   \n4802         rusty bear entertainment, lucky crow films  ...           0   \n\n     runtime                               spoken_languages    status  \\\n0      162.0                               English, Español  Released   \n1      169.0                                        English  Released   \n2      148.0  Français, English, Español, Italiano, Deutsch  Released   \n3      165.0                                        English  Released   \n4      132.0                                        English  Released   \n...      ...                                            ...       ...   \n4798    81.0                                        Español  Released   \n4799    85.0                                            NaN  Released   \n4800   120.0                                        English  Released   \n4801    98.0                                        English  Released   \n4802    90.0                                        English  Released   \n\n                                                tagline  \\\n0                           Enter the World of Pandora.   \n1        At the end of the world, the adventure begins.   \n2                                 A Plan No One Escapes   \n3                                       The Legend Ends   \n4                  Lost in our world, found in another.   \n...                                                 ...   \n4798  He didn't come looking for trouble, but troubl...   \n4799  A newlywed couple's honeymoon is upended by th...   \n4800                                                NaN   \n4801                           A New Yorker in Shanghai   \n4802                                                NaN   \n\n                                         title vote_average vote_count  \\\n0                                       Avatar          7.2      11800   \n1     Pirates of the Caribbean: At World's End          6.9       4500   \n2                                      Spectre          6.3       4466   \n3                        The Dark Knight Rises          7.6       9106   \n4                                  John Carter          6.1       2124   \n...                                        ...          ...        ...   \n4798                               El Mariachi          6.6        238   \n4799                                 Newlyweds          5.9          5   \n4800                 Signed, Sealed, Delivered          7.0          6   \n4801                          Shanghai Calling          5.7          7   \n4802                         My Date with Drew          6.3         16   \n\n      movie_id                                               cast  \n0        19995  Sam Worthington, Zoe Saldana, Sigourney Weaver...  \n1          285  Johnny Depp, Orlando Bloom, Keira Knightley, S...  \n2       206647  Daniel Craig, Christoph Waltz, Léa Seydoux, Ra...  \n3        49026  Christian Bale, Michael Caine, Gary Oldman, An...  \n4        49529  Taylor Kitsch, Lynn Collins, Samantha Morton, ...  \n...        ...                                                ...  \n4798      9367  Carlos Gallardo, Jaime de Hoyos, Peter Marquar...  \n4799     72766  Edward Burns, Kerry Bishé, Marsha Dietlein, Ca...  \n4800    231617  Eric Mabius, Kristin Booth, Crystal Lowe, Geof...  \n4801    126186  Daniel Henney, Eliza Coupe, Bill Paxton, Alan ...  \n4802     25975  Drew Barrymore, Brian Herzlinger, Corey Feldma...  \n\n[4803 rows x 22 columns]",
      "text/html": "<div>\n<style scoped>\n    .dataframe tbody tr th:only-of-type {\n        vertical-align: middle;\n    }\n\n    .dataframe tbody tr th {\n        vertical-align: top;\n    }\n\n    .dataframe thead th {\n        text-align: right;\n    }\n</style>\n<table border=\"1\" class=\"dataframe\">\n  <thead>\n    <tr style=\"text-align: right;\">\n      <th></th>\n      <th>budget</th>\n      <th>genres</th>\n      <th>homepage</th>\n      <th>id</th>\n      <th>keywords</th>\n      <th>original_language</th>\n      <th>original_title</th>\n      <th>overview</th>\n      <th>popularity</th>\n      <th>production_companies</th>\n      <th>...</th>\n      <th>revenue</th>\n      <th>runtime</th>\n      <th>spoken_languages</th>\n      <th>status</th>\n      <th>tagline</th>\n      <th>title</th>\n      <th>vote_average</th>\n      <th>vote_count</th>\n      <th>movie_id</th>\n      <th>cast</th>\n    </tr>\n  </thead>\n  <tbody>\n    <tr>\n      <th>0</th>\n      <td>237000000</td>\n      <td>Action, Adventure, Fantasy, Science Fiction</td>\n      <td>http://www.avatarmovie.com/</td>\n      <td>19995</td>\n      <td>culture clash, future, space war, space colony...</td>\n      <td>en</td>\n      <td>Avatar</td>\n      <td>In the 22nd century, a paraplegic Marine is di...</td>\n      <td>150.437577</td>\n      <td>Ingenious Film Partners, Twentieth Century Fox...</td>\n      <td>...</td>\n      <td>2787965087</td>\n      <td>162.0</td>\n      <td>English, Español</td>\n      <td>Released</td>\n      <td>Enter the World of Pandora.</td>\n      <td>Avatar</td>\n      <td>7.2</td>\n      <td>11800</td>\n      <td>19995</td>\n      <td>Sam Worthington, Zoe Saldana, Sigourney Weaver...</td>\n    </tr>\n    <tr>\n      <th>1</th>\n      <td>300000000</td>\n      <td>Adventure, Fantasy, Action</td>\n      <td>http://disney.go.com/disneypictures/pirates/</td>\n      <td>285</td>\n      <td>ocean, drug abuse, exotic island, east india t...</td>\n      <td>en</td>\n      <td>Pirates of the Caribbean: At World's End</td>\n      <td>Captain Barbossa, long believed to be dead, ha...</td>\n      <td>139.082615</td>\n      <td>Walt Disney Pictures, Jerry Bruckheimer Films,...</td>\n      <td>...</td>\n      <td>961000000</td>\n      <td>169.0</td>\n      <td>English</td>\n      <td>Released</td>\n      <td>At the end of the world, the adventure begins.</td>\n      <td>Pirates of the Caribbean: At World's End</td>\n      <td>6.9</td>\n      <td>4500</td>\n      <td>285</td>\n      <td>Johnny Depp, Orlando Bloom, Keira Knightley, S...</td>\n    </tr>\n    <tr>\n      <th>2</th>\n      <td>245000000</td>\n      <td>Action, Adventure, Crime</td>\n      <td>http://www.sonypictures.com/movies/spectre/</td>\n      <td>206647</td>\n      <td>spy, based on novel, secret agent, sequel, mi6...</td>\n      <td>en</td>\n      <td>Spectre</td>\n      <td>A cryptic message from Bond’s past sends him o...</td>\n      <td>107.376788</td>\n      <td>Columbia Pictures, Danjaq, B24</td>\n      <td>...</td>\n      <td>880674609</td>\n      <td>148.0</td>\n      <td>Français, English, Español, Italiano, Deutsch</td>\n      <td>Released</td>\n      <td>A Plan No One Escapes</td>\n      <td>Spectre</td>\n      <td>6.3</td>\n      <td>4466</td>\n      <td>206647</td>\n      <td>Daniel Craig, Christoph Waltz, Léa Seydoux, Ra...</td>\n    </tr>\n    <tr>\n      <th>3</th>\n      <td>250000000</td>\n      <td>Action, Crime, Drama, Thriller</td>\n      <td>http://www.thedarkknightrises.com/</td>\n      <td>49026</td>\n      <td>dc comics, crime fighter, terrorist, secret id...</td>\n      <td>en</td>\n      <td>The Dark Knight Rises</td>\n      <td>Following the death of District Attorney Harve...</td>\n      <td>112.312950</td>\n      <td>Legendary Pictures, Warner Bros., DC Entertain...</td>\n      <td>...</td>\n      <td>1084939099</td>\n      <td>165.0</td>\n      <td>English</td>\n      <td>Released</td>\n      <td>The Legend Ends</td>\n      <td>The Dark Knight Rises</td>\n      <td>7.6</td>\n      <td>9106</td>\n      <td>49026</td>\n      <td>Christian Bale, Michael Caine, Gary Oldman, An...</td>\n    </tr>\n    <tr>\n      <th>4</th>\n      <td>260000000</td>\n      <td>Action, Adventure, Science Fiction</td>\n      <td>http://movies.disney.com/john-carter</td>\n      <td>49529</td>\n      <td>based on novel, mars, medallion, space travel,...</td>\n      <td>en</td>\n      <td>John Carter</td>\n      <td>John Carter is a war-weary, former military ca...</td>\n      <td>43.926995</td>\n      <td>Walt Disney Pictures</td>\n      <td>...</td>\n      <td>284139100</td>\n      <td>132.0</td>\n      <td>English</td>\n      <td>Released</td>\n      <td>Lost in our world, found in another.</td>\n      <td>John Carter</td>\n      <td>6.1</td>\n      <td>2124</td>\n      <td>49529</td>\n      <td>Taylor Kitsch, Lynn Collins, Samantha Morton, ...</td>\n    </tr>\n    <tr>\n      <th>...</th>\n      <td>...</td>\n      <td>...</td>\n      <td>...</td>\n      <td>...</td>\n      <td>...</td>\n      <td>...</td>\n      <td>...</td>\n      <td>...</td>\n      <td>...</td>\n      <td>...</td>\n      <td>...</td>\n      <td>...</td>\n      <td>...</td>\n      <td>...</td>\n      <td>...</td>\n      <td>...</td>\n      <td>...</td>\n      <td>...</td>\n      <td>...</td>\n      <td>...</td>\n      <td>...</td>\n    </tr>\n    <tr>\n      <th>4798</th>\n      <td>220000</td>\n      <td>Action, Crime, Thriller</td>\n      <td>NaN</td>\n      <td>9367</td>\n      <td>united states–mexico barrier, legs, arms, pape...</td>\n      <td>es</td>\n      <td>El Mariachi</td>\n      <td>El Mariachi just wants to play his guitar and ...</td>\n      <td>14.269792</td>\n      <td>Columbia Pictures</td>\n      <td>...</td>\n      <td>2040920</td>\n      <td>81.0</td>\n      <td>Español</td>\n      <td>Released</td>\n      <td>He didn't come looking for trouble, but troubl...</td>\n      <td>El Mariachi</td>\n      <td>6.6</td>\n      <td>238</td>\n      <td>9367</td>\n      <td>Carlos Gallardo, Jaime de Hoyos, Peter Marquar...</td>\n    </tr>\n    <tr>\n      <th>4799</th>\n      <td>9000</td>\n      <td>Comedy, Romance</td>\n      <td>NaN</td>\n      <td>72766</td>\n      <td>NaN</td>\n      <td>en</td>\n      <td>Newlyweds</td>\n      <td>A newlywed couple's honeymoon is upended by th...</td>\n      <td>0.642552</td>\n      <td>NaN</td>\n      <td>...</td>\n      <td>0</td>\n      <td>85.0</td>\n      <td>NaN</td>\n      <td>Released</td>\n      <td>A newlywed couple's honeymoon is upended by th...</td>\n      <td>Newlyweds</td>\n      <td>5.9</td>\n      <td>5</td>\n      <td>72766</td>\n      <td>Edward Burns, Kerry Bishé, Marsha Dietlein, Ca...</td>\n    </tr>\n    <tr>\n      <th>4800</th>\n      <td>0</td>\n      <td>Comedy, Drama, Romance, TV Movie</td>\n      <td>http://www.hallmarkchannel.com/signedsealeddel...</td>\n      <td>231617</td>\n      <td>date, love at first sight, narration, investig...</td>\n      <td>en</td>\n      <td>Signed, Sealed, Delivered</td>\n      <td>\"Signed, Sealed, Delivered\" introduces a dedic...</td>\n      <td>1.444476</td>\n      <td>Front Street Pictures, Muse Entertainment Ente...</td>\n      <td>...</td>\n      <td>0</td>\n      <td>120.0</td>\n      <td>English</td>\n      <td>Released</td>\n      <td>NaN</td>\n      <td>Signed, Sealed, Delivered</td>\n      <td>7.0</td>\n      <td>6</td>\n      <td>231617</td>\n      <td>Eric Mabius, Kristin Booth, Crystal Lowe, Geof...</td>\n    </tr>\n    <tr>\n      <th>4801</th>\n      <td>0</td>\n      <td>NaN</td>\n      <td>http://shanghaicalling.com/</td>\n      <td>126186</td>\n      <td>NaN</td>\n      <td>en</td>\n      <td>Shanghai Calling</td>\n      <td>When ambitious New York attorney Sam is sent t...</td>\n      <td>0.857008</td>\n      <td>NaN</td>\n      <td>...</td>\n      <td>0</td>\n      <td>98.0</td>\n      <td>English</td>\n      <td>Released</td>\n      <td>A New Yorker in Shanghai</td>\n      <td>Shanghai Calling</td>\n      <td>5.7</td>\n      <td>7</td>\n      <td>126186</td>\n      <td>Daniel Henney, Eliza Coupe, Bill Paxton, Alan ...</td>\n    </tr>\n    <tr>\n      <th>4802</th>\n      <td>0</td>\n      <td>Documentary</td>\n      <td>NaN</td>\n      <td>25975</td>\n      <td>obsession, camcorder, crush, dream girl</td>\n      <td>en</td>\n      <td>My Date with Drew</td>\n      <td>Ever since the second grade when he first saw ...</td>\n      <td>1.929883</td>\n      <td>rusty bear entertainment, lucky crow films</td>\n      <td>...</td>\n      <td>0</td>\n      <td>90.0</td>\n      <td>English</td>\n      <td>Released</td>\n      <td>NaN</td>\n      <td>My Date with Drew</td>\n      <td>6.3</td>\n      <td>16</td>\n      <td>25975</td>\n      <td>Drew Barrymore, Brian Herzlinger, Corey Feldma...</td>\n    </tr>\n  </tbody>\n</table>\n<p>4803 rows × 22 columns</p>\n</div>"
     },
     "execution_count": 146,
     "metadata": {},
     "output_type": "execute_result"
    }
   ],
   "source": [
    "import pandas as pd\n",
    "import numpy as np\n",
    "\n",
    "from sklearn.model_selection import cross_val_predict\n",
    "from sklearn.linear_model import LinearRegression\n",
    "from sklearn.linear_model import LogisticRegression\n",
    "from sklearn.ensemble import RandomForestRegressor\n",
    "from sklearn.ensemble import RandomForestClassifier\n",
    "from sklearn.metrics import accuracy_score\n",
    "from sklearn.metrics import r2_score\n",
    "\n",
    "import matplotlib.pyplot as plt\n",
    "\n",
    "df = pd.read_csv(\"https://courses.edx.org/asset-v1:HarvardX+PH526x+2T2019+type@asset+block@movie_data.csv\", index_col=0)\n",
    "\n",
    "# Enter code here.\n",
    "df"
   ]
  },
  {
   "cell_type": "markdown",
   "metadata": {
    "pycharm": {
     "name": "#%% md\n"
    }
   },
   "source": [
    "### Exercise 2\n",
    "\n",
    "In this exercise, we will define the regression and classification outcomes. Specifically, we will use the `revenue` column as the target for regression. For classification, we will construct an indicator of profitability for each movie.\n",
    "\n",
    "#### Instructions \n",
    "- Create a new column in `df` called `profitable`, defined as 1 if the movie `revenue` is greater than the movie `budget`, and 0 otherwise.\n",
    "- Next, define and store the outcomes we will use for regression and classification.\n",
    "    - Define `regression_target` as the string `'revenue'`.\n",
    "    - Define `classification_target` as the string `'profitable'`."
   ]
  },
  {
   "cell_type": "code",
   "execution_count": 147,
   "metadata": {
    "pycharm": {
     "name": "#%%\n"
    }
   },
   "outputs": [
    {
     "data": {
      "text/plain": "(2585, 23)"
     },
     "execution_count": 147,
     "metadata": {},
     "output_type": "execute_result"
    }
   ],
   "source": [
    "df['profitable'] = np.where(df['revenue'] > df['budget'], 1, 0)\n",
    "df[df['profitable'] == 1].shape"
   ]
  },
  {
   "cell_type": "code",
   "execution_count": 148,
   "outputs": [],
   "source": [
    "regression_target = 'revenue'\n",
    "classification_target = 'profitable'"
   ],
   "metadata": {
    "collapsed": false,
    "pycharm": {
     "name": "#%%\n"
    }
   }
  },
  {
   "cell_type": "markdown",
   "metadata": {
    "pycharm": {
     "name": "#%% md\n"
    }
   },
   "source": [
    "### Exercise 3\n",
    "\n",
    "For simplicity, we will proceed by analyzing only the rows without any missing data. In this exercise, we will remove rows with any infinite or missing values.\n",
    "\n",
    "#### Instructions \n",
    "\n",
    "- Use `df.replace()` to replace any cells with type `np.inf` or `-np.inf` with `np.nan`.\n",
    "- Drop all rows with any `np.nan` values in that row using `df.dropna()`. Do any further arguments need to be specified in this function to remove rows with any such values?"
   ]
  },
  {
   "cell_type": "code",
   "execution_count": 149,
   "metadata": {
    "pycharm": {
     "name": "#%%\n"
    }
   },
   "outputs": [],
   "source": [
    "df = df.replace([np.inf, -np.inf], np.nan)"
   ]
  },
  {
   "cell_type": "code",
   "execution_count": 150,
   "outputs": [
    {
     "data": {
      "text/plain": "(1406, 23)"
     },
     "execution_count": 150,
     "metadata": {},
     "output_type": "execute_result"
    }
   ],
   "source": [
    "df.dropna(inplace=True)\n",
    "df.shape"
   ],
   "metadata": {
    "collapsed": false,
    "pycharm": {
     "name": "#%%\n"
    }
   }
  },
  {
   "cell_type": "code",
   "execution_count": 151,
   "outputs": [
    {
     "data": {
      "text/plain": "'Action, Adventure, Fantasy, Science Fiction'"
     },
     "execution_count": 151,
     "metadata": {},
     "output_type": "execute_result"
    }
   ],
   "source": [
    "df.genres[0]"
   ],
   "metadata": {
    "collapsed": false,
    "pycharm": {
     "name": "#%%\n"
    }
   }
  },
  {
   "cell_type": "markdown",
   "metadata": {
    "pycharm": {
     "name": "#%% md\n"
    }
   },
   "source": [
    "### Exercise 4\n",
    "\n",
    "Many of the variables in our dataframe contain the names of genre, actors/actresses, and keywords. Let's add indicator columns for each genre.\n",
    "\n",
    "#### Instructions \n",
    "\n",
    "- Determine all the genres in the genre column. Make sure to use the `strip()` function on each genre to remove trailing characters.\n",
    "- Next, include each listed genre as a new column in the dataframe. Each element of these genre columns should be 1 if the movie belongs to that particular genre, and 0 otherwise. Keep in mind, a movie may belong to several genres at once.\n",
    "- Call `df[genres].head()` to view your results."
   ]
  },
  {
   "cell_type": "code",
   "execution_count": 152,
   "outputs": [
    {
     "data": {
      "text/plain": "20"
     },
     "execution_count": 152,
     "metadata": {},
     "output_type": "execute_result"
    }
   ],
   "source": [
    "genres_in_df = []  # empty list for storing all genres present in the dataframe\n",
    "\n",
    "# add all genres to the list\n",
    "lists_of_genres_per_movie = list(df['genres'].str.strip().str.split(', ').values)\n",
    "\n",
    "for list_of_genres in lists_of_genres_per_movie:\n",
    "    for genre in list_of_genres:\n",
    "        if genre not in genres_in_df:\n",
    "            genres_in_df.append(genre)\n",
    "\n",
    "len(genres_in_df)  # number of genres in the dataframe"
   ],
   "metadata": {
    "collapsed": false,
    "pycharm": {
     "name": "#%%\n"
    }
   }
  },
  {
   "cell_type": "code",
   "execution_count": 153,
   "outputs": [
    {
     "data": {
      "text/plain": "      budget                                       genres  \\\n0  237000000  Action, Adventure, Fantasy, Science Fiction   \n1  300000000                   Adventure, Fantasy, Action   \n2  245000000                     Action, Adventure, Crime   \n3  250000000               Action, Crime, Drama, Thriller   \n4  260000000           Action, Adventure, Science Fiction   \n\n                                       homepage      id  \\\n0                   http://www.avatarmovie.com/   19995   \n1  http://disney.go.com/disneypictures/pirates/     285   \n2   http://www.sonypictures.com/movies/spectre/  206647   \n3            http://www.thedarkknightrises.com/   49026   \n4          http://movies.disney.com/john-carter   49529   \n\n                                            keywords original_language  \\\n0  culture clash, future, space war, space colony...                en   \n1  ocean, drug abuse, exotic island, east india t...                en   \n2  spy, based on novel, secret agent, sequel, mi6...                en   \n3  dc comics, crime fighter, terrorist, secret id...                en   \n4  based on novel, mars, medallion, space travel,...                en   \n\n                             original_title  \\\n0                                    Avatar   \n1  Pirates of the Caribbean: At World's End   \n2                                   Spectre   \n3                     The Dark Knight Rises   \n4                               John Carter   \n\n                                            overview  popularity  \\\n0  In the 22nd century, a paraplegic Marine is di...  150.437577   \n1  Captain Barbossa, long believed to be dead, ha...  139.082615   \n2  A cryptic message from Bond’s past sends him o...  107.376788   \n3  Following the death of District Attorney Harve...  112.312950   \n4  John Carter is a war-weary, former military ca...   43.926995   \n\n                                production_companies  ... Comedy Romance  \\\n0  Ingenious Film Partners, Twentieth Century Fox...  ...      0       0   \n1  Walt Disney Pictures, Jerry Bruckheimer Films,...  ...      0       0   \n2                     Columbia Pictures, Danjaq, B24  ...      0       0   \n3  Legendary Pictures, Warner Bros., DC Entertain...  ...      0       0   \n4                               Walt Disney Pictures  ...      0       0   \n\n   Horror  Mystery War History Music Documentary  TV Movie  Foreign  \n0       0        0   0       0     0           0         0        0  \n1       0        0   0       0     0           0         0        0  \n2       0        0   0       0     0           0         0        0  \n3       0        0   0       0     0           0         0        0  \n4       0        0   0       0     0           0         0        0  \n\n[5 rows x 43 columns]",
      "text/html": "<div>\n<style scoped>\n    .dataframe tbody tr th:only-of-type {\n        vertical-align: middle;\n    }\n\n    .dataframe tbody tr th {\n        vertical-align: top;\n    }\n\n    .dataframe thead th {\n        text-align: right;\n    }\n</style>\n<table border=\"1\" class=\"dataframe\">\n  <thead>\n    <tr style=\"text-align: right;\">\n      <th></th>\n      <th>budget</th>\n      <th>genres</th>\n      <th>homepage</th>\n      <th>id</th>\n      <th>keywords</th>\n      <th>original_language</th>\n      <th>original_title</th>\n      <th>overview</th>\n      <th>popularity</th>\n      <th>production_companies</th>\n      <th>...</th>\n      <th>Comedy</th>\n      <th>Romance</th>\n      <th>Horror</th>\n      <th>Mystery</th>\n      <th>War</th>\n      <th>History</th>\n      <th>Music</th>\n      <th>Documentary</th>\n      <th>TV Movie</th>\n      <th>Foreign</th>\n    </tr>\n  </thead>\n  <tbody>\n    <tr>\n      <th>0</th>\n      <td>237000000</td>\n      <td>Action, Adventure, Fantasy, Science Fiction</td>\n      <td>http://www.avatarmovie.com/</td>\n      <td>19995</td>\n      <td>culture clash, future, space war, space colony...</td>\n      <td>en</td>\n      <td>Avatar</td>\n      <td>In the 22nd century, a paraplegic Marine is di...</td>\n      <td>150.437577</td>\n      <td>Ingenious Film Partners, Twentieth Century Fox...</td>\n      <td>...</td>\n      <td>0</td>\n      <td>0</td>\n      <td>0</td>\n      <td>0</td>\n      <td>0</td>\n      <td>0</td>\n      <td>0</td>\n      <td>0</td>\n      <td>0</td>\n      <td>0</td>\n    </tr>\n    <tr>\n      <th>1</th>\n      <td>300000000</td>\n      <td>Adventure, Fantasy, Action</td>\n      <td>http://disney.go.com/disneypictures/pirates/</td>\n      <td>285</td>\n      <td>ocean, drug abuse, exotic island, east india t...</td>\n      <td>en</td>\n      <td>Pirates of the Caribbean: At World's End</td>\n      <td>Captain Barbossa, long believed to be dead, ha...</td>\n      <td>139.082615</td>\n      <td>Walt Disney Pictures, Jerry Bruckheimer Films,...</td>\n      <td>...</td>\n      <td>0</td>\n      <td>0</td>\n      <td>0</td>\n      <td>0</td>\n      <td>0</td>\n      <td>0</td>\n      <td>0</td>\n      <td>0</td>\n      <td>0</td>\n      <td>0</td>\n    </tr>\n    <tr>\n      <th>2</th>\n      <td>245000000</td>\n      <td>Action, Adventure, Crime</td>\n      <td>http://www.sonypictures.com/movies/spectre/</td>\n      <td>206647</td>\n      <td>spy, based on novel, secret agent, sequel, mi6...</td>\n      <td>en</td>\n      <td>Spectre</td>\n      <td>A cryptic message from Bond’s past sends him o...</td>\n      <td>107.376788</td>\n      <td>Columbia Pictures, Danjaq, B24</td>\n      <td>...</td>\n      <td>0</td>\n      <td>0</td>\n      <td>0</td>\n      <td>0</td>\n      <td>0</td>\n      <td>0</td>\n      <td>0</td>\n      <td>0</td>\n      <td>0</td>\n      <td>0</td>\n    </tr>\n    <tr>\n      <th>3</th>\n      <td>250000000</td>\n      <td>Action, Crime, Drama, Thriller</td>\n      <td>http://www.thedarkknightrises.com/</td>\n      <td>49026</td>\n      <td>dc comics, crime fighter, terrorist, secret id...</td>\n      <td>en</td>\n      <td>The Dark Knight Rises</td>\n      <td>Following the death of District Attorney Harve...</td>\n      <td>112.312950</td>\n      <td>Legendary Pictures, Warner Bros., DC Entertain...</td>\n      <td>...</td>\n      <td>0</td>\n      <td>0</td>\n      <td>0</td>\n      <td>0</td>\n      <td>0</td>\n      <td>0</td>\n      <td>0</td>\n      <td>0</td>\n      <td>0</td>\n      <td>0</td>\n    </tr>\n    <tr>\n      <th>4</th>\n      <td>260000000</td>\n      <td>Action, Adventure, Science Fiction</td>\n      <td>http://movies.disney.com/john-carter</td>\n      <td>49529</td>\n      <td>based on novel, mars, medallion, space travel,...</td>\n      <td>en</td>\n      <td>John Carter</td>\n      <td>John Carter is a war-weary, former military ca...</td>\n      <td>43.926995</td>\n      <td>Walt Disney Pictures</td>\n      <td>...</td>\n      <td>0</td>\n      <td>0</td>\n      <td>0</td>\n      <td>0</td>\n      <td>0</td>\n      <td>0</td>\n      <td>0</td>\n      <td>0</td>\n      <td>0</td>\n      <td>0</td>\n    </tr>\n  </tbody>\n</table>\n<p>5 rows × 43 columns</p>\n</div>"
     },
     "execution_count": 153,
     "metadata": {},
     "output_type": "execute_result"
    }
   ],
   "source": [
    "# add columns for each genre in the dataframe\n",
    "for genre in genres_in_df:\n",
    "    df[genre] = np.where(df.genres.str.contains(genre), 1, 0)\n",
    "\n",
    "df.head()  # check results"
   ],
   "metadata": {
    "collapsed": false,
    "pycharm": {
     "name": "#%%\n"
    }
   }
  },
  {
   "cell_type": "markdown",
   "metadata": {
    "pycharm": {
     "name": "#%% md\n"
    }
   },
   "source": [
    "### Exercise 5\n",
    "\n",
    "Some variables in the dataset are already numeric and perhaps useful for regression and classification. In this exercise, we will store the names of these variables for future use. We will also take a look at some of the continuous variables and outcomes by plotting each pair in a scatter plot. Finally, we will evaluate the skew of each variable.\n",
    "\n",
    "#### Instructions \n",
    "- Call `plt.show()` to observe the plot below.\n",
    "    - Which of the covariates and/or outcomes are correlated with each other?\n",
    "- Call `skew()` on the columns `outcomes_and_continuous_covariates` in df.\n",
    "    - Is the skew above 1 for any of these variables?"
   ]
  },
  {
   "cell_type": "code",
   "execution_count": 154,
   "metadata": {
    "pycharm": {
     "name": "#%%\n"
    }
   },
   "outputs": [
    {
     "data": {
      "text/plain": "<Figure size 864x576 with 0 Axes>"
     },
     "metadata": {},
     "output_type": "display_data"
    },
    {
     "data": {
      "text/plain": "<Figure size 432x288 with 9 Axes>",
      "image/png": "[encoded data removed]"
     },
     "metadata": {
      "needs_background": "light"
     },
     "output_type": "display_data"
    },
    {
     "name": "stdout",
     "output_type": "stream",
     "text": [
      "Skew of each variable:\n",
      "budget          1.754872\n",
      "popularity      7.968139\n",
      "runtime         1.059804\n",
      "vote_count      2.461041\n",
      "vote_average   -1.080038\n",
      "revenue         3.084680\n",
      "profitable     -1.081030\n",
      "dtype: float64\n"
     ]
    }
   ],
   "source": [
    "continuous_covariates = ['budget', 'popularity', 'runtime', 'vote_count', 'vote_average']\n",
    "outcomes_and_continuous_covariates = continuous_covariates + [regression_target, classification_target]\n",
    "plotting_variables = ['budget', 'popularity', regression_target]\n",
    "\n",
    "plt.figure(figsize=(12, 8))\n",
    "axes = pd.plotting.scatter_matrix(df[plotting_variables], alpha=0.15, \\\n",
    "       color=(0,0,0), hist_kwds={\"color\":(0,0,0)}, facecolor=(1,0,0))\n",
    "# show the plot.\n",
    "plt.show()\n",
    "# determine the skew.\n",
    "print(\"Skew of each variable:\")\n",
    "print(df[outcomes_and_continuous_covariates].skew())  # skew highest for popularity"
   ]
  },
  {
   "cell_type": "markdown",
   "metadata": {
    "pycharm": {
     "name": "#%% md\n"
    }
   },
   "source": [
    "### Exercise 6\n",
    "\n",
    "It appears that the variables `budget`, `popularity`, `runtime`, `vote_count`, and `revenue` are all right-skewed. In this exercise, we will transform these variables to eliminate this skewness. Specifically, we will use the `np.log10()` method. Because some of these variable values are exactly 0, we will add a small positive value to each to ensure it is defined; this is necessary because log(0) is negative infinity.\n",
    "\n",
    "#### Instructions \n",
    "- For each above-mentioned variable in `df`, transform value `x` into `np.log10(1+x)`."
   ]
  },
  {
   "cell_type": "code",
   "execution_count": 155,
   "metadata": {
    "pycharm": {
     "name": "#%%\n"
    }
   },
   "outputs": [],
   "source": []
  },
  {
   "cell_type": "markdown",
   "metadata": {
    "pycharm": {
     "name": "#%% md\n"
    }
   },
   "source": [
    "### Exercise 7\n",
    "\n",
    "Let's now save our dataset. \n",
    "\n",
    "#### Instructions \n",
    "- Use `to_csv()` to save the `df` object as `movies_clean.csv`."
   ]
  },
  {
   "cell_type": "code",
   "execution_count": 156,
   "metadata": {
    "pycharm": {
     "name": "#%%\n"
    }
   },
   "outputs": [],
   "source": [
    "# Enter your code here\n"
   ]
  }
 ],
 "metadata": {
  "kernelspec": {
   "display_name": "Python 3",
   "language": "python",
   "name": "python3"
  },
  "language_info": {
   "codemirror_mode": {
    "name": "ipython",
    "version": 3
   },
   "file_extension": ".py",
   "mimetype": "text/x-python",
   "name": "python",
   "nbconvert_exporter": "python",
   "pygments_lexer": "ipython3",
   "version": "3.7.3"
  }
 },
 "nbformat": 4,
 "nbformat_minor": 2
}