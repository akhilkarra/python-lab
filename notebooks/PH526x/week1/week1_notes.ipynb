{
 "cells": [
  {
   "cell_type": "markdown",
   "source": [
    "# Week 1 Notes"
   ],
   "metadata": {
    "collapsed": false,
    "pycharm": {
     "name": "#%% md\n"
    }
   }
  },
  {
   "cell_type": "markdown",
   "source": [
    "## 1.1.2 Python Objects\n",
    "\n",
    "Let us write some code to find the difference between a Data Attribute and a Method. Let us first import the NumPy module for our example"
   ],
   "metadata": {
    "collapsed": false,
    "pycharm": {
     "name": "#%% md\n"
    }
   }
  },
  {
   "cell_type": "code",
   "execution_count": null,
   "outputs": [],
   "source": [
    "import numpy as np"
   ],
   "metadata": {
    "collapsed": false,
    "pycharm": {
     "name": "#%%\n"
    }
   }
  },
  {
   "cell_type": "markdown",
   "source": [
    "Let us create two different NumPy arrays $x$ and $y$ as follows."
   ],
   "metadata": {
    "collapsed": false,
    "pycharm": {
     "name": "#%% md\n"
    }
   }
  },
  {
   "cell_type": "code",
   "execution_count": null,
   "outputs": [],
   "source": [
    "x = np.array([1,3,5])\n",
    "y = np.array([1,5,9])"
   ],
   "metadata": {
    "collapsed": false,
    "pycharm": {
     "name": "#%%\n"
    }
   }
  },
  {
   "cell_type": "markdown",
   "source": [
    "Now let us find the means of these two arrays."
   ],
   "metadata": {
    "collapsed": false,
    "pycharm": {
     "name": "#%% md\n"
    }
   }
  },
  {
   "cell_type": "code",
   "execution_count": null,
   "outputs": [],
   "source": [
    "x.mean()  # 3.0"
   ],
   "metadata": {
    "collapsed": false,
    "pycharm": {
     "name": "#%%\n"
    }
   }
  },
  {
   "cell_type": "code",
   "execution_count": null,
   "outputs": [],
   "source": [
    "y.mean()  # 5.0"
   ],
   "metadata": {
    "collapsed": false,
    "pycharm": {
     "name": "#%%\n"
    }
   }
  },
  {
   "cell_type": "markdown",
   "source": [
    "Here, the function $\\texttt{mean()}$ is a *method* connected to the NumPy arrays $x$ and $y$. In fact, this is a method that is connected to all NumPy arrays.\n",
    "\n",
    "Now let us find out how many elements are in each array."
   ],
   "metadata": {
    "collapsed": false,
    "pycharm": {
     "name": "#%% md\n"
    }
   }
  },
  {
   "cell_type": "code",
   "execution_count": null,
   "outputs": [],
   "source": [
    "x.shape"
   ],
   "metadata": {
    "collapsed": false,
    "pycharm": {
     "name": "#%%\n"
    }
   }
  },
  {
   "cell_type": "code",
   "execution_count": null,
   "outputs": [],
   "source": [
    "y.shape"
   ],
   "metadata": {
    "collapsed": false,
    "pycharm": {
     "name": "#%%\n"
    }
   }
  },
  {
   "cell_type": "markdown",
   "source": [
    "Notice that $\\texttt{shape}$ does not use parentheses, unlike $\\texttt{mean()}$. This is because $\\texttt{shape}$ is not a method but rather a *data attribute* or, simply, an *attribute* of the arrays $x$ and $y$. From the Comprehension Check: \"Methods are functions associated with objects, whereas data attributes are data associated with objects.\""
   ],
   "metadata": {
    "collapsed": false,
    "pycharm": {
     "name": "#%% md\n"
    }
   }
  },
  {
   "cell_type": "markdown",
   "source": [
    "## 1.1.3 Modules and Methods\n",
    "\n",
    "Remember that what we refer to as \"modules\" is normally referred to as \"libraries\" in other languages, particularly Java.\n",
    "\n",
    "If you want to ever use the value of $\\pi$ in calculations, use $\\texttt{math.pi}$"
   ],
   "metadata": {
    "collapsed": false,
    "pycharm": {
     "name": "#%% md\n"
    }
   }
  },
  {
   "cell_type": "code",
   "execution_count": null,
   "outputs": [],
   "source": [
    "import math\n",
    "math.pi  # 3.141592653589793"
   ],
   "metadata": {
    "collapsed": false,
    "pycharm": {
     "name": "#%%\n"
    }
   }
  },
  {
   "cell_type": "markdown",
   "source": [
    "There are multiple commonly-used square root functions. There is $\\texttt{math.sqrt(x)}$ where $\\texttt{x}$ is the operand, and there is $\\texttt{numpy.sqrt(x)}$ from the $\\texttt{numpy}$ module. It turns out that $\\texttt{numpy.sqrt(x)}$ is more useful and powerful.\n",
    "\n",
    "This illustrates a powerful truth in Python: if there are two functions with the same name and similar abilities from two different modules, Python actually treats these functions as completely separate because they belong to two separate *namespaces*."
   ],
   "metadata": {
    "collapsed": false,
    "pycharm": {
     "name": "#%% md\n"
    }
   }
  },
  {
   "cell_type": "code",
   "execution_count": null,
   "outputs": [],
   "source": [
    "math.sqrt(10) # 3.1622776601683795"
   ],
   "metadata": {
    "collapsed": false,
    "pycharm": {
     "name": "#%%\n"
    }
   }
  },
  {
   "cell_type": "markdown",
   "source": [
    "Trigonometric functions are also stored in the $\\texttt{math}$ module."
   ],
   "metadata": {
    "collapsed": false,
    "pycharm": {
     "name": "#%% md\n"
    }
   }
  },
  {
   "cell_type": "code",
   "execution_count": null,
   "outputs": [],
   "source": [
    "math.sin(math.pi / 2)  # 1.0"
   ],
   "metadata": {
    "collapsed": false,
    "pycharm": {
     "name": "#%%\n"
    }
   }
  },
  {
   "cell_type": "markdown",
   "source": [
    "If you just want the value of $\\pi$ in a Python environment, you do not need to import the entire $\\texttt{math}$ module. Simply use a $\\texttt{from... import...}$ statement instead."
   ],
   "metadata": {
    "collapsed": false,
    "pycharm": {
     "name": "#%% md\n"
    }
   }
  },
  {
   "cell_type": "code",
   "execution_count": null,
   "outputs": [],
   "source": [
    "from math import pi\n",
    "pi  # 3.141592653589793"
   ],
   "metadata": {
    "collapsed": false,
    "pycharm": {
     "name": "#%%\n"
    }
   }
  },
  {
   "cell_type": "markdown",
   "source": [
    "Use the $\\texttt{dir(object)}$ function to get a long list of methods available to $\\texttt{object}$, which can either be an object or object type."
   ],
   "metadata": {
    "collapsed": false,
    "pycharm": {
     "name": "#%% md\n"
    }
   }
  },
  {
   "cell_type": "markdown",
   "source": [
    "## 1.1.4 Numbers and Basic Calculations\n",
    "\n",
    "Python has three different object types for numbers:\n",
    "1. Integers\n",
    "2. Floating Point\n",
    "3. Complex\n",
    "\n",
    "Integers in Python have unlimited precision; an integer will never be too long for Python to handle (unlike Java, for examaple).\n",
    "\n",
    "Also, the different number types can be mixed together in numerical operations like addition, multiplication, etc.A useful operator for numerical calculations is the underscore operator $\\texttt{_}$, which asks Python to return the value of the last operation. Below is an example.\n",
    "\n",
    "A useful operator for numerical calculations is the underscore operator $\\texttt{_}$, which asks Python to return the value of the last operation. Below is an example."
   ],
   "metadata": {
    "collapsed": false,
    "pycharm": {
     "name": "#%% md\n"
    }
   }
  },
  {
   "cell_type": "code",
   "execution_count": null,
   "outputs": [],
   "source": [
    "15 / 2.3  # 6.521739130434783"
   ],
   "metadata": {
    "collapsed": false,
    "pycharm": {
     "name": "#%%\n"
    }
   }
  },
  {
   "cell_type": "code",
   "execution_count": null,
   "outputs": [],
   "source": [
    "_ * 2.3  # 15.0"
   ],
   "metadata": {
    "collapsed": false,
    "pycharm": {
     "name": "#%%\n"
    }
   }
  },
  {
   "cell_type": "markdown",
   "source": [
    "The factorial operation is given as a function under the $\\texttt{math}$ module as $\\texttt{math.factorial(x)}$."
   ],
   "metadata": {
    "collapsed": false,
    "pycharm": {
     "name": "#%% md\n"
    }
   }
  },
  {
   "cell_type": "code",
   "execution_count": null,
   "outputs": [],
   "source": [
    "math.factorial(4)  # This is 4! = 24"
   ],
   "metadata": {
    "collapsed": false,
    "pycharm": {
     "name": "#%%\n"
    }
   }
  },
  {
   "cell_type": "markdown",
   "source": [
    "## 1.1.5 Random Choice\n",
    "\n",
    "Any functions and methods dealing with introducing mathematical randomness will be found in the $\\texttt{random}$ module."
   ],
   "metadata": {
    "collapsed": false,
    "pycharm": {
     "name": "#%% md\n"
    }
   }
  },
  {
   "cell_type": "code",
   "execution_count": null,
   "outputs": [],
   "source": [
    "# Choose a random item from a list\n",
    "from random import choice\n",
    "choice([22, 34, \"Hello\", [1, 2], (3, 4)])\n",
    "# Note: random.choice only requires that the object has several values regardless of mutability."
   ],
   "metadata": {
    "collapsed": false,
    "pycharm": {
     "name": "#%%\n"
    }
   }
  },
  {
   "cell_type": "markdown",
   "source": [
    "## 1.1.6 Expressions and Booleans\n",
    "\n",
    "Objects with a Boolean type only have two possible values: $\\texttt{True}$ and $\\texttt{False}$.\n",
    "\n",
    "There are also only three operations possible between Boolean objects:\n",
    "1. And\n",
    "2. Or\n",
    "3. Not\n",
    "\n",
    "Here is something interesting, how do you explain the following statements?"
   ],
   "metadata": {
    "collapsed": false,
    "pycharm": {
     "name": "#%% md\n"
    }
   }
  },
  {
   "cell_type": "code",
   "execution_count": null,
   "outputs": [],
   "source": [
    "[2, 3] == [2, 3]  # This is True"
   ],
   "metadata": {
    "collapsed": false,
    "pycharm": {
     "name": "#%%\n"
    }
   }
  },
  {
   "cell_type": "code",
   "execution_count": null,
   "outputs": [],
   "source": [
    "[2, 3] is [2, 3]  # This is False"
   ],
   "metadata": {
    "collapsed": false,
    "pycharm": {
     "name": "#%%\n"
    }
   }
  },
  {
   "cell_type": "markdown",
   "source": [
    "It turns out that the $\\texttt{==}$ operator simply checks if the *contents* of two objects are identical, while the $\\texttt{is}$ operator checks if the objects *themselves* are identical. In this case, the contents of the two lists are the same but Python defines these two lists as two different objects."
   ],
   "metadata": {
    "collapsed": false,
    "pycharm": {
     "name": "#%% md\n"
    }
   }
  },
  {
   "cell_type": "markdown",
   "source": [
    "## 1.2.1 Sequences\n",
    "\n",
    "These include objects like Tuples, Lists, Ranged Objects, and Strings, to name a few.\n",
    "\n",
    "Accessing a sequence from left to right is done using a non-negative number. Accessing a sequence from right to left is done using a negative number, with $-1$ representing the right-most element of a sequence."
   ],
   "metadata": {
    "collapsed": false,
    "pycharm": {
     "name": "#%% md\n"
    }
   }
  },
  {
   "cell_type": "code",
   "execution_count": null,
   "outputs": [],
   "source": [
    "s = [1,7,5,3]\n",
    "s[0]  # The first element of the sequence: 1"
   ],
   "metadata": {
    "collapsed": false,
    "pycharm": {
     "name": "#%%\n"
    }
   }
  },
  {
   "cell_type": "code",
   "execution_count": null,
   "outputs": [],
   "source": [
    "s[-2]  # The second-to-last element of the sequence: 5"
   ],
   "metadata": {
    "collapsed": false,
    "pycharm": {
     "name": "#%%\n"
    }
   }
  },
  {
   "cell_type": "markdown",
   "source": [
    "## 1.2.2 Lists (and Strings)\n",
    "\n",
    "Mutable sequence of objects of any type, although usually used to store objects of similar or the same type.\n",
    "\n",
    "Remember strings are immutable.\n",
    "\n",
    "Lists and strings come with their own methods. That being said, some methods work quite similarly. For example, the $\\texttt{+}$ method for both lists and strings is the concatenation method.\n",
    "\n",
    "Remember that list methods are in-place methods: they modify the original list and do not produce any standard output."
   ],
   "metadata": {
    "collapsed": false,
    "pycharm": {
     "name": "#%% md\n"
    }
   }
  },
  {
   "cell_type": "code",
   "execution_count": null,
   "outputs": [],
   "source": [
    "s.reverse()  # Reverse the list"
   ],
   "metadata": {
    "collapsed": false,
    "pycharm": {
     "name": "#%%\n"
    }
   }
  },
  {
   "cell_type": "code",
   "execution_count": null,
   "outputs": [],
   "source": [
    "s  # [3, 5, 7, 1]"
   ],
   "metadata": {
    "collapsed": false,
    "pycharm": {
     "name": "#%%\n"
    }
   }
  },
  {
   "cell_type": "markdown",
   "source": [
    "Here's a cool distinction: $\\texttt{list.sort()}$ vs $\\texttt{sorted(list)}$. In effect, $\\texttt{list.sort()}$ is an in-place method while $\\texttt{sorted(list)}$ returns a new list without altering the inputted list."
   ],
   "metadata": {
    "collapsed": false,
    "pycharm": {
     "name": "#%% md\n"
    }
   }
  },
  {
   "cell_type": "code",
   "execution_count": null,
   "outputs": [],
   "source": [
    "s_sorted = sorted(s)  # This is a new list"
   ],
   "metadata": {
    "collapsed": false,
    "pycharm": {
     "name": "#%%\n"
    }
   }
  },
  {
   "cell_type": "code",
   "execution_count": null,
   "outputs": [],
   "source": [
    "s_sorted  # This is a new list with the same contents as s"
   ],
   "metadata": {
    "collapsed": false,
    "pycharm": {
     "name": "#%%\n"
    }
   }
  },
  {
   "cell_type": "code",
   "execution_count": null,
   "outputs": [],
   "source": [
    "s  # Confirming that the original s has not changed"
   ],
   "metadata": {
    "collapsed": false,
    "pycharm": {
     "name": "#%%\n"
    }
   }
  },
  {
   "cell_type": "code",
   "execution_count": null,
   "outputs": [],
   "source": [
    "s.sort()  # In-place method"
   ],
   "metadata": {
    "collapsed": false,
    "pycharm": {
     "name": "#%%\n"
    }
   }
  },
  {
   "cell_type": "code",
   "execution_count": null,
   "outputs": [],
   "source": [
    "s # Confirming that the original s has changed"
   ],
   "metadata": {
    "collapsed": false,
    "pycharm": {
     "name": "#%%\n"
    }
   }
  },
  {
   "cell_type": "code",
   "execution_count": null,
   "outputs": [],
   "source": [
    "# Now, the contents of these two lists are identical, although the two methods are quite different.\n",
    "s == s_sorted  # True"
   ],
   "metadata": {
    "collapsed": false,
    "pycharm": {
     "name": "#%%\n"
    }
   }
  },
  {
   "cell_type": "markdown",
   "source": [
    "## 1.2.3 Tuples\n",
    "\n",
    "Immutable sequences of objects of any type, although typically used to store data of different types.\n",
    "\n",
    "Remember you can use the $\\texttt{+}$ method to concatenate two tuples.\n",
    "\n",
    "Since tuples are sequences, objects are accessed using the same syntax as sequences; using position numbers.\n",
    "\n",
    "Tuple packing: the action of packing a sequence of objects into a single tuple."
   ],
   "metadata": {
    "collapsed": false,
    "pycharm": {
     "name": "#%% md\n"
    }
   }
  },
  {
   "cell_type": "code",
   "execution_count": null,
   "outputs": [],
   "source": [
    "# Packing x,y,z into a tuple t\n",
    "x = 1\n",
    "y = 2\n",
    "z = 3\n",
    "\n",
    "t = (x, y, z)\n",
    "t  # t is now a tuple of three objects (1, 2, 3)"
   ],
   "metadata": {
    "collapsed": false,
    "pycharm": {
     "name": "#%%\n"
    }
   }
  },
  {
   "cell_type": "markdown",
   "source": [
    "Tuple unpacking: the action of unpacking a tuple into a sequence of objects."
   ],
   "metadata": {
    "collapsed": false,
    "pycharm": {
     "name": "#%% md\n"
    }
   }
  },
  {
   "cell_type": "code",
   "execution_count": null,
   "outputs": [],
   "source": [
    "# Unpacking tuple t into t1, t2, t3\n",
    "(t1, t2, t3) = t\n",
    "t1  # 1"
   ],
   "metadata": {
    "collapsed": false,
    "pycharm": {
     "name": "#%%\n"
    }
   }
  },
  {
   "cell_type": "code",
   "execution_count": null,
   "outputs": [],
   "source": [
    "t2  # 2"
   ],
   "metadata": {
    "collapsed": false,
    "pycharm": {
     "name": "#%%\n"
    }
   }
  },
  {
   "cell_type": "code",
   "execution_count": null,
   "outputs": [],
   "source": [
    "t3  # 3"
   ],
   "metadata": {
    "collapsed": false,
    "pycharm": {
     "name": "#%%\n"
    }
   }
  },
  {
   "cell_type": "markdown",
   "source": [
    "To construct a tuple with just one object, we need to place a comma after the object within the parentheses as follows."
   ],
   "metadata": {
    "collapsed": false,
    "pycharm": {
     "name": "#%% md\n"
    }
   }
  },
  {
   "cell_type": "code",
   "execution_count": null,
   "outputs": [],
   "source": [
    "not_a_tuple = (1)\n",
    "type(not_a_tuple) # <class 'int'>"
   ],
   "metadata": {
    "collapsed": false,
    "pycharm": {
     "name": "#%%\n"
    }
   }
  },
  {
   "cell_type": "code",
   "execution_count": null,
   "outputs": [],
   "source": [
    "tup = (1,)\n",
    "type(tup) # <class 'tuple'>"
   ],
   "metadata": {
    "collapsed": false,
    "pycharm": {
     "name": "#%%\n"
    }
   }
  },
  {
   "cell_type": "markdown",
   "source": [
    "Parentheses are optional when denoting a tuple, but it does make the code less clear. It is recommended to always use parentheses when denoting a tuple."
   ],
   "metadata": {
    "collapsed": false,
    "pycharm": {
     "name": "#%% md\n"
    }
   }
  },
  {
   "cell_type": "markdown",
   "source": [
    "## 1.2.4 Ranges (also known as Range Objects)\n",
    "\n",
    "Why is it better to use ranges than lists in loops and other places? Because ranges are immutable, and thus can be used as a sequence. Ranges are also more efficient than lists; they are created once and then used many times, and Python stores only three objects in memory: the start point, the stop point, and step size."
   ],
   "metadata": {
    "collapsed": false,
    "pycharm": {
     "name": "#%% md\n"
    }
   }
  },
  {
   "cell_type": "markdown",
   "source": [
    "## 1.2.5 Strings\n",
    "\n",
    "Immutable objects, can be stored in single, double, or triple quotes.\n",
    "1. Single quotes '' are used for strings that contain no special characters.\n",
    "2. Double quotes '''' are used for strings that contain special characters.\n",
    "3. Triple quotes '''''' are used for strings that contain no special characters, but that contain newlines.\n",
    "\n",
    "About immutability: string methods actually return a new string, and do not modify the original string.\n",
    "\n",
    "Remember about polymorphism: what an operator does depends on the type of its operand(s). This is analogous to mathematical polymorphism: addition for numbers is different from addition for matrices, for example.\n",
    "\n",
    "Note about polymorphism: the operands of any given operator are always of the same type."
   ],
   "metadata": {
    "collapsed": false,
    "pycharm": {
     "name": "#%% md\n"
    }
   }
  },
  {
   "cell_type": "markdown",
   "source": [
    "## 1.2.6 Sets\n",
    "\n",
    "Unordered collection of unique hashable objects. (Hashable objects are objects that can be used as keys in a dictionary.)\n",
    "\n",
    "What this means is that sets can be used for immutable objects, but not for mutable objects.\n",
    "\n",
    "Two types of set:\n",
    "1. Set (is mutable)\n",
    "2. Frozen set (is immutable)\n",
    "\n",
    "Sets cannot be indexed.\n",
    "\n",
    "The mathematical operations for sets (union, intersection, difference, and symmetric difference) are implemented in Python."
   ],
   "metadata": {
    "collapsed": false,
    "pycharm": {
     "name": "#%% md\n"
    }
   }
  },
  {
   "cell_type": "code",
   "execution_count": null,
   "outputs": [],
   "source": [
    "ids = set(range(10))  # set of ID's for 10 people who identify themselves as either male or female\n",
    "males = {1, 3, 5, 6, 7}  # let this set of ID's represent the males of the group\n",
    "females = ids - males  # now we can use set difference to automatically find the ID's of the females of the group\n",
    "\n",
    "females  # {0, 2, 4, 8, 9}"
   ],
   "metadata": {
    "collapsed": false,
    "pycharm": {
     "name": "#%%\n"
    }
   }
  },
  {
   "cell_type": "markdown",
   "source": [
    "Symbols for set operations on $\\texttt{x}$ and $\\texttt{y}$:\n",
    "1. Union: $\\texttt{x | y}$\n",
    "2. Intersection: $\\texttt{x \\& y}$\n",
    "3. Difference: $\\texttt{x - y}$ or $\\texttt{y - x}$\n",
    "4. Symmetric difference: $\\texttt{x \\^\\ \\ y}$ or $\\texttt{y \\^\\ \\ x}$ OR $\\texttt{x.symmetric_difference(y)}$ or $\\texttt{y.symmetric_difference(x)}$\n",
    "\n",
    "Tip: convert a string into a set of characters to find how many unique characters–or letters after some manipulation–there are in a string."
   ],
   "metadata": {
    "collapsed": false,
    "pycharm": {
     "name": "#%% md\n"
    }
   }
  },
  {
   "cell_type": "markdown",
   "source": [
    "## 1.2.7 Dictionaries\n",
    "\n",
    "Mappings from key objects to value objects, where the key objects must be immutable.\n",
    "\n",
    "Can be used for very fast lookups on unordered data.\n",
    "\n",
    "NOT a sequence: if iterating over a dictionary, since Python 3.6, the order of the dictionary is maintained in the order in which key-value pairs were added to the dictionary.\n",
    "\n",
    "Important syntactical note: an empty dictionary is denoted as $\\texttt{{}}$, so an empty set must be defined by $\\texttt{set()}$\n",
    "\n",
    "There is a method to retrieve the keys of a dictionary $\\texttt{d}$: $\\texttt{d.keys()}$, and there is a method to retrieve the values of a dictionary $\\texttt{d}$: $\\texttt{d.values()}$. The cool thing about these methods is that they return a special type of object, called a view, which is a read-only view of the dictionary. This is special because this object automatically updates as the dictionary changes."
   ],
   "metadata": {
    "collapsed": false,
    "pycharm": {
     "name": "#%% md\n"
    }
   }
  },
  {
   "cell_type": "markdown",
   "source": [
    "## 1.3.1 Dynamic Typing\n",
    "\n",
    "Static typing: the type of object is known at compile time (used in languages like C++ and Python 2.7).\n",
    "Dynamic typing: the type of object is known at run time (used in languages like Java and Python 3.0+).\n",
    "\n",
    "When assigning objects to variables, Python creates a reference from the object to the variable. Variables ALWAYS refer to objects, and NEVER to other variables. This is why the following behavior occurs:"
   ],
   "metadata": {
    "collapsed": false,
    "pycharm": {
     "name": "#%% md\n"
    }
   }
  },
  {
   "cell_type": "code",
   "execution_count": null,
   "outputs": [],
   "source": [
    "L1 = [1, 2, 3]  # L1 is a reference to a list object [1, 2, 3]\n",
    "L2 = L1  # L2 is a reference to the same list object [1, 2, 3]\n",
    "L1[0] = 4  # L1 and L2 now both refer to the same list object [4, 2, 3]\n",
    "\n",
    "L1 is L2  # True, because L1 and L2 refer to the same list object in memory"
   ],
   "metadata": {
    "collapsed": false,
    "pycharm": {
     "name": "#%%\n"
    }
   }
  },
  {
   "cell_type": "markdown",
   "source": [
    "To avoid this behavior of two variables referencing the same object in memory, use the $\\texttt{copy()}$ method to create a new object in memory."
   ],
   "metadata": {
    "collapsed": false,
    "pycharm": {
     "name": "#%% md\n"
    }
   }
  },
  {
   "cell_type": "code",
   "execution_count": null,
   "outputs": [],
   "source": [
    "L3 = L1.copy()  # L3 is a reference to a completely new list object [4, 2, 3]\n",
    "L1 is L3  # False, because L1 and L3 refer to different list objects"
   ],
   "metadata": {
    "collapsed": false,
    "pycharm": {
     "name": "#%%\n"
    }
   }
  },
  {
   "cell_type": "markdown",
   "source": [
    "## 1.3.2 Copies\n",
    "\n",
    "Shallow copy: the new object is a reference to the original object.\n",
    "Deep copy: the new object is a unique object, with a separate reference to each element of the original object.\n",
    "\n",
    "Here is a diagram:\n",
    "<img src=\"diagram_of_Python_copies.png\" width=\"500\" height=\"500\" />"
   ],
   "metadata": {
    "collapsed": false,
    "pycharm": {
     "name": "#%% md\n"
    }
   }
  },
  {
   "cell_type": "markdown",
   "source": [
    "## 1.3.3 Statements\n",
    "\n",
    "Important note about compound statements: Python goes through each header one by one top-down and then executes accordingly. This means that for a conditional statement with one or more $\\texttt{elif}$ statements, put the most likely statement first to speed up the execution.\n",
    "\n"
   ],
   "metadata": {
    "collapsed": false,
    "pycharm": {
     "name": "#%% md\n"
    }
   }
  },
  {
   "cell_type": "markdown",
   "source": [
    "## 1.3.4 For and While Loops\n",
    "\n",
    "When iterating over a dictionary using a $\\texttt{for}$ loop, it suffices to use the key as the iterator and not specify the keys list from the dictionary. For example:"
   ],
   "metadata": {
    "collapsed": false,
    "pycharm": {
     "name": "#%% md\n"
    }
   }
  },
  {
   "cell_type": "code",
   "execution_count": null,
   "outputs": [],
   "source": [
    "dictionary = {'a': 1, 'b': 2, 'c': 3}\n",
    "for key in dictionary:  # This is equivalent to, but obviously shorter and more elegant than: for key in dictionary.keys(): [...].\n",
    "    print(key, dictionary[key])"
   ],
   "metadata": {
    "collapsed": false,
    "pycharm": {
     "name": "#%%\n"
    }
   }
  },
  {
   "cell_type": "markdown",
   "source": [
    "## 1.3.5 List Comprehensions\n",
    "\n",
    "Instead of iterating over a list and appending each element to a new list, we can use a list comprehension to create a new list in one line of code. For example:"
   ],
   "metadata": {
    "collapsed": false,
    "pycharm": {
     "name": "#%% md\n"
    }
   }
  },
  {
   "cell_type": "code",
   "execution_count": null,
   "outputs": [],
   "source": [
    "numbers = [1, 2, 3, 4, 5]\n",
    "squares = [x**2 for x in numbers]\n",
    "\n",
    "squares # [1, 4, 9, 16, 25]"
   ],
   "metadata": {
    "collapsed": false,
    "pycharm": {
     "name": "#%%\n"
    }
   }
  },
  {
   "cell_type": "markdown",
   "source": [
    "How can you use list comprehension to sum the odd numbers from 0 to 9? Here is a solution:"
   ],
   "metadata": {
    "collapsed": false,
    "pycharm": {
     "name": "#%% md\n"
    }
   }
  },
  {
   "cell_type": "code",
   "execution_count": null,
   "outputs": [],
   "source": [
    "sum([n for n in range(10) if n % 2 != 0])  # 25"
   ],
   "metadata": {
    "collapsed": false,
    "pycharm": {
     "name": "#%%\n"
    }
   }
  },
  {
   "cell_type": "markdown",
   "source": [
    "## 1.3.6 Reading and Writing Files\n",
    "\n",
    "Opening a file using the $\\texttt{open()}$ function returns a file object. This object is used to read and write data from the file, and it is a special object type."
   ],
   "metadata": {
    "collapsed": false,
    "pycharm": {
     "name": "#%% md\n"
    }
   }
  },
  {
   "cell_type": "markdown",
   "source": [
    "## 1.3.7 Introduction to Functions\n",
    "\n",
    "They are meant to maximize code reuse, minimize code duplication.\n",
    "They are the fundamental unit of procedural decomposition, which the process where a complex task in broken down into smaller and simpler tasks."
   ],
   "metadata": {
    "collapsed": false,
    "pycharm": {
     "name": "#%% md\n"
    }
   }
  },
  {
   "cell_type": "markdown",
   "source": [
    "## 1.3.8 Writing Simple Functions\n",
    "\n",
    "Here, I will attempt to write the function with the help of GitHub Copilot based on their description in the class and then compare it to the final code written by the instructor."
   ],
   "metadata": {
    "collapsed": false,
    "pycharm": {
     "name": "#%% md\n"
    }
   }
  },
  {
   "cell_type": "code",
   "execution_count": null,
   "outputs": [],
   "source": [
    "# The intersect function\n",
    "def intersect(s1: list, s2: list) -> list:\n",
    "    \"\"\"\n",
    "    Return the intersection of two lists.\n",
    "\n",
    "    Args:\n",
    "        s1: a list of any type\n",
    "        s2: a list of any type\n",
    "\n",
    "    Returns:\n",
    "        a list of elements that are in both s1 and s2\n",
    "    \"\"\"\n",
    "    return [i for i in s1 if i in s2]\n",
    "\n",
    "\n",
    "# Notes: the function in the class works by the same algorithm, just that it is enumerated as a full for loop.\n",
    "intersect([1, 2, 3], [2, 3, 4])  # [2, 3]"
   ],
   "metadata": {
    "collapsed": false,
    "pycharm": {
     "name": "#%%\n"
    }
   }
  },
  {
   "cell_type": "code",
   "execution_count": null,
   "outputs": [],
   "source": [
    "def password(length: int) -> str:\n",
    "    \"\"\"\n",
    "    Return a random password of the specified length.\n",
    "\n",
    "    Args:\n",
    "        length: the length of the password\n",
    "\n",
    "    Returns:\n",
    "        a random password of the specified length\n",
    "    \"\"\"\n",
    "    from random import choices\n",
    "    from string import ascii_letters, digits\n",
    "    return ''.join(choices(ascii_letters + digits, k=length))\n",
    "\n",
    "# This is the code generated by GitHub Copilot. This code is written on a single line with a join operator, which is a special function that joins the elements of a list together.\n",
    "# The join operator works on the '' string, which is the empty string. This means that all the generated ASCII characters and digits are joined together. These characters and\n",
    "# digits are generated by ascii_letters and digits data attributes of the string module. The 'k' value is how long this list is, which is specified by the desired password length.\n",
    "\n",
    "\n",
    "# Note: yet again, the function written in the class works by the same algorithm, just that it is enumerated into multiple lines for creating an empty string and then appending\n",
    "# randomly chosen characters to it.\n",
    "password(10)  # something similar to '9q8z7y6x5'"
   ],
   "metadata": {
    "collapsed": false,
    "pycharm": {
     "name": "#%%\n"
    }
   }
  },
  {
   "cell_type": "markdown",
   "source": [
    "## 1.3.9 Common Mistakes and Errors"
   ],
   "metadata": {
    "collapsed": false,
    "pycharm": {
     "name": "#%% md\n"
    }
   }
  },
  {
   "cell_type": "code",
   "execution_count": null,
   "outputs": [],
   "source": [],
   "metadata": {
    "collapsed": false,
    "pycharm": {
     "name": "#%%\n"
    }
   }
  }
 ],
 "metadata": {
  "kernelspec": {
   "display_name": "Python 3",
   "language": "python",
   "name": "python3"
  },
  "language_info": {
   "codemirror_mode": {
    "name": "ipython",
    "version": 2
   },
   "file_extension": ".py",
   "mimetype": "text/x-python",
   "name": "python",
   "nbconvert_exporter": "python",
   "pygments_lexer": "ipython2",
   "version": "2.7.6"
  }
 },
 "nbformat": 4,
 "nbformat_minor": 0
}