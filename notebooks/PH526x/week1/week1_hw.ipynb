{
 "cells": [
  {
   "cell_type": "markdown",
   "source": [
    "# Week 1 Homework\n",
    "\n",
    "This notebook contains my working solutions to the first week homework assignment of the PH526x course on edX."
   ],
   "metadata": {
    "collapsed": false,
    "pycharm": {
     "name": "#%% md\n"
    }
   }
  },
  {
   "cell_type": "markdown",
   "source": [
    "## Exercise 1\n",
    "\n",
    "In this exercise, my goal is to count the frequency of each letter in a given string."
   ],
   "metadata": {
    "collapsed": false,
    "pycharm": {
     "name": "#%% md\n"
    }
   }
  },
  {
   "cell_type": "code",
   "execution_count": null,
   "outputs": [],
   "source": [
    "def letter_frequencies(input_string: str) -> dict:\n",
    "    \"\"\"Returns a dictionary with the frequency of each letter in the input string.\n",
    "\n",
    "    Args:\n",
    "        input_string (str): The string to be analyzed.\n",
    "    Returns:\n",
    "        dict: A dictionary with the frequency of each letter in the input string.\n",
    "    \"\"\"\n",
    "    from string import ascii_letters  # This is a string of all the letters in the alphabet.\n",
    "\n",
    "    # Initialize the counting dictionary\n",
    "    count_letters = {}\n",
    "\n",
    "    # Go through the string and count the frequency of each letter\n",
    "    for char in input_string:\n",
    "        if char in ascii_letters:\n",
    "            if char in count_letters:\n",
    "                count_letters[char] += 1\n",
    "            else:\n",
    "                count_letters[char] = 1\n",
    "\n",
    "    return count_letters\n",
    "\n",
    "\n",
    "# Test the function for exercise 1b\n",
    "letter_frequencies('Jim quickly realized that the beautiful gowns are expensive')"
   ],
   "metadata": {
    "collapsed": false,
    "pycharm": {
     "name": "#%%\n"
    }
   }
  },
  {
   "cell_type": "code",
   "execution_count": null,
   "outputs": [],
   "source": [],
   "metadata": {
    "collapsed": false,
    "pycharm": {
     "name": "#%%\n"
    }
   }
  },
  {
   "cell_type": "code",
   "execution_count": null,
   "outputs": [],
   "source": [
    "# Exercise 1d: Count the frequency of the letter 'h' in the Gettysburg Address\n",
    "address = \"\"\"Four score and seven years ago our fathers brought forth on this continent, a new nation, conceived in Liberty, and dedicated to the proposition that all men are created equal. Now we are engaged in a great civil war, testing whether that nation, or any nation so conceived and so dedicated, can long endure. We are met on a great battle-field of that war. We have come to dedicate a portion of that field, as a final resting place for those who here gave their lives that that nation might live. It is altogether fitting and proper that we should do this. But, in a larger sense, we can not dedicate -- we can not consecrate -- we can not hallow -- this ground. The brave men, living and dead, who struggled here, have consecrated it, far above our poor power to add or detract. The world will little note, nor long remember what we say here, but it can never forget what they did here. It is for us the living, rather, to be dedicated here to the unfinished work which they who fought here have thus far so nobly advanced. It is rather for us to be here dedicated to the great task remaining before us -- that from these honored dead we take increased devotion to that cause for which they gave the last full measure of devotion -- that we here highly resolve that these dead shall not have died in vain -- that this nation, under God, shall have a new birth of freedom -- and that government of the people, by the people, for the people, shall not perish from the earth.\"\"\"\n",
    "letter_frequencies(address)  # Answer: 80, confirmed by answer key"
   ],
   "metadata": {
    "collapsed": false,
    "pycharm": {
     "name": "#%%\n"
    }
   }
  },
  {
   "cell_type": "code",
   "execution_count": null,
   "outputs": [],
   "source": [
    "# Exercise 1e: Find the most frequent letter in the Gettysburg Address\n",
    "def most_frequent_letter(input_string: str) -> str:\n",
    "    \"\"\"Returns the most frequent letter in the input string. Note: this function uses the letter_frequencies() function.\n",
    "\n",
    "    Args:\n",
    "        input_string (str): The string to be analyzed.\n",
    "    Returns:\n",
    "        str: The most frequent letter in the input string.\n",
    "    \"\"\"\n",
    "    # Get the frequency of each letter in the input string\n",
    "    letter_freq = letter_frequencies(input_string)\n",
    "\n",
    "    # Initialize the most frequent letter. Since 'e' is most commonly the most frequent letter in English, we start with that.\n",
    "    most_freq_letter = 'e'\n",
    "\n",
    "    # Go through the frequency dictionary and find the most frequent letter\n",
    "    for letter in letter_freq:\n",
    "        if letter_freq[letter] > letter_freq[most_freq_letter]:\n",
    "            most_freq_letter = letter\n",
    "\n",
    "    return most_freq_letter\n",
    "\n",
    "\n",
    "most_frequent_letter(address)  # Calling the function. Answer:"
   ],
   "metadata": {
    "collapsed": false,
    "pycharm": {
     "name": "#%%\n"
    }
   }
  },
  {
   "cell_type": "markdown",
   "source": [
    "## Exercise 2\n",
    "\n",
    "In this exercise, my goal is to approximate the value of $\\frac{\\pi}{4}$ using the ratio between areas of a circle inscribed in a square."
   ],
   "metadata": {
    "collapsed": false,
    "pycharm": {
     "name": "#%% md\n"
    }
   }
  },
  {
   "cell_type": "code",
   "execution_count": null,
   "outputs": [],
   "source": [
    "# Exercise 2a: setting the baseline by finding the decimal value of pi/4\n",
    "from math import pi\n",
    "pi/4  # To six decimal places: 0.785398, confirmed by answer key"
   ],
   "metadata": {
    "collapsed": false,
    "pycharm": {
     "name": "#%%\n"
    }
   }
  },
  {
   "cell_type": "code",
   "execution_count": null,
   "outputs": [],
   "source": [
    "# Exercise 2b: generating a random floating point number between -1 and 1\n",
    "from random import uniform, seed\n",
    "\n",
    "seed(1)  # Fixing seed to 1 for checking purposes\n",
    "\n",
    "def rand() -> float:\n",
    "    \"\"\"Returns a random floating point number between -1 and 1.\n",
    "\n",
    "    Returns:\n",
    "        float: A random floating point number between -1 and 1.\n",
    "    \"\"\"\n",
    "    return uniform(-1, 1)\n",
    "\n",
    "rand()  # Answer: -0.7312715117751976, confirmed by answer key"
   ],
   "metadata": {
    "collapsed": false,
    "pycharm": {
     "name": "#%%\n"
    }
   }
  },
  {
   "cell_type": "code",
   "execution_count": null,
   "outputs": [],
   "source": [
    "# Exercise 2c: creating a function returning the straight line distance of a point from the origin\n",
    "def distance(x: float, y: float) -> float:\n",
    "    \"\"\"Returns the straight line distance of a point from the origin.\n",
    "\n",
    "    Args:\n",
    "        x (float): The x-coordinate of the point.\n",
    "        y (float): The y-coordinate of the point.\n",
    "    Returns:\n",
    "        float: The straight line distance of the point from the origin.\n",
    "    \"\"\"\n",
    "    return (x**2 + y**2)**0.5"
   ],
   "metadata": {
    "collapsed": false,
    "pycharm": {
     "name": "#%%\n"
    }
   }
  },
  {
   "cell_type": "code",
   "execution_count": null,
   "outputs": [],
   "source": [
    "from typing import Tuple\n",
    "\n",
    "# Exercise 2d: creating a function that determines whether a given point lies on the unit circle centered at the origin\n",
    "def in_circle(x: Tuple[int, int], origin = (0,0)) -> bool:\n",
    "    \"\"\"Returns whether a given point lies on the unit circle centered at the origin. Note: this function uses the distance() function.\n",
    "\n",
    "    Args:\n",
    "        x (tuple[int, int]): The x- and y-coordinates of the point.\n",
    "        origin (tuple[int, int], optional): The x- and y-coordinates of the origin. Defaults to (0, 0).\n",
    "    Returns:\n",
    "        bool: Whether the point lies on the unit circle centered at the origin.\n",
    "    \"\"\"\n",
    "    return distance(x[0] - origin[0], x[1] - origin[1]) <= 1\n",
    "\n",
    "in_circle((1,1))  # Answer: False, confirmed by answer key"
   ],
   "metadata": {
    "collapsed": false,
    "pycharm": {
     "name": "#%%\n"
    }
   }
  },
  {
   "cell_type": "code",
   "execution_count": null,
   "outputs": [],
   "source": [
    "# Exercise 2e: finding how many randomly chosen points within the unit square lie on the unit circle centered at the origin\n",
    "seed(1)  # Fixing seed to 1 for checking purposes\n",
    "\n",
    "def proportion_of_points_in_circle(R: int, origin = (0,0)) -> float:\n",
    "    \"\"\"Returns the proportion of randomly chosen points within the unit square that lie on the unit circle centered at the origin.\n",
    "\n",
    "    Args:\n",
    "        R (int): The number of randomly chosen points to test.\n",
    "        origin (tuple[int, int], optional): The x- and y-coordinates of the origin. Defaults to (0, 0).\n",
    "    Returns:\n",
    "        float: The proportion of randomly chosen points within the unit square that lie on the unit circle centered at the origin.\n",
    "    \"\"\"\n",
    "    in_circle_count = 0  # Initialize counter\n",
    "\n",
    "    for increment in range(R):  # Use the rand() function to generate random points, then check if they lie on the unit circle using the in_circle function.\n",
    "        point = (rand(), rand())\n",
    "        if in_circle(point, origin):\n",
    "            in_circle_count += 1\n",
    "\n",
    "    return in_circle_count / R  # Return the proportion of points that lie on the unit circle\n",
    "\n",
    "proportion_of_points_in_circle(10000)  # Answer: 0.779, confirmed by answer key\n",
    "# Note: using GitHub Copilot, I was able to get the correct answer without having to use a list of elements. I just used a for loop to iterate through random points."
   ],
   "metadata": {
    "collapsed": false,
    "pycharm": {
     "name": "#%%\n"
    }
   }
  },
  {
   "cell_type": "code",
   "execution_count": null,
   "outputs": [],
   "source": [
    "# Exercise 2f: finding the difference between the number found and the real value of pi/4\n",
    "\n",
    "abs(pi/4 - proportion_of_points_in_circle(10000))  # Several answers, 0.006398 confirmed by answer key"
   ],
   "metadata": {
    "collapsed": false,
    "pycharm": {
     "name": "#%%\n"
    }
   }
  },
  {
   "cell_type": "code",
   "execution_count": null,
   "outputs": [],
   "source": [],
   "metadata": {
    "collapsed": false,
    "pycharm": {
     "name": "#%%\n"
    }
   }
  }
 ],
 "metadata": {
  "kernelspec": {
   "display_name": "Python 3",
   "language": "python",
   "name": "python3"
  },
  "language_info": {
   "codemirror_mode": {
    "name": "ipython",
    "version": 2
   },
   "file_extension": ".py",
   "mimetype": "text/x-python",
   "name": "python",
   "nbconvert_exporter": "python",
   "pygments_lexer": "ipython2",
   "version": "2.7.6"
  }
 },
 "nbformat": 4,
 "nbformat_minor": 0
}