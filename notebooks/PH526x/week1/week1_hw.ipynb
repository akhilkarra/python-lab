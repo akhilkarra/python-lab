{
 "cells": [
  {
   "cell_type": "markdown",
   "source": [
    "# Week 1 Homework\n",
    "\n",
    "This notebook contains my working solutions to the first week homework assignment of the PH526x course on edX."
   ],
   "metadata": {
    "collapsed": false,
    "pycharm": {
     "name": "#%% md\n"
    }
   }
  },
  {
   "cell_type": "markdown",
   "source": [
    "## Exercise 1\n",
    "\n",
    "In this exercise, my goal is to count the frequency of each letter in a given string."
   ],
   "metadata": {
    "collapsed": false,
    "pycharm": {
     "name": "#%% md\n"
    }
   }
  },
  {
   "cell_type": "code",
   "execution_count": null,
   "outputs": [],
   "source": [
    "def letter_frequencies(input_string: str) -> dict:\n",
    "    \"\"\"Returns a dictionary with the frequency of each letter in the input string.\n",
    "\n",
    "    Args:\n",
    "        input_string (str): The string to be analyzed.\n",
    "    Returns:\n",
    "        dict: A dictionary with the frequency of each letter in the input string.\n",
    "    \"\"\"\n",
    "    from string import ascii_letters  # This is a string of all the letters in the alphabet.\n",
    "\n",
    "    # Initialize the counting dictionary\n",
    "    count_letters = {}\n",
    "\n",
    "    # Go through the string and count the frequency of each letter\n",
    "    for char in input_string:\n",
    "        if char in ascii_letters:\n",
    "            if char in count_letters:\n",
    "                count_letters[char] += 1\n",
    "            else:\n",
    "                count_letters[char] = 1\n",
    "\n",
    "    return count_letters\n",
    "\n",
    "\n",
    "# Test the function for exercise 1b\n",
    "letter_frequencies('Jim quickly realized that the beautiful gowns are expensive')"
   ],
   "metadata": {
    "collapsed": false,
    "pycharm": {
     "name": "#%%\n"
    }
   }
  },
  {
   "cell_type": "code",
   "execution_count": null,
   "outputs": [],
   "source": [],
   "metadata": {
    "collapsed": false,
    "pycharm": {
     "name": "#%%\n"
    }
   }
  },
  {
   "cell_type": "code",
   "execution_count": null,
   "outputs": [],
   "source": [
    "# Exercise 1d: Count the frequency of the letter 'h' in the Gettysburg Address\n",
    "address = \"\"\"Four score and seven years ago our fathers brought forth on this continent, a new nation, conceived in Liberty, and dedicated to the proposition that all men are created equal. Now we are engaged in a great civil war, testing whether that nation, or any nation so conceived and so dedicated, can long endure. We are met on a great battle-field of that war. We have come to dedicate a portion of that field, as a final resting place for those who here gave their lives that that nation might live. It is altogether fitting and proper that we should do this. But, in a larger sense, we can not dedicate -- we can not consecrate -- we can not hallow -- this ground. The brave men, living and dead, who struggled here, have consecrated it, far above our poor power to add or detract. The world will little note, nor long remember what we say here, but it can never forget what they did here. It is for us the living, rather, to be dedicated here to the unfinished work which they who fought here have thus far so nobly advanced. It is rather for us to be here dedicated to the great task remaining before us -- that from these honored dead we take increased devotion to that cause for which they gave the last full measure of devotion -- that we here highly resolve that these dead shall not have died in vain -- that this nation, under God, shall have a new birth of freedom -- and that government of the people, by the people, for the people, shall not perish from the earth.\"\"\"\n",
    "letter_frequencies(address)  # Answer: 80, confirmed by answer key"
   ],
   "metadata": {
    "collapsed": false,
    "pycharm": {
     "name": "#%%\n"
    }
   }
  },
  {
   "cell_type": "code",
   "execution_count": null,
   "outputs": [],
   "source": [
    "# Exercise 1e: Find the most frequent letter in the Gettysburg Address\n",
    "def most_frequent_letter(input_string: str) -> str:\n",
    "    \"\"\"Returns the most frequent letter in the input string.\n",
    "\n",
    "    Args:\n",
    "        input_string (str): The string to be analyzed.\n",
    "    Returns:\n",
    "        str: The most frequent letter in the input string.\n",
    "    \"\"\"\n",
    "    # Get the frequency of each letter in the input string\n",
    "    letter_freq = letter_frequencies(input_string)\n",
    "\n",
    "    # Initialize the most frequent letter. Since 'e' is most commonly the most frequent letter in English, we start with that.\n",
    "    most_freq_letter = 'e'\n",
    "\n",
    "    # Go through the frequency dictionary and find the most frequent letter\n",
    "    for letter in letter_freq:\n",
    "        if letter_freq[letter] > letter_freq[most_freq_letter]:\n",
    "            most_freq_letter = letter\n",
    "\n",
    "    return most_freq_letter\n",
    "\n",
    "\n",
    "most_frequent_letter(address)  # Calling the function. Answer:"
   ],
   "metadata": {
    "collapsed": false,
    "pycharm": {
     "name": "#%%\n"
    }
   }
  },
  {
   "cell_type": "markdown",
   "source": [
    "## Exercise 2\n",
    "\n",
    "In this exercise, my goal is to approximate the value of $\\frac{pi}{4}$ using the ratio between areas of a circle inscribed in a square."
   ],
   "metadata": {
    "collapsed": false,
    "pycharm": {
     "name": "#%% md\n"
    }
   }
  },
  {
   "cell_type": "code",
   "execution_count": null,
   "outputs": [],
   "source": [],
   "metadata": {
    "collapsed": false,
    "pycharm": {
     "name": "#%%\n"
    }
   }
  }
 ],
 "metadata": {
  "kernelspec": {
   "display_name": "Python 3",
   "language": "python",
   "name": "python3"
  },
  "language_info": {
   "codemirror_mode": {
    "name": "ipython",
    "version": 2
   },
   "file_extension": ".py",
   "mimetype": "text/x-python",
   "name": "python",
   "nbconvert_exporter": "python",
   "pygments_lexer": "ipython2",
   "version": "2.7.6"
  }
 },
 "nbformat": 4,
 "nbformat_minor": 0
}